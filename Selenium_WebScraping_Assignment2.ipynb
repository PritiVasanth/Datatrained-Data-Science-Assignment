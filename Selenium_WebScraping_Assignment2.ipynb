{
 "cells": [
  {
   "cell_type": "code",
   "execution_count": 1,
   "id": "5efc553b",
   "metadata": {},
   "outputs": [
    {
     "name": "stdout",
     "output_type": "stream",
     "text": [
      "Requirement already satisfied: selenium in c:\\users\\vkvar\\anaconda3\\lib\\site-packages (4.18.1)\n",
      "Requirement already satisfied: urllib3[socks]<3,>=1.26 in c:\\users\\vkvar\\anaconda3\\lib\\site-packages (from selenium) (1.26.16)\n",
      "Requirement already satisfied: trio~=0.17 in c:\\users\\vkvar\\anaconda3\\lib\\site-packages (from selenium) (0.24.0)\n",
      "Requirement already satisfied: trio-websocket~=0.9 in c:\\users\\vkvar\\anaconda3\\lib\\site-packages (from selenium) (0.11.1)\n",
      "Requirement already satisfied: certifi>=2021.10.8 in c:\\users\\vkvar\\anaconda3\\lib\\site-packages (from selenium) (2023.7.22)\n",
      "Requirement already satisfied: typing_extensions>=4.9.0 in c:\\users\\vkvar\\anaconda3\\lib\\site-packages (from selenium) (4.10.0)\n",
      "Requirement already satisfied: attrs>=20.1.0 in c:\\users\\vkvar\\anaconda3\\lib\\site-packages (from trio~=0.17->selenium) (22.1.0)\n",
      "Requirement already satisfied: sortedcontainers in c:\\users\\vkvar\\anaconda3\\lib\\site-packages (from trio~=0.17->selenium) (2.4.0)\n",
      "Requirement already satisfied: idna in c:\\users\\vkvar\\anaconda3\\lib\\site-packages (from trio~=0.17->selenium) (3.4)\n",
      "Requirement already satisfied: outcome in c:\\users\\vkvar\\anaconda3\\lib\\site-packages (from trio~=0.17->selenium) (1.3.0.post0)\n",
      "Requirement already satisfied: sniffio>=1.3.0 in c:\\users\\vkvar\\anaconda3\\lib\\site-packages (from trio~=0.17->selenium) (1.3.1)\n",
      "Requirement already satisfied: cffi>=1.14 in c:\\users\\vkvar\\anaconda3\\lib\\site-packages (from trio~=0.17->selenium) (1.15.1)\n",
      "Requirement already satisfied: wsproto>=0.14 in c:\\users\\vkvar\\anaconda3\\lib\\site-packages (from trio-websocket~=0.9->selenium) (1.2.0)\n",
      "Requirement already satisfied: PySocks!=1.5.7,<2.0,>=1.5.6 in c:\\users\\vkvar\\anaconda3\\lib\\site-packages (from urllib3[socks]<3,>=1.26->selenium) (1.7.1)\n",
      "Requirement already satisfied: pycparser in c:\\users\\vkvar\\anaconda3\\lib\\site-packages (from cffi>=1.14->trio~=0.17->selenium) (2.21)\n",
      "Requirement already satisfied: h11<1,>=0.9.0 in c:\\users\\vkvar\\anaconda3\\lib\\site-packages (from wsproto>=0.14->trio-websocket~=0.9->selenium) (0.14.0)\n"
     ]
    }
   ],
   "source": [
    "!pip install selenium"
   ]
  },
  {
   "cell_type": "code",
   "execution_count": 2,
   "id": "c4a91c38",
   "metadata": {},
   "outputs": [],
   "source": [
    "import selenium\n",
    "import pandas as pd\n",
    "from selenium import webdriver\n",
    "import warnings\n",
    "warnings.filterwarnings('ignore')\n",
    "from selenium .webdriver.common.by import By\n",
    "import time"
   ]
  },
  {
   "cell_type": "code",
   "execution_count": 3,
   "id": "846f2cb6",
   "metadata": {},
   "outputs": [],
   "source": [
    "driver=webdriver.Chrome()\n",
    "driver.get(\"https://www.naukri.com/\")"
   ]
  },
  {
   "cell_type": "code",
   "execution_count": 4,
   "id": "bf2afcdf",
   "metadata": {},
   "outputs": [],
   "source": [
    "designation=driver.find_element(By.XPATH,\"/html/body/div[1]/div[7]/div/div/div[1]/div/div/div/div[1]/div/input\")\n",
    "designation.send_keys(\"Data Scientist\")"
   ]
  },
  {
   "cell_type": "code",
   "execution_count": 5,
   "id": "0f4f9ff3",
   "metadata": {},
   "outputs": [],
   "source": [
    "Location=driver.find_element(By.XPATH,\"/html/body/div[1]/div[7]/div/div/div[5]/div/div/div/div[1]/div/input \" )\n",
    "Location.send_keys('Delhi/NCR')"
   ]
  },
  {
   "cell_type": "code",
   "execution_count": 6,
   "id": "31a4f4bc",
   "metadata": {},
   "outputs": [],
   "source": [
    "search=driver.find_element(By.XPATH,\"/html/body/div[1]/div[7]/div/div/div[6]\" )\n",
    "search.click()"
   ]
  },
  {
   "cell_type": "code",
   "execution_count": 7,
   "id": "5da29446",
   "metadata": {},
   "outputs": [],
   "source": [
    "Salary=driver.find_element(By.XPATH,'//*[@id=\"search-result-container\"]/div[1]/div[1]/div/div/div[2]/div[5]/div[2]/div[2]/label/i')\n",
    "Salary.click()"
   ]
  },
  {
   "cell_type": "code",
   "execution_count": 8,
   "id": "08b1a7d1",
   "metadata": {},
   "outputs": [],
   "source": [
    "job_title=[]\n",
    "job_location=[]\n",
    "job_experience=[]\n",
    "Company=[]"
   ]
  },
  {
   "cell_type": "code",
   "execution_count": 9,
   "id": "c3f80bb9",
   "metadata": {},
   "outputs": [
    {
     "name": "stdout",
     "output_type": "stream",
     "text": [
      "['Data Scientist HTHD', 'Data Scientist', 'Data Scientist', 'Data Scientist II', 'Lead Data Scientist', 'Data Scientist', 'Lead Customer Success - Data Scientist', 'Fullstack Data Scientist', 'Data Scientist', 'Data Scientist']\n"
     ]
    }
   ],
   "source": [
    "Job_Title=driver.find_elements(By.XPATH,'//div[@class=\"srp-jobtuple-wrapper\"]/div/div[1]/a')\n",
    "Job_Title\n",
    "for i in Job_Title[0:10]:\n",
    "    Title=i.text\n",
    "    job_title.append(Title)\n",
    "print(job_title)"
   ]
  },
  {
   "cell_type": "code",
   "execution_count": 10,
   "id": "f3a69a43",
   "metadata": {},
   "outputs": [
    {
     "name": "stdout",
     "output_type": "stream",
     "text": [
      "['Kolkata, Mumbai, New Delhi, Hyderabad, Pune, Chennai, Bengaluru', 'Mumbai, Hyderabad, Gurugram', 'Gurugram, Bengaluru', 'Greater Noida, Bengaluru', 'Kolkata, Mumbai, New Delhi, Hyderabad/Secunderabad, Pune, Chennai, Bangalore/Bengaluru', 'Kolkata, Mumbai, New Delhi, Hyderabad, Pune, Chennai, Bengaluru', 'Pune, Gurugram', 'Mumbai, Gurugram, Bengaluru', 'Noida', 'Noida']\n"
     ]
    }
   ],
   "source": [
    "location=driver.find_elements(By.XPATH,'//div[@class=\"srp-jobtuple-wrapper\"]/div/div[3]/div/span[3]')\n",
    "for i in location[0:10]:\n",
    "    Title=i.text\n",
    "    job_location.append(Title)\n",
    "print(job_location)"
   ]
  },
  {
   "cell_type": "code",
   "execution_count": 11,
   "id": "905d9872",
   "metadata": {},
   "outputs": [
    {
     "name": "stdout",
     "output_type": "stream",
     "text": [
      "['1-4 Yrs', '3-6 Yrs', '3-7 Yrs', '3-6 Yrs', '3-7 Yrs', '1-3 Yrs', '2-4 Yrs', '3-6 Yrs', '2-7 Yrs', '3-8 Yrs']\n"
     ]
    }
   ],
   "source": [
    "Experience=driver.find_elements(By.XPATH,'//span[@class=\"expwdth\"]')\n",
    "for i in Experience[0:10]:\n",
    "    Title=i.text\n",
    "    job_experience.append(Title)\n",
    "print(job_experience)"
   ]
  },
  {
   "cell_type": "code",
   "execution_count": 12,
   "id": "1d512afd",
   "metadata": {},
   "outputs": [
    {
     "name": "stdout",
     "output_type": "stream",
     "text": [
      "['Ford', 'Deloitte', 'Blackbuck', 'Honeywell', 'Fort Technologies', 'ZS Associates', 'Course5 Intelligence', 'Innovaccer', 'Times Internet', 'The Scholar']\n"
     ]
    }
   ],
   "source": [
    "job_company=driver.find_elements(By.XPATH, '//a[@class=\" comp-name mw-25\"]')\n",
    "for i in job_company[0:10]:\n",
    "    Title=i.text\n",
    "    Company.append(Title)\n",
    "print(Company)"
   ]
  },
  {
   "cell_type": "code",
   "execution_count": 13,
   "id": "41820ad3",
   "metadata": {},
   "outputs": [
    {
     "name": "stdout",
     "output_type": "stream",
     "text": [
      "10 10 10 10\n"
     ]
    }
   ],
   "source": [
    "print(len(job_title),len(job_location),len(Company),len(job_experience))"
   ]
  },
  {
   "cell_type": "code",
   "execution_count": 14,
   "id": "510bd0c0",
   "metadata": {},
   "outputs": [
    {
     "data": {
      "text/html": [
       "<div>\n",
       "<style scoped>\n",
       "    .dataframe tbody tr th:only-of-type {\n",
       "        vertical-align: middle;\n",
       "    }\n",
       "\n",
       "    .dataframe tbody tr th {\n",
       "        vertical-align: top;\n",
       "    }\n",
       "\n",
       "    .dataframe thead th {\n",
       "        text-align: right;\n",
       "    }\n",
       "</style>\n",
       "<table border=\"1\" class=\"dataframe\">\n",
       "  <thead>\n",
       "    <tr style=\"text-align: right;\">\n",
       "      <th></th>\n",
       "      <th>Designation</th>\n",
       "      <th>Location</th>\n",
       "      <th>Company</th>\n",
       "      <th>Experience</th>\n",
       "    </tr>\n",
       "  </thead>\n",
       "  <tbody>\n",
       "    <tr>\n",
       "      <th>0</th>\n",
       "      <td>Data Scientist HTHD</td>\n",
       "      <td>Kolkata, Mumbai, New Delhi, Hyderabad, Pune, C...</td>\n",
       "      <td>Ford</td>\n",
       "      <td>1-4 Yrs</td>\n",
       "    </tr>\n",
       "    <tr>\n",
       "      <th>1</th>\n",
       "      <td>Data Scientist</td>\n",
       "      <td>Mumbai, Hyderabad, Gurugram</td>\n",
       "      <td>Deloitte</td>\n",
       "      <td>3-6 Yrs</td>\n",
       "    </tr>\n",
       "    <tr>\n",
       "      <th>2</th>\n",
       "      <td>Data Scientist</td>\n",
       "      <td>Gurugram, Bengaluru</td>\n",
       "      <td>Blackbuck</td>\n",
       "      <td>3-7 Yrs</td>\n",
       "    </tr>\n",
       "    <tr>\n",
       "      <th>3</th>\n",
       "      <td>Data Scientist II</td>\n",
       "      <td>Greater Noida, Bengaluru</td>\n",
       "      <td>Honeywell</td>\n",
       "      <td>3-6 Yrs</td>\n",
       "    </tr>\n",
       "    <tr>\n",
       "      <th>4</th>\n",
       "      <td>Lead Data Scientist</td>\n",
       "      <td>Kolkata, Mumbai, New Delhi, Hyderabad/Secunder...</td>\n",
       "      <td>Fort Technologies</td>\n",
       "      <td>3-7 Yrs</td>\n",
       "    </tr>\n",
       "    <tr>\n",
       "      <th>5</th>\n",
       "      <td>Data Scientist</td>\n",
       "      <td>Kolkata, Mumbai, New Delhi, Hyderabad, Pune, C...</td>\n",
       "      <td>ZS Associates</td>\n",
       "      <td>1-3 Yrs</td>\n",
       "    </tr>\n",
       "    <tr>\n",
       "      <th>6</th>\n",
       "      <td>Lead Customer Success - Data Scientist</td>\n",
       "      <td>Pune, Gurugram</td>\n",
       "      <td>Course5 Intelligence</td>\n",
       "      <td>2-4 Yrs</td>\n",
       "    </tr>\n",
       "    <tr>\n",
       "      <th>7</th>\n",
       "      <td>Fullstack Data Scientist</td>\n",
       "      <td>Mumbai, Gurugram, Bengaluru</td>\n",
       "      <td>Innovaccer</td>\n",
       "      <td>3-6 Yrs</td>\n",
       "    </tr>\n",
       "    <tr>\n",
       "      <th>8</th>\n",
       "      <td>Data Scientist</td>\n",
       "      <td>Noida</td>\n",
       "      <td>Times Internet</td>\n",
       "      <td>2-7 Yrs</td>\n",
       "    </tr>\n",
       "    <tr>\n",
       "      <th>9</th>\n",
       "      <td>Data Scientist</td>\n",
       "      <td>Noida</td>\n",
       "      <td>The Scholar</td>\n",
       "      <td>3-8 Yrs</td>\n",
       "    </tr>\n",
       "  </tbody>\n",
       "</table>\n",
       "</div>"
      ],
      "text/plain": [
       "                              Designation  \\\n",
       "0                     Data Scientist HTHD   \n",
       "1                          Data Scientist   \n",
       "2                          Data Scientist   \n",
       "3                       Data Scientist II   \n",
       "4                     Lead Data Scientist   \n",
       "5                          Data Scientist   \n",
       "6  Lead Customer Success - Data Scientist   \n",
       "7                Fullstack Data Scientist   \n",
       "8                          Data Scientist   \n",
       "9                          Data Scientist   \n",
       "\n",
       "                                            Location               Company  \\\n",
       "0  Kolkata, Mumbai, New Delhi, Hyderabad, Pune, C...                  Ford   \n",
       "1                        Mumbai, Hyderabad, Gurugram              Deloitte   \n",
       "2                                Gurugram, Bengaluru             Blackbuck   \n",
       "3                           Greater Noida, Bengaluru             Honeywell   \n",
       "4  Kolkata, Mumbai, New Delhi, Hyderabad/Secunder...     Fort Technologies   \n",
       "5  Kolkata, Mumbai, New Delhi, Hyderabad, Pune, C...         ZS Associates   \n",
       "6                                     Pune, Gurugram  Course5 Intelligence   \n",
       "7                        Mumbai, Gurugram, Bengaluru            Innovaccer   \n",
       "8                                              Noida        Times Internet   \n",
       "9                                              Noida           The Scholar   \n",
       "\n",
       "  Experience  \n",
       "0    1-4 Yrs  \n",
       "1    3-6 Yrs  \n",
       "2    3-7 Yrs  \n",
       "3    3-6 Yrs  \n",
       "4    3-7 Yrs  \n",
       "5    1-3 Yrs  \n",
       "6    2-4 Yrs  \n",
       "7    3-6 Yrs  \n",
       "8    2-7 Yrs  \n",
       "9    3-8 Yrs  "
      ]
     },
     "execution_count": 14,
     "metadata": {},
     "output_type": "execute_result"
    }
   ],
   "source": [
    "df=pd.DataFrame({'Designation':job_title,'Location':job_location,'Company':Company,'Experience':job_experience})\n",
    "df"
   ]
  },
  {
   "cell_type": "code",
   "execution_count": 15,
   "id": "e372d703",
   "metadata": {},
   "outputs": [],
   "source": [
    "driver=webdriver.Chrome()\n",
    "driver.get(\"https://www.shine.com/\")"
   ]
  },
  {
   "cell_type": "code",
   "execution_count": 18,
   "id": "64fbb5cf",
   "metadata": {},
   "outputs": [],
   "source": [
    "designation=driver.find_element(By.XPATH, \"/html/body/div/div[4]/div/div[2]/div[2]/div/form/div/div[1]/ul/li[1]/div/input\")\n",
    "designation.send_keys(\"Data Analyst\")"
   ]
  },
  {
   "cell_type": "code",
   "execution_count": 19,
   "id": "e13666ea",
   "metadata": {},
   "outputs": [],
   "source": [
    "Location=driver.find_element(By.XPATH,\"/html/body/div/div[4]/div/div[2]/div[2]/div/form/div/div[1]/ul/li[2]/div/input \" )\n",
    "Location.send_keys('Bangalore')"
   ]
  },
  {
   "cell_type": "code",
   "execution_count": 20,
   "id": "aeebd053",
   "metadata": {},
   "outputs": [],
   "source": [
    "search=driver.find_element(By.XPATH,\"/html/body/div/div[4]/div/div[2]/div[2]/div/form/div/div[2]/div/button\" )\n",
    "search.click()"
   ]
  },
  {
   "cell_type": "code",
   "execution_count": 21,
   "id": "4eaf3e7d",
   "metadata": {},
   "outputs": [],
   "source": [
    "job_title=[]\n",
    "job_location=[]\n",
    "company_name=[]\n",
    "experience_required=[]"
   ]
  },
  {
   "cell_type": "code",
   "execution_count": 22,
   "id": "117bec75",
   "metadata": {},
   "outputs": [
    {
     "name": "stdout",
     "output_type": "stream",
     "text": [
      "['Data Analyst', 'Clinical Data Analyst', 'Data Analyst', 'Hiring For Data Analyst', 'Clinical Data Analyst', 'Lead Data Analyst', 'Data Analyst', 'Technical Data Architect', 'Oracle Utilities (customer care & Billing) CC&B Busines ...', 'Clinical Data Associate']\n"
     ]
    }
   ],
   "source": [
    "Title=driver.find_elements(By.XPATH,'//div[@class=\"parentClass position-relative\"]/div/div[1]/div[1]/h2/a')\n",
    "for i in Title[0:10]:\n",
    "    title=i.text\n",
    "    job_title.append(title)\n",
    "print(job_title)"
   ]
  },
  {
   "cell_type": "code",
   "execution_count": 23,
   "id": "0887077a",
   "metadata": {},
   "outputs": [
    {
     "name": "stdout",
     "output_type": "stream",
     "text": [
      "['Bangalore\\n+9', 'Bangalore\\n+6', 'Bangalore\\n+9', 'Bangalore\\n+12', 'Bangalore\\n+6', 'Bangalore', 'Bangalore\\n+3', 'Bangalore', 'Bangalore\\n+2', 'Bangalore\\n+6']\n"
     ]
    }
   ],
   "source": [
    "Location=driver.find_elements(By.XPATH,'//div[@class=\"parentClass position-relative\"]/div/div[1]/div[1]/div[3]/div[2]')\n",
    "for i in Location[0:10]:\n",
    "    location=i.text\n",
    "    job_location.append(location)\n",
    "print(job_location)"
   ]
  },
  {
   "cell_type": "code",
   "execution_count": 24,
   "id": "0dca8ca2",
   "metadata": {},
   "outputs": [
    {
     "name": "stdout",
     "output_type": "stream",
     "text": [
      "['sahast sales corporation', 'techno endura', 'sahast sales corporation', 'radhika enterprises', 'techno endura', 'ara resources private limited', 'diraa hr services hiring for mncs', 'uprighthc solutions private limited', 'ltimindtree limited', 'techno endura']\n"
     ]
    }
   ],
   "source": [
    "Company=driver.find_elements(By.XPATH,'//div[@class=\"parentClass position-relative\"]/div/div[1]/div[1]/div[2]/span')\n",
    "for i in Company[0:10]:\n",
    "    company=i.text\n",
    "    company_name.append(company)\n",
    "print(company_name)"
   ]
  },
  {
   "cell_type": "code",
   "execution_count": 25,
   "id": "33e17e91",
   "metadata": {},
   "outputs": [
    {
     "name": "stdout",
     "output_type": "stream",
     "text": [
      "['12 to 22 Yrs', '0 to 1 Yr', '12 to 22 Yrs', '0 to 4 Yrs', '0 to 1 Yr', '4 to 9 Yrs', '0 to 1 Yr', '10 to 20 Yrs', '5 to 9 Yrs', '0 to 1 Yr']\n"
     ]
    }
   ],
   "source": [
    "Experience=driver.find_elements(By.XPATH,'//div[@class=\"parentClass position-relative\"]/div/div[1]/div[1]/div[3]/div[1]')\n",
    "for i in Experience[0:10]:\n",
    "    exp=i.text\n",
    "    experience_required.append(exp)\n",
    "print(experience_required)"
   ]
  },
  {
   "cell_type": "code",
   "execution_count": 26,
   "id": "16b04d78",
   "metadata": {},
   "outputs": [
    {
     "name": "stdout",
     "output_type": "stream",
     "text": [
      "10 10 10 10\n"
     ]
    }
   ],
   "source": [
    "print(len(job_title),len(job_location),len(company_name),len(experience_required))"
   ]
  },
  {
   "cell_type": "code",
   "execution_count": 27,
   "id": "01f47f4b",
   "metadata": {},
   "outputs": [
    {
     "data": {
      "text/html": [
       "<div>\n",
       "<style scoped>\n",
       "    .dataframe tbody tr th:only-of-type {\n",
       "        vertical-align: middle;\n",
       "    }\n",
       "\n",
       "    .dataframe tbody tr th {\n",
       "        vertical-align: top;\n",
       "    }\n",
       "\n",
       "    .dataframe thead th {\n",
       "        text-align: right;\n",
       "    }\n",
       "</style>\n",
       "<table border=\"1\" class=\"dataframe\">\n",
       "  <thead>\n",
       "    <tr style=\"text-align: right;\">\n",
       "      <th></th>\n",
       "      <th>Designation</th>\n",
       "      <th>Location</th>\n",
       "      <th>Company</th>\n",
       "      <th>Experience</th>\n",
       "    </tr>\n",
       "  </thead>\n",
       "  <tbody>\n",
       "    <tr>\n",
       "      <th>0</th>\n",
       "      <td>Data Analyst</td>\n",
       "      <td>Bangalore\\n+9</td>\n",
       "      <td>sahast sales corporation</td>\n",
       "      <td>12 to 22 Yrs</td>\n",
       "    </tr>\n",
       "    <tr>\n",
       "      <th>1</th>\n",
       "      <td>Clinical Data Analyst</td>\n",
       "      <td>Bangalore\\n+6</td>\n",
       "      <td>techno endura</td>\n",
       "      <td>0 to 1 Yr</td>\n",
       "    </tr>\n",
       "    <tr>\n",
       "      <th>2</th>\n",
       "      <td>Data Analyst</td>\n",
       "      <td>Bangalore\\n+9</td>\n",
       "      <td>sahast sales corporation</td>\n",
       "      <td>12 to 22 Yrs</td>\n",
       "    </tr>\n",
       "    <tr>\n",
       "      <th>3</th>\n",
       "      <td>Hiring For Data Analyst</td>\n",
       "      <td>Bangalore\\n+12</td>\n",
       "      <td>radhika enterprises</td>\n",
       "      <td>0 to 4 Yrs</td>\n",
       "    </tr>\n",
       "    <tr>\n",
       "      <th>4</th>\n",
       "      <td>Clinical Data Analyst</td>\n",
       "      <td>Bangalore\\n+6</td>\n",
       "      <td>techno endura</td>\n",
       "      <td>0 to 1 Yr</td>\n",
       "    </tr>\n",
       "    <tr>\n",
       "      <th>5</th>\n",
       "      <td>Lead Data Analyst</td>\n",
       "      <td>Bangalore</td>\n",
       "      <td>ara resources private limited</td>\n",
       "      <td>4 to 9 Yrs</td>\n",
       "    </tr>\n",
       "    <tr>\n",
       "      <th>6</th>\n",
       "      <td>Data Analyst</td>\n",
       "      <td>Bangalore\\n+3</td>\n",
       "      <td>diraa hr services hiring for mncs</td>\n",
       "      <td>0 to 1 Yr</td>\n",
       "    </tr>\n",
       "    <tr>\n",
       "      <th>7</th>\n",
       "      <td>Technical Data Architect</td>\n",
       "      <td>Bangalore</td>\n",
       "      <td>uprighthc solutions private limited</td>\n",
       "      <td>10 to 20 Yrs</td>\n",
       "    </tr>\n",
       "    <tr>\n",
       "      <th>8</th>\n",
       "      <td>Oracle Utilities (customer care &amp; Billing) CC&amp;...</td>\n",
       "      <td>Bangalore\\n+2</td>\n",
       "      <td>ltimindtree limited</td>\n",
       "      <td>5 to 9 Yrs</td>\n",
       "    </tr>\n",
       "    <tr>\n",
       "      <th>9</th>\n",
       "      <td>Clinical Data Associate</td>\n",
       "      <td>Bangalore\\n+6</td>\n",
       "      <td>techno endura</td>\n",
       "      <td>0 to 1 Yr</td>\n",
       "    </tr>\n",
       "  </tbody>\n",
       "</table>\n",
       "</div>"
      ],
      "text/plain": [
       "                                         Designation        Location  \\\n",
       "0                                       Data Analyst   Bangalore\\n+9   \n",
       "1                              Clinical Data Analyst   Bangalore\\n+6   \n",
       "2                                       Data Analyst   Bangalore\\n+9   \n",
       "3                            Hiring For Data Analyst  Bangalore\\n+12   \n",
       "4                              Clinical Data Analyst   Bangalore\\n+6   \n",
       "5                                  Lead Data Analyst       Bangalore   \n",
       "6                                       Data Analyst   Bangalore\\n+3   \n",
       "7                           Technical Data Architect       Bangalore   \n",
       "8  Oracle Utilities (customer care & Billing) CC&...   Bangalore\\n+2   \n",
       "9                            Clinical Data Associate   Bangalore\\n+6   \n",
       "\n",
       "                               Company    Experience  \n",
       "0             sahast sales corporation  12 to 22 Yrs  \n",
       "1                        techno endura     0 to 1 Yr  \n",
       "2             sahast sales corporation  12 to 22 Yrs  \n",
       "3                  radhika enterprises    0 to 4 Yrs  \n",
       "4                        techno endura     0 to 1 Yr  \n",
       "5        ara resources private limited    4 to 9 Yrs  \n",
       "6    diraa hr services hiring for mncs     0 to 1 Yr  \n",
       "7  uprighthc solutions private limited  10 to 20 Yrs  \n",
       "8                  ltimindtree limited    5 to 9 Yrs  \n",
       "9                        techno endura     0 to 1 Yr  "
      ]
     },
     "execution_count": 27,
     "metadata": {},
     "output_type": "execute_result"
    }
   ],
   "source": [
    "df=pd.DataFrame({'Designation':job_title,'Location':job_location,'Company':company_name,'Experience':experience_required})\n",
    "df"
   ]
  },
  {
   "cell_type": "code",
   "execution_count": 56,
   "id": "c50cfba9",
   "metadata": {},
   "outputs": [],
   "source": [
    "driver=webdriver.Chrome()\n",
    "driver.get(\"https://www.flipkart.com/apple-iphone-11-black-64-gb/product-reviews/itm4e5041ba101fd?pid=MOBFWQ6BXGJCEYNY&lid=LSTMOBFWQ6BXGJCEYNYZXSHRJ&marketplace=FLIPKART\")"
   ]
  },
  {
   "cell_type": "code",
   "execution_count": 57,
   "id": "9683a545",
   "metadata": {},
   "outputs": [],
   "source": [
    "Rating=[]\n",
    "Review_summary=[]\n",
    "Full_review=[]"
   ]
  },
  {
   "cell_type": "code",
   "execution_count": 58,
   "id": "656e1b32",
   "metadata": {},
   "outputs": [
    {
     "name": "stdout",
     "output_type": "stream",
     "text": [
      "['5', '5', '5', '5', '5', '5', '5', '5', '5', '5']\n"
     ]
    }
   ],
   "source": [
    "rating=driver.find_elements(By.XPATH,'//div[@class=\"_3LWZlK _1BLPMq\"]')\n",
    "for i in rating:\n",
    "    title=i.text\n",
    "    Rating.append(title)\n",
    "print(Rating)"
   ]
  },
  {
   "cell_type": "code",
   "execution_count": 59,
   "id": "e462575a",
   "metadata": {},
   "outputs": [
    {
     "name": "stdout",
     "output_type": "stream",
     "text": [
      "['Best in the market!', 'Worth every penny', 'Classy product', 'Terrific', 'Fabulous!', 'Wonderful', 'Perfect product!', 'Terrific purchase', 'Just wow!', 'Brilliant']\n"
     ]
    }
   ],
   "source": [
    "review=driver.find_elements(By.XPATH,'//p[@class=\"_2-N8zT\"]')\n",
    "for i in review:\n",
    "    title=i.text\n",
    "    Review_summary.append(title)\n",
    "print(Review_summary)"
   ]
  },
  {
   "cell_type": "code",
   "execution_count": 60,
   "id": "9ccd7c1e",
   "metadata": {},
   "outputs": [
    {
     "name": "stdout",
     "output_type": "stream",
     "text": [
      "['Good Camera', 'Feeling awesome after getting the delivery of my phone. Dual speakers makes the sound quality very loud. Amazing!!', 'Camera is awesome\\nBest battery backup\\nA performer 👌🏻\\nIt will be a real value for money if they provide charger and earphone inbox!', 'Very very good', 'Super🔥 and good performance 👌❤️', 'This is amazing at all', 'Photos super', 'Value for money 😍', 'Perfect Product!!', 'very good camera quality']\n"
     ]
    }
   ],
   "source": [
    "full_review=driver.find_elements(By.XPATH,'//div[@class=\"t-ZTKy\"]/div/div')\n",
    "for i in full_review:\n",
    "    title=i.text\n",
    "    Full_review.append(title)\n",
    "print(Full_review)"
   ]
  },
  {
   "cell_type": "code",
   "execution_count": 77,
   "id": "70307144",
   "metadata": {},
   "outputs": [],
   "source": [
    "Rating=[]\n",
    "Review_summary=[]\n",
    "Full_review=[]\n",
    "\n",
    "start=0\n",
    "end=10\n",
    "for page in range(start,end):\n",
    "    rating=driver.find_elements(By.XPATH,'//div[@class=\"_3LWZlK _1BLPMq\"]')\n",
    "    for i in rating:\n",
    "        title=i.text\n",
    "        Rating.append(title)\n",
    "        \n",
    "    review=driver.find_elements(By.XPATH,'//p[@class=\"_2-N8zT\"]')\n",
    "    for i in review:\n",
    "        title=i.text\n",
    "        Review_summary.append(title)\n",
    "        \n",
    "    \n",
    "    full_review=driver.find_elements(By.XPATH,'//div[@class=\"t-ZTKy\"]/div/div')\n",
    "    for i in full_review:\n",
    "        title=i.text\n",
    "        Full_review.append(title)\n",
    "        \n",
    "    next_button= driver.find_elements(By.XPATH,'//a[@class=\"_1LKTO3\"]');\n",
    "    if len(next_button)>1 :\n",
    "        next_button[1].click()\n",
    "    else:\n",
    "        next_button[0].click()\n",
    "     \n",
    "    time.sleep(10)\n",
    "     \n",
    "    "
   ]
  },
  {
   "cell_type": "code",
   "execution_count": 78,
   "id": "0149ba4a",
   "metadata": {},
   "outputs": [
    {
     "name": "stdout",
     "output_type": "stream",
     "text": [
      "100 100 100\n"
     ]
    }
   ],
   "source": [
    "print(len(Rating),len(Review_summary),len(Full_review) )"
   ]
  },
  {
   "cell_type": "code",
   "execution_count": 79,
   "id": "b23832d7",
   "metadata": {},
   "outputs": [
    {
     "data": {
      "text/html": [
       "<div>\n",
       "<style scoped>\n",
       "    .dataframe tbody tr th:only-of-type {\n",
       "        vertical-align: middle;\n",
       "    }\n",
       "\n",
       "    .dataframe tbody tr th {\n",
       "        vertical-align: top;\n",
       "    }\n",
       "\n",
       "    .dataframe thead th {\n",
       "        text-align: right;\n",
       "    }\n",
       "</style>\n",
       "<table border=\"1\" class=\"dataframe\">\n",
       "  <thead>\n",
       "    <tr style=\"text-align: right;\">\n",
       "      <th></th>\n",
       "      <th>Rating</th>\n",
       "      <th>Review_summary</th>\n",
       "      <th>Full_review</th>\n",
       "    </tr>\n",
       "  </thead>\n",
       "  <tbody>\n",
       "    <tr>\n",
       "      <th>0</th>\n",
       "      <td>5</td>\n",
       "      <td>Best in the market!</td>\n",
       "      <td>Good Camera</td>\n",
       "    </tr>\n",
       "    <tr>\n",
       "      <th>1</th>\n",
       "      <td>5</td>\n",
       "      <td>Worth every penny</td>\n",
       "      <td>Feeling awesome after getting the delivery of ...</td>\n",
       "    </tr>\n",
       "    <tr>\n",
       "      <th>2</th>\n",
       "      <td>5</td>\n",
       "      <td>Classy product</td>\n",
       "      <td>Camera is awesome\\nBest battery backup\\nA perf...</td>\n",
       "    </tr>\n",
       "    <tr>\n",
       "      <th>3</th>\n",
       "      <td>5</td>\n",
       "      <td>Terrific</td>\n",
       "      <td>Very very good</td>\n",
       "    </tr>\n",
       "    <tr>\n",
       "      <th>4</th>\n",
       "      <td>5</td>\n",
       "      <td>Fabulous!</td>\n",
       "      <td>Super🔥 and good performance 👌❤️</td>\n",
       "    </tr>\n",
       "    <tr>\n",
       "      <th>...</th>\n",
       "      <td>...</td>\n",
       "      <td>...</td>\n",
       "      <td>...</td>\n",
       "    </tr>\n",
       "    <tr>\n",
       "      <th>95</th>\n",
       "      <td>5</td>\n",
       "      <td>Classy product</td>\n",
       "      <td>Outstanding performance this phone</td>\n",
       "    </tr>\n",
       "    <tr>\n",
       "      <th>96</th>\n",
       "      <td>5</td>\n",
       "      <td>Wonderful</td>\n",
       "      <td>Quality camera</td>\n",
       "    </tr>\n",
       "    <tr>\n",
       "      <th>97</th>\n",
       "      <td>3</td>\n",
       "      <td>Good</td>\n",
       "      <td>only the name worth it with d price.</td>\n",
       "    </tr>\n",
       "    <tr>\n",
       "      <th>98</th>\n",
       "      <td>5</td>\n",
       "      <td>Excellent</td>\n",
       "      <td>A perfect phone and a good battery super camer...</td>\n",
       "    </tr>\n",
       "    <tr>\n",
       "      <th>99</th>\n",
       "      <td>5</td>\n",
       "      <td>Brilliant</td>\n",
       "      <td>Best phone</td>\n",
       "    </tr>\n",
       "  </tbody>\n",
       "</table>\n",
       "<p>100 rows × 3 columns</p>\n",
       "</div>"
      ],
      "text/plain": [
       "   Rating       Review_summary  \\\n",
       "0       5  Best in the market!   \n",
       "1       5    Worth every penny   \n",
       "2       5       Classy product   \n",
       "3       5             Terrific   \n",
       "4       5            Fabulous!   \n",
       "..    ...                  ...   \n",
       "95      5       Classy product   \n",
       "96      5            Wonderful   \n",
       "97      3                 Good   \n",
       "98      5            Excellent   \n",
       "99      5            Brilliant   \n",
       "\n",
       "                                          Full_review  \n",
       "0                                         Good Camera  \n",
       "1   Feeling awesome after getting the delivery of ...  \n",
       "2   Camera is awesome\\nBest battery backup\\nA perf...  \n",
       "3                                      Very very good  \n",
       "4                     Super🔥 and good performance 👌❤️  \n",
       "..                                                ...  \n",
       "95                 Outstanding performance this phone  \n",
       "96                                     Quality camera  \n",
       "97               only the name worth it with d price.  \n",
       "98  A perfect phone and a good battery super camer...  \n",
       "99                                         Best phone  \n",
       "\n",
       "[100 rows x 3 columns]"
      ]
     },
     "execution_count": 79,
     "metadata": {},
     "output_type": "execute_result"
    }
   ],
   "source": [
    "df=pd.DataFrame({'Rating':Rating,'Review_summary':Review_summary,'Full_review':Full_review})\n",
    "df"
   ]
  },
  {
   "cell_type": "code",
   "execution_count": 85,
   "id": "e7fad107",
   "metadata": {},
   "outputs": [],
   "source": [
    "driver=webdriver.Chrome()\n",
    "driver.get(\"https://www.flipkart.com\")"
   ]
  },
  {
   "cell_type": "code",
   "execution_count": 88,
   "id": "ac441fb8",
   "metadata": {},
   "outputs": [],
   "source": [
    "Product=driver.find_element(By.CLASS_NAME,\"Pke_EE\" )\n",
    "Product.send_keys('sneakers')"
   ]
  },
  {
   "cell_type": "code",
   "execution_count": 89,
   "id": "ac56d95f",
   "metadata": {},
   "outputs": [],
   "source": [
    "search=driver.find_element(By.XPATH,\"/html/body/div[1]/div/div[1]/div/div/div/div/div[1]/div/div[1]/div/div[1]/div[1]/header/div[1]/div[2]/form/div/button\" )\n",
    "search.click()"
   ]
  },
  {
   "cell_type": "code",
   "execution_count": 103,
   "id": "d66d25f9",
   "metadata": {},
   "outputs": [],
   "source": [
    "Sneakers_brand=[]\n",
    "Product_description=[]\n",
    "Price=[]\n"
   ]
  },
  {
   "cell_type": "code",
   "execution_count": 104,
   "id": "b44c4f80",
   "metadata": {},
   "outputs": [
    {
     "name": "stdout",
     "output_type": "stream",
     "text": [
      "['Rowlans', 'VENDOZ', 'TR', 'PUMA', 'HOTSTYLE', 'PUMA', 'asian', 'VENDOZ', 'PUMA', 'PUMA', 'RUN SEVEN', 'Zixer', 'U.S. POLO ASSN.', 'RED TAPE', 'BERSACHE', 'PUMA', 'asian', 'BOLTAGO', 'kardam&sons', 'RED TAPE', 'BERSACHE', 'VENDOZ', 'U.S. POLO ASSN.', 'asian', 'PUMA', 'Layasa', 'New Balance', 'RED TAPE', 'RED TAPE', 'PUMA', 'Koburg', 'Field Care', 'asian', 'aadi', 'asian', 'RED TAPE', 'RED TAPE', 'asian', 'BIRDE', 'PUMA']\n"
     ]
    }
   ],
   "source": [
    "brand_name=driver.find_elements(By.XPATH,'//div[@class=\"_2WkVRV\"]')\n",
    "for i in brand_name:\n",
    "    brand=i.text\n",
    "    Sneakers_brand.append(brand)\n",
    "print(Sneakers_brand)"
   ]
  },
  {
   "cell_type": "code",
   "execution_count": 105,
   "id": "c7847cf8",
   "metadata": {},
   "outputs": [
    {
     "name": "stdout",
     "output_type": "stream",
     "text": [
      "['₹420', '₹599', '₹349', '₹3,009', '₹259', '₹1,799', '₹545', '₹499', '₹3,359', '₹3,869', '₹999', '₹660', '₹1,189', '₹1,119', '₹574', '₹2,639', '₹573', '₹699', '₹429', '₹1,119', '₹1,699', '₹499', '₹1,189', '₹631', '₹4,319', '₹439', '₹5,135', '₹1,339', '₹1,299', '₹2,128', '₹849', '₹989', '₹688', '₹408', '₹982', '₹1,039', '₹999', '₹727', '₹299', '₹2,249']\n"
     ]
    }
   ],
   "source": [
    "Product_price=driver.find_elements(By.XPATH,'//a[@class=\"_3bPFwb\"]/div[@class=\"_25b18c\"]/div[1]')\n",
    "for i in Product_price:\n",
    "    price=i.text\n",
    "    Price.append(price)\n",
    "print(Price)"
   ]
  },
  {
   "cell_type": "code",
   "execution_count": 106,
   "id": "10079ca0",
   "metadata": {},
   "outputs": [
    {
     "name": "stdout",
     "output_type": "stream",
     "text": [
      "['comfortable,durable,sport shoe,snerakers,walking & gym ...', 'HIGH HEEL Sneakers For Women', 'Casual Shoes| Caual Sneakers| White shoes| White Sneake...', 'X-Ray Speed Sneakers For Men', 'Trendy & Stylish Sneakers For Men', 'Morgan SL V1 Sneakers For Men', 'Casual Sneaker Shoes For Women|| Soft Cushioned Insole ...', 'HIGH HEEL SHOES Sneakers For Women', 'Ferrari Caven 2.0 Sneakers For Men', 'MAPF1 Neo Cat Mid Sneakers For Men', '( by GO21 ) Soft Insole, Slip-Resistance|Walking Casual...', \"Men's Streetwear Pro Style High Top Platform Fashion Sn...\", 'Sneakers For Men', 'Sneaker Casual Shoes for Men | Soft Cushioned Insole, S...', 'Combo pack of 2 shoes for men Sneakers For Men', 'Rickie Sneakers For Men', 'Sneaker Casual Shoes For Men | Soft Cushion Insole||Ach...', 'Sneakers For Men', 'kardam&sons luxury fashionable casual sneaker boots Sne...', 'Sneaker Casual Shoes For Men | Soft Cushion Insole, Sli...', 'Bersache Casual Walking Gym Training outdoor sneaker Sh...', 'Premium Stylish Comfortable Shoe for Girls and Womens S...', 'MONTON 4.0 Sneakers For Men', 'SM-162 Black Walking ,Training,Sneakers,Loafers,Canvas,...', 're schooltream Lo Retro Sneakers For Men', 'Casual Sneakers White Shoes For Girls And Sneakers For ...', '574 Sneakers For Men', 'Lifestyle Sneaker Shoes for Women | Soft Cushioned Inso...', 'Casual Sneaker Shoes for Men | Soft Cushioned Insole, S...', 'Ferrari Electron E Pro Sneakers For Men', 'Flexe Sneakers For Men', \"Men's Trendy Casual Sports Comfort Stylish Latest Fashi...\", 'Sneaker Casual Shoes for Men | Soft Cushioned Insole, S...', 'Sneakers For Men', 'Carnival-02 Mens High Top Casual Chunky Sneakers Sneake...', 'Sneakers For Men', 'Sneaker Casual Shoes for Women | Comfortable & Casual l...', 'Sneakers For Men', 'Premium Casual Shoes for Women Sneakers For Women', 'Sienna Softride Ballerina Sneakers For Women']\n"
     ]
    },
    {
     "data": {
      "text/plain": [
       "40"
      ]
     },
     "execution_count": 106,
     "metadata": {},
     "output_type": "execute_result"
    }
   ],
   "source": [
    "product_description=driver.find_elements(By.XPATH,'//div[@class=\"_1YokD2 _3Mn1Gg\"]/div[@class=\"_1AtVbE col-12-12\"]/div/div/div/div[1]/a[1]')\n",
    "for i in product_description:\n",
    "    description=i.text\n",
    "    Product_description.append(description)\n",
    "print(Product_description)\n",
    "len(Product_description)\n"
   ]
  },
  {
   "cell_type": "code",
   "execution_count": 107,
   "id": "1fe79fa9",
   "metadata": {},
   "outputs": [],
   "source": [
    "start=0\n",
    "end=3\n",
    "Sneakers_brand=[]\n",
    "Product_description=[]\n",
    "Price=[]\n",
    "for page in range(start,end):\n",
    "    brand_name=driver.find_elements(By.XPATH,'//div[@class=\"_2WkVRV\"]')\n",
    "    for i in brand_name:\n",
    "        brand=i.text\n",
    "        Sneakers_brand.append(brand)  \n",
    "    \n",
    "    Product_price=driver.find_elements(By.XPATH,'//a[@class=\"_3bPFwb\"]/div[@class=\"_25b18c\"]/div[1]')\n",
    "    for i in Product_price:\n",
    "        price=i.text\n",
    "        Price.append(price)  \n",
    "    \n",
    "    \n",
    "    product_description=driver.find_elements(By.XPATH,'//div[@class=\"_1YokD2 _3Mn1Gg\"]/div[@class=\"_1AtVbE col-12-12\"]/div/div/div/div[1]/a[1]')\n",
    "    for i in product_description:\n",
    "        description=i.text\n",
    "        Product_description.append(description)\n",
    "    \n",
    "    next_button= driver.find_elements(By.XPATH,'//a[@class=\"_1LKTO3\"]');\n",
    "    \n",
    "     \n",
    "    if len(next_button)>1 :\n",
    "        next_button[1].click()\n",
    "    else:\n",
    "        next_button[0].click()\n",
    "     \n",
    "    time.sleep(10)"
   ]
  },
  {
   "cell_type": "code",
   "execution_count": 110,
   "id": "58d357bb",
   "metadata": {},
   "outputs": [
    {
     "name": "stdout",
     "output_type": "stream",
     "text": [
      "120 120 120\n"
     ]
    }
   ],
   "source": [
    "print(len(Sneakers_brand),len(Product_description),len(Price))"
   ]
  },
  {
   "cell_type": "code",
   "execution_count": 111,
   "id": "4695cb31",
   "metadata": {},
   "outputs": [
    {
     "data": {
      "text/html": [
       "<div>\n",
       "<style scoped>\n",
       "    .dataframe tbody tr th:only-of-type {\n",
       "        vertical-align: middle;\n",
       "    }\n",
       "\n",
       "    .dataframe tbody tr th {\n",
       "        vertical-align: top;\n",
       "    }\n",
       "\n",
       "    .dataframe thead th {\n",
       "        text-align: right;\n",
       "    }\n",
       "</style>\n",
       "<table border=\"1\" class=\"dataframe\">\n",
       "  <thead>\n",
       "    <tr style=\"text-align: right;\">\n",
       "      <th></th>\n",
       "      <th>Brand_Name</th>\n",
       "      <th>Description</th>\n",
       "      <th>Product_Price</th>\n",
       "    </tr>\n",
       "  </thead>\n",
       "  <tbody>\n",
       "    <tr>\n",
       "      <th>0</th>\n",
       "      <td>BRUTON</td>\n",
       "      <td>Combo Pack Of 2 Casual Shoes for mens Sneakers...</td>\n",
       "      <td>₹499</td>\n",
       "    </tr>\n",
       "    <tr>\n",
       "      <th>1</th>\n",
       "      <td>BRUTON</td>\n",
       "      <td>2 Combo Sneaker Shoes Sneakers For Men</td>\n",
       "      <td>₹499</td>\n",
       "    </tr>\n",
       "    <tr>\n",
       "      <th>2</th>\n",
       "      <td>Deals4you</td>\n",
       "      <td>Sneakers For Women</td>\n",
       "      <td>₹439</td>\n",
       "    </tr>\n",
       "    <tr>\n",
       "      <th>3</th>\n",
       "      <td>URBANBOX</td>\n",
       "      <td>Trending Stylish Casual Outdoor Shoes For Men ...</td>\n",
       "      <td>₹299</td>\n",
       "    </tr>\n",
       "    <tr>\n",
       "      <th>4</th>\n",
       "      <td>RED TAPE</td>\n",
       "      <td>Casual Sneakers Shoes for Men | Soft Cushioned...</td>\n",
       "      <td>₹1,179</td>\n",
       "    </tr>\n",
       "    <tr>\n",
       "      <th>...</th>\n",
       "      <td>...</td>\n",
       "      <td>...</td>\n",
       "      <td>...</td>\n",
       "    </tr>\n",
       "    <tr>\n",
       "      <th>115</th>\n",
       "      <td>LANCER</td>\n",
       "      <td>SPYDER-1NBL Sneakers For Men</td>\n",
       "      <td>₹799</td>\n",
       "    </tr>\n",
       "    <tr>\n",
       "      <th>116</th>\n",
       "      <td>HOTSTYLE</td>\n",
       "      <td>Sports Shoes , Walking Shoes , Gym &amp; Training ...</td>\n",
       "      <td>₹259</td>\n",
       "    </tr>\n",
       "    <tr>\n",
       "      <th>117</th>\n",
       "      <td>BIRDE</td>\n",
       "      <td>Trendy Casual Shoe For Men Pack Of 2 Sneakers ...</td>\n",
       "      <td>₹575</td>\n",
       "    </tr>\n",
       "    <tr>\n",
       "      <th>118</th>\n",
       "      <td>Footox</td>\n",
       "      <td>Casual Shoes Sneakers For Women</td>\n",
       "      <td>₹299</td>\n",
       "    </tr>\n",
       "    <tr>\n",
       "      <th>119</th>\n",
       "      <td>RED TAPE</td>\n",
       "      <td>Casual Sneaker Shoes for Men | Soft Cushioned ...</td>\n",
       "      <td>₹1,579</td>\n",
       "    </tr>\n",
       "  </tbody>\n",
       "</table>\n",
       "<p>120 rows × 3 columns</p>\n",
       "</div>"
      ],
      "text/plain": [
       "    Brand_Name                                        Description  \\\n",
       "0       BRUTON  Combo Pack Of 2 Casual Shoes for mens Sneakers...   \n",
       "1       BRUTON             2 Combo Sneaker Shoes Sneakers For Men   \n",
       "2    Deals4you                                 Sneakers For Women   \n",
       "3     URBANBOX  Trending Stylish Casual Outdoor Shoes For Men ...   \n",
       "4     RED TAPE  Casual Sneakers Shoes for Men | Soft Cushioned...   \n",
       "..         ...                                                ...   \n",
       "115     LANCER                       SPYDER-1NBL Sneakers For Men   \n",
       "116   HOTSTYLE  Sports Shoes , Walking Shoes , Gym & Training ...   \n",
       "117      BIRDE  Trendy Casual Shoe For Men Pack Of 2 Sneakers ...   \n",
       "118     Footox                    Casual Shoes Sneakers For Women   \n",
       "119   RED TAPE  Casual Sneaker Shoes for Men | Soft Cushioned ...   \n",
       "\n",
       "    Product_Price  \n",
       "0            ₹499  \n",
       "1            ₹499  \n",
       "2            ₹439  \n",
       "3            ₹299  \n",
       "4          ₹1,179  \n",
       "..            ...  \n",
       "115          ₹799  \n",
       "116          ₹259  \n",
       "117          ₹575  \n",
       "118          ₹299  \n",
       "119        ₹1,579  \n",
       "\n",
       "[120 rows x 3 columns]"
      ]
     },
     "execution_count": 111,
     "metadata": {},
     "output_type": "execute_result"
    }
   ],
   "source": [
    "df=pd.DataFrame({'Brand_Name':Sneakers_brand,'Description':Product_description,'Product_Price':Price})\n",
    "df"
   ]
  },
  {
   "cell_type": "code",
   "execution_count": 114,
   "id": "6ee1dd45",
   "metadata": {},
   "outputs": [],
   "source": [
    "driver=webdriver.Chrome()\n",
    "driver.get(\"https://www.amazon.in/\")"
   ]
  },
  {
   "cell_type": "code",
   "execution_count": 118,
   "id": "efdb1406",
   "metadata": {},
   "outputs": [],
   "source": [
    "products=driver.find_element(By.ID,\"twotabsearchtextbox\" )\n",
    "products.send_keys('Laptop') "
   ]
  },
  {
   "cell_type": "code",
   "execution_count": 119,
   "id": "30bb065a",
   "metadata": {},
   "outputs": [],
   "source": [
    "search=driver.find_element(By.ID,\"nav-search-submit-button\" )\n",
    "search.click()"
   ]
  },
  {
   "cell_type": "code",
   "execution_count": 126,
   "id": "97308c08",
   "metadata": {},
   "outputs": [],
   "source": [
    "checkbox=driver.find_element(By.XPATH, '//*[@id=\"p_n_feature_thirteen_browse-bin/12598163031\"]/span/a/div/label/i')\n",
    "checkbox.click()"
   ]
  },
  {
   "cell_type": "code",
   "execution_count": 182,
   "id": "65e6ec0c",
   "metadata": {},
   "outputs": [],
   "source": [
    "Laptop_Title=[]\n",
    "\n",
    "Price=[]"
   ]
  },
  {
   "cell_type": "code",
   "execution_count": 183,
   "id": "32232481",
   "metadata": {},
   "outputs": [
    {
     "name": "stdout",
     "output_type": "stream",
     "text": [
      "['ASUS TUF Gaming F15, 15.6\"(39.62 cms) FHD 144Hz, Intel Core i7-11800H 11th Gen, 4GB NVIDIA GeForce RTX 3050 Ti, Gaming Laptop (16GB/1TB SSD/Win 11/MSO/90WHrs Battery/Black/2.30 Kg), FX506HE-HN385WS', 'Acer Travelmate Business Laptop Intel Core i7-11th Gen (Windows 11 Home/16 GB Ram/1TB SSD/Intel Iris Xe Graphics/14.0 IPS Display/Backlit Keyboard/Fingerprint Sensor) TMP214-53', 'MSI Modern 14, Intel 12th Gen. i7-1255U, 36CM FHD 60Hz Laptop (16GB/512GB NVMe SSD/Windows 11 Home/Intel Iris Xe Graphics/Classic Black/1.4Kg), C12M-459IN', 'ASUS Vivobook 15, Intel Core i7-12650H 12th Gen, 15.6\" (39.62 cm) FHD, Thin and Light Laptop (16GB/512GB/Win11/Office 2021/Blue/1.7 kg), X1502ZA-EJ741WS', 'Lenovo IdeaPad Slim 3 Intel Core i7 12th Gen 15.6 inch (39.62cm) FHD Thin & Light Laptop (16GB/512GB SSD/Windows 11/Office 2021/3months Game Pass/Arctic Grey/1.63Kg), 82RK011EIN', 'HP Pavilion X360 11th Gen Intel Core i7 14\" (35.6cm) FHD Multitouch 2in1 Laptop (16Gb Ram/512Gb Ssd/B&O/Win 11 Home/FPR/Backlit Kb/Intel Iris Xe Graphics/Pen/Alexa/Ms Office/Silver/1.52Kg)14-Dy1047Tu', 'HP Laptop 15s, 12th Gen Intel Core i7-1255U, 15.6-inch (39.6 cm), FHD, 16GB DDR4, 512GB SSD, Intel Iris Xe Graphics, Backlit KB, Thin & Light (Win 11, MSO 2021, Silver, 1.69 kg), fq5190TU', 'HP Victus Gaming Laptop, 12th Gen Intel Core i7-12650H, 4GB RTX 3050 GPU, 15.6-inch (39.6 cm), 75W TGP, FHD, IPS, 144Hz, 16GB DDR4, 512GB SSD, Backlit KB, B&O (MSO, Blue, 2.37 kg), fa0188TX', 'HP Pavilion 14 12th Gen Intel Core i7 16GB SDRAM/1TB SSD 14 inch(35.6cm) FHD,IPS,Micro-Edge Display/Intel Iris Xe Graphics/B&O/Win 11/Alexa Built-in/Backlit KB/FPR/MSO 2021/Natural Silver,14-dv2015TU', 'Acer Aspire 5 Gaming Laptop Intel Core i7 13th Gen (Windows 11 Home/16 GB/512 GB SSD/4 GB Graphics/NVIDIA GeForce RTX 2050) A514-56GM, 14.0\" WUXGA Display, 1.56 KG']\n"
     ]
    }
   ],
   "source": [
    "title=driver.find_elements(By.XPATH,'//span[@class=\"a-size-medium a-color-base a-text-normal\"]')\n",
    "for i in title[0:10]:\n",
    "    Title=i.text\n",
    "    Laptop_Title.append(Title)\n",
    "print(Laptop_Title)"
   ]
  },
  {
   "cell_type": "code",
   "execution_count": 184,
   "id": "6d3ed00d",
   "metadata": {},
   "outputs": [
    {
     "name": "stdout",
     "output_type": "stream",
     "text": [
      "['4.3 out of 5 stars', '5.0 out of 5 stars', '4.1 out of 5 stars', '3.9 out of 5 stars', '4.1 out of 5 stars', '3.9 out of 5 stars', '3.3 out of 5 stars', '4.1 out of 5 stars', '4.2 out of 5 stars', '4.0 out of 5 stars']\n"
     ]
    }
   ],
   "source": [
    "Ratings=[]\n",
    "ratings=driver.find_elements(By.XPATH,'//div[@class=\"a-section a-spacing-small a-spacing-top-small\"]/div[2]/div[1]/span[1]')\n",
    "for i in ratings[0:10]:\n",
    "    Ratings.append(i.get_attribute('aria-label'))\n",
    "    \n",
    "print(Ratings)"
   ]
  },
  {
   "cell_type": "code",
   "execution_count": 185,
   "id": "124edd89",
   "metadata": {},
   "outputs": [
    {
     "name": "stdout",
     "output_type": "stream",
     "text": [
      "['69,990', '74,990', '49,990', '50,990', '60,990', '63,490', '67,990', '62,450', '79,990', '77,990']\n"
     ]
    }
   ],
   "source": [
    "price=driver.find_elements(By.XPATH,'//span[@class=\"a-price-whole\"]')\n",
    "for i in price[0:10]:\n",
    "    Title=i.text\n",
    "    Price.append(Title)\n",
    "print(Price)"
   ]
  },
  {
   "cell_type": "code",
   "execution_count": 186,
   "id": "f19c3c92",
   "metadata": {},
   "outputs": [
    {
     "name": "stdout",
     "output_type": "stream",
     "text": [
      "10 10 10\n"
     ]
    }
   ],
   "source": [
    "print(len(Laptop_Title),len(Ratings),len(Price))"
   ]
  },
  {
   "cell_type": "code",
   "execution_count": 187,
   "id": "e23b489b",
   "metadata": {},
   "outputs": [
    {
     "data": {
      "text/html": [
       "<div>\n",
       "<style scoped>\n",
       "    .dataframe tbody tr th:only-of-type {\n",
       "        vertical-align: middle;\n",
       "    }\n",
       "\n",
       "    .dataframe tbody tr th {\n",
       "        vertical-align: top;\n",
       "    }\n",
       "\n",
       "    .dataframe thead th {\n",
       "        text-align: right;\n",
       "    }\n",
       "</style>\n",
       "<table border=\"1\" class=\"dataframe\">\n",
       "  <thead>\n",
       "    <tr style=\"text-align: right;\">\n",
       "      <th></th>\n",
       "      <th>Laptop</th>\n",
       "      <th>Ratings</th>\n",
       "      <th>Price</th>\n",
       "    </tr>\n",
       "  </thead>\n",
       "  <tbody>\n",
       "    <tr>\n",
       "      <th>0</th>\n",
       "      <td>ASUS TUF Gaming F15, 15.6\"(39.62 cms) FHD 144H...</td>\n",
       "      <td>4.3 out of 5 stars</td>\n",
       "      <td>69,990</td>\n",
       "    </tr>\n",
       "    <tr>\n",
       "      <th>1</th>\n",
       "      <td>Acer Travelmate Business Laptop Intel Core i7-...</td>\n",
       "      <td>5.0 out of 5 stars</td>\n",
       "      <td>74,990</td>\n",
       "    </tr>\n",
       "    <tr>\n",
       "      <th>2</th>\n",
       "      <td>MSI Modern 14, Intel 12th Gen. i7-1255U, 36CM ...</td>\n",
       "      <td>4.1 out of 5 stars</td>\n",
       "      <td>49,990</td>\n",
       "    </tr>\n",
       "    <tr>\n",
       "      <th>3</th>\n",
       "      <td>ASUS Vivobook 15, Intel Core i7-12650H 12th Ge...</td>\n",
       "      <td>3.9 out of 5 stars</td>\n",
       "      <td>50,990</td>\n",
       "    </tr>\n",
       "    <tr>\n",
       "      <th>4</th>\n",
       "      <td>Lenovo IdeaPad Slim 3 Intel Core i7 12th Gen 1...</td>\n",
       "      <td>4.1 out of 5 stars</td>\n",
       "      <td>60,990</td>\n",
       "    </tr>\n",
       "    <tr>\n",
       "      <th>5</th>\n",
       "      <td>HP Pavilion X360 11th Gen Intel Core i7 14\" (3...</td>\n",
       "      <td>3.9 out of 5 stars</td>\n",
       "      <td>63,490</td>\n",
       "    </tr>\n",
       "    <tr>\n",
       "      <th>6</th>\n",
       "      <td>HP Laptop 15s, 12th Gen Intel Core i7-1255U, 1...</td>\n",
       "      <td>3.3 out of 5 stars</td>\n",
       "      <td>67,990</td>\n",
       "    </tr>\n",
       "    <tr>\n",
       "      <th>7</th>\n",
       "      <td>HP Victus Gaming Laptop, 12th Gen Intel Core i...</td>\n",
       "      <td>4.1 out of 5 stars</td>\n",
       "      <td>62,450</td>\n",
       "    </tr>\n",
       "    <tr>\n",
       "      <th>8</th>\n",
       "      <td>HP Pavilion 14 12th Gen Intel Core i7 16GB SDR...</td>\n",
       "      <td>4.2 out of 5 stars</td>\n",
       "      <td>79,990</td>\n",
       "    </tr>\n",
       "    <tr>\n",
       "      <th>9</th>\n",
       "      <td>Acer Aspire 5 Gaming Laptop Intel Core i7 13th...</td>\n",
       "      <td>4.0 out of 5 stars</td>\n",
       "      <td>77,990</td>\n",
       "    </tr>\n",
       "  </tbody>\n",
       "</table>\n",
       "</div>"
      ],
      "text/plain": [
       "                                              Laptop             Ratings  \\\n",
       "0  ASUS TUF Gaming F15, 15.6\"(39.62 cms) FHD 144H...  4.3 out of 5 stars   \n",
       "1  Acer Travelmate Business Laptop Intel Core i7-...  5.0 out of 5 stars   \n",
       "2  MSI Modern 14, Intel 12th Gen. i7-1255U, 36CM ...  4.1 out of 5 stars   \n",
       "3  ASUS Vivobook 15, Intel Core i7-12650H 12th Ge...  3.9 out of 5 stars   \n",
       "4  Lenovo IdeaPad Slim 3 Intel Core i7 12th Gen 1...  4.1 out of 5 stars   \n",
       "5  HP Pavilion X360 11th Gen Intel Core i7 14\" (3...  3.9 out of 5 stars   \n",
       "6  HP Laptop 15s, 12th Gen Intel Core i7-1255U, 1...  3.3 out of 5 stars   \n",
       "7  HP Victus Gaming Laptop, 12th Gen Intel Core i...  4.1 out of 5 stars   \n",
       "8  HP Pavilion 14 12th Gen Intel Core i7 16GB SDR...  4.2 out of 5 stars   \n",
       "9  Acer Aspire 5 Gaming Laptop Intel Core i7 13th...  4.0 out of 5 stars   \n",
       "\n",
       "    Price  \n",
       "0  69,990  \n",
       "1  74,990  \n",
       "2  49,990  \n",
       "3  50,990  \n",
       "4  60,990  \n",
       "5  63,490  \n",
       "6  67,990  \n",
       "7  62,450  \n",
       "8  79,990  \n",
       "9  77,990  "
      ]
     },
     "execution_count": 187,
     "metadata": {},
     "output_type": "execute_result"
    }
   ],
   "source": [
    "df=pd.DataFrame({'Laptop':Laptop_Title,'Ratings':Ratings,'Price':Price})\n",
    "df"
   ]
  },
  {
   "cell_type": "code",
   "execution_count": 198,
   "id": "e18d0735",
   "metadata": {},
   "outputs": [],
   "source": [
    "driver=webdriver.Chrome()\n",
    "driver.get(\"https://www.azquotes.com\")"
   ]
  },
  {
   "cell_type": "code",
   "execution_count": 199,
   "id": "2476c04e",
   "metadata": {},
   "outputs": [],
   "source": [
    "Top_Quote=driver.find_element(By.CLASS_NAME,\"active\")\n",
    "Top_Quote.click()"
   ]
  },
  {
   "cell_type": "code",
   "execution_count": 197,
   "id": "2e73675c",
   "metadata": {},
   "outputs": [],
   "source": [
    "Quote=[]\n",
    "Author=[]\n",
    "Type_of_Quote=[]"
   ]
  },
  {
   "cell_type": "code",
   "execution_count": 202,
   "id": "74ecab8c",
   "metadata": {},
   "outputs": [
    {
     "name": "stdout",
     "output_type": "stream",
     "text": [
      "['The essence of strategy is choosing what not to do.', 'One cannot and must not try to erase the past merely because it does not fit the present.', 'Patriotism means to stand by the country. It does not mean to stand by the president.', 'Death is something inevitable. When a man has done what he considers to be his duty to his people and his country, he can rest in peace. I believe I have made that effort and that is, therefore, why I will sleep for the eternity.', 'You have to love a nation that celebrates its independence every July 4, not with a parade of guns, tanks, and soldiers who file by the White House in a show of strength and muscle, but with family picnics where kids throw Frisbees, the potato salad gets iffy, and the flies die from happiness. You may think you have overeaten, but it is patriotism.', 'Be more concerned with your character than your reputation, because your character is what you really are, while your reputation is merely what others think you are.', 'Weak people revenge. Strong people forgive. Intelligent People Ignore.', \"A mind is like a parachute. It doesn't work if it is not open.\", 'Never be afraid to raise your voice for honesty and truth and compassion against injustice and lying and greed. If people all over the world...would do this, it would change the earth.', 'There are three kinds of men. The one that learns by reading. The few who learn by observation. The rest of them have to pee on the electric fence for themselves.', \"A strong nation, like a strong person, can afford to be gentle, firm, thoughtful, and restrained. It can afford to extend a helping hand to others. It's a weak nation, like a weak person, that must behave with bluster and boasting and rashness and other signs of insecurity.\", 'The difference between stupidity and genius is that genius has its limits.', 'We the people are the rightful masters of both Congress and the courts, not to overthrow the Constitution but to overthrow the men who pervert the Constitution.', 'With or without religion, you would have good people doing good things and evil people doing evil things. But for good people to do evil things, that takes religion.', 'Human kindness has never weakened the stamina or softened the fiber of a free people. A nation does not have to be cruel to be tough.', 'A person who never made a mistake never tried anything new.', 'My mission in life is not merely to survive, but to thrive; and to do so with some passion, some compassion, some humor, and some style', 'Life is short, Break the Rules. Forgive quickly, Kiss slowly. Love truly. Laugh uncontrollably And never regret ANYTHING That makes you smile.', 'This country will not be a good place for any of us to live in unless we make it a good place for all of us to live in.', 'In a world filled with hate, we must still dare to hope. In a world filled with anger, we must still dare to comfort. In a world filled with despair, we must still dare to dream. And in a world filled with distrust, we must still dare to believe.', 'Darkness cannot drive out darkness; only light can do that. Hate cannot drive out hate; only love can do that.', 'To be a Christian means to forgive the inexcusable because God has forgiven the inexcusable in you.', 'A man who is good enough to shed his blood for the country is good enough to be given a square deal afterwards.', 'Kindness is the language which the deaf can hear and the blind can see.', 'Most folks are as happy as they make up their minds to be.', 'A happy marriage is the union of two good forgivers.', 'I believe in Christianity as I believe that the sun has risen: not only because I see it, but because by it I see everything else.', 'Politics is the art of looking for trouble, finding it everywhere, diagnosing it incorrectly and applying the wrong remedies.', \"I believe in everything until it's disproved. So I believe in fairies, the myths, dragons. It all exists, even if it's in your mind. Who's to say that dreams and nightmares aren't as real as the here and now?\", 'At the end of your life, you will never regret not having passed one more test, not winning one more verdict or not closing one more deal. You will regret time not spent with a husband, a friend, a child, or a parent.', 'I never think of the future - it comes soon enough.', \"Our greatest fear should not be of failure but of succeeding at things in life that don't really matter.\", 'Failure is simply the opportunity to begin again, this time more intelligently.', 'Music expresses that which cannot be put into words.', 'Good actions are a guard against the blows of adversity.', 'Positive thinking will let you do everything better than negative thinking will.', \"You have enemies? Good. That means you've stood up for something, sometime in your life.\", \"You don't have to be great to start, but you have to start to be great\", 'Let every nation know, whether it wishes us well or ill, that we shall pay any price, bear any burden, meet any hardship, support any friend, oppose any foe to assure the survival and the success of liberty.', \"If you want total security, go to prison. There you're fed, clothed, given medical care and so on. The only thing lacking... is freedom.\", 'Socialism is a philosophy of failure, the creed of ignorance, and the gospel of envy, its inherent virtue is the equal sharing of misery.', 'It is the supreme art of the teacher to awaken joy in creative expression and knowledge.', \"Once you replace negative thoughts with positive ones, you'll start having positive results.\", \"You build on failure. You use it as a stepping stone. Close the door on the past. You don't try to forget the mistakes, but you don't dwell on it. You don't let it have any of your energy, or any of your time, or any of your space.\", 'All my life through, the new sights of Nature made me rejoice like a child.', \"I've learned that people will forget what you said, people will forget what you did, but people will never forget how you made them feel.\", 'Marriage is not a ritual or an end. It is a long, intricate, intimate dance together and nothing matters more than your own sense of balance and your choice of partner.', 'When obstacles arise, you change your direction to reach your goal; you do not change your decision to get there.', 'Time you enjoy wasting, was not wasted.', 'The next time some academics tell you how important diversity is, ask how many Republicans there are in their sociology department.', 'Faith is not the belief that God will do what you want. It is the belief that God will do what is right.', \"If you can't fly then run, if you can't run then walk, if you can't walk then crawl, but whatever you do you have to keep moving forward.\", 'It is hard to imagine a more stupid or more dangerous way of making decisions than by putting those decisions in the hands of people who pay no price for being wrong.', 'I say that the most liberating thing about beauty is realizing that you are the beholder.', 'The ultimate measure of a man is not where he stands in moments of comfort and convenience, but where he stands at times of challenge and controversy.', 'The soldier, above all other people, prays for peace, for he must suffer and bear the deepest wounds and scars of war.', 'A true leader has the confidence to stand alone, the courage to make tough decisions, and the compassion to listen to the needs of others. He does not set out to be a leader, but becomes one by the equality of his actions and the integrity of his intent.', 'I am a Soldier, I fight where I am told, and I win where I fight.', \"Trying to do the Lord's work in your own strength is the most confusing, exhausting, and tedious of all work. But when you are filled with the Holy Spirit, then the ministry of Jesus just flows out of you.\", \"Sports for me is when a guy walks off the court, and you really can't tell whether he won or lost, when he carries himself with pride either way.\", 'Expect the best. Prepare for the worst. Capitalize on what comes.', 'I became insane, with long intervals of horrible sanity.', 'Failure is a detour, not a dead-end street.', 'I am not a product of my circumstances. I am a product of my decisions.', 'You can cut all the flowers but you cannot keep spring from coming.', \"Life doesn't run away from nobody. Life runs at people.\", 'In order to succeed, your desire for success should be greater than your fear of failure.', \"It's difficult to think anything but pleasant thoughts while eating a homegrown tomato.\", 'Too many of us are not living our dreams because we are living our fears.', 'If the only prayer you ever say in your entire life is thank you, it will be enough.', \"It's just a job. Grass grows, birds fly, waves pound the sand. I beat people up.\", 'A man must be big enough to admit his mistakes, smart enough to profit from them, and strong enough to correct them.', 'Our greatest weakness lies in giving up. The most certain way to succeed is always to try just one more time.', \"It has been said, 'time heals all wounds.' I do not agree. The wounds remain. In time, the mind, protecting its sanity, covers them with scar tissue and the pain lessens. But it is never gone.\", 'This is one small step for a man, one giant leap for mankind.', \"I have held many things in my hands, and I have lost them all; but whatever I have placed in God's hands, that I still possess.\", \"Welfare's purpose should be to eliminate, as far as possible, the need for its own existence.\", 'Each time, before you intercede, be quiet first, and worship God in His glory. Think of what He can do, and how He delights to hear the prayers of His redeemed people. Think of your place and privilege in Christ, and expect great things!', \"Failure is not the opposite of success; it's part of success.\", 'No one has ever become poor by giving.', 'It is not my ability, but my response to God’s ability, that counts.', 'No one is born hating another person because of the color of his skin, or his background, or his religion. People must learn to hate, and if they can learn to hate, they can be taught to love, for love comes more naturally to the human heart than its opposite.', 'No matter what people tell you, words and ideas can change the world.', 'A man should never neglect his family for business.', 'Those who dare to fail miserably can achieve greatly.', 'The two most important days in your life are the day you are born and the day you find out why.', 'We must be global Christians with a global vision because our God is a global God.', 'With everything that has happened to you, you can either feel sorry for yourself or treat what has happened as a gift. Everything is either an opportunity to grow or an obstacle to keep you from growing. You get to choose.', 'Don’t let the noise of others’ opinions drown out your own inner voice.', 'History, despite its wrenching pain, cannot be unlived, but if faced with courage, need not be lived again.', \"How old would you be if you didn't know how old you are?\", 'Leadership is a privilege to better the lives of others. It is not an opportunity to satisfy personal greed.', 'If you have good thoughts they will shine out of your face like sunbeams and you will always look lovely.', 'Never cut a tree down in the wintertime. Never make a negative decision in the low time. Never make your most important decisions when you are in your worst moods. Wait. Be patient. The storm will pass. The spring will come.', 'An optimist stays up until midnight to see the new year in. A pessimist stays up to make sure the old year leaves.', 'When the going gets weird, the weird turn pro.', \"When a train goes through a tunnel and it gets dark, you don't throw away the ticket and jump off. You sit still and trust the engineer.\", 'If you think you are too small to make a difference, try sleeping with a mosquito.', \"God doesn't require us to succeed, he only requires that you try.\", 'Change your thoughts and you change your world.', 'The essence of strategy is choosing what not to do.', 'One cannot and must not try to erase the past merely because it does not fit the present.', 'Patriotism means to stand by the country. It does not mean to stand by the president.', 'Death is something inevitable. When a man has done what he considers to be his duty to his people and his country, he can rest in peace. I believe I have made that effort and that is, therefore, why I will sleep for the eternity.', 'You have to love a nation that celebrates its independence every July 4, not with a parade of guns, tanks, and soldiers who file by the White House in a show of strength and muscle, but with family picnics where kids throw Frisbees, the potato salad gets iffy, and the flies die from happiness. You may think you have overeaten, but it is patriotism.', 'Be more concerned with your character than your reputation, because your character is what you really are, while your reputation is merely what others think you are.', 'Weak people revenge. Strong people forgive. Intelligent People Ignore.', \"A mind is like a parachute. It doesn't work if it is not open.\", 'Never be afraid to raise your voice for honesty and truth and compassion against injustice and lying and greed. If people all over the world...would do this, it would change the earth.', 'There are three kinds of men. The one that learns by reading. The few who learn by observation. The rest of them have to pee on the electric fence for themselves.', \"A strong nation, like a strong person, can afford to be gentle, firm, thoughtful, and restrained. It can afford to extend a helping hand to others. It's a weak nation, like a weak person, that must behave with bluster and boasting and rashness and other signs of insecurity.\", 'The difference between stupidity and genius is that genius has its limits.', 'We the people are the rightful masters of both Congress and the courts, not to overthrow the Constitution but to overthrow the men who pervert the Constitution.', 'With or without religion, you would have good people doing good things and evil people doing evil things. But for good people to do evil things, that takes religion.', 'Human kindness has never weakened the stamina or softened the fiber of a free people. A nation does not have to be cruel to be tough.', 'A person who never made a mistake never tried anything new.', 'My mission in life is not merely to survive, but to thrive; and to do so with some passion, some compassion, some humor, and some style', 'Life is short, Break the Rules. Forgive quickly, Kiss slowly. Love truly. Laugh uncontrollably And never regret ANYTHING That makes you smile.', 'This country will not be a good place for any of us to live in unless we make it a good place for all of us to live in.', 'In a world filled with hate, we must still dare to hope. In a world filled with anger, we must still dare to comfort. In a world filled with despair, we must still dare to dream. And in a world filled with distrust, we must still dare to believe.', 'Darkness cannot drive out darkness; only light can do that. Hate cannot drive out hate; only love can do that.', 'To be a Christian means to forgive the inexcusable because God has forgiven the inexcusable in you.', 'A man who is good enough to shed his blood for the country is good enough to be given a square deal afterwards.', 'Kindness is the language which the deaf can hear and the blind can see.', 'Most folks are as happy as they make up their minds to be.', 'A happy marriage is the union of two good forgivers.', 'I believe in Christianity as I believe that the sun has risen: not only because I see it, but because by it I see everything else.', 'Politics is the art of looking for trouble, finding it everywhere, diagnosing it incorrectly and applying the wrong remedies.', \"I believe in everything until it's disproved. So I believe in fairies, the myths, dragons. It all exists, even if it's in your mind. Who's to say that dreams and nightmares aren't as real as the here and now?\", 'At the end of your life, you will never regret not having passed one more test, not winning one more verdict or not closing one more deal. You will regret time not spent with a husband, a friend, a child, or a parent.', 'I never think of the future - it comes soon enough.', \"Our greatest fear should not be of failure but of succeeding at things in life that don't really matter.\", 'Failure is simply the opportunity to begin again, this time more intelligently.', 'Music expresses that which cannot be put into words.', 'Good actions are a guard against the blows of adversity.', 'Positive thinking will let you do everything better than negative thinking will.', \"You have enemies? Good. That means you've stood up for something, sometime in your life.\", \"You don't have to be great to start, but you have to start to be great\", 'Let every nation know, whether it wishes us well or ill, that we shall pay any price, bear any burden, meet any hardship, support any friend, oppose any foe to assure the survival and the success of liberty.', \"If you want total security, go to prison. There you're fed, clothed, given medical care and so on. The only thing lacking... is freedom.\", 'Socialism is a philosophy of failure, the creed of ignorance, and the gospel of envy, its inherent virtue is the equal sharing of misery.', 'It is the supreme art of the teacher to awaken joy in creative expression and knowledge.', \"Once you replace negative thoughts with positive ones, you'll start having positive results.\", \"You build on failure. You use it as a stepping stone. Close the door on the past. You don't try to forget the mistakes, but you don't dwell on it. You don't let it have any of your energy, or any of your time, or any of your space.\", 'All my life through, the new sights of Nature made me rejoice like a child.', \"I've learned that people will forget what you said, people will forget what you did, but people will never forget how you made them feel.\", 'Marriage is not a ritual or an end. It is a long, intricate, intimate dance together and nothing matters more than your own sense of balance and your choice of partner.', 'When obstacles arise, you change your direction to reach your goal; you do not change your decision to get there.', 'Time you enjoy wasting, was not wasted.', 'The next time some academics tell you how important diversity is, ask how many Republicans there are in their sociology department.', 'Faith is not the belief that God will do what you want. It is the belief that God will do what is right.', \"If you can't fly then run, if you can't run then walk, if you can't walk then crawl, but whatever you do you have to keep moving forward.\", 'It is hard to imagine a more stupid or more dangerous way of making decisions than by putting those decisions in the hands of people who pay no price for being wrong.', 'I say that the most liberating thing about beauty is realizing that you are the beholder.', 'The ultimate measure of a man is not where he stands in moments of comfort and convenience, but where he stands at times of challenge and controversy.', 'The soldier, above all other people, prays for peace, for he must suffer and bear the deepest wounds and scars of war.', 'A true leader has the confidence to stand alone, the courage to make tough decisions, and the compassion to listen to the needs of others. He does not set out to be a leader, but becomes one by the equality of his actions and the integrity of his intent.', 'I am a Soldier, I fight where I am told, and I win where I fight.', \"Trying to do the Lord's work in your own strength is the most confusing, exhausting, and tedious of all work. But when you are filled with the Holy Spirit, then the ministry of Jesus just flows out of you.\", \"Sports for me is when a guy walks off the court, and you really can't tell whether he won or lost, when he carries himself with pride either way.\", 'Expect the best. Prepare for the worst. Capitalize on what comes.', 'I became insane, with long intervals of horrible sanity.', 'Failure is a detour, not a dead-end street.', 'I am not a product of my circumstances. I am a product of my decisions.', 'You can cut all the flowers but you cannot keep spring from coming.', \"Life doesn't run away from nobody. Life runs at people.\", 'In order to succeed, your desire for success should be greater than your fear of failure.', \"It's difficult to think anything but pleasant thoughts while eating a homegrown tomato.\", 'Too many of us are not living our dreams because we are living our fears.', 'If the only prayer you ever say in your entire life is thank you, it will be enough.', \"It's just a job. Grass grows, birds fly, waves pound the sand. I beat people up.\", 'A man must be big enough to admit his mistakes, smart enough to profit from them, and strong enough to correct them.', 'Our greatest weakness lies in giving up. The most certain way to succeed is always to try just one more time.', \"It has been said, 'time heals all wounds.' I do not agree. The wounds remain. In time, the mind, protecting its sanity, covers them with scar tissue and the pain lessens. But it is never gone.\", 'This is one small step for a man, one giant leap for mankind.', \"I have held many things in my hands, and I have lost them all; but whatever I have placed in God's hands, that I still possess.\", \"Welfare's purpose should be to eliminate, as far as possible, the need for its own existence.\", 'Each time, before you intercede, be quiet first, and worship God in His glory. Think of what He can do, and how He delights to hear the prayers of His redeemed people. Think of your place and privilege in Christ, and expect great things!', \"Failure is not the opposite of success; it's part of success.\", 'No one has ever become poor by giving.', 'It is not my ability, but my response to God’s ability, that counts.', 'No one is born hating another person because of the color of his skin, or his background, or his religion. People must learn to hate, and if they can learn to hate, they can be taught to love, for love comes more naturally to the human heart than its opposite.', 'No matter what people tell you, words and ideas can change the world.', 'A man should never neglect his family for business.', 'Those who dare to fail miserably can achieve greatly.', 'The two most important days in your life are the day you are born and the day you find out why.', 'We must be global Christians with a global vision because our God is a global God.', 'With everything that has happened to you, you can either feel sorry for yourself or treat what has happened as a gift. Everything is either an opportunity to grow or an obstacle to keep you from growing. You get to choose.', 'Don’t let the noise of others’ opinions drown out your own inner voice.', 'History, despite its wrenching pain, cannot be unlived, but if faced with courage, need not be lived again.', \"How old would you be if you didn't know how old you are?\", 'Leadership is a privilege to better the lives of others. It is not an opportunity to satisfy personal greed.', 'If you have good thoughts they will shine out of your face like sunbeams and you will always look lovely.', 'Never cut a tree down in the wintertime. Never make a negative decision in the low time. Never make your most important decisions when you are in your worst moods. Wait. Be patient. The storm will pass. The spring will come.', 'An optimist stays up until midnight to see the new year in. A pessimist stays up to make sure the old year leaves.', 'When the going gets weird, the weird turn pro.', \"When a train goes through a tunnel and it gets dark, you don't throw away the ticket and jump off. You sit still and trust the engineer.\", 'If you think you are too small to make a difference, try sleeping with a mosquito.', \"God doesn't require us to succeed, he only requires that you try.\", 'Change your thoughts and you change your world.']\n"
     ]
    },
    {
     "data": {
      "text/plain": [
       "200"
      ]
     },
     "execution_count": 202,
     "metadata": {},
     "output_type": "execute_result"
    }
   ],
   "source": [
    "quote=driver.find_elements(By.XPATH,'//a[@class=\"title\"]')\n",
    "for i in quote:\n",
    "    Title=i.text\n",
    "    Quote.append(Title)\n",
    "print(Quote)\n",
    "len(Quote)"
   ]
  },
  {
   "cell_type": "code",
   "execution_count": 203,
   "id": "4d3ca57a",
   "metadata": {},
   "outputs": [
    {
     "name": "stdout",
     "output_type": "stream",
     "text": [
      "['Michael Porter', 'Golda Meir', 'Theodore Roosevelt', 'Nelson Mandela', 'Erma Bombeck', 'John Wooden', 'Albert Einstein', 'Frank Zappa', 'William Faulkner', 'Will Rogers', 'Jimmy Carter', 'Albert Einstein', 'Abraham Lincoln', 'Steven Weinberg', 'Franklin D. Roosevelt', 'Albert Einstein', 'Maya Angelou', 'Mark Twain', 'Theodore Roosevelt', 'Michael Jackson', 'Martin Luther King, Jr.', 'C. S. Lewis', 'Theodore Roosevelt', 'Mark Twain', 'Abraham Lincoln', 'Ruth Graham', 'C. S. Lewis', 'Groucho Marx', 'John Lennon', 'Barbara Bush', 'Albert Einstein', 'Francis Chan', 'Henry Ford', 'Victor Hugo', 'Abu Bakr', 'Zig Ziglar', 'Winston Churchill', 'Zig Ziglar', 'John F. Kennedy', 'Dwight D. Eisenhower', 'Winston Churchill', 'Albert Einstein', 'Willie Nelson', 'Johnny Cash', 'Marie Curie', 'Maya Angelou', 'Amy Bloom', 'Zig Ziglar', 'John Lennon', 'Thomas Sowell', 'Max Lucado', 'Martin Luther King, Jr.', 'Thomas Sowell', 'Salma Hayek', 'Martin Luther King, Jr.', 'Douglas MacArthur', 'Douglas MacArthur', 'George S. Patton', 'Corrie Ten Boom', 'Jim Courier', 'Zig Ziglar', 'Edgar Allan Poe', 'Zig Ziglar', 'Stephen Covey', 'Pablo Neruda', 'Joe Frazier', 'Bill Cosby', 'Lewis Grizzard', 'Les Brown', 'Meister Eckhart', 'Muhammad Ali', 'John C. Maxwell', 'Thomas A. Edison', 'Rose Kennedy', 'Neil Armstrong', 'Martin Luther', 'Ronald Reagan', 'Andrew Murray', 'Arianna Huffington', 'Anne Frank', 'Corrie Ten Boom', 'Nelson Mandela', 'Robin Williams', 'Walt Disney', 'John F. Kennedy', 'Mark Twain', 'John Stott', 'Wayne Dyer', 'Steve Jobs', 'Maya Angelou', 'Satchel Paige', 'Mwai Kibaki', 'Roald Dahl', 'Robert H. Schuller', 'Bill Vaughan', 'Hunter S. Thompson', 'Corrie Ten Boom', 'Dalai Lama', 'Mother Teresa', 'Norman Vincent Peale', 'Michael Porter', 'Golda Meir', 'Theodore Roosevelt', 'Nelson Mandela', 'Erma Bombeck', 'John Wooden', 'Albert Einstein', 'Frank Zappa', 'William Faulkner', 'Will Rogers', 'Jimmy Carter', 'Albert Einstein', 'Abraham Lincoln', 'Steven Weinberg', 'Franklin D. Roosevelt', 'Albert Einstein', 'Maya Angelou', 'Mark Twain', 'Theodore Roosevelt', 'Michael Jackson', 'Martin Luther King, Jr.', 'C. S. Lewis', 'Theodore Roosevelt', 'Mark Twain', 'Abraham Lincoln', 'Ruth Graham', 'C. S. Lewis', 'Groucho Marx', 'John Lennon', 'Barbara Bush', 'Albert Einstein', 'Francis Chan', 'Henry Ford', 'Victor Hugo', 'Abu Bakr', 'Zig Ziglar', 'Winston Churchill', 'Zig Ziglar', 'John F. Kennedy', 'Dwight D. Eisenhower', 'Winston Churchill', 'Albert Einstein', 'Willie Nelson', 'Johnny Cash', 'Marie Curie', 'Maya Angelou', 'Amy Bloom', 'Zig Ziglar', 'John Lennon', 'Thomas Sowell', 'Max Lucado', 'Martin Luther King, Jr.', 'Thomas Sowell', 'Salma Hayek', 'Martin Luther King, Jr.', 'Douglas MacArthur', 'Douglas MacArthur', 'George S. Patton', 'Corrie Ten Boom', 'Jim Courier', 'Zig Ziglar', 'Edgar Allan Poe', 'Zig Ziglar', 'Stephen Covey', 'Pablo Neruda', 'Joe Frazier', 'Bill Cosby', 'Lewis Grizzard', 'Les Brown', 'Meister Eckhart', 'Muhammad Ali', 'John C. Maxwell', 'Thomas A. Edison', 'Rose Kennedy', 'Neil Armstrong', 'Martin Luther', 'Ronald Reagan', 'Andrew Murray', 'Arianna Huffington', 'Anne Frank', 'Corrie Ten Boom', 'Nelson Mandela', 'Robin Williams', 'Walt Disney', 'John F. Kennedy', 'Mark Twain', 'John Stott', 'Wayne Dyer', 'Steve Jobs', 'Maya Angelou', 'Satchel Paige', 'Mwai Kibaki', 'Roald Dahl', 'Robert H. Schuller', 'Bill Vaughan', 'Hunter S. Thompson', 'Corrie Ten Boom', 'Dalai Lama', 'Mother Teresa', 'Norman Vincent Peale']\n"
     ]
    },
    {
     "data": {
      "text/plain": [
       "200"
      ]
     },
     "execution_count": 203,
     "metadata": {},
     "output_type": "execute_result"
    }
   ],
   "source": [
    "author=driver.find_elements(By.XPATH,'//div[@class=\"author\"]')\n",
    "for i in author:\n",
    "    Title=i.text\n",
    "    Author.append(Title)\n",
    "print(Author)\n",
    "len(Author)"
   ]
  },
  {
   "cell_type": "code",
   "execution_count": 204,
   "id": "de5c03ab",
   "metadata": {},
   "outputs": [
    {
     "name": "stdout",
     "output_type": "stream",
     "text": [
      "['Essence, Deep Thought, Transcendentalism', 'Inspiration, Past, Trying', 'Country, Peace, War', 'Inspirational, Motivational, Death', '4th Of July, Food, Patriotic', 'Inspirational, Success, Basketball', 'Strong, Revenge, Intelligent', 'Inspirational, Teacher, Religious', 'Truth, Honesty, Lying', 'Funny, Reading, Learning', 'Strong, Thoughtful, Compassion', 'Love, Funny, Life', 'Freedom, Men, Democracies Have', 'God, Religious, Atheist', 'Respect, Kindness, Character', 'Inspirational, Motivational, Change', 'Inspirational, Life, Inspiring', 'Love, Inspirational, Life', 'Inspiring, Country, 4th Of July', 'Inspirational, Dream, Hate', 'Love, Inspirational, Life', 'Forgiveness, God, Christian', 'Country, Men, Squares', 'Inspirational, Relationship, Positive', 'Inspirational, Motivational, Positive', 'Love, Friendship, Relationship', 'Faith, God, Christian', 'Art, Freedom, Political Will', 'Inspirational, Life, Faith', 'Inspirational, Life, Meaningful', 'Happiness, Time, Clever', 'Inspirational, Inspiring, Success', 'Love, Inspirational, Life', 'Music, Sound And Music, Musical Life', 'Adversity, Blow, Action', 'Positive, Thinking Of You, Attitude', 'Inspirational, Funny, Life', 'Inspirational, Life, Motivational', 'Inspirational, Memorial Day, Freedom', 'Freedom, Patriotic, Vaccines', 'Philosophy, Ignorance, Democratic Socialism', 'Inspirational, Dance, Education', 'Life, Change, Positive', 'Life, Bullying, Mistake', 'Life, Nature, Children', 'Inspirational, Life, Motivational', 'Marriage, Love You, Long', 'Inspirational, Motivational, Success', 'Love, Inspirational, Life', 'Diversity, Important, Liberty', 'Inspirational, God, Faith', 'Inspirational, Motivational, Inspiring', 'Business, Stupid, Government', 'Beauty, Love Yourself, Your Beautiful', 'Inspirational, Life, Motivational', 'Peace, Military, War', 'Inspirational, Leadership, Confidence', 'Motivational, Military, War', 'Christian, Jesus, Confusing', 'Inspirational, Success, Sports', 'Inspirational, Motivational, Success', 'Inspirational, Life, Clever', 'Inspirational, Death, Failure', 'Inspirational, Life, Motivational', 'Inspiring, Hope, Spring', 'Motivational, Running, People', 'Inspirational, Motivational, Positive', 'Summer, Food, Garden', 'Inspirational, Life, Motivational', 'Inspirational, Life, Thank You', 'Funny, Sports, Jobs', 'Being Strong, Wisdom, Stay Strong', 'Inspirational, Motivational, Positive', 'Time, Pain, Get Well', 'Motivational, Positive, Moon', 'Life, God, Christian', 'President, Needs, Purpose', 'God, Faith, Christian', 'Women, Failure, Successful', 'Inspirational, Morning, Kindness', 'Hiding Place, Ability, Baby Boom', 'Love, Inspirational, Life', 'Inspirational, Change, Philosophy', 'Inspirational, Family, Inspiring', 'Inspirational, Success, Courage', 'Inspirational, Life, Motivational', 'Christian, Vision, Missionary', 'Inspirational, Positive, Regret', 'Love, Inspirational, Life', 'Inspirational, Life, Encouragement', 'Happy Birthday, Baseball, Fun', 'Leadership, Power, Opportunity', 'Inspirational, Life, Positive', 'Inspirational, Encouraging, Patience', 'New Year, Fun, New Beginnings', 'Music, Sports, Hunting', 'Trust, Encouraging, Uplifting', 'Inspirational, Funny, Change', 'Success, God, Mother', 'Inspirational, Motivational, Change']\n"
     ]
    },
    {
     "data": {
      "text/plain": [
       "100"
      ]
     },
     "execution_count": 204,
     "metadata": {},
     "output_type": "execute_result"
    }
   ],
   "source": [
    "quote_type=driver.find_elements(By.XPATH,'//div[@class=\"tags\"]')\n",
    "for i in quote_type:\n",
    "    Title=i.text\n",
    "    Type_of_Quote.append(Title)\n",
    "print(Type_of_Quote)\n",
    "len(Type_of_Quote)"
   ]
  },
  {
   "cell_type": "code",
   "execution_count": 210,
   "id": "ae83fe69",
   "metadata": {},
   "outputs": [
    {
     "ename": "IndexError",
     "evalue": "list index out of range",
     "output_type": "error",
     "traceback": [
      "\u001b[1;31m---------------------------------------------------------------------------\u001b[0m",
      "\u001b[1;31mIndexError\u001b[0m                                Traceback (most recent call last)",
      "Cell \u001b[1;32mIn[210], line 30\u001b[0m\n\u001b[0;32m     28\u001b[0m     next_button[\u001b[38;5;241m1\u001b[39m]\u001b[38;5;241m.\u001b[39mclick()\n\u001b[0;32m     29\u001b[0m \u001b[38;5;28;01melse\u001b[39;00m:\n\u001b[1;32m---> 30\u001b[0m     next_button[\u001b[38;5;241m0\u001b[39m]\u001b[38;5;241m.\u001b[39mclick()\n\u001b[0;32m     33\u001b[0m time\u001b[38;5;241m.\u001b[39msleep(\u001b[38;5;241m10\u001b[39m)\n",
      "\u001b[1;31mIndexError\u001b[0m: list index out of range"
     ]
    }
   ],
   "source": [
    "start=0\n",
    "end=10\n",
    "\n",
    "Quote=[]\n",
    "Author=[]\n",
    "Type_of_Quote=[]\n",
    "\n",
    "for page in range(start,end):\n",
    "\n",
    "    quote=driver.find_elements(By.XPATH,'//a[@class=\"title\"]')\n",
    "    for i in quote:\n",
    "        Title=i.text\n",
    "        Quote.append(Title)\n",
    "    \n",
    "    \n",
    "    author=driver.find_elements(By.XPATH,'//div[@class=\"author\"]')\n",
    "    for i in author:\n",
    "        Title=i.text\n",
    "        Author.append(Title)\n",
    "    \n",
    "    quote_type=driver.find_elements(By.XPATH,'//div[@class=\"tags\"]')\n",
    "    for i in quote_type:\n",
    "        Title=i.text\n",
    "        Type_of_Quote.append(Title)\n",
    "    \n",
    "    next_button= driver.find_elements(By.XPATH,'//li[@class=\"next\"]')\n",
    "    if len(next_button)>1 :\n",
    "        next_button[1].click()\n",
    "    else:\n",
    "        next_button[0].click()\n",
    "    \n",
    "    \n",
    "    time.sleep(10)"
   ]
  },
  {
   "cell_type": "code",
   "execution_count": 211,
   "id": "9fa7baa7",
   "metadata": {},
   "outputs": [
    {
     "name": "stdout",
     "output_type": "stream",
     "text": [
      "1000 1000 1000\n"
     ]
    }
   ],
   "source": [
    "print(len(Quote),len(Author),len(Type_of_Quote))"
   ]
  },
  {
   "cell_type": "code",
   "execution_count": 212,
   "id": "8f2971e1",
   "metadata": {},
   "outputs": [
    {
     "data": {
      "text/html": [
       "<div>\n",
       "<style scoped>\n",
       "    .dataframe tbody tr th:only-of-type {\n",
       "        vertical-align: middle;\n",
       "    }\n",
       "\n",
       "    .dataframe tbody tr th {\n",
       "        vertical-align: top;\n",
       "    }\n",
       "\n",
       "    .dataframe thead th {\n",
       "        text-align: right;\n",
       "    }\n",
       "</style>\n",
       "<table border=\"1\" class=\"dataframe\">\n",
       "  <thead>\n",
       "    <tr style=\"text-align: right;\">\n",
       "      <th></th>\n",
       "      <th>Quote</th>\n",
       "      <th>Author</th>\n",
       "      <th>Type_of_Quote</th>\n",
       "    </tr>\n",
       "  </thead>\n",
       "  <tbody>\n",
       "    <tr>\n",
       "      <th>0</th>\n",
       "      <td>The essence of strategy is choosing what not t...</td>\n",
       "      <td>Michael Porter</td>\n",
       "      <td>Essence, Deep Thought, Transcendentalism</td>\n",
       "    </tr>\n",
       "    <tr>\n",
       "      <th>1</th>\n",
       "      <td>One cannot and must not try to erase the past ...</td>\n",
       "      <td>Golda Meir</td>\n",
       "      <td>Inspiration, Past, Trying</td>\n",
       "    </tr>\n",
       "    <tr>\n",
       "      <th>2</th>\n",
       "      <td>Patriotism means to stand by the country. It d...</td>\n",
       "      <td>Theodore Roosevelt</td>\n",
       "      <td>Country, Peace, War</td>\n",
       "    </tr>\n",
       "    <tr>\n",
       "      <th>3</th>\n",
       "      <td>Death is something inevitable. When a man has ...</td>\n",
       "      <td>Nelson Mandela</td>\n",
       "      <td>Inspirational, Motivational, Death</td>\n",
       "    </tr>\n",
       "    <tr>\n",
       "      <th>4</th>\n",
       "      <td>You have to love a nation that celebrates its ...</td>\n",
       "      <td>Erma Bombeck</td>\n",
       "      <td>4th Of July, Food, Patriotic</td>\n",
       "    </tr>\n",
       "    <tr>\n",
       "      <th>...</th>\n",
       "      <td>...</td>\n",
       "      <td>...</td>\n",
       "      <td>...</td>\n",
       "    </tr>\n",
       "    <tr>\n",
       "      <th>995</th>\n",
       "      <td>Regret for the things we did can be tempered b...</td>\n",
       "      <td>Sydney J. Harris</td>\n",
       "      <td>Love, Inspirational, Motivational</td>\n",
       "    </tr>\n",
       "    <tr>\n",
       "      <th>996</th>\n",
       "      <td>America... just a nation of two hundred millio...</td>\n",
       "      <td>Hunter S. Thompson</td>\n",
       "      <td>Gun, Two, Qualms About</td>\n",
       "    </tr>\n",
       "    <tr>\n",
       "      <th>997</th>\n",
       "      <td>For every disciplined effort there is a multip...</td>\n",
       "      <td>Jim Rohn</td>\n",
       "      <td>Inspirational, Greatness, Best Effort</td>\n",
       "    </tr>\n",
       "    <tr>\n",
       "      <th>998</th>\n",
       "      <td>The spiritual journey is individual, highly pe...</td>\n",
       "      <td>Ram Dass</td>\n",
       "      <td>Spiritual, Truth, Yoga</td>\n",
       "    </tr>\n",
       "    <tr>\n",
       "      <th>999</th>\n",
       "      <td>The mind is not a vessel to be filled but a fi...</td>\n",
       "      <td>Plutarch</td>\n",
       "      <td>Inspirational, Leadership, Education</td>\n",
       "    </tr>\n",
       "  </tbody>\n",
       "</table>\n",
       "<p>1000 rows × 3 columns</p>\n",
       "</div>"
      ],
      "text/plain": [
       "                                                 Quote              Author  \\\n",
       "0    The essence of strategy is choosing what not t...      Michael Porter   \n",
       "1    One cannot and must not try to erase the past ...          Golda Meir   \n",
       "2    Patriotism means to stand by the country. It d...  Theodore Roosevelt   \n",
       "3    Death is something inevitable. When a man has ...      Nelson Mandela   \n",
       "4    You have to love a nation that celebrates its ...        Erma Bombeck   \n",
       "..                                                 ...                 ...   \n",
       "995  Regret for the things we did can be tempered b...    Sydney J. Harris   \n",
       "996  America... just a nation of two hundred millio...  Hunter S. Thompson   \n",
       "997  For every disciplined effort there is a multip...            Jim Rohn   \n",
       "998  The spiritual journey is individual, highly pe...            Ram Dass   \n",
       "999  The mind is not a vessel to be filled but a fi...            Plutarch   \n",
       "\n",
       "                                Type_of_Quote  \n",
       "0    Essence, Deep Thought, Transcendentalism  \n",
       "1                   Inspiration, Past, Trying  \n",
       "2                         Country, Peace, War  \n",
       "3          Inspirational, Motivational, Death  \n",
       "4                4th Of July, Food, Patriotic  \n",
       "..                                        ...  \n",
       "995         Love, Inspirational, Motivational  \n",
       "996                    Gun, Two, Qualms About  \n",
       "997     Inspirational, Greatness, Best Effort  \n",
       "998                    Spiritual, Truth, Yoga  \n",
       "999      Inspirational, Leadership, Education  \n",
       "\n",
       "[1000 rows x 3 columns]"
      ]
     },
     "execution_count": 212,
     "metadata": {},
     "output_type": "execute_result"
    }
   ],
   "source": [
    "df=pd.DataFrame({'Quote':Quote,'Author':Author,'Type_of_Quote':Type_of_Quote})\n",
    "df"
   ]
  },
  {
   "cell_type": "code",
   "execution_count": 294,
   "id": "29cc810a",
   "metadata": {},
   "outputs": [],
   "source": [
    "driver=webdriver.Chrome()\n",
    "driver.get(\"https://www.motor1.com/\")"
   ]
  },
  {
   "cell_type": "code",
   "execution_count": 295,
   "id": "27f705a6",
   "metadata": {},
   "outputs": [],
   "source": [
    "Search_Product=driver.find_element(By.ID,\"search_input\" )\n",
    "Search_Product.send_keys('’50 most expensive cars’')\n"
   ]
  },
  {
   "cell_type": "code",
   "execution_count": 296,
   "id": "4f02e248",
   "metadata": {},
   "outputs": [],
   "source": [
    "search=driver.find_element(By.XPATH,\"/html/body/div[9]/div[2]/div/div/div[3]/div/div/div/form/button[1]\" )\n",
    "search.click()"
   ]
  },
  {
   "cell_type": "code",
   "execution_count": 297,
   "id": "9ad98dde",
   "metadata": {},
   "outputs": [],
   "source": [
    "search_result_link = driver.find_element(By.XPATH,\"/html/body/div[9]/div[9]/div/div[1]/div/div/div[1]/div/div[1]/h3/a\")\n",
    "search_result_link.click()"
   ]
  },
  {
   "cell_type": "code",
   "execution_count": 329,
   "id": "7c2c26cc",
   "metadata": {},
   "outputs": [],
   "source": [
    "Car_Name=[]\n",
    "Car_Price=[]"
   ]
  },
  {
   "cell_type": "code",
   "execution_count": 330,
   "id": "6f3584d4",
   "metadata": {},
   "outputs": [
    {
     "name": "stdout",
     "output_type": "stream",
     "text": [
      "['Aston Martin Valour', 'McLaren Elva', 'Czinger 21C', 'Ferrari Monza', 'Gordon Murray T.33', 'Koenigsegg Gemera', 'Zenvo TSR-S', 'Hennessey Venom F5', 'Bentley Bacalar', 'Hispano Suiza Carmen Boulogne', 'Bentley Mulliner Batur', 'Deus Vayanne', 'SSC Tuatara', 'Lotus Evija', 'Aston Martin Vulcan', 'Delage D12', 'Ferrari Daytona SP3', 'McLaren Speedtail', 'Rimac Nevera', 'Pagani Utopia', 'Pininfarina Battista', 'Gordon Murray T.50', 'Lamborghini Countach', 'Mercedes-AMG Project One', 'Zenvo Aurora', 'Aston Martin Victor', 'Hennessey Venom F5 Roadster', 'Koenigsegg Jesko', 'Aston Martin Valkyrie', 'W Motors Lykan Hypersport', 'McLaren Solus', 'Lamborghini Sian', 'Koenigsegg CC850', 'Bugatti Chiron Super Sport 300+', 'Lamborghini Veneno', 'Bugatti Bolide', 'Pininfarina B95 Speedster', 'Bugatti Mistral', 'Pagani Huayra Imola', 'Bugatti Divo', 'SP Automotive Chaos', 'Pagani Codalunga', '777 Hypercar', 'Mercedes-Maybach Exelero', 'Bugatti Centodieci', 'Bugatti Chiron Profilée', 'Rolls-Royce Sweptail', 'Bugatti La Voiture Noire', 'Rolls-Royce Boat Tail*', 'Rolls-Royce La Rose Noire Droptail']\n"
     ]
    }
   ],
   "source": [
    "car_name=driver.find_elements(By.XPATH,'//*[@id=\"article_box\"]/div[1]/div[2]/div[2]/h3')\n",
    "for i in car_name:\n",
    "    Title=i.text\n",
    "    if \"Most Expensive Cars In The World\" != Title:\n",
    "        Car_Name.append(Title)\n",
    "print(Car_Name)"
   ]
  },
  {
   "cell_type": "code",
   "execution_count": 331,
   "id": "abdc9a3a",
   "metadata": {},
   "outputs": [
    {
     "name": "stdout",
     "output_type": "stream",
     "text": [
      "['Price: $1.5 Million', 'Price: $1.7 Million', 'Price: $1.7 Million', 'Price: $1.7 Million', 'Price: $1.7 Million', 'Price: $1.7 Million', 'Price: $1.7 Million', 'Price: $1.8 Million', 'Price: $1.9 Million', 'Price: $1.9 Million', 'Price: $2.0 Million', 'Price: $2.0 Million', 'Price: $2.0 Million', 'Price: $2.1 Million', 'Price: $2.3 Million', 'Price: $2.3 Million', 'Price: $2.3 Million', 'Price: $2.3 Million', 'Price: $2.4 Million', 'Price: $2.5 Million', 'Price: $2.5 Million', 'Price: $2.6 Million', 'Price: $2.6 Million', 'Price: $2.7 Million', 'Price: $2.8 Million', 'Price: $3.0 Million', '$3.0 Million', 'Price: $3.0 Million', 'Price: $3.2 Million', 'Price: $3.4 Million', '$3.5 Million', 'Price: $3.6 million', 'Price: $3.7 Million', 'Price: $3.9 Million', 'Price: $4.5 Million', 'Price: $4.7 Million', 'Price: $4.8 Million', 'Price: $5.0 Million', 'Price: $5.4 Million', 'Price: $5.8 Million', 'Price: $6.4 Million', 'Price: $7.4 Million', 'Price: $7.5 Million', 'Price: $8.0 Million', 'Price: $9.0 Million', 'Price: $10.8 Million', 'Price: $12.8 Million', 'Price: $13.4 Million', 'Price: $28.0 Million (est.)', 'Price: $30 Million (est.)']\n"
     ]
    }
   ],
   "source": [
    "car_price=driver.find_elements(By.XPATH,'//div[@class=\"postBody description e-content\"]/p')\n",
    "for i in car_price:    \n",
    "    Title=i.text\n",
    "    if (\"Price: $\" in Title) or (\" Million\" in Title):\n",
    "        Car_Price.append(Title)\n",
    "        \n",
    "print(Car_Price)"
   ]
  },
  {
   "cell_type": "code",
   "execution_count": 332,
   "id": "d5ea2fb3",
   "metadata": {},
   "outputs": [
    {
     "name": "stdout",
     "output_type": "stream",
     "text": [
      "50 50\n"
     ]
    }
   ],
   "source": [
    "print(len(Car_Name),len(Car_Price))"
   ]
  },
  {
   "cell_type": "code",
   "execution_count": 333,
   "id": "d2eba880",
   "metadata": {},
   "outputs": [
    {
     "data": {
      "text/html": [
       "<div>\n",
       "<style scoped>\n",
       "    .dataframe tbody tr th:only-of-type {\n",
       "        vertical-align: middle;\n",
       "    }\n",
       "\n",
       "    .dataframe tbody tr th {\n",
       "        vertical-align: top;\n",
       "    }\n",
       "\n",
       "    .dataframe thead th {\n",
       "        text-align: right;\n",
       "    }\n",
       "</style>\n",
       "<table border=\"1\" class=\"dataframe\">\n",
       "  <thead>\n",
       "    <tr style=\"text-align: right;\">\n",
       "      <th></th>\n",
       "      <th>Car_Name</th>\n",
       "      <th>Car_Price</th>\n",
       "    </tr>\n",
       "  </thead>\n",
       "  <tbody>\n",
       "    <tr>\n",
       "      <th>0</th>\n",
       "      <td>Aston Martin Valour</td>\n",
       "      <td>Price: $1.5 Million</td>\n",
       "    </tr>\n",
       "    <tr>\n",
       "      <th>1</th>\n",
       "      <td>McLaren Elva</td>\n",
       "      <td>Price: $1.7 Million</td>\n",
       "    </tr>\n",
       "    <tr>\n",
       "      <th>2</th>\n",
       "      <td>Czinger 21C</td>\n",
       "      <td>Price: $1.7 Million</td>\n",
       "    </tr>\n",
       "    <tr>\n",
       "      <th>3</th>\n",
       "      <td>Ferrari Monza</td>\n",
       "      <td>Price: $1.7 Million</td>\n",
       "    </tr>\n",
       "    <tr>\n",
       "      <th>4</th>\n",
       "      <td>Gordon Murray T.33</td>\n",
       "      <td>Price: $1.7 Million</td>\n",
       "    </tr>\n",
       "    <tr>\n",
       "      <th>5</th>\n",
       "      <td>Koenigsegg Gemera</td>\n",
       "      <td>Price: $1.7 Million</td>\n",
       "    </tr>\n",
       "    <tr>\n",
       "      <th>6</th>\n",
       "      <td>Zenvo TSR-S</td>\n",
       "      <td>Price: $1.7 Million</td>\n",
       "    </tr>\n",
       "    <tr>\n",
       "      <th>7</th>\n",
       "      <td>Hennessey Venom F5</td>\n",
       "      <td>Price: $1.8 Million</td>\n",
       "    </tr>\n",
       "    <tr>\n",
       "      <th>8</th>\n",
       "      <td>Bentley Bacalar</td>\n",
       "      <td>Price: $1.9 Million</td>\n",
       "    </tr>\n",
       "    <tr>\n",
       "      <th>9</th>\n",
       "      <td>Hispano Suiza Carmen Boulogne</td>\n",
       "      <td>Price: $1.9 Million</td>\n",
       "    </tr>\n",
       "    <tr>\n",
       "      <th>10</th>\n",
       "      <td>Bentley Mulliner Batur</td>\n",
       "      <td>Price: $2.0 Million</td>\n",
       "    </tr>\n",
       "    <tr>\n",
       "      <th>11</th>\n",
       "      <td>Deus Vayanne</td>\n",
       "      <td>Price: $2.0 Million</td>\n",
       "    </tr>\n",
       "    <tr>\n",
       "      <th>12</th>\n",
       "      <td>SSC Tuatara</td>\n",
       "      <td>Price: $2.0 Million</td>\n",
       "    </tr>\n",
       "    <tr>\n",
       "      <th>13</th>\n",
       "      <td>Lotus Evija</td>\n",
       "      <td>Price: $2.1 Million</td>\n",
       "    </tr>\n",
       "    <tr>\n",
       "      <th>14</th>\n",
       "      <td>Aston Martin Vulcan</td>\n",
       "      <td>Price: $2.3 Million</td>\n",
       "    </tr>\n",
       "    <tr>\n",
       "      <th>15</th>\n",
       "      <td>Delage D12</td>\n",
       "      <td>Price: $2.3 Million</td>\n",
       "    </tr>\n",
       "    <tr>\n",
       "      <th>16</th>\n",
       "      <td>Ferrari Daytona SP3</td>\n",
       "      <td>Price: $2.3 Million</td>\n",
       "    </tr>\n",
       "    <tr>\n",
       "      <th>17</th>\n",
       "      <td>McLaren Speedtail</td>\n",
       "      <td>Price: $2.3 Million</td>\n",
       "    </tr>\n",
       "    <tr>\n",
       "      <th>18</th>\n",
       "      <td>Rimac Nevera</td>\n",
       "      <td>Price: $2.4 Million</td>\n",
       "    </tr>\n",
       "    <tr>\n",
       "      <th>19</th>\n",
       "      <td>Pagani Utopia</td>\n",
       "      <td>Price: $2.5 Million</td>\n",
       "    </tr>\n",
       "    <tr>\n",
       "      <th>20</th>\n",
       "      <td>Pininfarina Battista</td>\n",
       "      <td>Price: $2.5 Million</td>\n",
       "    </tr>\n",
       "    <tr>\n",
       "      <th>21</th>\n",
       "      <td>Gordon Murray T.50</td>\n",
       "      <td>Price: $2.6 Million</td>\n",
       "    </tr>\n",
       "    <tr>\n",
       "      <th>22</th>\n",
       "      <td>Lamborghini Countach</td>\n",
       "      <td>Price: $2.6 Million</td>\n",
       "    </tr>\n",
       "    <tr>\n",
       "      <th>23</th>\n",
       "      <td>Mercedes-AMG Project One</td>\n",
       "      <td>Price: $2.7 Million</td>\n",
       "    </tr>\n",
       "    <tr>\n",
       "      <th>24</th>\n",
       "      <td>Zenvo Aurora</td>\n",
       "      <td>Price: $2.8 Million</td>\n",
       "    </tr>\n",
       "    <tr>\n",
       "      <th>25</th>\n",
       "      <td>Aston Martin Victor</td>\n",
       "      <td>Price: $3.0 Million</td>\n",
       "    </tr>\n",
       "    <tr>\n",
       "      <th>26</th>\n",
       "      <td>Hennessey Venom F5 Roadster</td>\n",
       "      <td>$3.0 Million</td>\n",
       "    </tr>\n",
       "    <tr>\n",
       "      <th>27</th>\n",
       "      <td>Koenigsegg Jesko</td>\n",
       "      <td>Price: $3.0 Million</td>\n",
       "    </tr>\n",
       "    <tr>\n",
       "      <th>28</th>\n",
       "      <td>Aston Martin Valkyrie</td>\n",
       "      <td>Price: $3.2 Million</td>\n",
       "    </tr>\n",
       "    <tr>\n",
       "      <th>29</th>\n",
       "      <td>W Motors Lykan Hypersport</td>\n",
       "      <td>Price: $3.4 Million</td>\n",
       "    </tr>\n",
       "    <tr>\n",
       "      <th>30</th>\n",
       "      <td>McLaren Solus</td>\n",
       "      <td>$3.5 Million</td>\n",
       "    </tr>\n",
       "    <tr>\n",
       "      <th>31</th>\n",
       "      <td>Lamborghini Sian</td>\n",
       "      <td>Price: $3.6 million</td>\n",
       "    </tr>\n",
       "    <tr>\n",
       "      <th>32</th>\n",
       "      <td>Koenigsegg CC850</td>\n",
       "      <td>Price: $3.7 Million</td>\n",
       "    </tr>\n",
       "    <tr>\n",
       "      <th>33</th>\n",
       "      <td>Bugatti Chiron Super Sport 300+</td>\n",
       "      <td>Price: $3.9 Million</td>\n",
       "    </tr>\n",
       "    <tr>\n",
       "      <th>34</th>\n",
       "      <td>Lamborghini Veneno</td>\n",
       "      <td>Price: $4.5 Million</td>\n",
       "    </tr>\n",
       "    <tr>\n",
       "      <th>35</th>\n",
       "      <td>Bugatti Bolide</td>\n",
       "      <td>Price: $4.7 Million</td>\n",
       "    </tr>\n",
       "    <tr>\n",
       "      <th>36</th>\n",
       "      <td>Pininfarina B95 Speedster</td>\n",
       "      <td>Price: $4.8 Million</td>\n",
       "    </tr>\n",
       "    <tr>\n",
       "      <th>37</th>\n",
       "      <td>Bugatti Mistral</td>\n",
       "      <td>Price: $5.0 Million</td>\n",
       "    </tr>\n",
       "    <tr>\n",
       "      <th>38</th>\n",
       "      <td>Pagani Huayra Imola</td>\n",
       "      <td>Price: $5.4 Million</td>\n",
       "    </tr>\n",
       "    <tr>\n",
       "      <th>39</th>\n",
       "      <td>Bugatti Divo</td>\n",
       "      <td>Price: $5.8 Million</td>\n",
       "    </tr>\n",
       "    <tr>\n",
       "      <th>40</th>\n",
       "      <td>SP Automotive Chaos</td>\n",
       "      <td>Price: $6.4 Million</td>\n",
       "    </tr>\n",
       "    <tr>\n",
       "      <th>41</th>\n",
       "      <td>Pagani Codalunga</td>\n",
       "      <td>Price: $7.4 Million</td>\n",
       "    </tr>\n",
       "    <tr>\n",
       "      <th>42</th>\n",
       "      <td>777 Hypercar</td>\n",
       "      <td>Price: $7.5 Million</td>\n",
       "    </tr>\n",
       "    <tr>\n",
       "      <th>43</th>\n",
       "      <td>Mercedes-Maybach Exelero</td>\n",
       "      <td>Price: $8.0 Million</td>\n",
       "    </tr>\n",
       "    <tr>\n",
       "      <th>44</th>\n",
       "      <td>Bugatti Centodieci</td>\n",
       "      <td>Price: $9.0 Million</td>\n",
       "    </tr>\n",
       "    <tr>\n",
       "      <th>45</th>\n",
       "      <td>Bugatti Chiron Profilée</td>\n",
       "      <td>Price: $10.8 Million</td>\n",
       "    </tr>\n",
       "    <tr>\n",
       "      <th>46</th>\n",
       "      <td>Rolls-Royce Sweptail</td>\n",
       "      <td>Price: $12.8 Million</td>\n",
       "    </tr>\n",
       "    <tr>\n",
       "      <th>47</th>\n",
       "      <td>Bugatti La Voiture Noire</td>\n",
       "      <td>Price: $13.4 Million</td>\n",
       "    </tr>\n",
       "    <tr>\n",
       "      <th>48</th>\n",
       "      <td>Rolls-Royce Boat Tail*</td>\n",
       "      <td>Price: $28.0 Million (est.)</td>\n",
       "    </tr>\n",
       "    <tr>\n",
       "      <th>49</th>\n",
       "      <td>Rolls-Royce La Rose Noire Droptail</td>\n",
       "      <td>Price: $30 Million (est.)</td>\n",
       "    </tr>\n",
       "  </tbody>\n",
       "</table>\n",
       "</div>"
      ],
      "text/plain": [
       "                              Car_Name                    Car_Price\n",
       "0                  Aston Martin Valour          Price: $1.5 Million\n",
       "1                         McLaren Elva          Price: $1.7 Million\n",
       "2                          Czinger 21C          Price: $1.7 Million\n",
       "3                        Ferrari Monza          Price: $1.7 Million\n",
       "4                   Gordon Murray T.33          Price: $1.7 Million\n",
       "5                    Koenigsegg Gemera          Price: $1.7 Million\n",
       "6                          Zenvo TSR-S          Price: $1.7 Million\n",
       "7                   Hennessey Venom F5          Price: $1.8 Million\n",
       "8                      Bentley Bacalar          Price: $1.9 Million\n",
       "9        Hispano Suiza Carmen Boulogne          Price: $1.9 Million\n",
       "10              Bentley Mulliner Batur          Price: $2.0 Million\n",
       "11                        Deus Vayanne          Price: $2.0 Million\n",
       "12                         SSC Tuatara          Price: $2.0 Million\n",
       "13                         Lotus Evija          Price: $2.1 Million\n",
       "14                 Aston Martin Vulcan          Price: $2.3 Million\n",
       "15                          Delage D12          Price: $2.3 Million\n",
       "16                 Ferrari Daytona SP3          Price: $2.3 Million\n",
       "17                   McLaren Speedtail          Price: $2.3 Million\n",
       "18                        Rimac Nevera          Price: $2.4 Million\n",
       "19                       Pagani Utopia          Price: $2.5 Million\n",
       "20                Pininfarina Battista          Price: $2.5 Million\n",
       "21                  Gordon Murray T.50          Price: $2.6 Million\n",
       "22                Lamborghini Countach          Price: $2.6 Million\n",
       "23            Mercedes-AMG Project One          Price: $2.7 Million\n",
       "24                        Zenvo Aurora          Price: $2.8 Million\n",
       "25                 Aston Martin Victor          Price: $3.0 Million\n",
       "26         Hennessey Venom F5 Roadster                 $3.0 Million\n",
       "27                    Koenigsegg Jesko          Price: $3.0 Million\n",
       "28               Aston Martin Valkyrie          Price: $3.2 Million\n",
       "29           W Motors Lykan Hypersport          Price: $3.4 Million\n",
       "30                       McLaren Solus                 $3.5 Million\n",
       "31                    Lamborghini Sian          Price: $3.6 million\n",
       "32                    Koenigsegg CC850          Price: $3.7 Million\n",
       "33     Bugatti Chiron Super Sport 300+          Price: $3.9 Million\n",
       "34                  Lamborghini Veneno          Price: $4.5 Million\n",
       "35                      Bugatti Bolide          Price: $4.7 Million\n",
       "36           Pininfarina B95 Speedster          Price: $4.8 Million\n",
       "37                     Bugatti Mistral          Price: $5.0 Million\n",
       "38                 Pagani Huayra Imola          Price: $5.4 Million\n",
       "39                        Bugatti Divo          Price: $5.8 Million\n",
       "40                 SP Automotive Chaos          Price: $6.4 Million\n",
       "41                    Pagani Codalunga          Price: $7.4 Million\n",
       "42                        777 Hypercar          Price: $7.5 Million\n",
       "43            Mercedes-Maybach Exelero          Price: $8.0 Million\n",
       "44                  Bugatti Centodieci          Price: $9.0 Million\n",
       "45             Bugatti Chiron Profilée         Price: $10.8 Million\n",
       "46                Rolls-Royce Sweptail         Price: $12.8 Million\n",
       "47            Bugatti La Voiture Noire         Price: $13.4 Million\n",
       "48              Rolls-Royce Boat Tail*  Price: $28.0 Million (est.)\n",
       "49  Rolls-Royce La Rose Noire Droptail    Price: $30 Million (est.)"
      ]
     },
     "execution_count": 333,
     "metadata": {},
     "output_type": "execute_result"
    }
   ],
   "source": [
    "df=pd.DataFrame({'Car_Name':Car_Name,'Car_Price':Car_Price})\n",
    "df"
   ]
  },
  {
   "cell_type": "code",
   "execution_count": 257,
   "id": "6707dae2",
   "metadata": {},
   "outputs": [
    {
     "name": "stdout",
     "output_type": "stream",
     "text": [
      "['Price: $1.5 Million']\n"
     ]
    }
   ],
   "source": [
    "car_price=driver.find_elements(By.XPATH,\"//div[@class='slide-item']//p[@class='price']\")\n",
    "for i in car_price:\n",
    "    Title=i.text\n",
    "    Car_Price.append(Title)\n",
    "print(Car_Price)"
   ]
  },
  {
   "cell_type": "code",
   "execution_count": 258,
   "id": "2c4ad63d",
   "metadata": {},
   "outputs": [
    {
     "name": "stdout",
     "output_type": "stream",
     "text": [
      "['Aston Martin Valour']\n"
     ]
    }
   ],
   "source": [
    "car_name=driver.find_elements(By.XPATH,'//div[@class=\"article-content\"]/h3')\n",
    "for i in car_name:\n",
    "    Title=i.text\n",
    "    Car_Name.append(Title)\n",
    "print(Car_Name)"
   ]
  },
  {
   "cell_type": "code",
   "execution_count": 285,
   "id": "2161ca66",
   "metadata": {},
   "outputs": [],
   "source": [
    "driver=webdriver.Chrome()\n",
    "driver.get(\"https://www.jagranjosh.com/general-knowledge/list-ofall-prime-ministers-of-india-1473165149-1\")"
   ]
  },
  {
   "cell_type": "code",
   "execution_count": 291,
   "id": "955edd23",
   "metadata": {},
   "outputs": [
    {
     "name": "stdout",
     "output_type": "stream",
     "text": [
      "[['Jawahar Lal Nehru', '(1889–1964)', '15 August 1947 to 27 May 1964\\n16 years, 286 days', 'The first prime minister of India and the longest-serving PM of India, the first to die in office.'], ['Gulzarilal Nanda (Acting)', '(1898-1998)', '27 May 1964 to 9 June 1964,\\n13 days', 'First acting PM of India'], ['Lal Bahadur Shastri', '(1904–1966)', '9 June 1964 to 11 January 1966\\n1 year, 216 days', \"He has given the slogan of 'Jai Jawan Jai Kisan' during the Indo-Pak war of 1965\"], ['Gulzari Lal Nanda  (Acting)', '(1898-1998)', '11 January 1966 to 24 January 1966\\n13 days', '-'], ['Indira Gandhi', '(1917–1984)', '24 January 1966 to 24 March 1977\\n11 years, 59 days', 'First female Prime Minister of India'], ['Morarji Desai', '(1896–1995)', '24 March 1977 to  28 July 1979 \\n2 year, 126 days', 'Oldest to become PM (81 years old) and first to resign from office'], ['Charan Singh', '(1902–1987)', '28 July 1979 to 14 January 1980\\n170 days', 'Only PM who did not face the Parliament'], ['Indira Gandhi', '(1917–1984)', '14 January 1980 to 31 October 1984\\n4 years, 291 days', 'The first lady who served as PM for the second term'], ['Rajiv Gandhi', '(1944–1991)', '31 October 1984 to 2 December 1989\\n5 years, 32 days', 'Youngest to become PM (40 years old)'], ['V. P. Singh', '(1931–2008)', '2 December 1989 to 10 November 1990\\n343 days', 'First PM to step down after a vote of no confidence'], ['Chandra Shekhar', '(1927–2007)', '10 November 1990 to 21 June 1991\\n223 days', 'He belongs to  Samajwadi Janata Party'], ['P. V. Narasimha Rao', '(1921–2004)', '21 June 1991 to 16 May 1996\\n4 years, 330 days', 'First PM from South India'], ['Atal Bihari Vajpayee', '(1924- 2018)', '16 May 1996 to 1 June 1996\\n16 days', 'PM for shortest tenure'], ['H. D. Deve Gowda', '(born 1933)', '1 June 1996 to 21 April 1997\\n324 days', 'He belongs to  Janata Dal'], ['Inder Kumar Gujral', '(1919–2012)', '21 April 1997 to 19 March 1998 \\n332 days', '------'], ['Atal Bihari Vajpayee', '(1924-2018)', '19 March 1998 to 22 May 2004 \\n6 years, 64 days', ' The first non-congress PM who completed a full term as PM'], ['Manmohan Singh', '(born 1932)', '22 May 2004 to 26 May 2014   \\n10 years, 4 days', ' First Sikh PM'], ['Narendra Modi', '(born 1950)', '26 May 2014 - 2019', '4th Prime Minister of India who served two consecutive tenures'], ['Narendra Modi', '(born 1950)', '30 May 2019- Incumbent', 'First non-congress PM with two consecutive tenures']]\n"
     ]
    }
   ],
   "source": [
    "data = []\n",
    "table = driver.find_element(By.XPATH,'//*[@id=\"itemdiv\"]/div[3]/div[6]/div/table')\n",
    "rows = table.find_elements(By.TAG_NAME, 'tr')\n",
    "for row in rows:\n",
    "  cols = row.find_elements(By.TAG_NAME,'td')  \n",
    "  if len(cols) == 5:\n",
    "      name = cols[1].text\n",
    "      born_dead = cols[2].text\n",
    "      term_of_office = cols[3].text\n",
    "      remarks = cols[4].text\n",
    "      data.append([name, born_dead, term_of_office, remarks])\n",
    "print(data)"
   ]
  },
  {
   "cell_type": "code",
   "execution_count": 292,
   "id": "96a37af5",
   "metadata": {},
   "outputs": [],
   "source": [
    "df = pd.DataFrame(data, columns=['Name', 'Born-Dead', 'Term of Office', 'Remarks'])"
   ]
  },
  {
   "cell_type": "code",
   "execution_count": 293,
   "id": "28250d9d",
   "metadata": {},
   "outputs": [
    {
     "data": {
      "text/html": [
       "<div>\n",
       "<style scoped>\n",
       "    .dataframe tbody tr th:only-of-type {\n",
       "        vertical-align: middle;\n",
       "    }\n",
       "\n",
       "    .dataframe tbody tr th {\n",
       "        vertical-align: top;\n",
       "    }\n",
       "\n",
       "    .dataframe thead th {\n",
       "        text-align: right;\n",
       "    }\n",
       "</style>\n",
       "<table border=\"1\" class=\"dataframe\">\n",
       "  <thead>\n",
       "    <tr style=\"text-align: right;\">\n",
       "      <th></th>\n",
       "      <th>Name</th>\n",
       "      <th>Born-Dead</th>\n",
       "      <th>Term of Office</th>\n",
       "      <th>Remarks</th>\n",
       "    </tr>\n",
       "  </thead>\n",
       "  <tbody>\n",
       "    <tr>\n",
       "      <th>0</th>\n",
       "      <td>Jawahar Lal Nehru</td>\n",
       "      <td>(1889–1964)</td>\n",
       "      <td>15 August 1947 to 27 May 1964\\n16 years, 286 days</td>\n",
       "      <td>The first prime minister of India and the long...</td>\n",
       "    </tr>\n",
       "    <tr>\n",
       "      <th>1</th>\n",
       "      <td>Gulzarilal Nanda (Acting)</td>\n",
       "      <td>(1898-1998)</td>\n",
       "      <td>27 May 1964 to 9 June 1964,\\n13 days</td>\n",
       "      <td>First acting PM of India</td>\n",
       "    </tr>\n",
       "    <tr>\n",
       "      <th>2</th>\n",
       "      <td>Lal Bahadur Shastri</td>\n",
       "      <td>(1904–1966)</td>\n",
       "      <td>9 June 1964 to 11 January 1966\\n1 year, 216 days</td>\n",
       "      <td>He has given the slogan of 'Jai Jawan Jai Kisa...</td>\n",
       "    </tr>\n",
       "    <tr>\n",
       "      <th>3</th>\n",
       "      <td>Gulzari Lal Nanda  (Acting)</td>\n",
       "      <td>(1898-1998)</td>\n",
       "      <td>11 January 1966 to 24 January 1966\\n13 days</td>\n",
       "      <td>-</td>\n",
       "    </tr>\n",
       "    <tr>\n",
       "      <th>4</th>\n",
       "      <td>Indira Gandhi</td>\n",
       "      <td>(1917–1984)</td>\n",
       "      <td>24 January 1966 to 24 March 1977\\n11 years, 59...</td>\n",
       "      <td>First female Prime Minister of India</td>\n",
       "    </tr>\n",
       "    <tr>\n",
       "      <th>5</th>\n",
       "      <td>Morarji Desai</td>\n",
       "      <td>(1896–1995)</td>\n",
       "      <td>24 March 1977 to  28 July 1979 \\n2 year, 126 days</td>\n",
       "      <td>Oldest to become PM (81 years old) and first t...</td>\n",
       "    </tr>\n",
       "    <tr>\n",
       "      <th>6</th>\n",
       "      <td>Charan Singh</td>\n",
       "      <td>(1902–1987)</td>\n",
       "      <td>28 July 1979 to 14 January 1980\\n170 days</td>\n",
       "      <td>Only PM who did not face the Parliament</td>\n",
       "    </tr>\n",
       "    <tr>\n",
       "      <th>7</th>\n",
       "      <td>Indira Gandhi</td>\n",
       "      <td>(1917–1984)</td>\n",
       "      <td>14 January 1980 to 31 October 1984\\n4 years, 2...</td>\n",
       "      <td>The first lady who served as PM for the second...</td>\n",
       "    </tr>\n",
       "    <tr>\n",
       "      <th>8</th>\n",
       "      <td>Rajiv Gandhi</td>\n",
       "      <td>(1944–1991)</td>\n",
       "      <td>31 October 1984 to 2 December 1989\\n5 years, 3...</td>\n",
       "      <td>Youngest to become PM (40 years old)</td>\n",
       "    </tr>\n",
       "    <tr>\n",
       "      <th>9</th>\n",
       "      <td>V. P. Singh</td>\n",
       "      <td>(1931–2008)</td>\n",
       "      <td>2 December 1989 to 10 November 1990\\n343 days</td>\n",
       "      <td>First PM to step down after a vote of no confi...</td>\n",
       "    </tr>\n",
       "    <tr>\n",
       "      <th>10</th>\n",
       "      <td>Chandra Shekhar</td>\n",
       "      <td>(1927–2007)</td>\n",
       "      <td>10 November 1990 to 21 June 1991\\n223 days</td>\n",
       "      <td>He belongs to  Samajwadi Janata Party</td>\n",
       "    </tr>\n",
       "    <tr>\n",
       "      <th>11</th>\n",
       "      <td>P. V. Narasimha Rao</td>\n",
       "      <td>(1921–2004)</td>\n",
       "      <td>21 June 1991 to 16 May 1996\\n4 years, 330 days</td>\n",
       "      <td>First PM from South India</td>\n",
       "    </tr>\n",
       "    <tr>\n",
       "      <th>12</th>\n",
       "      <td>Atal Bihari Vajpayee</td>\n",
       "      <td>(1924- 2018)</td>\n",
       "      <td>16 May 1996 to 1 June 1996\\n16 days</td>\n",
       "      <td>PM for shortest tenure</td>\n",
       "    </tr>\n",
       "    <tr>\n",
       "      <th>13</th>\n",
       "      <td>H. D. Deve Gowda</td>\n",
       "      <td>(born 1933)</td>\n",
       "      <td>1 June 1996 to 21 April 1997\\n324 days</td>\n",
       "      <td>He belongs to  Janata Dal</td>\n",
       "    </tr>\n",
       "    <tr>\n",
       "      <th>14</th>\n",
       "      <td>Inder Kumar Gujral</td>\n",
       "      <td>(1919–2012)</td>\n",
       "      <td>21 April 1997 to 19 March 1998 \\n332 days</td>\n",
       "      <td>------</td>\n",
       "    </tr>\n",
       "    <tr>\n",
       "      <th>15</th>\n",
       "      <td>Atal Bihari Vajpayee</td>\n",
       "      <td>(1924-2018)</td>\n",
       "      <td>19 March 1998 to 22 May 2004 \\n6 years, 64 days</td>\n",
       "      <td>The first non-congress PM who completed a ful...</td>\n",
       "    </tr>\n",
       "    <tr>\n",
       "      <th>16</th>\n",
       "      <td>Manmohan Singh</td>\n",
       "      <td>(born 1932)</td>\n",
       "      <td>22 May 2004 to 26 May 2014   \\n10 years, 4 days</td>\n",
       "      <td>First Sikh PM</td>\n",
       "    </tr>\n",
       "    <tr>\n",
       "      <th>17</th>\n",
       "      <td>Narendra Modi</td>\n",
       "      <td>(born 1950)</td>\n",
       "      <td>26 May 2014 - 2019</td>\n",
       "      <td>4th Prime Minister of India who served two con...</td>\n",
       "    </tr>\n",
       "    <tr>\n",
       "      <th>18</th>\n",
       "      <td>Narendra Modi</td>\n",
       "      <td>(born 1950)</td>\n",
       "      <td>30 May 2019- Incumbent</td>\n",
       "      <td>First non-congress PM with two consecutive ten...</td>\n",
       "    </tr>\n",
       "  </tbody>\n",
       "</table>\n",
       "</div>"
      ],
      "text/plain": [
       "                           Name     Born-Dead  \\\n",
       "0             Jawahar Lal Nehru   (1889–1964)   \n",
       "1     Gulzarilal Nanda (Acting)   (1898-1998)   \n",
       "2           Lal Bahadur Shastri   (1904–1966)   \n",
       "3   Gulzari Lal Nanda  (Acting)   (1898-1998)   \n",
       "4                 Indira Gandhi   (1917–1984)   \n",
       "5                 Morarji Desai   (1896–1995)   \n",
       "6                  Charan Singh   (1902–1987)   \n",
       "7                 Indira Gandhi   (1917–1984)   \n",
       "8                  Rajiv Gandhi   (1944–1991)   \n",
       "9                   V. P. Singh   (1931–2008)   \n",
       "10              Chandra Shekhar   (1927–2007)   \n",
       "11          P. V. Narasimha Rao   (1921–2004)   \n",
       "12         Atal Bihari Vajpayee  (1924- 2018)   \n",
       "13             H. D. Deve Gowda   (born 1933)   \n",
       "14           Inder Kumar Gujral   (1919–2012)   \n",
       "15         Atal Bihari Vajpayee   (1924-2018)   \n",
       "16               Manmohan Singh   (born 1932)   \n",
       "17                Narendra Modi   (born 1950)   \n",
       "18                Narendra Modi   (born 1950)   \n",
       "\n",
       "                                       Term of Office  \\\n",
       "0   15 August 1947 to 27 May 1964\\n16 years, 286 days   \n",
       "1                27 May 1964 to 9 June 1964,\\n13 days   \n",
       "2    9 June 1964 to 11 January 1966\\n1 year, 216 days   \n",
       "3         11 January 1966 to 24 January 1966\\n13 days   \n",
       "4   24 January 1966 to 24 March 1977\\n11 years, 59...   \n",
       "5   24 March 1977 to  28 July 1979 \\n2 year, 126 days   \n",
       "6           28 July 1979 to 14 January 1980\\n170 days   \n",
       "7   14 January 1980 to 31 October 1984\\n4 years, 2...   \n",
       "8   31 October 1984 to 2 December 1989\\n5 years, 3...   \n",
       "9       2 December 1989 to 10 November 1990\\n343 days   \n",
       "10         10 November 1990 to 21 June 1991\\n223 days   \n",
       "11     21 June 1991 to 16 May 1996\\n4 years, 330 days   \n",
       "12                16 May 1996 to 1 June 1996\\n16 days   \n",
       "13             1 June 1996 to 21 April 1997\\n324 days   \n",
       "14          21 April 1997 to 19 March 1998 \\n332 days   \n",
       "15    19 March 1998 to 22 May 2004 \\n6 years, 64 days   \n",
       "16    22 May 2004 to 26 May 2014   \\n10 years, 4 days   \n",
       "17                                 26 May 2014 - 2019   \n",
       "18                             30 May 2019- Incumbent   \n",
       "\n",
       "                                              Remarks  \n",
       "0   The first prime minister of India and the long...  \n",
       "1                            First acting PM of India  \n",
       "2   He has given the slogan of 'Jai Jawan Jai Kisa...  \n",
       "3                                                   -  \n",
       "4                First female Prime Minister of India  \n",
       "5   Oldest to become PM (81 years old) and first t...  \n",
       "6             Only PM who did not face the Parliament  \n",
       "7   The first lady who served as PM for the second...  \n",
       "8                Youngest to become PM (40 years old)  \n",
       "9   First PM to step down after a vote of no confi...  \n",
       "10              He belongs to  Samajwadi Janata Party  \n",
       "11                          First PM from South India  \n",
       "12                             PM for shortest tenure  \n",
       "13                          He belongs to  Janata Dal  \n",
       "14                                             ------  \n",
       "15   The first non-congress PM who completed a ful...  \n",
       "16                                      First Sikh PM  \n",
       "17  4th Prime Minister of India who served two con...  \n",
       "18  First non-congress PM with two consecutive ten...  "
      ]
     },
     "execution_count": 293,
     "metadata": {},
     "output_type": "execute_result"
    }
   ],
   "source": [
    "df"
   ]
  },
  {
   "cell_type": "code",
   "execution_count": null,
   "id": "77f5e15b",
   "metadata": {},
   "outputs": [],
   "source": []
  }
 ],
 "metadata": {
  "kernelspec": {
   "display_name": "Python 3 (ipykernel)",
   "language": "python",
   "name": "python3"
  },
  "language_info": {
   "codemirror_mode": {
    "name": "ipython",
    "version": 3
   },
   "file_extension": ".py",
   "mimetype": "text/x-python",
   "name": "python",
   "nbconvert_exporter": "python",
   "pygments_lexer": "ipython3",
   "version": "3.11.4"
  }
 },
 "nbformat": 4,
 "nbformat_minor": 5
}
