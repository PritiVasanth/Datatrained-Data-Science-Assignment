{
 "cells": [
  {
   "cell_type": "code",
   "execution_count": 1,
   "id": "9e3801c2",
   "metadata": {},
   "outputs": [
    {
     "name": "stdout",
     "output_type": "stream",
     "text": [
      "Requirement already satisfied: selenium in c:\\users\\vkvar\\anaconda3\\lib\\site-packages (4.18.1)\n",
      "Requirement already satisfied: urllib3[socks]<3,>=1.26 in c:\\users\\vkvar\\anaconda3\\lib\\site-packages (from selenium) (1.26.16)\n",
      "Requirement already satisfied: trio~=0.17 in c:\\users\\vkvar\\anaconda3\\lib\\site-packages (from selenium) (0.24.0)\n",
      "Requirement already satisfied: trio-websocket~=0.9 in c:\\users\\vkvar\\anaconda3\\lib\\site-packages (from selenium) (0.11.1)\n",
      "Requirement already satisfied: certifi>=2021.10.8 in c:\\users\\vkvar\\anaconda3\\lib\\site-packages (from selenium) (2023.7.22)\n",
      "Requirement already satisfied: typing_extensions>=4.9.0 in c:\\users\\vkvar\\anaconda3\\lib\\site-packages (from selenium) (4.10.0)\n",
      "Requirement already satisfied: attrs>=20.1.0 in c:\\users\\vkvar\\anaconda3\\lib\\site-packages (from trio~=0.17->selenium) (22.1.0)\n",
      "Requirement already satisfied: sortedcontainers in c:\\users\\vkvar\\anaconda3\\lib\\site-packages (from trio~=0.17->selenium) (2.4.0)\n",
      "Requirement already satisfied: idna in c:\\users\\vkvar\\anaconda3\\lib\\site-packages (from trio~=0.17->selenium) (3.4)\n",
      "Requirement already satisfied: outcome in c:\\users\\vkvar\\anaconda3\\lib\\site-packages (from trio~=0.17->selenium) (1.3.0.post0)\n",
      "Requirement already satisfied: sniffio>=1.3.0 in c:\\users\\vkvar\\anaconda3\\lib\\site-packages (from trio~=0.17->selenium) (1.3.1)\n",
      "Requirement already satisfied: cffi>=1.14 in c:\\users\\vkvar\\anaconda3\\lib\\site-packages (from trio~=0.17->selenium) (1.15.1)\n",
      "Requirement already satisfied: wsproto>=0.14 in c:\\users\\vkvar\\anaconda3\\lib\\site-packages (from trio-websocket~=0.9->selenium) (1.2.0)\n",
      "Requirement already satisfied: PySocks!=1.5.7,<2.0,>=1.5.6 in c:\\users\\vkvar\\anaconda3\\lib\\site-packages (from urllib3[socks]<3,>=1.26->selenium) (1.7.1)\n",
      "Requirement already satisfied: pycparser in c:\\users\\vkvar\\anaconda3\\lib\\site-packages (from cffi>=1.14->trio~=0.17->selenium) (2.21)\n",
      "Requirement already satisfied: h11<1,>=0.9.0 in c:\\users\\vkvar\\anaconda3\\lib\\site-packages (from wsproto>=0.14->trio-websocket~=0.9->selenium) (0.14.0)\n"
     ]
    }
   ],
   "source": [
    "!pip install selenium"
   ]
  },
  {
   "cell_type": "code",
   "execution_count": 2,
   "id": "344abf45",
   "metadata": {},
   "outputs": [],
   "source": [
    "import selenium\n",
    "import pandas as pd\n",
    "from selenium import webdriver\n",
    "import warnings\n",
    "warnings.filterwarnings('ignore')\n",
    "from selenium .webdriver.common.by import By\n",
    "import time\n",
    "from bs4 import BeautifulSoup\n",
    "import requests\n",
    "from selenium.common.exceptions import StaleElementReferenceException,NoSuchElementException, ElementNotInteractableException"
   ]
  },
  {
   "cell_type": "markdown",
   "id": "58352c57",
   "metadata": {},
   "source": [
    "# 1. Scrape the details of most viewed videos on YouTube from Wikipedia. Url\n",
    "= https://en.wikipedia.org/wiki/List_of_most-viewed_YouTube_videos You need to find following details: \n",
    "A)Rank\n",
    "B) Name\n",
    "C) Artist\n",
    "D) Upload date\n",
    "E) Views"
   ]
  },
  {
   "cell_type": "code",
   "execution_count": 3,
   "id": "3f8027b9",
   "metadata": {},
   "outputs": [],
   "source": [
    "driver=webdriver.Chrome() # Set up Selenium webdriver\n",
    "driver.get(\"https://en.wikipedia.org/wiki/List_of_most-viewed_YouTube_videos\")"
   ]
  },
  {
   "cell_type": "code",
   "execution_count": 4,
   "id": "4125c774",
   "metadata": {},
   "outputs": [],
   "source": [
    "# creating empty lists for scraping the data\n",
    "Rank = []\n",
    "Name = []\n",
    "Artist = []\n",
    "Date = []\n",
    "Views = []"
   ]
  },
  {
   "cell_type": "code",
   "execution_count": 13,
   "id": "9bd0fd8e",
   "metadata": {},
   "outputs": [
    {
     "name": "stdout",
     "output_type": "stream",
     "text": [
      "['\"Baby Shark Dance\"[7]', '\"Despacito\"[10]', '\"Johny Johny Yes Papa\"[18]', '\"Bath Song\"[19]', '\"Shape of You\"[20]', '\"See You Again\"[23]', '\"Wheels on the Bus\"[28]', '\"Phonics Song with Two Words\"[29]', '\"Uptown Funk\"[30]', '\"Gangnam Style\"[31]', '\"Learning Colors – Colorful Eggs on a Farm\"[36]', '\"Masha and the Bear – Recipe for Disaster\"[37]', '\"Dame Tu Cosita\"[38]', '\"Axel F\"[39]', '\"Sugar\"[40]', '\"Baa Baa Black Sheep\"[41]', '\"Counting Stars\"[42]', '\"Roar\"[43]', '\"Lakdi Ki Kathi\"[44]', '\"Waka Waka (This Time for Africa)\"[45]', '\"Sorry\"[46]', '\"Humpty the train on a fruits ride\"[47]', '\"Thinking Out Loud\"[48]', '\"Shree Hanuman Chalisa\"[49]', '\"Perfect\"[50]', '\"Dark Horse\"[51]', '\"Let Her Go\"[52]', '\"Faded\"[53]', '\"Girls Like You\"[54]', '\"Lean On\"[55]']\n"
     ]
    },
    {
     "data": {
      "text/plain": [
       "30"
      ]
     },
     "execution_count": 13,
     "metadata": {},
     "output_type": "execute_result"
    }
   ],
   "source": [
    "Name = [] #scraping Name\n",
    "title=driver.find_elements(By.XPATH,'//table[@class=\"sortable wikitable sticky-header static-row-numbers sort-under col3center col4right jquery-tablesorter\"][1]/tbody/tr/td[1]')\n",
    "for i in title:\n",
    "    try:\n",
    "        Title=i.text\n",
    "        Name.append(Title)\n",
    "    except NoSuchElementException:\n",
    "        Name.append(\"-\")\n",
    "print(Name)\n",
    "len(Name)"
   ]
  },
  {
   "cell_type": "code",
   "execution_count": 17,
   "id": "8be53423",
   "metadata": {},
   "outputs": [
    {
     "name": "stdout",
     "output_type": "stream",
     "text": [
      "[\"Pinkfong Baby Shark - Kids' Songs & Stories\", 'Luis Fonsi', \"LooLoo Kids - Nursery Rhymes and Children's Songs\", 'Cocomelon - Nursery Rhymes', 'Ed Sheeran', 'Wiz Khalifa', 'Cocomelon - Nursery Rhymes', 'ChuChu TV Nursery Rhymes & Kids Songs', 'Mark Ronson', 'Psy', 'Miroshka TV', 'Get Movies', 'Ultra Records', 'Crazy Frog', 'Maroon 5', 'Cocomelon - Nursery Rhymes', 'OneRepublic', 'Katy Perry', 'Jingle Toons', 'Shakira', 'Justin Bieber', 'Kiddiestv Hindi - Nursery Rhymes & Kids Songs', 'Ed Sheeran', 'T-Series Bhakti Sagar', 'Ed Sheeran', 'Katy Perry', 'Passenger', 'Alan Walker', 'Maroon 5', 'Major Lazer Official']\n"
     ]
    },
    {
     "data": {
      "text/plain": [
       "30"
      ]
     },
     "execution_count": 17,
     "metadata": {},
     "output_type": "execute_result"
    }
   ],
   "source": [
    "Artist = [] E#Scraping Artist\n",
    "title=driver.find_elements(By.XPATH,'//table[@class=\"sortable wikitable sticky-header static-row-numbers sort-under col3center col4right jquery-tablesorter\"][1]/tbody/tr/td[2]')\n",
    "for i in title:\n",
    "    try:\n",
    "        Title=i.text\n",
    "        Artist.append(Title)\n",
    "    except NoSuchElementException:\n",
    "        Artist.append(\"-\")\n",
    "print(Artist)\n",
    "len(Artist)"
   ]
  },
  {
   "cell_type": "code",
   "execution_count": 20,
   "id": "6490069f",
   "metadata": {},
   "outputs": [
    {
     "name": "stdout",
     "output_type": "stream",
     "text": [
      "['June 17, 2016', 'January 12, 2017', 'October 8, 2016', 'May 2, 2018', 'January 30, 2017', 'April 6, 2015', 'May 24, 2018', 'March 6, 2014', 'November 19, 2014', 'July 15, 2012', 'February 27, 2018', 'January 31, 2012', 'April 5, 2018', 'June 16, 2009', 'January 14, 2015', 'June 25, 2018', 'May 31, 2013', 'September 5, 2013', 'June 14, 2018', 'June 4, 2010', 'October 22, 2015', 'January 26, 2018', 'October 7, 2014', 'May 10, 2011', 'November 9, 2017', 'February 20, 2014', 'July 25, 2012', 'December 3, 2015', 'May 31, 2018', 'March 22, 2015']\n"
     ]
    },
    {
     "data": {
      "text/plain": [
       "30"
      ]
     },
     "execution_count": 20,
     "metadata": {},
     "output_type": "execute_result"
    }
   ],
   "source": [
    "Date = [] #Scraping Date\n",
    "title=driver.find_elements(By.XPATH,'//table[@class=\"sortable wikitable sticky-header static-row-numbers sort-under col3center col4right jquery-tablesorter\"][1]/tbody/tr/td[4]')\n",
    "for i in title:\n",
    "    try:\n",
    "        Title=i.text\n",
    "        Date.append(Title)\n",
    "    except NoSuchElementException:\n",
    "        Date.append(\"-\")\n",
    "print(Date)\n",
    "len(Date)"
   ]
  },
  {
   "cell_type": "code",
   "execution_count": 21,
   "id": "85cc569c",
   "metadata": {},
   "outputs": [
    {
     "name": "stdout",
     "output_type": "stream",
     "text": [
      "['14.22', '8.40', '6.88', '6.65', '6.22', '6.20', '5.95', '5.73', '5.17', '5.09', '5.08', '4.58', '4.57', '4.40', '4.02', '3.99', '3.99', '3.97', '3.95', '3.88', '3.78', '3.75', '3.74', '3.74', '3.69', '3.69', '3.63', '3.60', '3.57', '3.56']\n"
     ]
    },
    {
     "data": {
      "text/plain": [
       "30"
      ]
     },
     "execution_count": 21,
     "metadata": {},
     "output_type": "execute_result"
    }
   ],
   "source": [
    "Views = [] #Scraping Views\n",
    "title=driver.find_elements(By.XPATH,'//table[@class=\"sortable wikitable sticky-header static-row-numbers sort-under col3center col4right jquery-tablesorter\"][1]/tbody/tr/td[3]')\n",
    "for i in title:\n",
    "    try:\n",
    "        Title=i.text\n",
    "        Views.append(Title)\n",
    "    except NoSuchElementException:\n",
    "        Views.append(\"-\")\n",
    "print(Views)\n",
    "len(Views)"
   ]
  },
  {
   "cell_type": "code",
   "execution_count": 25,
   "id": "7a7334d7",
   "metadata": {},
   "outputs": [
    {
     "name": "stdout",
     "output_type": "stream",
     "text": [
      "30 30 30 30\n"
     ]
    }
   ],
   "source": [
    "print (len(Name),len(Artist),len(Date),len(Views))"
   ]
  },
  {
   "cell_type": "code",
   "execution_count": 26,
   "id": "40a2f643",
   "metadata": {},
   "outputs": [
    {
     "data": {
      "text/html": [
       "<div>\n",
       "<style scoped>\n",
       "    .dataframe tbody tr th:only-of-type {\n",
       "        vertical-align: middle;\n",
       "    }\n",
       "\n",
       "    .dataframe tbody tr th {\n",
       "        vertical-align: top;\n",
       "    }\n",
       "\n",
       "    .dataframe thead th {\n",
       "        text-align: right;\n",
       "    }\n",
       "</style>\n",
       "<table border=\"1\" class=\"dataframe\">\n",
       "  <thead>\n",
       "    <tr style=\"text-align: right;\">\n",
       "      <th></th>\n",
       "      <th>Name</th>\n",
       "      <th>Artist</th>\n",
       "      <th>Date</th>\n",
       "      <th>Views</th>\n",
       "    </tr>\n",
       "  </thead>\n",
       "  <tbody>\n",
       "    <tr>\n",
       "      <th>0</th>\n",
       "      <td>\"Baby Shark Dance\"[7]</td>\n",
       "      <td>Pinkfong Baby Shark - Kids' Songs &amp; Stories</td>\n",
       "      <td>June 17, 2016</td>\n",
       "      <td>14.22</td>\n",
       "    </tr>\n",
       "    <tr>\n",
       "      <th>1</th>\n",
       "      <td>\"Despacito\"[10]</td>\n",
       "      <td>Luis Fonsi</td>\n",
       "      <td>January 12, 2017</td>\n",
       "      <td>8.40</td>\n",
       "    </tr>\n",
       "    <tr>\n",
       "      <th>2</th>\n",
       "      <td>\"Johny Johny Yes Papa\"[18]</td>\n",
       "      <td>LooLoo Kids - Nursery Rhymes and Children's Songs</td>\n",
       "      <td>October 8, 2016</td>\n",
       "      <td>6.88</td>\n",
       "    </tr>\n",
       "    <tr>\n",
       "      <th>3</th>\n",
       "      <td>\"Bath Song\"[19]</td>\n",
       "      <td>Cocomelon - Nursery Rhymes</td>\n",
       "      <td>May 2, 2018</td>\n",
       "      <td>6.65</td>\n",
       "    </tr>\n",
       "    <tr>\n",
       "      <th>4</th>\n",
       "      <td>\"Shape of You\"[20]</td>\n",
       "      <td>Ed Sheeran</td>\n",
       "      <td>January 30, 2017</td>\n",
       "      <td>6.22</td>\n",
       "    </tr>\n",
       "    <tr>\n",
       "      <th>5</th>\n",
       "      <td>\"See You Again\"[23]</td>\n",
       "      <td>Wiz Khalifa</td>\n",
       "      <td>April 6, 2015</td>\n",
       "      <td>6.20</td>\n",
       "    </tr>\n",
       "    <tr>\n",
       "      <th>6</th>\n",
       "      <td>\"Wheels on the Bus\"[28]</td>\n",
       "      <td>Cocomelon - Nursery Rhymes</td>\n",
       "      <td>May 24, 2018</td>\n",
       "      <td>5.95</td>\n",
       "    </tr>\n",
       "    <tr>\n",
       "      <th>7</th>\n",
       "      <td>\"Phonics Song with Two Words\"[29]</td>\n",
       "      <td>ChuChu TV Nursery Rhymes &amp; Kids Songs</td>\n",
       "      <td>March 6, 2014</td>\n",
       "      <td>5.73</td>\n",
       "    </tr>\n",
       "    <tr>\n",
       "      <th>8</th>\n",
       "      <td>\"Uptown Funk\"[30]</td>\n",
       "      <td>Mark Ronson</td>\n",
       "      <td>November 19, 2014</td>\n",
       "      <td>5.17</td>\n",
       "    </tr>\n",
       "    <tr>\n",
       "      <th>9</th>\n",
       "      <td>\"Gangnam Style\"[31]</td>\n",
       "      <td>Psy</td>\n",
       "      <td>July 15, 2012</td>\n",
       "      <td>5.09</td>\n",
       "    </tr>\n",
       "    <tr>\n",
       "      <th>10</th>\n",
       "      <td>\"Learning Colors – Colorful Eggs on a Farm\"[36]</td>\n",
       "      <td>Miroshka TV</td>\n",
       "      <td>February 27, 2018</td>\n",
       "      <td>5.08</td>\n",
       "    </tr>\n",
       "    <tr>\n",
       "      <th>11</th>\n",
       "      <td>\"Masha and the Bear – Recipe for Disaster\"[37]</td>\n",
       "      <td>Get Movies</td>\n",
       "      <td>January 31, 2012</td>\n",
       "      <td>4.58</td>\n",
       "    </tr>\n",
       "    <tr>\n",
       "      <th>12</th>\n",
       "      <td>\"Dame Tu Cosita\"[38]</td>\n",
       "      <td>Ultra Records</td>\n",
       "      <td>April 5, 2018</td>\n",
       "      <td>4.57</td>\n",
       "    </tr>\n",
       "    <tr>\n",
       "      <th>13</th>\n",
       "      <td>\"Axel F\"[39]</td>\n",
       "      <td>Crazy Frog</td>\n",
       "      <td>June 16, 2009</td>\n",
       "      <td>4.40</td>\n",
       "    </tr>\n",
       "    <tr>\n",
       "      <th>14</th>\n",
       "      <td>\"Sugar\"[40]</td>\n",
       "      <td>Maroon 5</td>\n",
       "      <td>January 14, 2015</td>\n",
       "      <td>4.02</td>\n",
       "    </tr>\n",
       "    <tr>\n",
       "      <th>15</th>\n",
       "      <td>\"Baa Baa Black Sheep\"[41]</td>\n",
       "      <td>Cocomelon - Nursery Rhymes</td>\n",
       "      <td>June 25, 2018</td>\n",
       "      <td>3.99</td>\n",
       "    </tr>\n",
       "    <tr>\n",
       "      <th>16</th>\n",
       "      <td>\"Counting Stars\"[42]</td>\n",
       "      <td>OneRepublic</td>\n",
       "      <td>May 31, 2013</td>\n",
       "      <td>3.99</td>\n",
       "    </tr>\n",
       "    <tr>\n",
       "      <th>17</th>\n",
       "      <td>\"Roar\"[43]</td>\n",
       "      <td>Katy Perry</td>\n",
       "      <td>September 5, 2013</td>\n",
       "      <td>3.97</td>\n",
       "    </tr>\n",
       "    <tr>\n",
       "      <th>18</th>\n",
       "      <td>\"Lakdi Ki Kathi\"[44]</td>\n",
       "      <td>Jingle Toons</td>\n",
       "      <td>June 14, 2018</td>\n",
       "      <td>3.95</td>\n",
       "    </tr>\n",
       "    <tr>\n",
       "      <th>19</th>\n",
       "      <td>\"Waka Waka (This Time for Africa)\"[45]</td>\n",
       "      <td>Shakira</td>\n",
       "      <td>June 4, 2010</td>\n",
       "      <td>3.88</td>\n",
       "    </tr>\n",
       "    <tr>\n",
       "      <th>20</th>\n",
       "      <td>\"Sorry\"[46]</td>\n",
       "      <td>Justin Bieber</td>\n",
       "      <td>October 22, 2015</td>\n",
       "      <td>3.78</td>\n",
       "    </tr>\n",
       "    <tr>\n",
       "      <th>21</th>\n",
       "      <td>\"Humpty the train on a fruits ride\"[47]</td>\n",
       "      <td>Kiddiestv Hindi - Nursery Rhymes &amp; Kids Songs</td>\n",
       "      <td>January 26, 2018</td>\n",
       "      <td>3.75</td>\n",
       "    </tr>\n",
       "    <tr>\n",
       "      <th>22</th>\n",
       "      <td>\"Thinking Out Loud\"[48]</td>\n",
       "      <td>Ed Sheeran</td>\n",
       "      <td>October 7, 2014</td>\n",
       "      <td>3.74</td>\n",
       "    </tr>\n",
       "    <tr>\n",
       "      <th>23</th>\n",
       "      <td>\"Shree Hanuman Chalisa\"[49]</td>\n",
       "      <td>T-Series Bhakti Sagar</td>\n",
       "      <td>May 10, 2011</td>\n",
       "      <td>3.74</td>\n",
       "    </tr>\n",
       "    <tr>\n",
       "      <th>24</th>\n",
       "      <td>\"Perfect\"[50]</td>\n",
       "      <td>Ed Sheeran</td>\n",
       "      <td>November 9, 2017</td>\n",
       "      <td>3.69</td>\n",
       "    </tr>\n",
       "    <tr>\n",
       "      <th>25</th>\n",
       "      <td>\"Dark Horse\"[51]</td>\n",
       "      <td>Katy Perry</td>\n",
       "      <td>February 20, 2014</td>\n",
       "      <td>3.69</td>\n",
       "    </tr>\n",
       "    <tr>\n",
       "      <th>26</th>\n",
       "      <td>\"Let Her Go\"[52]</td>\n",
       "      <td>Passenger</td>\n",
       "      <td>July 25, 2012</td>\n",
       "      <td>3.63</td>\n",
       "    </tr>\n",
       "    <tr>\n",
       "      <th>27</th>\n",
       "      <td>\"Faded\"[53]</td>\n",
       "      <td>Alan Walker</td>\n",
       "      <td>December 3, 2015</td>\n",
       "      <td>3.60</td>\n",
       "    </tr>\n",
       "    <tr>\n",
       "      <th>28</th>\n",
       "      <td>\"Girls Like You\"[54]</td>\n",
       "      <td>Maroon 5</td>\n",
       "      <td>May 31, 2018</td>\n",
       "      <td>3.57</td>\n",
       "    </tr>\n",
       "    <tr>\n",
       "      <th>29</th>\n",
       "      <td>\"Lean On\"[55]</td>\n",
       "      <td>Major Lazer Official</td>\n",
       "      <td>March 22, 2015</td>\n",
       "      <td>3.56</td>\n",
       "    </tr>\n",
       "  </tbody>\n",
       "</table>\n",
       "</div>"
      ],
      "text/plain": [
       "                                               Name  \\\n",
       "0                             \"Baby Shark Dance\"[7]   \n",
       "1                                   \"Despacito\"[10]   \n",
       "2                        \"Johny Johny Yes Papa\"[18]   \n",
       "3                                   \"Bath Song\"[19]   \n",
       "4                                \"Shape of You\"[20]   \n",
       "5                               \"See You Again\"[23]   \n",
       "6                           \"Wheels on the Bus\"[28]   \n",
       "7                 \"Phonics Song with Two Words\"[29]   \n",
       "8                                 \"Uptown Funk\"[30]   \n",
       "9                               \"Gangnam Style\"[31]   \n",
       "10  \"Learning Colors – Colorful Eggs on a Farm\"[36]   \n",
       "11   \"Masha and the Bear – Recipe for Disaster\"[37]   \n",
       "12                             \"Dame Tu Cosita\"[38]   \n",
       "13                                     \"Axel F\"[39]   \n",
       "14                                      \"Sugar\"[40]   \n",
       "15                        \"Baa Baa Black Sheep\"[41]   \n",
       "16                             \"Counting Stars\"[42]   \n",
       "17                                       \"Roar\"[43]   \n",
       "18                             \"Lakdi Ki Kathi\"[44]   \n",
       "19           \"Waka Waka (This Time for Africa)\"[45]   \n",
       "20                                      \"Sorry\"[46]   \n",
       "21          \"Humpty the train on a fruits ride\"[47]   \n",
       "22                          \"Thinking Out Loud\"[48]   \n",
       "23                      \"Shree Hanuman Chalisa\"[49]   \n",
       "24                                    \"Perfect\"[50]   \n",
       "25                                 \"Dark Horse\"[51]   \n",
       "26                                 \"Let Her Go\"[52]   \n",
       "27                                      \"Faded\"[53]   \n",
       "28                             \"Girls Like You\"[54]   \n",
       "29                                    \"Lean On\"[55]   \n",
       "\n",
       "                                               Artist               Date  \\\n",
       "0         Pinkfong Baby Shark - Kids' Songs & Stories      June 17, 2016   \n",
       "1                                          Luis Fonsi   January 12, 2017   \n",
       "2   LooLoo Kids - Nursery Rhymes and Children's Songs    October 8, 2016   \n",
       "3                          Cocomelon - Nursery Rhymes        May 2, 2018   \n",
       "4                                          Ed Sheeran   January 30, 2017   \n",
       "5                                         Wiz Khalifa      April 6, 2015   \n",
       "6                          Cocomelon - Nursery Rhymes       May 24, 2018   \n",
       "7               ChuChu TV Nursery Rhymes & Kids Songs      March 6, 2014   \n",
       "8                                         Mark Ronson  November 19, 2014   \n",
       "9                                                 Psy      July 15, 2012   \n",
       "10                                        Miroshka TV  February 27, 2018   \n",
       "11                                         Get Movies   January 31, 2012   \n",
       "12                                      Ultra Records      April 5, 2018   \n",
       "13                                         Crazy Frog      June 16, 2009   \n",
       "14                                           Maroon 5   January 14, 2015   \n",
       "15                         Cocomelon - Nursery Rhymes      June 25, 2018   \n",
       "16                                        OneRepublic       May 31, 2013   \n",
       "17                                         Katy Perry  September 5, 2013   \n",
       "18                                       Jingle Toons      June 14, 2018   \n",
       "19                                            Shakira       June 4, 2010   \n",
       "20                                      Justin Bieber   October 22, 2015   \n",
       "21      Kiddiestv Hindi - Nursery Rhymes & Kids Songs   January 26, 2018   \n",
       "22                                         Ed Sheeran    October 7, 2014   \n",
       "23                              T-Series Bhakti Sagar       May 10, 2011   \n",
       "24                                         Ed Sheeran   November 9, 2017   \n",
       "25                                         Katy Perry  February 20, 2014   \n",
       "26                                          Passenger      July 25, 2012   \n",
       "27                                        Alan Walker   December 3, 2015   \n",
       "28                                           Maroon 5       May 31, 2018   \n",
       "29                               Major Lazer Official     March 22, 2015   \n",
       "\n",
       "    Views  \n",
       "0   14.22  \n",
       "1    8.40  \n",
       "2    6.88  \n",
       "3    6.65  \n",
       "4    6.22  \n",
       "5    6.20  \n",
       "6    5.95  \n",
       "7    5.73  \n",
       "8    5.17  \n",
       "9    5.09  \n",
       "10   5.08  \n",
       "11   4.58  \n",
       "12   4.57  \n",
       "13   4.40  \n",
       "14   4.02  \n",
       "15   3.99  \n",
       "16   3.99  \n",
       "17   3.97  \n",
       "18   3.95  \n",
       "19   3.88  \n",
       "20   3.78  \n",
       "21   3.75  \n",
       "22   3.74  \n",
       "23   3.74  \n",
       "24   3.69  \n",
       "25   3.69  \n",
       "26   3.63  \n",
       "27   3.60  \n",
       "28   3.57  \n",
       "29   3.56  "
      ]
     },
     "execution_count": 26,
     "metadata": {},
     "output_type": "execute_result"
    }
   ],
   "source": [
    "Top_trending_videos=pd.DataFrame({'Name':Name,'Artist':Artist,'Date':Date,'Views':Views})\n",
    "Top_trending_videos #getting thee dataframe"
   ]
  },
  {
   "cell_type": "code",
   "execution_count": 27,
   "id": "454a55ff",
   "metadata": {},
   "outputs": [],
   "source": [
    "driver.quit() # Close the browser"
   ]
  },
  {
   "cell_type": "markdown",
   "id": "345e38ac",
   "metadata": {},
   "source": [
    "# 2. Scrape the details team India’s international fixtures from bcci.tv.\n",
    "Url = https://www.bcci.tv/.\n",
    "You need to find following details:\n",
    "A) Series\n",
    "B) Place\n",
    "C) Date\n",
    "D) Time\n",
    "Note: - From bcci.tv home page you have reach to the international fixture page through code"
   ]
  },
  {
   "cell_type": "code",
   "execution_count": 28,
   "id": "2ccb1806",
   "metadata": {},
   "outputs": [],
   "source": [
    "driver=webdriver.Chrome() # Set up Selenium webdriver\n",
    "driver.get(\"http://www.bcci.tv/\")"
   ]
  },
  {
   "cell_type": "code",
   "execution_count": 30,
   "id": "cb88ab80",
   "metadata": {},
   "outputs": [],
   "source": [
    "fixtures=driver.find_element(By.XPATH,'//div[@class=\"imw-tabs international-tabs\"]/a[2]') # Opening fixtures webpage through browser\n",
    "fixtures.click()"
   ]
  },
  {
   "cell_type": "code",
   "execution_count": 31,
   "id": "b560da0b",
   "metadata": {},
   "outputs": [],
   "source": [
    "# creating empty lists for scraping the data\n",
    "Series = []\n",
    "Place = []\n",
    "Date = []\n",
    "Time = []"
   ]
  },
  {
   "cell_type": "code",
   "execution_count": 33,
   "id": "4fd81113",
   "metadata": {},
   "outputs": [
    {
     "name": "stdout",
     "output_type": "stream",
     "text": [
      "['ICC MENS T20 WORLD CUP 2024', 'ICC MENS T20 WORLD CUP 2024', 'ICC MENS T20 WORLD CUP 2024', 'ICC MENS T20 WORLD CUP 2024', 'INDIA TOUR OF ZIMBABWE 2024', 'INDIA TOUR OF ZIMBABWE 2024', 'INDIA TOUR OF ZIMBABWE 2024', 'INDIA TOUR OF ZIMBABWE 2024', 'INDIA TOUR OF ZIMBABWE 2024']\n"
     ]
    },
    {
     "data": {
      "text/plain": [
       "9"
      ]
     },
     "execution_count": 33,
     "metadata": {},
     "output_type": "execute_result"
    }
   ],
   "source": [
    "Series = [] #Scraping series\n",
    "title=driver.find_elements(By.XPATH,'//h5[@class=\"match-tournament-name ng-binding\"]')\n",
    "for i in title:\n",
    "    try:\n",
    "        Title=i.text\n",
    "        Series.append(Title)\n",
    "    except NoSuchElementException:\n",
    "        Series.append(\"-\")\n",
    "print(Series)\n",
    "len(Series)"
   ]
  },
  {
   "cell_type": "code",
   "execution_count": 35,
   "id": "7990df10",
   "metadata": {},
   "outputs": [
    {
     "name": "stdout",
     "output_type": "stream",
     "text": [
      "['Nassau County International Cricket Stadium, New York', 'Nassau County International Cricket Stadium, New York', 'Nassau County International Cricket Stadium, New York', 'Central Broward Park & Broward County Stadium, Lauderhill, Florida', 'Harare Sports Club, Harare', 'Harare Sports Club, Harare', 'Harare Sports Club, Harare', 'Harare Sports Club, Harare', 'Harare Sports Club, Harare']\n"
     ]
    },
    {
     "data": {
      "text/plain": [
       "9"
      ]
     },
     "execution_count": 35,
     "metadata": {},
     "output_type": "execute_result"
    }
   ],
   "source": [
    "Place = [] #scraping Place\n",
    "title=driver.find_elements(By.XPATH,'//div[@class=\"match-place ng-scope\"]')\n",
    "for i in title:\n",
    "    try:\n",
    "        Title=i.text\n",
    "        Place.append(Title)\n",
    "    except NoSuchElementException:\n",
    "        Place.append(\"-\")\n",
    "print(Place)\n",
    "len(Place)"
   ]
  },
  {
   "cell_type": "code",
   "execution_count": 36,
   "id": "9a433186",
   "metadata": {},
   "outputs": [
    {
     "name": "stdout",
     "output_type": "stream",
     "text": [
      "['5 JUNE, 2024', '9 JUNE, 2024', '12 JUNE, 2024', '15 JUNE, 2024', '6 JULY, 2024', '7 JULY, 2024', '10 JULY, 2024', '13 JULY, 2024', '14 JULY, 2024']\n"
     ]
    },
    {
     "data": {
      "text/plain": [
       "9"
      ]
     },
     "execution_count": 36,
     "metadata": {},
     "output_type": "execute_result"
    }
   ],
   "source": [
    "Date = [] #Scraping Date\n",
    "title=driver.find_elements(By.XPATH,'//div[@class=\"match-dates ng-binding\"]')\n",
    "for i in title:\n",
    "    try:\n",
    "        Title=i.text\n",
    "        Date.append(Title)\n",
    "    except NoSuchElementException:\n",
    "        Date.append(\"-\")\n",
    "print(Date)\n",
    "len(Date)"
   ]
  },
  {
   "cell_type": "code",
   "execution_count": 37,
   "id": "324ae307",
   "metadata": {},
   "outputs": [
    {
     "name": "stdout",
     "output_type": "stream",
     "text": [
      "['8:00 PM IST', '8:00 PM IST', '8:00 PM IST', '8:00 PM IST', '8:00 PM IST', '8:00 PM IST', '8:00 PM IST', '8:00 PM IST', '8:00 PM IST']\n"
     ]
    },
    {
     "data": {
      "text/plain": [
       "9"
      ]
     },
     "execution_count": 37,
     "metadata": {},
     "output_type": "execute_result"
    }
   ],
   "source": [
    "Time = [] #Scraping Time\n",
    "title=driver.find_elements(By.XPATH,'//div[@class=\"match-time no-margin ng-binding\"]')\n",
    "for i in title:\n",
    "    try:\n",
    "        Title=i.text\n",
    "        Time.append(Title)\n",
    "    except NoSuchElementException:\n",
    "        Time.append(\"-\")\n",
    "print(Time)\n",
    "len(Time)"
   ]
  },
  {
   "cell_type": "code",
   "execution_count": 38,
   "id": "e19822c6",
   "metadata": {},
   "outputs": [
    {
     "data": {
      "text/html": [
       "<div>\n",
       "<style scoped>\n",
       "    .dataframe tbody tr th:only-of-type {\n",
       "        vertical-align: middle;\n",
       "    }\n",
       "\n",
       "    .dataframe tbody tr th {\n",
       "        vertical-align: top;\n",
       "    }\n",
       "\n",
       "    .dataframe thead th {\n",
       "        text-align: right;\n",
       "    }\n",
       "</style>\n",
       "<table border=\"1\" class=\"dataframe\">\n",
       "  <thead>\n",
       "    <tr style=\"text-align: right;\">\n",
       "      <th></th>\n",
       "      <th>Series</th>\n",
       "      <th>Place</th>\n",
       "      <th>Date</th>\n",
       "      <th>Time</th>\n",
       "    </tr>\n",
       "  </thead>\n",
       "  <tbody>\n",
       "    <tr>\n",
       "      <th>0</th>\n",
       "      <td>ICC MENS T20 WORLD CUP 2024</td>\n",
       "      <td>Nassau County International Cricket Stadium, N...</td>\n",
       "      <td>5 JUNE, 2024</td>\n",
       "      <td>8:00 PM IST</td>\n",
       "    </tr>\n",
       "    <tr>\n",
       "      <th>1</th>\n",
       "      <td>ICC MENS T20 WORLD CUP 2024</td>\n",
       "      <td>Nassau County International Cricket Stadium, N...</td>\n",
       "      <td>9 JUNE, 2024</td>\n",
       "      <td>8:00 PM IST</td>\n",
       "    </tr>\n",
       "    <tr>\n",
       "      <th>2</th>\n",
       "      <td>ICC MENS T20 WORLD CUP 2024</td>\n",
       "      <td>Nassau County International Cricket Stadium, N...</td>\n",
       "      <td>12 JUNE, 2024</td>\n",
       "      <td>8:00 PM IST</td>\n",
       "    </tr>\n",
       "    <tr>\n",
       "      <th>3</th>\n",
       "      <td>ICC MENS T20 WORLD CUP 2024</td>\n",
       "      <td>Central Broward Park &amp; Broward County Stadium,...</td>\n",
       "      <td>15 JUNE, 2024</td>\n",
       "      <td>8:00 PM IST</td>\n",
       "    </tr>\n",
       "    <tr>\n",
       "      <th>4</th>\n",
       "      <td>INDIA TOUR OF ZIMBABWE 2024</td>\n",
       "      <td>Harare Sports Club, Harare</td>\n",
       "      <td>6 JULY, 2024</td>\n",
       "      <td>8:00 PM IST</td>\n",
       "    </tr>\n",
       "    <tr>\n",
       "      <th>5</th>\n",
       "      <td>INDIA TOUR OF ZIMBABWE 2024</td>\n",
       "      <td>Harare Sports Club, Harare</td>\n",
       "      <td>7 JULY, 2024</td>\n",
       "      <td>8:00 PM IST</td>\n",
       "    </tr>\n",
       "    <tr>\n",
       "      <th>6</th>\n",
       "      <td>INDIA TOUR OF ZIMBABWE 2024</td>\n",
       "      <td>Harare Sports Club, Harare</td>\n",
       "      <td>10 JULY, 2024</td>\n",
       "      <td>8:00 PM IST</td>\n",
       "    </tr>\n",
       "    <tr>\n",
       "      <th>7</th>\n",
       "      <td>INDIA TOUR OF ZIMBABWE 2024</td>\n",
       "      <td>Harare Sports Club, Harare</td>\n",
       "      <td>13 JULY, 2024</td>\n",
       "      <td>8:00 PM IST</td>\n",
       "    </tr>\n",
       "    <tr>\n",
       "      <th>8</th>\n",
       "      <td>INDIA TOUR OF ZIMBABWE 2024</td>\n",
       "      <td>Harare Sports Club, Harare</td>\n",
       "      <td>14 JULY, 2024</td>\n",
       "      <td>8:00 PM IST</td>\n",
       "    </tr>\n",
       "  </tbody>\n",
       "</table>\n",
       "</div>"
      ],
      "text/plain": [
       "                        Series  \\\n",
       "0  ICC MENS T20 WORLD CUP 2024   \n",
       "1  ICC MENS T20 WORLD CUP 2024   \n",
       "2  ICC MENS T20 WORLD CUP 2024   \n",
       "3  ICC MENS T20 WORLD CUP 2024   \n",
       "4  INDIA TOUR OF ZIMBABWE 2024   \n",
       "5  INDIA TOUR OF ZIMBABWE 2024   \n",
       "6  INDIA TOUR OF ZIMBABWE 2024   \n",
       "7  INDIA TOUR OF ZIMBABWE 2024   \n",
       "8  INDIA TOUR OF ZIMBABWE 2024   \n",
       "\n",
       "                                               Place           Date  \\\n",
       "0  Nassau County International Cricket Stadium, N...   5 JUNE, 2024   \n",
       "1  Nassau County International Cricket Stadium, N...   9 JUNE, 2024   \n",
       "2  Nassau County International Cricket Stadium, N...  12 JUNE, 2024   \n",
       "3  Central Broward Park & Broward County Stadium,...  15 JUNE, 2024   \n",
       "4                         Harare Sports Club, Harare   6 JULY, 2024   \n",
       "5                         Harare Sports Club, Harare   7 JULY, 2024   \n",
       "6                         Harare Sports Club, Harare  10 JULY, 2024   \n",
       "7                         Harare Sports Club, Harare  13 JULY, 2024   \n",
       "8                         Harare Sports Club, Harare  14 JULY, 2024   \n",
       "\n",
       "          Time  \n",
       "0  8:00 PM IST  \n",
       "1  8:00 PM IST  \n",
       "2  8:00 PM IST  \n",
       "3  8:00 PM IST  \n",
       "4  8:00 PM IST  \n",
       "5  8:00 PM IST  \n",
       "6  8:00 PM IST  \n",
       "7  8:00 PM IST  \n",
       "8  8:00 PM IST  "
      ]
     },
     "execution_count": 38,
     "metadata": {},
     "output_type": "execute_result"
    }
   ],
   "source": [
    "India_International_fixtures =pd.DataFrame({'Series':Series,'Place':Place,'Date':Date,'Time':Time})\n",
    "India_International_fixtures #getting data into dataframe"
   ]
  },
  {
   "cell_type": "code",
   "execution_count": 39,
   "id": "645a5d1b",
   "metadata": {},
   "outputs": [],
   "source": [
    "driver.close() # Close the browser"
   ]
  },
  {
   "cell_type": "markdown",
   "id": "5e45e5d3",
   "metadata": {},
   "source": [
    "# 3. Scrape the details of State-wise GDP of India from statisticstime.com.\n",
    "Url = http://statisticstimes.com/\n",
    "You have to find following details: A) Rank\n",
    "B) State\n",
    "C) GSDP(18-19)- at current prices\n",
    "D) GSDP(19-20)- at current prices\n",
    "E) Share(18-19)\n",
    "F) GDP($ billion)\n",
    "Note: - From statisticstimes home page you have to reach to economy page through code. "
   ]
  },
  {
   "cell_type": "code",
   "execution_count": 41,
   "id": "f1d9adb0",
   "metadata": {},
   "outputs": [],
   "source": [
    "driver=webdriver.Chrome() # connecting to the web driver\n",
    "driver.get(\"http://statisticstimes.com/\")"
   ]
  },
  {
   "cell_type": "code",
   "execution_count": 47,
   "id": "e4feba00",
   "metadata": {},
   "outputs": [],
   "source": [
    "# clicking on Economy button\n",
    "driver.find_element(By.XPATH,'//*[@id=\"top\"]/div[2]/div[2]/button').click()"
   ]
  },
  {
   "cell_type": "code",
   "execution_count": 48,
   "id": "f04eecdd",
   "metadata": {},
   "outputs": [],
   "source": [
    "# clicking on India\n",
    "driver.find_element(By.XPATH,'//div[@class=\"dropdown-content\"]/a[3]').click()\n",
    "time.sleep(3)"
   ]
  },
  {
   "cell_type": "code",
   "execution_count": 51,
   "id": "55cc0baa",
   "metadata": {},
   "outputs": [],
   "source": [
    "# clicking on GDP of Indian states\n",
    "GDP = driver.find_element(By.XPATH,'/html/body/div[2]/div[2]/div[2]/ul/li[1]/a').click()\n",
    "time.sleep(3)"
   ]
  },
  {
   "cell_type": "code",
   "execution_count": 52,
   "id": "b651608f",
   "metadata": {},
   "outputs": [],
   "source": [
    "Rank = []\n",
    "State = []\n",
    "GSDP22_23 = []\n",
    "GSDP21_22 = []\n",
    "Share = []\n",
    "GDP_billion = []"
   ]
  },
  {
   "cell_type": "code",
   "execution_count": 53,
   "id": "26976df5",
   "metadata": {},
   "outputs": [
    {
     "name": "stdout",
     "output_type": "stream",
     "text": [
      "['1', '2', '3', '4', '5', '6', '7', '8', '9', '10', '11', '12', '13', '14', '15', '16', '17', '18', '19', '20', '21', '22', '23', '24', '25', '26', '27', '28', '29', '30', '31', '32', '33']\n"
     ]
    }
   ],
   "source": [
    "Rank = [] #scraping the rank\n",
    "title=driver.find_elements(By.XPATH,' //*[@id=\"table_id\"]/tbody/tr/td[1]')\n",
    "for i in title:\n",
    "    try:\n",
    "        Title=i.text\n",
    "        Rank.append(Title)\n",
    "    except NoSuchElementException:\n",
    "        Rank.append(\"-\")\n",
    "print(Rank)"
   ]
  },
  {
   "cell_type": "code",
   "execution_count": 54,
   "id": "41253e1e",
   "metadata": {},
   "outputs": [
    {
     "name": "stdout",
     "output_type": "stream",
     "text": [
      "['Maharashtra', 'Tamil Nadu', 'Uttar Pradesh', 'Karnataka', 'Gujarat', 'West Bengal', 'Rajasthan', 'Madhya Pradesh', 'Andhra Pradesh', 'Telangana', 'Kerala', 'Delhi', 'Haryana', 'Odisha', 'Bihar', 'Punjab', 'Assam', 'Chhattisgarh', 'Jharkhand', 'Uttarakhand', 'Jammu & Kashmir-UT', 'Himachal Pradesh', 'Goa', 'Tripura', 'Chandigarh', 'Puducherry', 'Meghalaya', 'Sikkim', 'Manipur', 'Arunachal Pradesh', 'Nagaland', 'Mizoram', 'Andaman & Nicobar Islands']\n"
     ]
    },
    {
     "data": {
      "text/plain": [
       "33"
      ]
     },
     "execution_count": 54,
     "metadata": {},
     "output_type": "execute_result"
    }
   ],
   "source": [
    "State = [] #scraping the state\n",
    "title=driver.find_elements(By.XPATH,' //*[@id=\"table_id\"]/tbody/tr/td[2]')\n",
    "for i in title:\n",
    "    try:\n",
    "        Title=i.text\n",
    "        State.append(Title)\n",
    "    except NoSuchElementException:\n",
    "        State.append(\"-\")\n",
    "print(State)\n",
    "len(State)"
   ]
  },
  {
   "cell_type": "code",
   "execution_count": 55,
   "id": "5cfe0572",
   "metadata": {},
   "outputs": [
    {
     "name": "stdout",
     "output_type": "stream",
     "text": [
      "['-', '2,364,514', '2,257,575', '2,241,368', '-', '1,554,992', '1,413,620', '1,322,821', '1,317,728', '1,313,391', '-', '1,043,759', '994,154', '774,869', '751,396', '673,107', '493,167', '457,608', '393,722', '302,621', '227,927', '195,405', '-', '72,636', '-', '-', '42,697', '42,756', '-', '-', '-', '-', '-']\n"
     ]
    },
    {
     "data": {
      "text/plain": [
       "33"
      ]
     },
     "execution_count": 55,
     "metadata": {},
     "output_type": "execute_result"
    }
   ],
   "source": [
    "GSDP22_23 = [] #scraping gsdp for the currrent year\n",
    "title=driver.find_elements(By.XPATH,' //*[@id=\"table_id\"]/tbody/tr/td[3]')\n",
    "for i in title:\n",
    "    try:\n",
    "        Title=i.text\n",
    "        GSDP22_23.append(Title)\n",
    "    except NoSuchElementException:\n",
    "        GSDP22_23.append(\"-\")\n",
    "print(GSDP22_23)\n",
    "len(GSDP22_23)"
   ]
  },
  {
   "cell_type": "code",
   "execution_count": 56,
   "id": "25767b5a",
   "metadata": {},
   "outputs": [
    {
     "name": "stdout",
     "output_type": "stream",
     "text": [
      "['3,108,022', '2,071,286', '1,974,532', '1,962,725', '1,937,066', '1,363,926', '1,218,193', '1,136,137', '1,133,837', '1,128,907', '932,470', '904,642', '870,665', '670,881', '650,302', '614,227', '412,612', '406,416', '358,863', '272,159', '199,917', '176,269', '82,604', '62,550', '45,635', '44,238', '38,785', '37,557', '36,594', '35,124', '31,913', '27,824', '10,371']\n"
     ]
    },
    {
     "data": {
      "text/plain": [
       "33"
      ]
     },
     "execution_count": 56,
     "metadata": {},
     "output_type": "execute_result"
    }
   ],
   "source": [
    "GSDP21_22 = [] #scraping gsddp for the previous year \n",
    "title=driver.find_elements(By.XPATH,' //*[@id=\"table_id\"]/tbody/tr/td[4]')\n",
    "for i in title:\n",
    "    try:\n",
    "        Title=i.text\n",
    "        GSDP21_22.append(Title)\n",
    "    except NoSuchElementException:\n",
    "        GSDP21_22.append(\"-\")\n",
    "print(GSDP21_22)\n",
    "len(GSDP21_22)"
   ]
  },
  {
   "cell_type": "code",
   "execution_count": 57,
   "id": "47ef8466",
   "metadata": {},
   "outputs": [
    {
     "name": "stdout",
     "output_type": "stream",
     "text": [
      "['13.17%', '8.78%', '8.37%', '8.32%', '8.21%', '5.78%', '5.16%', '4.81%', '4.80%', '4.78%', '3.95%', '3.83%', '3.69%', '2.84%', '2.76%', '2.60%', '1.75%', '1.72%', '1.52%', '1.15%', '0.85%', '0.75%', '0.35%', '0.27%', '0.19%', '0.19%', '0.16%', '0.16%', '0.16%', '0.15%', '0.14%', '0.12%', '0.04%']\n"
     ]
    },
    {
     "data": {
      "text/plain": [
       "33"
      ]
     },
     "execution_count": 57,
     "metadata": {},
     "output_type": "execute_result"
    }
   ],
   "source": [
    "Share = [] #scraping the share\n",
    "title=driver.find_elements(By.XPATH,' //*[@id=\"table_id\"]/tbody/tr/td[5]')\n",
    "for i in title:\n",
    "    try:\n",
    "        Title=i.text\n",
    "        Share.append(Title)\n",
    "    except NoSuchElementException:\n",
    "        Share.append(\"-\")\n",
    "print(Share)\n",
    "len(Share)"
   ]
  },
  {
   "cell_type": "code",
   "execution_count": 58,
   "id": "1da0a378",
   "metadata": {},
   "outputs": [
    {
     "name": "stdout",
     "output_type": "stream",
     "text": [
      "['414.928', '276.522', '263.605', '262.029', '258.603', '182.087', '162.632', '151.677', '151.370', '150.712', '124.487', '120.772', '116.236', '89.564', '86.817', '82.001', '55.085', '54.258', '47.909', '36.334', '26.689', '23.532', '11.028', '8.351', '6.092', '5.906', '5.178', '5.014', '4.885', '4.689', '4.260', '3.715', '1.385']\n"
     ]
    },
    {
     "data": {
      "text/plain": [
       "33"
      ]
     },
     "execution_count": 58,
     "metadata": {},
     "output_type": "execute_result"
    }
   ],
   "source": [
    "GDP_billion = [] #scraping the gdp in billions\n",
    "title=driver.find_elements(By.XPATH,' //*[@id=\"table_id\"]/tbody/tr/td[6]')\n",
    "for i in title:\n",
    "    try:\n",
    "        Title=i.text\n",
    "        GDP_billion.append(Title)\n",
    "    except NoSuchElementException:\n",
    "        GDP_billion.append(\"-\")\n",
    "print(GDP_billion)\n",
    "len(GDP_billion)"
   ]
  },
  {
   "cell_type": "code",
   "execution_count": 59,
   "id": "34a8c98b",
   "metadata": {},
   "outputs": [
    {
     "data": {
      "text/html": [
       "<div>\n",
       "<style scoped>\n",
       "    .dataframe tbody tr th:only-of-type {\n",
       "        vertical-align: middle;\n",
       "    }\n",
       "\n",
       "    .dataframe tbody tr th {\n",
       "        vertical-align: top;\n",
       "    }\n",
       "\n",
       "    .dataframe thead th {\n",
       "        text-align: right;\n",
       "    }\n",
       "</style>\n",
       "<table border=\"1\" class=\"dataframe\">\n",
       "  <thead>\n",
       "    <tr style=\"text-align: right;\">\n",
       "      <th></th>\n",
       "      <th>Rank</th>\n",
       "      <th>State</th>\n",
       "      <th>GSDP22_23</th>\n",
       "      <th>GSDP21_22</th>\n",
       "      <th>Share</th>\n",
       "      <th>GDP_billion</th>\n",
       "    </tr>\n",
       "  </thead>\n",
       "  <tbody>\n",
       "    <tr>\n",
       "      <th>0</th>\n",
       "      <td>1</td>\n",
       "      <td>Maharashtra</td>\n",
       "      <td>-</td>\n",
       "      <td>3,108,022</td>\n",
       "      <td>13.17%</td>\n",
       "      <td>414.928</td>\n",
       "    </tr>\n",
       "    <tr>\n",
       "      <th>1</th>\n",
       "      <td>2</td>\n",
       "      <td>Tamil Nadu</td>\n",
       "      <td>2,364,514</td>\n",
       "      <td>2,071,286</td>\n",
       "      <td>8.78%</td>\n",
       "      <td>276.522</td>\n",
       "    </tr>\n",
       "    <tr>\n",
       "      <th>2</th>\n",
       "      <td>3</td>\n",
       "      <td>Uttar Pradesh</td>\n",
       "      <td>2,257,575</td>\n",
       "      <td>1,974,532</td>\n",
       "      <td>8.37%</td>\n",
       "      <td>263.605</td>\n",
       "    </tr>\n",
       "    <tr>\n",
       "      <th>3</th>\n",
       "      <td>4</td>\n",
       "      <td>Karnataka</td>\n",
       "      <td>2,241,368</td>\n",
       "      <td>1,962,725</td>\n",
       "      <td>8.32%</td>\n",
       "      <td>262.029</td>\n",
       "    </tr>\n",
       "    <tr>\n",
       "      <th>4</th>\n",
       "      <td>5</td>\n",
       "      <td>Gujarat</td>\n",
       "      <td>-</td>\n",
       "      <td>1,937,066</td>\n",
       "      <td>8.21%</td>\n",
       "      <td>258.603</td>\n",
       "    </tr>\n",
       "    <tr>\n",
       "      <th>5</th>\n",
       "      <td>6</td>\n",
       "      <td>West Bengal</td>\n",
       "      <td>1,554,992</td>\n",
       "      <td>1,363,926</td>\n",
       "      <td>5.78%</td>\n",
       "      <td>182.087</td>\n",
       "    </tr>\n",
       "    <tr>\n",
       "      <th>6</th>\n",
       "      <td>7</td>\n",
       "      <td>Rajasthan</td>\n",
       "      <td>1,413,620</td>\n",
       "      <td>1,218,193</td>\n",
       "      <td>5.16%</td>\n",
       "      <td>162.632</td>\n",
       "    </tr>\n",
       "    <tr>\n",
       "      <th>7</th>\n",
       "      <td>8</td>\n",
       "      <td>Madhya Pradesh</td>\n",
       "      <td>1,322,821</td>\n",
       "      <td>1,136,137</td>\n",
       "      <td>4.81%</td>\n",
       "      <td>151.677</td>\n",
       "    </tr>\n",
       "    <tr>\n",
       "      <th>8</th>\n",
       "      <td>9</td>\n",
       "      <td>Andhra Pradesh</td>\n",
       "      <td>1,317,728</td>\n",
       "      <td>1,133,837</td>\n",
       "      <td>4.80%</td>\n",
       "      <td>151.370</td>\n",
       "    </tr>\n",
       "    <tr>\n",
       "      <th>9</th>\n",
       "      <td>10</td>\n",
       "      <td>Telangana</td>\n",
       "      <td>1,313,391</td>\n",
       "      <td>1,128,907</td>\n",
       "      <td>4.78%</td>\n",
       "      <td>150.712</td>\n",
       "    </tr>\n",
       "    <tr>\n",
       "      <th>10</th>\n",
       "      <td>11</td>\n",
       "      <td>Kerala</td>\n",
       "      <td>-</td>\n",
       "      <td>932,470</td>\n",
       "      <td>3.95%</td>\n",
       "      <td>124.487</td>\n",
       "    </tr>\n",
       "    <tr>\n",
       "      <th>11</th>\n",
       "      <td>12</td>\n",
       "      <td>Delhi</td>\n",
       "      <td>1,043,759</td>\n",
       "      <td>904,642</td>\n",
       "      <td>3.83%</td>\n",
       "      <td>120.772</td>\n",
       "    </tr>\n",
       "    <tr>\n",
       "      <th>12</th>\n",
       "      <td>13</td>\n",
       "      <td>Haryana</td>\n",
       "      <td>994,154</td>\n",
       "      <td>870,665</td>\n",
       "      <td>3.69%</td>\n",
       "      <td>116.236</td>\n",
       "    </tr>\n",
       "    <tr>\n",
       "      <th>13</th>\n",
       "      <td>14</td>\n",
       "      <td>Odisha</td>\n",
       "      <td>774,869</td>\n",
       "      <td>670,881</td>\n",
       "      <td>2.84%</td>\n",
       "      <td>89.564</td>\n",
       "    </tr>\n",
       "    <tr>\n",
       "      <th>14</th>\n",
       "      <td>15</td>\n",
       "      <td>Bihar</td>\n",
       "      <td>751,396</td>\n",
       "      <td>650,302</td>\n",
       "      <td>2.76%</td>\n",
       "      <td>86.817</td>\n",
       "    </tr>\n",
       "    <tr>\n",
       "      <th>15</th>\n",
       "      <td>16</td>\n",
       "      <td>Punjab</td>\n",
       "      <td>673,107</td>\n",
       "      <td>614,227</td>\n",
       "      <td>2.60%</td>\n",
       "      <td>82.001</td>\n",
       "    </tr>\n",
       "    <tr>\n",
       "      <th>16</th>\n",
       "      <td>17</td>\n",
       "      <td>Assam</td>\n",
       "      <td>493,167</td>\n",
       "      <td>412,612</td>\n",
       "      <td>1.75%</td>\n",
       "      <td>55.085</td>\n",
       "    </tr>\n",
       "    <tr>\n",
       "      <th>17</th>\n",
       "      <td>18</td>\n",
       "      <td>Chhattisgarh</td>\n",
       "      <td>457,608</td>\n",
       "      <td>406,416</td>\n",
       "      <td>1.72%</td>\n",
       "      <td>54.258</td>\n",
       "    </tr>\n",
       "    <tr>\n",
       "      <th>18</th>\n",
       "      <td>19</td>\n",
       "      <td>Jharkhand</td>\n",
       "      <td>393,722</td>\n",
       "      <td>358,863</td>\n",
       "      <td>1.52%</td>\n",
       "      <td>47.909</td>\n",
       "    </tr>\n",
       "    <tr>\n",
       "      <th>19</th>\n",
       "      <td>20</td>\n",
       "      <td>Uttarakhand</td>\n",
       "      <td>302,621</td>\n",
       "      <td>272,159</td>\n",
       "      <td>1.15%</td>\n",
       "      <td>36.334</td>\n",
       "    </tr>\n",
       "    <tr>\n",
       "      <th>20</th>\n",
       "      <td>21</td>\n",
       "      <td>Jammu &amp; Kashmir-UT</td>\n",
       "      <td>227,927</td>\n",
       "      <td>199,917</td>\n",
       "      <td>0.85%</td>\n",
       "      <td>26.689</td>\n",
       "    </tr>\n",
       "    <tr>\n",
       "      <th>21</th>\n",
       "      <td>22</td>\n",
       "      <td>Himachal Pradesh</td>\n",
       "      <td>195,405</td>\n",
       "      <td>176,269</td>\n",
       "      <td>0.75%</td>\n",
       "      <td>23.532</td>\n",
       "    </tr>\n",
       "    <tr>\n",
       "      <th>22</th>\n",
       "      <td>23</td>\n",
       "      <td>Goa</td>\n",
       "      <td>-</td>\n",
       "      <td>82,604</td>\n",
       "      <td>0.35%</td>\n",
       "      <td>11.028</td>\n",
       "    </tr>\n",
       "    <tr>\n",
       "      <th>23</th>\n",
       "      <td>24</td>\n",
       "      <td>Tripura</td>\n",
       "      <td>72,636</td>\n",
       "      <td>62,550</td>\n",
       "      <td>0.27%</td>\n",
       "      <td>8.351</td>\n",
       "    </tr>\n",
       "    <tr>\n",
       "      <th>24</th>\n",
       "      <td>25</td>\n",
       "      <td>Chandigarh</td>\n",
       "      <td>-</td>\n",
       "      <td>45,635</td>\n",
       "      <td>0.19%</td>\n",
       "      <td>6.092</td>\n",
       "    </tr>\n",
       "    <tr>\n",
       "      <th>25</th>\n",
       "      <td>26</td>\n",
       "      <td>Puducherry</td>\n",
       "      <td>-</td>\n",
       "      <td>44,238</td>\n",
       "      <td>0.19%</td>\n",
       "      <td>5.906</td>\n",
       "    </tr>\n",
       "    <tr>\n",
       "      <th>26</th>\n",
       "      <td>27</td>\n",
       "      <td>Meghalaya</td>\n",
       "      <td>42,697</td>\n",
       "      <td>38,785</td>\n",
       "      <td>0.16%</td>\n",
       "      <td>5.178</td>\n",
       "    </tr>\n",
       "    <tr>\n",
       "      <th>27</th>\n",
       "      <td>28</td>\n",
       "      <td>Sikkim</td>\n",
       "      <td>42,756</td>\n",
       "      <td>37,557</td>\n",
       "      <td>0.16%</td>\n",
       "      <td>5.014</td>\n",
       "    </tr>\n",
       "    <tr>\n",
       "      <th>28</th>\n",
       "      <td>29</td>\n",
       "      <td>Manipur</td>\n",
       "      <td>-</td>\n",
       "      <td>36,594</td>\n",
       "      <td>0.16%</td>\n",
       "      <td>4.885</td>\n",
       "    </tr>\n",
       "    <tr>\n",
       "      <th>29</th>\n",
       "      <td>30</td>\n",
       "      <td>Arunachal Pradesh</td>\n",
       "      <td>-</td>\n",
       "      <td>35,124</td>\n",
       "      <td>0.15%</td>\n",
       "      <td>4.689</td>\n",
       "    </tr>\n",
       "    <tr>\n",
       "      <th>30</th>\n",
       "      <td>31</td>\n",
       "      <td>Nagaland</td>\n",
       "      <td>-</td>\n",
       "      <td>31,913</td>\n",
       "      <td>0.14%</td>\n",
       "      <td>4.260</td>\n",
       "    </tr>\n",
       "    <tr>\n",
       "      <th>31</th>\n",
       "      <td>32</td>\n",
       "      <td>Mizoram</td>\n",
       "      <td>-</td>\n",
       "      <td>27,824</td>\n",
       "      <td>0.12%</td>\n",
       "      <td>3.715</td>\n",
       "    </tr>\n",
       "    <tr>\n",
       "      <th>32</th>\n",
       "      <td>33</td>\n",
       "      <td>Andaman &amp; Nicobar Islands</td>\n",
       "      <td>-</td>\n",
       "      <td>10,371</td>\n",
       "      <td>0.04%</td>\n",
       "      <td>1.385</td>\n",
       "    </tr>\n",
       "  </tbody>\n",
       "</table>\n",
       "</div>"
      ],
      "text/plain": [
       "   Rank                      State  GSDP22_23  GSDP21_22   Share GDP_billion\n",
       "0     1                Maharashtra          -  3,108,022  13.17%     414.928\n",
       "1     2                 Tamil Nadu  2,364,514  2,071,286   8.78%     276.522\n",
       "2     3              Uttar Pradesh  2,257,575  1,974,532   8.37%     263.605\n",
       "3     4                  Karnataka  2,241,368  1,962,725   8.32%     262.029\n",
       "4     5                    Gujarat          -  1,937,066   8.21%     258.603\n",
       "5     6                West Bengal  1,554,992  1,363,926   5.78%     182.087\n",
       "6     7                  Rajasthan  1,413,620  1,218,193   5.16%     162.632\n",
       "7     8             Madhya Pradesh  1,322,821  1,136,137   4.81%     151.677\n",
       "8     9             Andhra Pradesh  1,317,728  1,133,837   4.80%     151.370\n",
       "9    10                  Telangana  1,313,391  1,128,907   4.78%     150.712\n",
       "10   11                     Kerala          -    932,470   3.95%     124.487\n",
       "11   12                      Delhi  1,043,759    904,642   3.83%     120.772\n",
       "12   13                    Haryana    994,154    870,665   3.69%     116.236\n",
       "13   14                     Odisha    774,869    670,881   2.84%      89.564\n",
       "14   15                      Bihar    751,396    650,302   2.76%      86.817\n",
       "15   16                     Punjab    673,107    614,227   2.60%      82.001\n",
       "16   17                      Assam    493,167    412,612   1.75%      55.085\n",
       "17   18               Chhattisgarh    457,608    406,416   1.72%      54.258\n",
       "18   19                  Jharkhand    393,722    358,863   1.52%      47.909\n",
       "19   20                Uttarakhand    302,621    272,159   1.15%      36.334\n",
       "20   21         Jammu & Kashmir-UT    227,927    199,917   0.85%      26.689\n",
       "21   22           Himachal Pradesh    195,405    176,269   0.75%      23.532\n",
       "22   23                        Goa          -     82,604   0.35%      11.028\n",
       "23   24                    Tripura     72,636     62,550   0.27%       8.351\n",
       "24   25                 Chandigarh          -     45,635   0.19%       6.092\n",
       "25   26                 Puducherry          -     44,238   0.19%       5.906\n",
       "26   27                  Meghalaya     42,697     38,785   0.16%       5.178\n",
       "27   28                     Sikkim     42,756     37,557   0.16%       5.014\n",
       "28   29                    Manipur          -     36,594   0.16%       4.885\n",
       "29   30          Arunachal Pradesh          -     35,124   0.15%       4.689\n",
       "30   31                   Nagaland          -     31,913   0.14%       4.260\n",
       "31   32                    Mizoram          -     27,824   0.12%       3.715\n",
       "32   33  Andaman & Nicobar Islands          -     10,371   0.04%       1.385"
      ]
     },
     "execution_count": 59,
     "metadata": {},
     "output_type": "execute_result"
    }
   ],
   "source": [
    "Statewise_GDP_of_India = pd.DataFrame({'Rank':Rank,'State':State,'GSDP22_23':GSDP22_23,'GSDP21_22':GSDP21_22,'Share':Share,'GDP_billion':GDP_billion})\n",
    "Statewise_GDP_of_India    # framing the data "
   ]
  },
  {
   "cell_type": "code",
   "execution_count": 60,
   "id": "d458632a",
   "metadata": {},
   "outputs": [],
   "source": [
    "driver.close() # Close the browser"
   ]
  },
  {
   "cell_type": "markdown",
   "id": "23e797ba",
   "metadata": {},
   "source": [
    "# 4. Scrape the details of trending repositories on Github.com.\n",
    "Url = https://github.com/\n",
    "You have to find the following details:\n",
    "A) Repository title\n",
    "B) Repository description\n",
    "C) Contributors count\n",
    "D) Language used"
   ]
  },
  {
   "cell_type": "code",
   "execution_count": 88,
   "id": "7df6775e",
   "metadata": {},
   "outputs": [],
   "source": [
    "driver=webdriver.Chrome()\n",
    "driver.get(\"https://github.com/\")  # connecting to webdriver and opening the url"
   ]
  },
  {
   "cell_type": "code",
   "execution_count": 89,
   "id": "948a997a",
   "metadata": {},
   "outputs": [],
   "source": [
    "trending_rep= driver.find_element(By.XPATH,'//*[@id=\"feed-item-0\"]/div/div/div[1]/header/a')\n",
    "urls = trending_rep.get_attribute(\"href\")\n",
    "driver.get(urls)"
   ]
  },
  {
   "cell_type": "code",
   "execution_count": 90,
   "id": "9fc11a78",
   "metadata": {},
   "outputs": [],
   "source": [
    "Repository_title=[]\n",
    "Repository_description=[]\n",
    "Contributors_count=[]\n",
    "Language_used =[]"
   ]
  },
  {
   "cell_type": "code",
   "execution_count": 133,
   "id": "4b576050",
   "metadata": {},
   "outputs": [
    {
     "name": "stdout",
     "output_type": "stream",
     "text": [
      "['https://github.com/OpenDevin/OpenDevin', 'https://github.com/microsoft/generative-ai-for-beginners', 'https://github.com/jasonppy/VoiceCraft', 'https://github.com/developersdigest/llm-answer-engine', 'https://github.com/heyform/heyform', 'https://github.com/microsoft/ML-For-Beginners', 'https://github.com/wandb/openui', 'https://github.com/Zejun-Yang/AniPortrait', 'https://github.com/valkey-io/valkey', 'https://github.com/janhq/jan', 'https://github.com/helix-editor/helix', 'https://github.com/bannedbook/fanqiang', 'https://github.com/google/comprehensive-rust', 'https://github.com/adrianhajdin/zoom-clone', 'https://github.com/doocs/source-code-hunter', 'https://github.com/DioxusLabs/dioxus', 'https://github.com/2dust/v2rayN', 'https://github.com/ReVanced/revanced-patches', 'https://github.com/MsLolita/grass', 'https://github.com/TencentARC/BrushNet', 'https://github.com/iv-org/invidious', 'https://github.com/tiangolo/typer', 'https://github.com/codecrafters-io/build-your-own-x', 'https://github.com/LizardByte/Sunshine', 'https://github.com/sympy/sympy']\n"
     ]
    },
    {
     "data": {
      "text/plain": [
       "25"
      ]
     },
     "execution_count": 133,
     "metadata": {},
     "output_type": "execute_result"
    }
   ],
   "source": [
    "Rep_URL=[]\n",
    "url=driver.find_elements(By.XPATH,'//h2[@class=\"h3 lh-condensed\"]/a')\n",
    "for i in url:\n",
    "    Rep_URL.append(i.get_attribute('href'))\n",
    "print(Rep_URL)\n",
    "len(Rep_URL)"
   ]
  },
  {
   "cell_type": "code",
   "execution_count": 134,
   "id": "f8f35e4b",
   "metadata": {},
   "outputs": [
    {
     "name": "stdout",
     "output_type": "stream",
     "text": [
      "['OpenDevin /', 'microsoft /', 'jasonppy /', 'developersdigest /', 'heyform /', 'microsoft /', 'wandb /', 'Zejun-Yang /', 'valkey-io /', 'janhq /', 'helix-editor /', 'bannedbook /', 'google /', 'adrianhajdin /', 'doocs /', 'DioxusLabs /', '2dust /', 'ReVanced /', 'MsLolita /', 'TencentARC /', 'iv-org /', 'tiangolo /', 'codecrafters-io /', 'LizardByte /', 'sympy /']\n"
     ]
    },
    {
     "data": {
      "text/plain": [
       "25"
      ]
     },
     "execution_count": 134,
     "metadata": {},
     "output_type": "execute_result"
    }
   ],
   "source": [
    "Repository_title=[]\n",
    "title=driver.find_elements(By.XPATH,'//span[@class=\"text-normal\"]')\n",
    "for i in title:\n",
    "    try:\n",
    "        Title=i.text\n",
    "        Repository_title.append(Title)\n",
    "    except NoSuchElementException:\n",
    "        Repository_title.append(\"-\")\n",
    "print(Repository_title)\n",
    "len(Repository_title)"
   ]
  },
  {
   "cell_type": "code",
   "execution_count": 135,
   "id": "6af68340",
   "metadata": {},
   "outputs": [
    {
     "name": "stdout",
     "output_type": "stream",
     "text": [
      "['🐚 OpenDevin: Code Less, Make More', '18 Lessons, Get Started Building with Generative AI 🔗 https://microsoft.github.io/generative-ai-for-beginners/', 'Zero-Shot Speech Editing and Text-to-Speech in the Wild', 'Build a Perplexity-Inspired Answer Engine Using Next.js, Groq, Mixtral, Langchain, OpenAI, Brave & Serper', 'HeyForm is an open-source form builder that allows anyone to create engaging conversational forms for surveys, questionnaires, quizzes, and polls. No coding skills required.', '12 weeks, 26 lessons, 52 quizzes, classic Machine Learning for all', \"OpenUI let's you describe UI using your imagination, then see it rendered live.\", 'AniPortrait: Audio-Driven Synthesis of Photorealistic Portrait Animation', \"A new project to resume development on the formerly open-source Redis project. We're calling it Valkey, since it's a twist on the key-value datastore.\", 'Jan is an open source alternative to ChatGPT that runs 100% offline on your computer', 'A post-modern modal text editor.', '翻墙-科学上网', 'This is the Rust course used by the Android team at Google. It provides you the material to quickly teach Rust.', 'Learn to develop a professional enterprise-ready video conferencing app in hours using Next.js 14, Stream, and Tailwind CSS.', '😱 从源码层面，剖析挖掘互联网行业主流技术的底层实现原理，为广大开发者 “提升技术深度” 提供便利。目前开放 Spring 全家桶，Mybatis、Netty、Dubbo 框架，及 Redis、Tomcat 中间件等', 'Fullstack GUI library for desktop, web, mobile, and more.', 'A GUI client for Windows, support Xray core and v2fly core and others', '🧩 Patches for ReVanced', 'grass-mining', 'The official implementation of paper \"BrushNet: A Plug-and-Play Image Inpainting Model with Decomposed Dual-Branch Diffusion\"', 'Invidious is an alternative front-end to YouTube', 'Typer, build great CLIs. Easy to code. Based on Python type hints.', 'Master programming by recreating your favorite technologies from scratch.', 'Self-hosted game stream host for Moonlight.', 'A computer algebra system written in pure Python']\n"
     ]
    },
    {
     "data": {
      "text/plain": [
       "25"
      ]
     },
     "execution_count": 135,
     "metadata": {},
     "output_type": "execute_result"
    }
   ],
   "source": [
    "Repository_description=[]\n",
    "for i in Rep_URL:\n",
    "    driver.get(i)\n",
    "    try:\n",
    "        Name=driver.find_elements(By.XPATH,'//p[@class=\"f4 my-3\"]')\n",
    "        for delivery in Name:\n",
    "            title = delivery.text\n",
    "            Repository_description.append(title)\n",
    "    except NoSuchElementException:\n",
    "        Repository_description.append(\"-\")\n",
    "        time.sleep(3)\n",
    "        \n",
    "print(Repository_description)\n",
    "len(Repository_description)"
   ]
  },
  {
   "cell_type": "code",
   "execution_count": 125,
   "id": "63257637",
   "metadata": {},
   "outputs": [
    {
     "name": "stdout",
     "output_type": "stream",
     "text": [
      "['47', '54', '5', '4', '3', '127', '3', ' - ', '13', '41', '810', '3', '276', '2', '30', '214', '53', '68', '2', '3', '309', '57', '116', '94', '1,197']\n"
     ]
    },
    {
     "data": {
      "text/plain": [
       "25"
      ]
     },
     "execution_count": 125,
     "metadata": {},
     "output_type": "execute_result"
    }
   ],
   "source": [
    "Contributors_count=[]\n",
    "for i in Rep_URL:\n",
    "    driver.get(i)\n",
    "    try:\n",
    "        Name=driver.find_element(By.XPATH,'//*[@id=\"repo-content-pjax-container\"]/div/div/div[2]/div[2]/div/div/div/h2/a[contains(text(),\"Contributors\")]/span')\n",
    "        title = Name.text\n",
    "        Contributors_count.append(title)\n",
    "    except NoSuchElementException:\n",
    "        Contributors_count.append(\" - \")\n",
    "    time.sleep(3)\n",
    "        \n",
    "print(Contributors_count)\n",
    "len(Contributors_count)"
   ]
  },
  {
   "cell_type": "code",
   "execution_count": 128,
   "id": "f608e693",
   "metadata": {},
   "outputs": [
    {
     "name": "stdout",
     "output_type": "stream",
     "text": [
      "[['Python', 'TypeScript', 'Makefile', 'HTML', 'Dockerfile', 'CSS'], ['Jupyter Notebook', 'Python', 'TypeScript'], ['Jupyter Notebook', 'Python'], ['TypeScript', 'JavaScript', 'CSS', 'Dockerfile'], ['TypeScript', 'SCSS'], ['HTML', 'Jupyter Notebook', 'Python', 'Vue', 'JavaScript', 'Dockerfile'], ['TypeScript', 'Python', 'HTML', 'CSS', 'JavaScript', 'Dockerfile', 'Shell'], ['Python'], ['C', 'Tcl', 'Python', 'Shell', 'Ruby', 'Makefile'], ['TypeScript', 'JavaScript', 'SCSS', 'Dockerfile', 'Makefile', 'Batchfile'], ['Rust', 'Scheme', 'Handlebars', 'Nix', 'CSS', 'Shell'], ['Kotlin', 'JavaScript', 'Shell', 'Python', 'Java', 'HTML'], ['Rust', 'JavaScript', 'Assembly', 'Handlebars', 'Shell', 'C'], ['TypeScript', 'CSS', 'JavaScript'], ['Java'], ['Rust', 'R', 'TypeScript', 'JavaScript', 'HTML', 'RenderScript'], ['C#', 'PowerShell'], ['Kotlin'], ['Python', 'Batchfile'], ['Python'], ['Crystal', 'HTML', 'JavaScript', 'CSS', 'Shell', 'Makefile'], ['Python', 'Shell'], ['-'], ['C++', 'HTML', 'CMake', 'Dockerfile', 'Objective-C++', 'Objective-C'], ['Python', 'XSLT', 'ANTLR', 'Perl', 'JavaScript', 'Shell']]\n"
     ]
    },
    {
     "data": {
      "text/plain": [
       "25"
      ]
     },
     "execution_count": 128,
     "metadata": {},
     "output_type": "execute_result"
    }
   ],
   "source": [
    "Language_used =[]\n",
    " \n",
    "for i in Rep_URL:\n",
    "    driver.get(i)\n",
    "    L =[]\n",
    "    try:\n",
    "        lang=driver.find_elements(By.XPATH,\"//li[@class='d-inline']//a//span[1]\")\n",
    "        if lang:\n",
    "            for j in lang:\n",
    "                L.append(j.text)\n",
    "        else:\n",
    "            L.append('-')\n",
    "        Language_used.append(L)\n",
    "    except NoSuchElementException:\n",
    "        Language_used.append('-') \n",
    "print(Language_used)\n",
    "len(Language_used)"
   ]
  },
  {
   "cell_type": "code",
   "execution_count": 136,
   "id": "4ccb5d37",
   "metadata": {},
   "outputs": [
    {
     "data": {
      "text/html": [
       "<div>\n",
       "<style scoped>\n",
       "    .dataframe tbody tr th:only-of-type {\n",
       "        vertical-align: middle;\n",
       "    }\n",
       "\n",
       "    .dataframe tbody tr th {\n",
       "        vertical-align: top;\n",
       "    }\n",
       "\n",
       "    .dataframe thead th {\n",
       "        text-align: right;\n",
       "    }\n",
       "</style>\n",
       "<table border=\"1\" class=\"dataframe\">\n",
       "  <thead>\n",
       "    <tr style=\"text-align: right;\">\n",
       "      <th></th>\n",
       "      <th>Repository_title</th>\n",
       "      <th>Repository_description</th>\n",
       "      <th>Contributors_count</th>\n",
       "      <th>Language_used</th>\n",
       "    </tr>\n",
       "  </thead>\n",
       "  <tbody>\n",
       "    <tr>\n",
       "      <th>0</th>\n",
       "      <td>OpenDevin /</td>\n",
       "      <td>🐚 OpenDevin: Code Less, Make More</td>\n",
       "      <td>47</td>\n",
       "      <td>[Python, TypeScript, Makefile, HTML, Dockerfil...</td>\n",
       "    </tr>\n",
       "    <tr>\n",
       "      <th>1</th>\n",
       "      <td>microsoft /</td>\n",
       "      <td>18 Lessons, Get Started Building with Generati...</td>\n",
       "      <td>54</td>\n",
       "      <td>[Jupyter Notebook, Python, TypeScript]</td>\n",
       "    </tr>\n",
       "    <tr>\n",
       "      <th>2</th>\n",
       "      <td>jasonppy /</td>\n",
       "      <td>Zero-Shot Speech Editing and Text-to-Speech in...</td>\n",
       "      <td>5</td>\n",
       "      <td>[Jupyter Notebook, Python]</td>\n",
       "    </tr>\n",
       "    <tr>\n",
       "      <th>3</th>\n",
       "      <td>developersdigest /</td>\n",
       "      <td>Build a Perplexity-Inspired Answer Engine Usin...</td>\n",
       "      <td>4</td>\n",
       "      <td>[TypeScript, JavaScript, CSS, Dockerfile]</td>\n",
       "    </tr>\n",
       "    <tr>\n",
       "      <th>4</th>\n",
       "      <td>heyform /</td>\n",
       "      <td>HeyForm is an open-source form builder that al...</td>\n",
       "      <td>3</td>\n",
       "      <td>[TypeScript, SCSS]</td>\n",
       "    </tr>\n",
       "    <tr>\n",
       "      <th>5</th>\n",
       "      <td>microsoft /</td>\n",
       "      <td>12 weeks, 26 lessons, 52 quizzes, classic Mach...</td>\n",
       "      <td>127</td>\n",
       "      <td>[HTML, Jupyter Notebook, Python, Vue, JavaScri...</td>\n",
       "    </tr>\n",
       "    <tr>\n",
       "      <th>6</th>\n",
       "      <td>wandb /</td>\n",
       "      <td>OpenUI let's you describe UI using your imagin...</td>\n",
       "      <td>3</td>\n",
       "      <td>[TypeScript, Python, HTML, CSS, JavaScript, Do...</td>\n",
       "    </tr>\n",
       "    <tr>\n",
       "      <th>7</th>\n",
       "      <td>Zejun-Yang /</td>\n",
       "      <td>AniPortrait: Audio-Driven Synthesis of Photore...</td>\n",
       "      <td>-</td>\n",
       "      <td>[Python]</td>\n",
       "    </tr>\n",
       "    <tr>\n",
       "      <th>8</th>\n",
       "      <td>valkey-io /</td>\n",
       "      <td>A new project to resume development on the for...</td>\n",
       "      <td>13</td>\n",
       "      <td>[C, Tcl, Python, Shell, Ruby, Makefile]</td>\n",
       "    </tr>\n",
       "    <tr>\n",
       "      <th>9</th>\n",
       "      <td>janhq /</td>\n",
       "      <td>Jan is an open source alternative to ChatGPT t...</td>\n",
       "      <td>41</td>\n",
       "      <td>[TypeScript, JavaScript, SCSS, Dockerfile, Mak...</td>\n",
       "    </tr>\n",
       "    <tr>\n",
       "      <th>10</th>\n",
       "      <td>helix-editor /</td>\n",
       "      <td>A post-modern modal text editor.</td>\n",
       "      <td>810</td>\n",
       "      <td>[Rust, Scheme, Handlebars, Nix, CSS, Shell]</td>\n",
       "    </tr>\n",
       "    <tr>\n",
       "      <th>11</th>\n",
       "      <td>bannedbook /</td>\n",
       "      <td>翻墙-科学上网</td>\n",
       "      <td>3</td>\n",
       "      <td>[Kotlin, JavaScript, Shell, Python, Java, HTML]</td>\n",
       "    </tr>\n",
       "    <tr>\n",
       "      <th>12</th>\n",
       "      <td>google /</td>\n",
       "      <td>This is the Rust course used by the Android te...</td>\n",
       "      <td>276</td>\n",
       "      <td>[Rust, JavaScript, Assembly, Handlebars, Shell...</td>\n",
       "    </tr>\n",
       "    <tr>\n",
       "      <th>13</th>\n",
       "      <td>adrianhajdin /</td>\n",
       "      <td>Learn to develop a professional enterprise-rea...</td>\n",
       "      <td>2</td>\n",
       "      <td>[TypeScript, CSS, JavaScript]</td>\n",
       "    </tr>\n",
       "    <tr>\n",
       "      <th>14</th>\n",
       "      <td>doocs /</td>\n",
       "      <td>😱 从源码层面，剖析挖掘互联网行业主流技术的底层实现原理，为广大开发者 “提升技术深度” 提...</td>\n",
       "      <td>30</td>\n",
       "      <td>[Java]</td>\n",
       "    </tr>\n",
       "    <tr>\n",
       "      <th>15</th>\n",
       "      <td>DioxusLabs /</td>\n",
       "      <td>Fullstack GUI library for desktop, web, mobile...</td>\n",
       "      <td>214</td>\n",
       "      <td>[Rust, R, TypeScript, JavaScript, HTML, Render...</td>\n",
       "    </tr>\n",
       "    <tr>\n",
       "      <th>16</th>\n",
       "      <td>2dust /</td>\n",
       "      <td>A GUI client for Windows, support Xray core an...</td>\n",
       "      <td>53</td>\n",
       "      <td>[C#, PowerShell]</td>\n",
       "    </tr>\n",
       "    <tr>\n",
       "      <th>17</th>\n",
       "      <td>ReVanced /</td>\n",
       "      <td>🧩 Patches for ReVanced</td>\n",
       "      <td>68</td>\n",
       "      <td>[Kotlin]</td>\n",
       "    </tr>\n",
       "    <tr>\n",
       "      <th>18</th>\n",
       "      <td>MsLolita /</td>\n",
       "      <td>grass-mining</td>\n",
       "      <td>2</td>\n",
       "      <td>[Python, Batchfile]</td>\n",
       "    </tr>\n",
       "    <tr>\n",
       "      <th>19</th>\n",
       "      <td>TencentARC /</td>\n",
       "      <td>The official implementation of paper \"BrushNet...</td>\n",
       "      <td>3</td>\n",
       "      <td>[Python]</td>\n",
       "    </tr>\n",
       "    <tr>\n",
       "      <th>20</th>\n",
       "      <td>iv-org /</td>\n",
       "      <td>Invidious is an alternative front-end to YouTube</td>\n",
       "      <td>309</td>\n",
       "      <td>[Crystal, HTML, JavaScript, CSS, Shell, Makefile]</td>\n",
       "    </tr>\n",
       "    <tr>\n",
       "      <th>21</th>\n",
       "      <td>tiangolo /</td>\n",
       "      <td>Typer, build great CLIs. Easy to code. Based o...</td>\n",
       "      <td>57</td>\n",
       "      <td>[Python, Shell]</td>\n",
       "    </tr>\n",
       "    <tr>\n",
       "      <th>22</th>\n",
       "      <td>codecrafters-io /</td>\n",
       "      <td>Master programming by recreating your favorite...</td>\n",
       "      <td>116</td>\n",
       "      <td>[-]</td>\n",
       "    </tr>\n",
       "    <tr>\n",
       "      <th>23</th>\n",
       "      <td>LizardByte /</td>\n",
       "      <td>Self-hosted game stream host for Moonlight.</td>\n",
       "      <td>94</td>\n",
       "      <td>[C++, HTML, CMake, Dockerfile, Objective-C++, ...</td>\n",
       "    </tr>\n",
       "    <tr>\n",
       "      <th>24</th>\n",
       "      <td>sympy /</td>\n",
       "      <td>A computer algebra system written in pure Python</td>\n",
       "      <td>1,197</td>\n",
       "      <td>[Python, XSLT, ANTLR, Perl, JavaScript, Shell]</td>\n",
       "    </tr>\n",
       "  </tbody>\n",
       "</table>\n",
       "</div>"
      ],
      "text/plain": [
       "      Repository_title                             Repository_description  \\\n",
       "0          OpenDevin /                  🐚 OpenDevin: Code Less, Make More   \n",
       "1          microsoft /  18 Lessons, Get Started Building with Generati...   \n",
       "2           jasonppy /  Zero-Shot Speech Editing and Text-to-Speech in...   \n",
       "3   developersdigest /  Build a Perplexity-Inspired Answer Engine Usin...   \n",
       "4            heyform /  HeyForm is an open-source form builder that al...   \n",
       "5          microsoft /  12 weeks, 26 lessons, 52 quizzes, classic Mach...   \n",
       "6              wandb /  OpenUI let's you describe UI using your imagin...   \n",
       "7         Zejun-Yang /  AniPortrait: Audio-Driven Synthesis of Photore...   \n",
       "8          valkey-io /  A new project to resume development on the for...   \n",
       "9              janhq /  Jan is an open source alternative to ChatGPT t...   \n",
       "10      helix-editor /                   A post-modern modal text editor.   \n",
       "11        bannedbook /                                            翻墙-科学上网   \n",
       "12            google /  This is the Rust course used by the Android te...   \n",
       "13      adrianhajdin /  Learn to develop a professional enterprise-rea...   \n",
       "14             doocs /  😱 从源码层面，剖析挖掘互联网行业主流技术的底层实现原理，为广大开发者 “提升技术深度” 提...   \n",
       "15        DioxusLabs /  Fullstack GUI library for desktop, web, mobile...   \n",
       "16             2dust /  A GUI client for Windows, support Xray core an...   \n",
       "17          ReVanced /                             🧩 Patches for ReVanced   \n",
       "18          MsLolita /                                       grass-mining   \n",
       "19        TencentARC /  The official implementation of paper \"BrushNet...   \n",
       "20            iv-org /   Invidious is an alternative front-end to YouTube   \n",
       "21          tiangolo /  Typer, build great CLIs. Easy to code. Based o...   \n",
       "22   codecrafters-io /  Master programming by recreating your favorite...   \n",
       "23        LizardByte /        Self-hosted game stream host for Moonlight.   \n",
       "24             sympy /   A computer algebra system written in pure Python   \n",
       "\n",
       "   Contributors_count                                      Language_used  \n",
       "0                  47  [Python, TypeScript, Makefile, HTML, Dockerfil...  \n",
       "1                  54             [Jupyter Notebook, Python, TypeScript]  \n",
       "2                   5                         [Jupyter Notebook, Python]  \n",
       "3                   4          [TypeScript, JavaScript, CSS, Dockerfile]  \n",
       "4                   3                                 [TypeScript, SCSS]  \n",
       "5                 127  [HTML, Jupyter Notebook, Python, Vue, JavaScri...  \n",
       "6                   3  [TypeScript, Python, HTML, CSS, JavaScript, Do...  \n",
       "7                  -                                            [Python]  \n",
       "8                  13            [C, Tcl, Python, Shell, Ruby, Makefile]  \n",
       "9                  41  [TypeScript, JavaScript, SCSS, Dockerfile, Mak...  \n",
       "10                810        [Rust, Scheme, Handlebars, Nix, CSS, Shell]  \n",
       "11                  3    [Kotlin, JavaScript, Shell, Python, Java, HTML]  \n",
       "12                276  [Rust, JavaScript, Assembly, Handlebars, Shell...  \n",
       "13                  2                      [TypeScript, CSS, JavaScript]  \n",
       "14                 30                                             [Java]  \n",
       "15                214  [Rust, R, TypeScript, JavaScript, HTML, Render...  \n",
       "16                 53                                   [C#, PowerShell]  \n",
       "17                 68                                           [Kotlin]  \n",
       "18                  2                                [Python, Batchfile]  \n",
       "19                  3                                           [Python]  \n",
       "20                309  [Crystal, HTML, JavaScript, CSS, Shell, Makefile]  \n",
       "21                 57                                    [Python, Shell]  \n",
       "22                116                                                [-]  \n",
       "23                 94  [C++, HTML, CMake, Dockerfile, Objective-C++, ...  \n",
       "24              1,197     [Python, XSLT, ANTLR, Perl, JavaScript, Shell]  "
      ]
     },
     "execution_count": 136,
     "metadata": {},
     "output_type": "execute_result"
    }
   ],
   "source": [
    "Trending_Repositories=pd.DataFrame({'Repository_title':Repository_title,'Repository_description':Repository_description,'Contributors_count':Contributors_count,'Language_used':Language_used})\n",
    "Trending_Repositories"
   ]
  },
  {
   "cell_type": "markdown",
   "id": "c24d01ca",
   "metadata": {},
   "source": [
    "# 5. Scrape the details of top 100 songs on billiboard.com. Url = https:/www.billboard.com/ You have to find the\n",
    "following details:\n",
    "A) Song name\n",
    "B) Artist name\n",
    "C) Last week rank\n",
    "D) Peak rank\n",
    "E) Weeks on board "
   ]
  },
  {
   "cell_type": "code",
   "execution_count": 138,
   "id": "9acb6e13",
   "metadata": {},
   "outputs": [],
   "source": [
    "driver=webdriver.Chrome() # connecting to webdriver\n",
    "driver.get(\"https://www.billboard.com/\")"
   ]
  },
  {
   "cell_type": "code",
   "execution_count": 140,
   "id": "22e230c9",
   "metadata": {},
   "outputs": [],
   "source": [
    "# clicking on option button\n",
    "Billboard_Hot_100=driver.find_element(By.XPATH,'//a[@class=\"c-link  lrv-a-unstyle-link lrv-u-color-brand-primary:hover lrv-a-hover-effect lrv-u-whitespace-nowrap lrv-u-color-grey-dark\"]').click()"
   ]
  },
  {
   "cell_type": "code",
   "execution_count": 141,
   "id": "7e7c8cdf",
   "metadata": {},
   "outputs": [],
   "source": [
    "# creating empty lists\n",
    "Song_Name = []\n",
    "Artist_Name =[]\n",
    "Last_week_rank = []\n",
    "Peak_rank = []\n",
    "Weeks_on_board = []"
   ]
  },
  {
   "cell_type": "code",
   "execution_count": 149,
   "id": "ae792465",
   "metadata": {},
   "outputs": [
    {
     "name": "stdout",
     "output_type": "stream",
     "text": [
      "['Lose Control', 'Beautiful Things', \"We Can't Be Friends (Wait For Your Love)\", 'Lovin On Me', 'Carnival', \"Texas Hold 'Em\", 'I Remember Everything', 'Greedy', 'Enough (Miami)', 'Cruel Summer', 'End Of Beginning', 'Stick Season', 'Agora Hills', 'Snooze', 'Never Lose Me', 'Last Night', 'Saturn', 'Fast Car', 'Act II: Date @ 8', 'Water', \"Thinkin' Bout Me\", 'Redrum', 'Get It Sexyy', 'Whatever She Wants', 'Made For Me', 'Feather', 'Truck Bed', 'Man Made A Bar', 'Houdini', 'Selfish', \"Is It Over Now? (Taylor's Version) [From The Vault]\", 'Paint The Town Red', 'What Was I Made For?', 'The Boy Is Mine', 'Yeah Glo!', 'Yes, And?', 'Wild Ones', 'Save Me', 'Pretty Little Poison', 'Supernatural', 'Where The Wild Things Are', 'Burn It Down', 'Exes', 'La Diabla', '23', 'Vampire', 'FE!N', 'Wildflowers And Wild Horses', 'Eternal Sunshine', 'Get In With Me', 'Everybody', 'Bye', 'Soak City', 'Prada Dem', \"Mamaw's House\", 'Scared To Start', 'Surround Sound', 'One Of The Girls', 'Austin', 'Bandit', 'Training Season', 'Praise Jah In The Moonlight', 'I Can Feel It', 'Breathe', 'FRI(END)S', 'True Story', 'Where It Ends', \"Don't Wanna Break Up Again\", 'You Broke My Heart', 'Mmhmm', 'FTCU', 'Imperfect For You', 'Sensational', 'Tu Name', 'One Call', 'Deeper Well', 'La Victima', 'Spin You Around (1/24)', 'Intro (End Of The World)', 'Home', 'Tucson Too Late', 'Harley Quinn', 'Back Then Right Now', 'Perro Negro', 'I Wish I Hated You', 'Murder On The Dancefloor', 'Coal', \"Let's Go\", 'Nee-nah', 'Bellakeo', 'Like What (Freestyle)', 'Outskirts', 'Mr Pot Scraper', 'Holy Smokes', 'Baby Please', 'We Ride', 'Tourniquet', 'Gata Only', 'Igual Que Un Angel', \"We Don't Fight Anymore\"]\n"
     ]
    },
    {
     "data": {
      "text/plain": [
       "100"
      ]
     },
     "execution_count": 149,
     "metadata": {},
     "output_type": "execute_result"
    }
   ],
   "source": [
    "Song_Name = []\n",
    "title=driver.find_elements(By.XPATH,'//ul[@class=\"lrv-a-unstyle-list lrv-u-flex lrv-u-height-100p lrv-u-flex-direction-column@mobile-max\"]/li[1]/h3')\n",
    "for i in title:\n",
    "    try:\n",
    "        Title=i.text\n",
    "        Song_Name.append(Title)\n",
    "    except NoSuchElementException:\n",
    "        Song_Name.append(\"-\")\n",
    "print(Song_Name)\n",
    "len(Song_Name)"
   ]
  },
  {
   "cell_type": "code",
   "execution_count": 150,
   "id": "3577dc70",
   "metadata": {},
   "outputs": [
    {
     "name": "stdout",
     "output_type": "stream",
     "text": [
      "['Teddy Swims', 'Benson Boone', 'Ariana Grande', 'Jack Harlow', '¥$: Ye & Ty Dolla $ign Featuring Rich The Kid & Playboi Carti', 'Beyonce', 'Zach Bryan Featuring Kacey Musgraves', 'Tate McRae', 'Cardi B', 'Taylor Swift', 'Djo', 'Noah Kahan', 'Doja Cat', 'SZA', 'Flo Milli', 'Morgan Wallen', 'SZA', 'Luke Combs', '4Batz Featuring Drake', 'Tyla', 'Morgan Wallen', '21 Savage', 'Sexyy Red', 'Bryson Tiller', 'Muni Long', 'Sabrina Carpenter', 'HARDY', 'Morgan Wallen Featuring Eric Church', 'Dua Lipa', 'Justin Timberlake', 'Taylor Swift', 'Doja Cat', 'Billie Eilish', 'Ariana Grande', 'GloRilla', 'Ariana Grande', 'Jessie Murph & Jelly Roll', 'Jelly Roll With Lainey Wilson', 'Warren Zeiders', 'Ariana Grande', 'Luke Combs', 'Parker McCollum', 'Tate McRae', 'Xavi', 'Chayce Beckham', 'Olivia Rodrigo', 'Travis Scott Featuring Playboi Carti', 'Lainey Wilson', 'Ariana Grande', 'BossMan Dlow', 'Nicki Minaj Featuring Lil Uzi Vert', 'Ariana Grande', '310babii', 'Gunna Featuring Offset', 'Thomas Rhett Featuring Morgan Wallen', 'Michael Marcagi', 'JID Featuring 21 Savage & Baby Tate', 'The Weeknd, Jennie & Lily Rose Depp', 'Dasha', 'Don Toliver', 'Dua Lipa', 'YG Marley', 'Kane Brown', 'Yeat', 'V', 'Ariana Grande', 'Bailey Zimmerman', 'Ariana Grande', 'Drake', 'BigXthaPlug', 'Nicki Minaj', 'Ariana Grande', 'Chris Brown Featuring Davido & Lojay', 'Fuerza Regida', 'Rich Amiri', 'Kacey Musgraves', 'Xavi', 'Morgan Wallen', 'Ariana Grande', 'Good Neighbours', 'Jordan Davis', 'Fuerza Regida & Marshmello', 'Tyler Hubbard', 'Bad Bunny & Feid', 'Ariana Grande', 'Sophie Ellis-Bextor', 'Dylan Gossett', 'Key Glock', '21 Savage, Travis Scott & Metro Boomin', 'Peso Pluma & Anitta', 'Cardi B', 'Sam Hunt', 'BossMan Dlow', 'Bailey Zimmerman', 'Ivan Cornejo', 'Bryan Martin', 'Zach Bryan', 'FloyyMenor X Cris Mj', 'Kali Uchis & Peso Pluma', 'Carly Pearce Featuring Chris Stapleton']\n"
     ]
    },
    {
     "data": {
      "text/plain": [
       "100"
      ]
     },
     "execution_count": 150,
     "metadata": {},
     "output_type": "execute_result"
    }
   ],
   "source": [
    "Artist_Name = []\n",
    "title=driver.find_elements(By.XPATH,'//ul[@class=\"lrv-a-unstyle-list lrv-u-flex lrv-u-height-100p lrv-u-flex-direction-column@mobile-max\"]/li[1]/span')\n",
    "for i in title:\n",
    "    try:\n",
    "        Title=i.text\n",
    "        Artist_Name.append(Title)\n",
    "    except NoSuchElementException:\n",
    "        Artist_Name.append(\"-\")\n",
    "print(Artist_Name)\n",
    "len(Artist_Name)"
   ]
  },
  {
   "cell_type": "code",
   "execution_count": 151,
   "id": "b150f602",
   "metadata": {},
   "outputs": [
    {
     "name": "stdout",
     "output_type": "stream",
     "text": [
      "['2', '3', '1', '5', '4', '6', '9', '8', '-', '13', '21', '15', '12', '11', '34', '18', '14', '20', '7', '19', '26', '22', '-', '24', '29', '33', '36', '51', '31', '40', '27', '32', '35', '16', '41', '10', '43', '45', '42', '17', '46', '53', '47', '44', '52', '48', '50', '56', '23', '63', '59', '25', '62', '-', '58', '67', '61', '64', '74', '78', '68', '57', '54', '65', '-', '30', '73', '28', '66', '80', '71', '37', '72', '75', '70', '-', '76', '77', '38', '83', '92', '81', '96', '82', '39', '69', '90', '89', '85', '86', '84', '98', '-', '87', '-', '-', '97', '-', '94', '-']\n"
     ]
    },
    {
     "data": {
      "text/plain": [
       "100"
      ]
     },
     "execution_count": 151,
     "metadata": {},
     "output_type": "execute_result"
    }
   ],
   "source": [
    "Last_week_rank = []\n",
    "title=driver.find_elements(By.XPATH,'//ul[@class=\"lrv-a-unstyle-list lrv-u-flex lrv-u-height-100p lrv-u-flex-direction-column@mobile-max\"]/li[4]/span')\n",
    "for i in title:\n",
    "    try:\n",
    "        Title=i.text\n",
    "        Last_week_rank.append(Title)\n",
    "    except NoSuchElementException:\n",
    "        Last_week_rank.append(\"-\")\n",
    "print(Last_week_rank)\n",
    "len(Last_week_rank)"
   ]
  },
  {
   "cell_type": "code",
   "execution_count": 152,
   "id": "5252429f",
   "metadata": {},
   "outputs": [
    {
     "name": "stdout",
     "output_type": "stream",
     "text": [
      "['1', '2', '1', '1', '1', '1', '1', '3', '9', '1', '11', '10', '7', '2', '15', '1', '6', '2', '7', '7', '7', '5', '23', '19', '20', '26', '27', '15', '11', '19', '1', '1', '14', '16', '35', '1', '35', '19', '19', '17', '26', '42', '34', '20', '45', '1', '5', '48', '23', '49', '24', '25', '53', '54', '55', '56', '40', '51', '59', '38', '27', '34', '50', '42', '65', '30', '32', '28', '11', '65', '15', '37', '71', '66', '60', '76', '46', '24', '38', '77', '81', '40', '83', '20', '39', '51', '73', '88', '10', '53', '38', '92', '93', '54', '95', '96', '20', '98', '22', '67']\n"
     ]
    },
    {
     "data": {
      "text/plain": [
       "100"
      ]
     },
     "execution_count": 152,
     "metadata": {},
     "output_type": "execute_result"
    }
   ],
   "source": [
    "Peak_rank  = []\n",
    "title=driver.find_elements(By.XPATH,'//ul[@class=\"lrv-a-unstyle-list lrv-u-flex lrv-u-height-100p lrv-u-flex-direction-column@mobile-max\"]/li[5]/span')\n",
    "for i in title:\n",
    "    try:\n",
    "        Title=i.text\n",
    "        Peak_rank .append(Title)\n",
    "    except NoSuchElementException:\n",
    "        Peak_rank .append(\"-\")\n",
    "print(Peak_rank )\n",
    "len(Peak_rank )"
   ]
  },
  {
   "cell_type": "code",
   "execution_count": 153,
   "id": "b1f89816",
   "metadata": {},
   "outputs": [
    {
     "name": "stdout",
     "output_type": "stream",
     "text": [
      "['32', '9', '2', '19', '6', '6', '30', '27', '1', '46', '5', '25', '26', '66', '14', '60', '4', '52', '11', '25', '55', '10', '1', '5', '10', '16', '40', '26', '19', '8', '21', '33', '35', '2', '6', '10', '24', '37', '28', '2', '18', '22', '18', '14', '12', '35', '21', '8', '2', '7', '15', '2', '14', '1', '12', '5', '19', '13', '2', '7', '5', '8', '12', '5', '1', '2', '12', '2', '18', '13', '15', '2', '7', '5', '8', '1', '14', '8', '2', '7', '3', '20', '2', '20', '2', '12', '11', '4', '10', '14', '3', '2', '1', '4', '1', '1', '12', '1', '10', '11']\n"
     ]
    },
    {
     "data": {
      "text/plain": [
       "100"
      ]
     },
     "execution_count": 153,
     "metadata": {},
     "output_type": "execute_result"
    }
   ],
   "source": [
    "Weeks_on_board  = []\n",
    "title=driver.find_elements(By.XPATH,'//ul[@class=\"lrv-a-unstyle-list lrv-u-flex lrv-u-height-100p lrv-u-flex-direction-column@mobile-max\"]/li[6]/span')\n",
    "for i in title:\n",
    "    try:\n",
    "        Title=i.text\n",
    "        Weeks_on_board .append(Title)\n",
    "    except NoSuchElementException:\n",
    "        Weeks_on_board .append(\"-\")\n",
    "print(Weeks_on_board )\n",
    "len(Weeks_on_board )"
   ]
  },
  {
   "cell_type": "code",
   "execution_count": 154,
   "id": "91cf5a84",
   "metadata": {
    "scrolled": true
   },
   "outputs": [
    {
     "data": {
      "text/html": [
       "<div>\n",
       "<style scoped>\n",
       "    .dataframe tbody tr th:only-of-type {\n",
       "        vertical-align: middle;\n",
       "    }\n",
       "\n",
       "    .dataframe tbody tr th {\n",
       "        vertical-align: top;\n",
       "    }\n",
       "\n",
       "    .dataframe thead th {\n",
       "        text-align: right;\n",
       "    }\n",
       "</style>\n",
       "<table border=\"1\" class=\"dataframe\">\n",
       "  <thead>\n",
       "    <tr style=\"text-align: right;\">\n",
       "      <th></th>\n",
       "      <th>Song_Name</th>\n",
       "      <th>Artist_Name</th>\n",
       "      <th>Last_week_rank</th>\n",
       "      <th>Peak_rank</th>\n",
       "      <th>Weeks_on_board</th>\n",
       "    </tr>\n",
       "  </thead>\n",
       "  <tbody>\n",
       "    <tr>\n",
       "      <th>0</th>\n",
       "      <td>Lose Control</td>\n",
       "      <td>Teddy Swims</td>\n",
       "      <td>2</td>\n",
       "      <td>1</td>\n",
       "      <td>32</td>\n",
       "    </tr>\n",
       "    <tr>\n",
       "      <th>1</th>\n",
       "      <td>Beautiful Things</td>\n",
       "      <td>Benson Boone</td>\n",
       "      <td>3</td>\n",
       "      <td>2</td>\n",
       "      <td>9</td>\n",
       "    </tr>\n",
       "    <tr>\n",
       "      <th>2</th>\n",
       "      <td>We Can't Be Friends (Wait For Your Love)</td>\n",
       "      <td>Ariana Grande</td>\n",
       "      <td>1</td>\n",
       "      <td>1</td>\n",
       "      <td>2</td>\n",
       "    </tr>\n",
       "    <tr>\n",
       "      <th>3</th>\n",
       "      <td>Lovin On Me</td>\n",
       "      <td>Jack Harlow</td>\n",
       "      <td>5</td>\n",
       "      <td>1</td>\n",
       "      <td>19</td>\n",
       "    </tr>\n",
       "    <tr>\n",
       "      <th>4</th>\n",
       "      <td>Carnival</td>\n",
       "      <td>¥$: Ye &amp; Ty Dolla $ign Featuring Rich The Kid ...</td>\n",
       "      <td>4</td>\n",
       "      <td>1</td>\n",
       "      <td>6</td>\n",
       "    </tr>\n",
       "    <tr>\n",
       "      <th>...</th>\n",
       "      <td>...</td>\n",
       "      <td>...</td>\n",
       "      <td>...</td>\n",
       "      <td>...</td>\n",
       "      <td>...</td>\n",
       "    </tr>\n",
       "    <tr>\n",
       "      <th>95</th>\n",
       "      <td>We Ride</td>\n",
       "      <td>Bryan Martin</td>\n",
       "      <td>-</td>\n",
       "      <td>96</td>\n",
       "      <td>1</td>\n",
       "    </tr>\n",
       "    <tr>\n",
       "      <th>96</th>\n",
       "      <td>Tourniquet</td>\n",
       "      <td>Zach Bryan</td>\n",
       "      <td>97</td>\n",
       "      <td>20</td>\n",
       "      <td>12</td>\n",
       "    </tr>\n",
       "    <tr>\n",
       "      <th>97</th>\n",
       "      <td>Gata Only</td>\n",
       "      <td>FloyyMenor X Cris Mj</td>\n",
       "      <td>-</td>\n",
       "      <td>98</td>\n",
       "      <td>1</td>\n",
       "    </tr>\n",
       "    <tr>\n",
       "      <th>98</th>\n",
       "      <td>Igual Que Un Angel</td>\n",
       "      <td>Kali Uchis &amp; Peso Pluma</td>\n",
       "      <td>94</td>\n",
       "      <td>22</td>\n",
       "      <td>10</td>\n",
       "    </tr>\n",
       "    <tr>\n",
       "      <th>99</th>\n",
       "      <td>We Don't Fight Anymore</td>\n",
       "      <td>Carly Pearce Featuring Chris Stapleton</td>\n",
       "      <td>-</td>\n",
       "      <td>67</td>\n",
       "      <td>11</td>\n",
       "    </tr>\n",
       "  </tbody>\n",
       "</table>\n",
       "<p>100 rows × 5 columns</p>\n",
       "</div>"
      ],
      "text/plain": [
       "                                   Song_Name  \\\n",
       "0                               Lose Control   \n",
       "1                           Beautiful Things   \n",
       "2   We Can't Be Friends (Wait For Your Love)   \n",
       "3                                Lovin On Me   \n",
       "4                                   Carnival   \n",
       "..                                       ...   \n",
       "95                                   We Ride   \n",
       "96                                Tourniquet   \n",
       "97                                 Gata Only   \n",
       "98                        Igual Que Un Angel   \n",
       "99                    We Don't Fight Anymore   \n",
       "\n",
       "                                          Artist_Name Last_week_rank  \\\n",
       "0                                         Teddy Swims              2   \n",
       "1                                        Benson Boone              3   \n",
       "2                                       Ariana Grande              1   \n",
       "3                                         Jack Harlow              5   \n",
       "4   ¥$: Ye & Ty Dolla $ign Featuring Rich The Kid ...              4   \n",
       "..                                                ...            ...   \n",
       "95                                       Bryan Martin              -   \n",
       "96                                         Zach Bryan             97   \n",
       "97                               FloyyMenor X Cris Mj              -   \n",
       "98                            Kali Uchis & Peso Pluma             94   \n",
       "99             Carly Pearce Featuring Chris Stapleton              -   \n",
       "\n",
       "   Peak_rank Weeks_on_board  \n",
       "0          1             32  \n",
       "1          2              9  \n",
       "2          1              2  \n",
       "3          1             19  \n",
       "4          1              6  \n",
       "..       ...            ...  \n",
       "95        96              1  \n",
       "96        20             12  \n",
       "97        98              1  \n",
       "98        22             10  \n",
       "99        67             11  \n",
       "\n",
       "[100 rows x 5 columns]"
      ]
     },
     "execution_count": 154,
     "metadata": {},
     "output_type": "execute_result"
    }
   ],
   "source": [
    "Top_100_Songs=pd.DataFrame({'Song_Name':Song_Name,'Artist_Name':Artist_Name,'Last_week_rank':Last_week_rank,'Peak_rank':Peak_rank,'Weeks_on_board':Weeks_on_board})      \n",
    "Top_100_Songs"
   ]
  },
  {
   "cell_type": "markdown",
   "id": "1fe2cf15",
   "metadata": {},
   "source": [
    "# 6. Scrape the details of Highest selling novels.\n",
    "A) Book name\n",
    "B) Author name\n",
    "C) Volumes sold\n",
    "D) Publisher\n",
    "E) Genre\n",
    " Url - https://www.theguardian.com/news/datablog/2012/aug/09/best-selling-books-all-time-fifty-shades-grey-compare"
   ]
  },
  {
   "cell_type": "code",
   "execution_count": 156,
   "id": "a5b2b826",
   "metadata": {},
   "outputs": [],
   "source": [
    "driver=webdriver.Chrome() # connecting to the web driver\n",
    "driver.get(\"https://www.theguardian.com/news/datablog/2012/aug/09/best-selling-books-all-time-fifty-shades-grey-compare\")"
   ]
  },
  {
   "cell_type": "code",
   "execution_count": 157,
   "id": "64a9a010",
   "metadata": {},
   "outputs": [],
   "source": [
    "Book_name=[]\n",
    "Author_name=[]\n",
    "Volumes_sold=[]\n",
    "Publisher=[]\n",
    "Genre=[]"
   ]
  },
  {
   "cell_type": "code",
   "execution_count": 158,
   "id": "7d05f754",
   "metadata": {},
   "outputs": [
    {
     "name": "stdout",
     "output_type": "stream",
     "text": [
      "['Da Vinci Code,The', 'Harry Potter and the Deathly Hallows', \"Harry Potter and the Philosopher's Stone\", 'Harry Potter and the Order of the Phoenix', 'Fifty Shades of Grey', 'Harry Potter and the Goblet of Fire', 'Harry Potter and the Chamber of Secrets', 'Harry Potter and the Prisoner of Azkaban', 'Angels and Demons', \"Harry Potter and the Half-blood Prince:Children's Edition\", 'Fifty Shades Darker', 'Twilight', 'Girl with the Dragon Tattoo,The:Millennium Trilogy', 'Fifty Shades Freed', 'Lost Symbol,The', 'New Moon', 'Deception Point', 'Eclipse', 'Lovely Bones,The', 'Curious Incident of the Dog in the Night-time,The', 'Digital Fortress', 'Short History of Nearly Everything,A', 'Girl Who Played with Fire,The:Millennium Trilogy', 'Breaking Dawn', 'Very Hungry Caterpillar,The:The Very Hungry Caterpillar', 'Gruffalo,The', \"Jamie's 30-Minute Meals\", 'Kite Runner,The', 'One Day', 'Thousand Splendid Suns,A', \"Girl Who Kicked the Hornets' Nest,The:Millennium Trilogy\", \"Time Traveler's Wife,The\", 'Atonement', \"Bridget Jones's Diary:A Novel\", 'World According to Clarkson,The', \"Captain Corelli's Mandolin\", 'Sound of Laughter,The', 'Life of Pi', 'Billy Connolly', 'Child Called It,A', \"Gruffalo's Child,The\", \"Angela's Ashes:A Memoir of a Childhood\", 'Birdsong', 'Northern Lights:His Dark Materials S.', 'Labyrinth', 'Harry Potter and the Half-blood Prince', 'Help,The', 'Man and Boy', 'Memoirs of a Geisha', \"No.1 Ladies' Detective Agency,The:No.1 Ladies' Detective Agency S.\", 'Island,The', 'PS, I Love You', 'You are What You Eat:The Plan That Will Change Your Life', 'Shadow of the Wind,The', 'Tales of Beedle the Bard,The', 'Broker,The', \"Dr. Atkins' New Diet Revolution:The No-hunger, Luxurious Weight Loss P\", 'Subtle Knife,The:His Dark Materials S.', 'Eats, Shoots and Leaves:The Zero Tolerance Approach to Punctuation', \"Delia's How to Cook:(Bk.1)\", 'Chocolat', 'Boy in the Striped Pyjamas,The', \"My Sister's Keeper\", 'Amber Spyglass,The:His Dark Materials S.', 'To Kill a Mockingbird', 'Men are from Mars, Women are from Venus:A Practical Guide for Improvin', 'Dear Fatty', 'Short History of Tractors in Ukrainian,A', 'Hannibal', 'Lord of the Rings,The', 'Stupid White Men:...and Other Sorry Excuses for the State of the Natio', 'Interpretation of Murder,The', 'Sharon Osbourne Extreme:My Autobiography', 'Alchemist,The:A Fable About Following Your Dream', \"At My Mother's Knee ...:and Other Low Joints\", 'Notes from a Small Island', 'Return of the Naked Chef,The', 'Bridget Jones: The Edge of Reason', \"Jamie's Italy\", 'I Can Make You Thin', 'Down Under', 'Summons,The', 'Small Island', 'Nigella Express', 'Brick Lane', \"Memory Keeper's Daughter,The\", 'Room on the Broom', 'About a Boy', 'My Booky Wook', 'God Delusion,The', '\"Beano\" Annual,The', 'White Teeth', 'House at Riverton,The', 'Book Thief,The', 'Nights of Rain and Stars', 'Ghost,The', 'Happy Days with the Naked Chef', 'Hunger Games,The:Hunger Games Trilogy', \"Lost Boy,The:A Foster Child's Search for the Love of a Family\", \"Jamie's Ministry of Food:Anyone Can Learn to Cook in 24 Hours\"]\n"
     ]
    },
    {
     "data": {
      "text/plain": [
       "100"
      ]
     },
     "execution_count": 158,
     "metadata": {},
     "output_type": "execute_result"
    }
   ],
   "source": [
    "Book_name= [] \n",
    "title=driver.find_elements(By.XPATH,'//table[@class=\"in-article sortable\"]/tbody/tr/td[2]')\n",
    "for i in title:\n",
    "    try:\n",
    "        Title=i.text\n",
    "        Book_name.append(Title)\n",
    "    except NoSuchElementException:\n",
    "        Book_name.append(\"-\")\n",
    "print(Book_name)\n",
    "len(Book_name)"
   ]
  },
  {
   "cell_type": "code",
   "execution_count": 159,
   "id": "84a9b0cd",
   "metadata": {},
   "outputs": [
    {
     "name": "stdout",
     "output_type": "stream",
     "text": [
      "['Brown, Dan', 'Rowling, J.K.', 'Rowling, J.K.', 'Rowling, J.K.', 'James, E. L.', 'Rowling, J.K.', 'Rowling, J.K.', 'Rowling, J.K.', 'Brown, Dan', 'Rowling, J.K.', 'James, E. L.', 'Meyer, Stephenie', 'Larsson, Stieg', 'James, E. L.', 'Brown, Dan', 'Meyer, Stephenie', 'Brown, Dan', 'Meyer, Stephenie', 'Sebold, Alice', 'Haddon, Mark', 'Brown, Dan', 'Bryson, Bill', 'Larsson, Stieg', 'Meyer, Stephenie', 'Carle, Eric', 'Donaldson, Julia', 'Oliver, Jamie', 'Hosseini, Khaled', 'Nicholls, David', 'Hosseini, Khaled', 'Larsson, Stieg', 'Niffenegger, Audrey', 'McEwan, Ian', 'Fielding, Helen', 'Clarkson, Jeremy', 'Bernieres, Louis de', 'Kay, Peter', 'Martel, Yann', 'Stephenson, Pamela', 'Pelzer, Dave', 'Donaldson, Julia', 'McCourt, Frank', 'Faulks, Sebastian', 'Pullman, Philip', 'Mosse, Kate', 'Rowling, J.K.', 'Stockett, Kathryn', 'Parsons, Tony', 'Golden, Arthur', 'McCall Smith, Alexander', 'Hislop, Victoria', 'Ahern, Cecelia', 'McKeith, Gillian', 'Zafon, Carlos Ruiz', 'Rowling, J.K.', 'Grisham, John', 'Atkins, Robert C.', 'Pullman, Philip', 'Truss, Lynne', 'Smith, Delia', 'Harris, Joanne', 'Boyne, John', 'Picoult, Jodi', 'Pullman, Philip', 'Lee, Harper', 'Gray, John', 'French, Dawn', 'Lewycka, Marina', 'Harris, Thomas', 'Tolkien, J. R. R.', 'Moore, Michael', 'Rubenfeld, Jed', 'Osbourne, Sharon', 'Coelho, Paulo', \"O'Grady, Paul\", 'Bryson, Bill', 'Oliver, Jamie', 'Fielding, Helen', 'Oliver, Jamie', 'McKenna, Paul', 'Bryson, Bill', 'Grisham, John', 'Levy, Andrea', 'Lawson, Nigella', 'Ali, Monica', 'Edwards, Kim', 'Donaldson, Julia', 'Hornby, Nick', 'Brand, Russell', 'Dawkins, Richard', '0', 'Smith, Zadie', 'Morton, Kate', 'Zusak, Markus', 'Binchy, Maeve', 'Harris, Robert', 'Oliver, Jamie', 'Collins, Suzanne', 'Pelzer, Dave', 'Oliver, Jamie']\n"
     ]
    },
    {
     "data": {
      "text/plain": [
       "100"
      ]
     },
     "execution_count": 159,
     "metadata": {},
     "output_type": "execute_result"
    }
   ],
   "source": [
    "Author_name= [] \n",
    "title=driver.find_elements(By.XPATH,'//table[@class=\"in-article sortable\"]/tbody/tr/td[3]')\n",
    "for i in title:\n",
    "    try:\n",
    "        Title=i.text\n",
    "        Author_name.append(Title)\n",
    "    except NoSuchElementException:\n",
    "        Author_name.append(\"-\")\n",
    "print(Author_name)\n",
    "len(Author_name)"
   ]
  },
  {
   "cell_type": "code",
   "execution_count": 160,
   "id": "f0bd55fd",
   "metadata": {},
   "outputs": [
    {
     "name": "stdout",
     "output_type": "stream",
     "text": [
      "['5,094,805', '4,475,152', '4,200,654', '4,179,479', '3,758,936', '3,583,215', '3,484,047', '3,377,906', '3,193,946', '2,950,264', '2,479,784', '2,315,405', '2,233,570', '2,193,928', '2,183,031', '2,152,737', '2,062,145', '2,052,876', '2,005,598', '1,979,552', '1,928,900', '1,852,919', '1,814,784', '1,787,118', '1,783,535', '1,781,269', '1,743,266', '1,629,119', '1,616,068', '1,583,992', '1,555,135', '1,546,886', '1,539,428', '1,508,205', '1,489,403', '1,352,318', '1,310,207', '1,310,176', '1,231,957', '1,217,712', '1,208,711', '1,204,058', '1,184,967', '1,181,503', '1,181,093', '1,153,181', '1,132,336', '1,130,802', '1,126,337', '1,115,549', '1,108,328', '1,107,379', '1,104,403', '1,092,349', '1,090,847', '1,087,262', '1,054,196', '1,037,160', '1,023,688', '1,015,956', '1,009,873', '1,004,414', '1,003,780', '1,002,314', '998,213', '992,846', '986,753', '986,115', '970,509', '967,466', '963,353', '962,515', '959,496', '956,114', '945,640', '931,312', '925,425', '924,695', '906,968', '905,086', '890,847', '869,671', '869,659', '862,602', '856,540', '845,858', '842,535', '828,215', '820,563', '816,907', '816,585', '815,586', '814,370', '809,641', '808,900', '807,311', '794,201', '792,187', '791,507', '791,095']\n"
     ]
    },
    {
     "data": {
      "text/plain": [
       "100"
      ]
     },
     "execution_count": 160,
     "metadata": {},
     "output_type": "execute_result"
    }
   ],
   "source": [
    "Volumes_sold= [] \n",
    "title=driver.find_elements(By.XPATH,'//table[@class=\"in-article sortable\"]/tbody/tr/td[4]')\n",
    "for i in title:\n",
    "    try:\n",
    "        Title=i.text\n",
    "        Volumes_sold.append(Title)\n",
    "    except NoSuchElementException:\n",
    "        Volumes_sold.append(\"-\")\n",
    "print(Volumes_sold)\n",
    "len(Volumes_sold)"
   ]
  },
  {
   "cell_type": "code",
   "execution_count": 161,
   "id": "7868a573",
   "metadata": {},
   "outputs": [
    {
     "name": "stdout",
     "output_type": "stream",
     "text": [
      "['Transworld', 'Bloomsbury', 'Bloomsbury', 'Bloomsbury', 'Random House', 'Bloomsbury', 'Bloomsbury', 'Bloomsbury', 'Transworld', 'Bloomsbury', 'Random House', 'Little, Brown Book', 'Quercus', 'Random House', 'Transworld', 'Little, Brown Book', 'Transworld', 'Little, Brown Book', 'Pan Macmillan', 'Random House', 'Transworld', 'Transworld', 'Quercus', 'Little, Brown Book', 'Penguin', 'Pan Macmillan', 'Penguin', 'Bloomsbury', 'Hodder & Stoughton', 'Bloomsbury', 'Quercus', 'Random House', 'Random House', 'Pan Macmillan', 'Penguin', 'Random House', 'Random House', 'Canongate', 'HarperCollins', 'Orion', 'Pan Macmillan', 'HarperCollins', 'Random House', 'Scholastic Ltd.', 'Orion', 'Bloomsbury', 'Penguin', 'HarperCollins', 'Random House', 'Little, Brown Book', 'Headline', 'HarperCollins', 'Penguin', 'Orion', 'Bloomsbury', 'Random House', 'Random House', 'Scholastic Ltd.', 'Profile Books Group', 'Random House', 'Transworld', 'Random House Childrens Books G', 'Hodder & Stoughton', 'Scholastic Ltd.', 'Random House', 'HarperCollins', 'Random House', 'Penguin', 'Random House', 'HarperCollins', 'Penguin', 'Headline', 'Little, Brown Book', 'HarperCollins', 'Transworld', 'Transworld', 'Penguin', 'Pan Macmillan', 'Penguin', 'Transworld', 'Transworld', 'Random House', 'Headline', 'Random House', 'Transworld', 'Penguin', 'Pan Macmillan', 'Penguin', 'Hodder & Stoughton', 'Transworld', 'D.C. Thomson', 'Penguin', 'Pan Macmillan', 'Transworld', 'Orion', 'Random House', 'Penguin', 'Scholastic Ltd.', 'Orion', 'Penguin']\n"
     ]
    },
    {
     "data": {
      "text/plain": [
       "100"
      ]
     },
     "execution_count": 161,
     "metadata": {},
     "output_type": "execute_result"
    }
   ],
   "source": [
    "Publisher= [] \n",
    "title=driver.find_elements(By.XPATH,'//table[@class=\"in-article sortable\"]/tbody/tr/td[5]')\n",
    "for i in title:\n",
    "    try:\n",
    "        Title=i.text\n",
    "        Publisher.append(Title)\n",
    "    except NoSuchElementException:\n",
    "        Publisher.append(\"-\")\n",
    "print(Publisher)\n",
    "len(Publisher)"
   ]
  },
  {
   "cell_type": "code",
   "execution_count": 162,
   "id": "00178965",
   "metadata": {},
   "outputs": [
    {
     "name": "stdout",
     "output_type": "stream",
     "text": [
      "['Crime, Thriller & Adventure', \"Children's Fiction\", \"Children's Fiction\", \"Children's Fiction\", 'Romance & Sagas', \"Children's Fiction\", \"Children's Fiction\", \"Children's Fiction\", 'Crime, Thriller & Adventure', \"Children's Fiction\", 'Romance & Sagas', 'Young Adult Fiction', 'Crime, Thriller & Adventure', 'Romance & Sagas', 'Crime, Thriller & Adventure', 'Young Adult Fiction', 'Crime, Thriller & Adventure', 'Young Adult Fiction', 'General & Literary Fiction', 'General & Literary Fiction', 'Crime, Thriller & Adventure', 'Popular Science', 'Crime, Thriller & Adventure', 'Young Adult Fiction', 'Picture Books', 'Picture Books', 'Food & Drink: General', 'General & Literary Fiction', 'General & Literary Fiction', 'General & Literary Fiction', 'Crime, Thriller & Adventure', 'General & Literary Fiction', 'General & Literary Fiction', 'General & Literary Fiction', 'Humour: Collections & General', 'General & Literary Fiction', 'Autobiography: General', 'General & Literary Fiction', 'Biography: The Arts', 'Autobiography: General', 'Picture Books', 'Autobiography: General', 'General & Literary Fiction', 'Young Adult Fiction', 'General & Literary Fiction', 'Science Fiction & Fantasy', 'General & Literary Fiction', 'General & Literary Fiction', 'General & Literary Fiction', 'Crime, Thriller & Adventure', 'General & Literary Fiction', 'General & Literary Fiction', 'Fitness & Diet', 'General & Literary Fiction', \"Children's Fiction\", 'Crime, Thriller & Adventure', 'Fitness & Diet', 'Young Adult Fiction', 'Usage & Writing Guides', 'Food & Drink: General', 'General & Literary Fiction', 'Young Adult Fiction', 'General & Literary Fiction', 'Young Adult Fiction', 'General & Literary Fiction', 'Popular Culture & Media: General Interest', 'Autobiography: The Arts', 'General & Literary Fiction', 'Crime, Thriller & Adventure', 'Science Fiction & Fantasy', 'Current Affairs & Issues', 'Crime, Thriller & Adventure', 'Autobiography: The Arts', 'General & Literary Fiction', 'Autobiography: The Arts', 'Travel Writing', 'Food & Drink: General', 'General & Literary Fiction', 'National & Regional Cuisine', 'Fitness & Diet', 'Travel Writing', 'Crime, Thriller & Adventure', 'General & Literary Fiction', 'Food & Drink: General', 'General & Literary Fiction', 'General & Literary Fiction', 'Picture Books', 'General & Literary Fiction', 'Autobiography: The Arts', 'Popular Science', \"Children's Annuals\", 'General & Literary Fiction', 'General & Literary Fiction', 'General & Literary Fiction', 'General & Literary Fiction', 'General & Literary Fiction', 'Food & Drink: General', 'Young Adult Fiction', 'Biography: General', 'Food & Drink: General']\n"
     ]
    },
    {
     "data": {
      "text/plain": [
       "100"
      ]
     },
     "execution_count": 162,
     "metadata": {},
     "output_type": "execute_result"
    }
   ],
   "source": [
    "Genre= [] \n",
    "title=driver.find_elements(By.XPATH,'//table[@class=\"in-article sortable\"]/tbody/tr/td[]')\n",
    "for i in title:\n",
    "    try:\n",
    "        Title=i.text\n",
    "        Genre.append(Title)\n",
    "    except NoSuchElementException:\n",
    "        Genre.append(\"-\")\n",
    "print(Genre)\n",
    "len(Genre)"
   ]
  },
  {
   "cell_type": "code",
   "execution_count": 165,
   "id": "50a9ab3f",
   "metadata": {},
   "outputs": [
    {
     "data": {
      "text/html": [
       "<div>\n",
       "<style scoped>\n",
       "    .dataframe tbody tr th:only-of-type {\n",
       "        vertical-align: middle;\n",
       "    }\n",
       "\n",
       "    .dataframe tbody tr th {\n",
       "        vertical-align: top;\n",
       "    }\n",
       "\n",
       "    .dataframe thead th {\n",
       "        text-align: right;\n",
       "    }\n",
       "</style>\n",
       "<table border=\"1\" class=\"dataframe\">\n",
       "  <thead>\n",
       "    <tr style=\"text-align: right;\">\n",
       "      <th></th>\n",
       "      <th>Book_name</th>\n",
       "      <th>Author_name</th>\n",
       "      <th>Volumes_sold</th>\n",
       "      <th>Publisher</th>\n",
       "      <th>Genre</th>\n",
       "    </tr>\n",
       "  </thead>\n",
       "  <tbody>\n",
       "    <tr>\n",
       "      <th>0</th>\n",
       "      <td>Da Vinci Code,The</td>\n",
       "      <td>Brown, Dan</td>\n",
       "      <td>5,094,805</td>\n",
       "      <td>Transworld</td>\n",
       "      <td>Crime, Thriller &amp; Adventure</td>\n",
       "    </tr>\n",
       "    <tr>\n",
       "      <th>1</th>\n",
       "      <td>Harry Potter and the Deathly Hallows</td>\n",
       "      <td>Rowling, J.K.</td>\n",
       "      <td>4,475,152</td>\n",
       "      <td>Bloomsbury</td>\n",
       "      <td>Children's Fiction</td>\n",
       "    </tr>\n",
       "    <tr>\n",
       "      <th>2</th>\n",
       "      <td>Harry Potter and the Philosopher's Stone</td>\n",
       "      <td>Rowling, J.K.</td>\n",
       "      <td>4,200,654</td>\n",
       "      <td>Bloomsbury</td>\n",
       "      <td>Children's Fiction</td>\n",
       "    </tr>\n",
       "    <tr>\n",
       "      <th>3</th>\n",
       "      <td>Harry Potter and the Order of the Phoenix</td>\n",
       "      <td>Rowling, J.K.</td>\n",
       "      <td>4,179,479</td>\n",
       "      <td>Bloomsbury</td>\n",
       "      <td>Children's Fiction</td>\n",
       "    </tr>\n",
       "    <tr>\n",
       "      <th>4</th>\n",
       "      <td>Fifty Shades of Grey</td>\n",
       "      <td>James, E. L.</td>\n",
       "      <td>3,758,936</td>\n",
       "      <td>Random House</td>\n",
       "      <td>Romance &amp; Sagas</td>\n",
       "    </tr>\n",
       "    <tr>\n",
       "      <th>...</th>\n",
       "      <td>...</td>\n",
       "      <td>...</td>\n",
       "      <td>...</td>\n",
       "      <td>...</td>\n",
       "      <td>...</td>\n",
       "    </tr>\n",
       "    <tr>\n",
       "      <th>95</th>\n",
       "      <td>Ghost,The</td>\n",
       "      <td>Harris, Robert</td>\n",
       "      <td>807,311</td>\n",
       "      <td>Random House</td>\n",
       "      <td>General &amp; Literary Fiction</td>\n",
       "    </tr>\n",
       "    <tr>\n",
       "      <th>96</th>\n",
       "      <td>Happy Days with the Naked Chef</td>\n",
       "      <td>Oliver, Jamie</td>\n",
       "      <td>794,201</td>\n",
       "      <td>Penguin</td>\n",
       "      <td>Food &amp; Drink: General</td>\n",
       "    </tr>\n",
       "    <tr>\n",
       "      <th>97</th>\n",
       "      <td>Hunger Games,The:Hunger Games Trilogy</td>\n",
       "      <td>Collins, Suzanne</td>\n",
       "      <td>792,187</td>\n",
       "      <td>Scholastic Ltd.</td>\n",
       "      <td>Young Adult Fiction</td>\n",
       "    </tr>\n",
       "    <tr>\n",
       "      <th>98</th>\n",
       "      <td>Lost Boy,The:A Foster Child's Search for the L...</td>\n",
       "      <td>Pelzer, Dave</td>\n",
       "      <td>791,507</td>\n",
       "      <td>Orion</td>\n",
       "      <td>Biography: General</td>\n",
       "    </tr>\n",
       "    <tr>\n",
       "      <th>99</th>\n",
       "      <td>Jamie's Ministry of Food:Anyone Can Learn to C...</td>\n",
       "      <td>Oliver, Jamie</td>\n",
       "      <td>791,095</td>\n",
       "      <td>Penguin</td>\n",
       "      <td>Food &amp; Drink: General</td>\n",
       "    </tr>\n",
       "  </tbody>\n",
       "</table>\n",
       "<p>100 rows × 5 columns</p>\n",
       "</div>"
      ],
      "text/plain": [
       "                                            Book_name       Author_name  \\\n",
       "0                                   Da Vinci Code,The        Brown, Dan   \n",
       "1                Harry Potter and the Deathly Hallows     Rowling, J.K.   \n",
       "2            Harry Potter and the Philosopher's Stone     Rowling, J.K.   \n",
       "3           Harry Potter and the Order of the Phoenix     Rowling, J.K.   \n",
       "4                                Fifty Shades of Grey      James, E. L.   \n",
       "..                                                ...               ...   \n",
       "95                                          Ghost,The    Harris, Robert   \n",
       "96                     Happy Days with the Naked Chef     Oliver, Jamie   \n",
       "97              Hunger Games,The:Hunger Games Trilogy  Collins, Suzanne   \n",
       "98  Lost Boy,The:A Foster Child's Search for the L...      Pelzer, Dave   \n",
       "99  Jamie's Ministry of Food:Anyone Can Learn to C...     Oliver, Jamie   \n",
       "\n",
       "   Volumes_sold        Publisher                        Genre  \n",
       "0     5,094,805       Transworld  Crime, Thriller & Adventure  \n",
       "1     4,475,152       Bloomsbury           Children's Fiction  \n",
       "2     4,200,654       Bloomsbury           Children's Fiction  \n",
       "3     4,179,479       Bloomsbury           Children's Fiction  \n",
       "4     3,758,936     Random House              Romance & Sagas  \n",
       "..          ...              ...                          ...  \n",
       "95      807,311     Random House   General & Literary Fiction  \n",
       "96      794,201          Penguin        Food & Drink: General  \n",
       "97      792,187  Scholastic Ltd.          Young Adult Fiction  \n",
       "98      791,507            Orion           Biography: General  \n",
       "99      791,095          Penguin        Food & Drink: General  \n",
       "\n",
       "[100 rows x 5 columns]"
      ]
     },
     "execution_count": 165,
     "metadata": {},
     "output_type": "execute_result"
    }
   ],
   "source": [
    "Best_selling_books=pd.DataFrame({'Book_name':Book_name,'Author_name':Author_name,'Volumes_sold':Volumes_sold,'Publisher':Publisher,'Genre':Genre})\n",
    "Best_selling_books"
   ]
  },
  {
   "cell_type": "markdown",
   "id": "d89858c9",
   "metadata": {},
   "source": [
    "# 8. Details of Datasets from UCI machine learning repositories.\n",
    "Url = https://archive.ics.uci.edu/ You\n",
    "have to find the following details:\n",
    "A) Dataset name\n",
    "B) Data type\n",
    "C) Task\n",
    "D) Attribute type\n",
    "E) No of instances\n",
    "F) No of attribute G) Year\n",
    " Note: - from the home page you have to go to the Show All Dataset page through code."
   ]
  },
  {
   "cell_type": "code",
   "execution_count": 170,
   "id": "1fe25cdc",
   "metadata": {},
   "outputs": [],
   "source": [
    "driver=webdriver.Chrome()   # connecting to the web driver\n",
    "driver.get(\"https://archive.ics.uci.edu/\")"
   ]
  },
  {
   "cell_type": "code",
   "execution_count": 173,
   "id": "b94481ae",
   "metadata": {},
   "outputs": [],
   "source": [
    "# Clicking on VIEW DATASETS link\n",
    "dataset=driver.find_element(By.XPATH,'/html/body/div/div[1]/div[1]/main/div/div[1]/div/div/div/a[1]')\n",
    "dataset.click()\n",
    "time.sleep(1)"
   ]
  },
  {
   "cell_type": "code",
   "execution_count": 193,
   "id": "e789979a",
   "metadata": {},
   "outputs": [
    {
     "name": "stdout",
     "output_type": "stream",
     "text": [
      "['https://archive.ics.uci.edu/dataset/53/iris', 'https://archive.ics.uci.edu/dataset/602/dry+bean+dataset', 'https://archive.ics.uci.edu/dataset/45/heart+disease', 'https://archive.ics.uci.edu/dataset/545/rice+cammeo+and+osmancik', 'https://archive.ics.uci.edu/dataset/2/adult', 'https://archive.ics.uci.edu/dataset/850/raisin', 'https://archive.ics.uci.edu/dataset/17/breast+cancer+wisconsin+diagnostic', 'https://archive.ics.uci.edu/dataset/109/wine', 'https://archive.ics.uci.edu/dataset/186/wine+quality', 'https://archive.ics.uci.edu/dataset/34/diabetes']\n"
     ]
    },
    {
     "data": {
      "text/plain": [
       "10"
      ]
     },
     "execution_count": 193,
     "metadata": {},
     "output_type": "execute_result"
    }
   ],
   "source": [
    "URL=[]\n",
    "url=driver.find_elements(By.XPATH,'//a[@class=\"link-hover link text-xl font-semibold\"]')\n",
    "for i in url:\n",
    "    URL.append(i.get_attribute('href'))\n",
    "print(URL)\n",
    "len(URL)"
   ]
  },
  {
   "cell_type": "code",
   "execution_count": 176,
   "id": "3114a050",
   "metadata": {},
   "outputs": [],
   "source": [
    "Dataset_name = []\n",
    "Data_type = []\n",
    "Task = []\n",
    "Attribute_type = []\n",
    "No_of_instances = []\n",
    "No_of_attributes = []"
   ]
  },
  {
   "cell_type": "code",
   "execution_count": 194,
   "id": "d34eafa2",
   "metadata": {},
   "outputs": [
    {
     "name": "stdout",
     "output_type": "stream",
     "text": [
      "['Iris', 'Dry Bean', 'Heart Disease', 'Rice (Cammeo and Osmancik)', 'Adult', 'Raisin', 'Breast Cancer Wisconsin (Diagnostic)', 'Wine', 'Wine Quality', 'Diabetes']\n"
     ]
    },
    {
     "data": {
      "text/plain": [
       "10"
      ]
     },
     "execution_count": 194,
     "metadata": {},
     "output_type": "execute_result"
    }
   ],
   "source": [
    "Dataset_name = []\n",
    "for i in URL:\n",
    "    driver.get(i)\n",
    "    try:\n",
    "        Name=driver.find_elements(By.XPATH,'//h1[@class=\"text-3xl font-semibold text-primary-content\"]')\n",
    "        for div in Name:\n",
    "            title = div.text\n",
    "            Dataset_name.append(title)\n",
    "    except NoSuchElementException:\n",
    "        Dataset_name.append(\" - \")\n",
    "    time.sleep(3)\n",
    "        \n",
    "print(Dataset_name)\n",
    "len(Dataset_name)"
   ]
  },
  {
   "cell_type": "code",
   "execution_count": 197,
   "id": "235a9545",
   "metadata": {},
   "outputs": [
    {
     "name": "stdout",
     "output_type": "stream",
     "text": [
      "['Tabular', 'Multivariate', 'Multivariate', 'Multivariate', 'Multivariate', 'Multivariate', 'Multivariate', 'Tabular', 'Multivariate', 'Multivariate, Time-Series']\n"
     ]
    },
    {
     "data": {
      "text/plain": [
       "10"
      ]
     },
     "execution_count": 197,
     "metadata": {},
     "output_type": "execute_result"
    }
   ],
   "source": [
    "Data_type=[] \n",
    "price=driver.find_elements(By.XPATH,'//div[@class=\"my-2 hidden gap-4 md:grid grid-cols-12\"]/div[2]/span ')\n",
    "for i in price:\n",
    "    try:\n",
    "        Title=i.text\n",
    "        Data_type.append(Title)\n",
    "    except NoSuchElementException:\n",
    "        Data_type.append(\"-\")\n",
    "   \n",
    "       \n",
    "print(Data_type)\n",
    "len(Data_type)"
   ]
  },
  {
   "cell_type": "code",
   "execution_count": 198,
   "id": "0dd65a6d",
   "metadata": {},
   "outputs": [
    {
     "name": "stdout",
     "output_type": "stream",
     "text": [
      "['Classification', 'Classification', 'Classification', 'Classification', 'Classification', 'Classification', 'Classification', 'Classification', 'Classification, Regression', 'Classification']\n"
     ]
    },
    {
     "data": {
      "text/plain": [
       "10"
      ]
     },
     "execution_count": 198,
     "metadata": {},
     "output_type": "execute_result"
    }
   ],
   "source": [
    "Task=[] \n",
    "price=driver.find_elements(By.XPATH,'//div[@class=\"my-2 hidden gap-4 md:grid grid-cols-12\"]/div[1]/span ')\n",
    "for i in price:\n",
    "    try:\n",
    "        Title=i.text\n",
    "        Task.append(Title)\n",
    "    except NoSuchElementException:\n",
    "        Task.append(\"-\")\n",
    "    \n",
    "       \n",
    "print(Task)\n",
    "len(Task)"
   ]
  },
  {
   "cell_type": "code",
   "execution_count": 203,
   "id": "663bbdb7",
   "metadata": {},
   "outputs": [
    {
     "name": "stdout",
     "output_type": "stream",
     "text": [
      "['Real', 'Integer, Real', 'Categorical, Integer, Real', 'Real', 'Categorical, Integer', 'Real, Integer', 'Real', 'Integer, Real', 'Real', 'Categorical, Integer']\n"
     ]
    },
    {
     "data": {
      "text/plain": [
       "10"
      ]
     },
     "execution_count": 203,
     "metadata": {},
     "output_type": "execute_result"
    }
   ],
   "source": [
    "Attribute_type = []\n",
    "for i in URL:\n",
    "    driver.get(i)\n",
    "    try:\n",
    "        Name=driver.find_elements(By.XPATH,'//div[@class=\"grid grid-cols-8 gap-4 md:grid-cols-12\"]/div[4]/p')\n",
    "        for div in Name:\n",
    "            title = div.text\n",
    "            Attribute_type.append(title)\n",
    "    except NoSuchElementException:\n",
    "        Attribute_type.append(\" - \")\n",
    "    time.sleep(2)\n",
    "        \n",
    "print(Attribute_type)\n",
    "len(Attribute_type)"
   ]
  },
  {
   "cell_type": "code",
   "execution_count": 200,
   "id": "f89a532f",
   "metadata": {},
   "outputs": [
    {
     "name": "stdout",
     "output_type": "stream",
     "text": [
      "['150 Instances', '13.61K Instances', '303 Instances', '3.81K Instances', '48.84K Instances', '900 Instances', '569 Instances', '178 Instances', '4.9K Instances', '1 Instances']\n"
     ]
    },
    {
     "data": {
      "text/plain": [
       "10"
      ]
     },
     "execution_count": 200,
     "metadata": {},
     "output_type": "execute_result"
    }
   ],
   "source": [
    "No_of_instances=[] \n",
    "price=driver.find_elements(By.XPATH,'//div[@class=\"my-2 hidden gap-4 md:grid grid-cols-12\"]/div[3]/span ')\n",
    "for i in price:\n",
    "    try:\n",
    "        Title=i.text\n",
    "        No_of_instances.append(Title)\n",
    "    except NoSuchElementException:\n",
    "        No_of_instances.append(\"-\")\n",
    "    \n",
    "       \n",
    "print(No_of_instances)\n",
    "len(No_of_instances)"
   ]
  },
  {
   "cell_type": "code",
   "execution_count": 201,
   "id": "b453b1cd",
   "metadata": {},
   "outputs": [
    {
     "name": "stdout",
     "output_type": "stream",
     "text": [
      "['4 Features', '16 Features', '13 Features', '7 Features', '14 Features', '8 Features', '30 Features', '13 Features', '12 Features', '20 Features']\n"
     ]
    },
    {
     "data": {
      "text/plain": [
       "10"
      ]
     },
     "execution_count": 201,
     "metadata": {},
     "output_type": "execute_result"
    }
   ],
   "source": [
    "No_of_attributes=[] \n",
    "price=driver.find_elements(By.XPATH,'//div[@class=\"my-2 hidden gap-4 md:grid grid-cols-12\"]/div[4]/span ')\n",
    "for i in price:\n",
    "    try:\n",
    "        Title=i.text\n",
    "        No_of_attributes.append(Title)\n",
    "    except NoSuchElementException:\n",
    "        No_of_attributes.append(\"-\")\n",
    "    \n",
    "       \n",
    "print(No_of_attributes)\n",
    "len(No_of_attributes)"
   ]
  },
  {
   "cell_type": "code",
   "execution_count": null,
   "id": "92f19adc",
   "metadata": {},
   "outputs": [],
   "source": []
  },
  {
   "cell_type": "code",
   "execution_count": 205,
   "id": "a964605a",
   "metadata": {},
   "outputs": [
    {
     "data": {
      "text/html": [
       "<div>\n",
       "<style scoped>\n",
       "    .dataframe tbody tr th:only-of-type {\n",
       "        vertical-align: middle;\n",
       "    }\n",
       "\n",
       "    .dataframe tbody tr th {\n",
       "        vertical-align: top;\n",
       "    }\n",
       "\n",
       "    .dataframe thead th {\n",
       "        text-align: right;\n",
       "    }\n",
       "</style>\n",
       "<table border=\"1\" class=\"dataframe\">\n",
       "  <thead>\n",
       "    <tr style=\"text-align: right;\">\n",
       "      <th></th>\n",
       "      <th>Dataset_name</th>\n",
       "      <th>Data_type</th>\n",
       "      <th>Task</th>\n",
       "      <th>Attribute_type</th>\n",
       "      <th>No_of_instances</th>\n",
       "      <th>No_of_attributes</th>\n",
       "    </tr>\n",
       "  </thead>\n",
       "  <tbody>\n",
       "    <tr>\n",
       "      <th>0</th>\n",
       "      <td>Iris</td>\n",
       "      <td>Tabular</td>\n",
       "      <td>Classification</td>\n",
       "      <td>Real</td>\n",
       "      <td>150 Instances</td>\n",
       "      <td>4 Features</td>\n",
       "    </tr>\n",
       "    <tr>\n",
       "      <th>1</th>\n",
       "      <td>Dry Bean</td>\n",
       "      <td>Multivariate</td>\n",
       "      <td>Classification</td>\n",
       "      <td>Integer, Real</td>\n",
       "      <td>13.61K Instances</td>\n",
       "      <td>16 Features</td>\n",
       "    </tr>\n",
       "    <tr>\n",
       "      <th>2</th>\n",
       "      <td>Heart Disease</td>\n",
       "      <td>Multivariate</td>\n",
       "      <td>Classification</td>\n",
       "      <td>Categorical, Integer, Real</td>\n",
       "      <td>303 Instances</td>\n",
       "      <td>13 Features</td>\n",
       "    </tr>\n",
       "    <tr>\n",
       "      <th>3</th>\n",
       "      <td>Rice (Cammeo and Osmancik)</td>\n",
       "      <td>Multivariate</td>\n",
       "      <td>Classification</td>\n",
       "      <td>Real</td>\n",
       "      <td>3.81K Instances</td>\n",
       "      <td>7 Features</td>\n",
       "    </tr>\n",
       "    <tr>\n",
       "      <th>4</th>\n",
       "      <td>Adult</td>\n",
       "      <td>Multivariate</td>\n",
       "      <td>Classification</td>\n",
       "      <td>Categorical, Integer</td>\n",
       "      <td>48.84K Instances</td>\n",
       "      <td>14 Features</td>\n",
       "    </tr>\n",
       "    <tr>\n",
       "      <th>5</th>\n",
       "      <td>Raisin</td>\n",
       "      <td>Multivariate</td>\n",
       "      <td>Classification</td>\n",
       "      <td>Real, Integer</td>\n",
       "      <td>900 Instances</td>\n",
       "      <td>8 Features</td>\n",
       "    </tr>\n",
       "    <tr>\n",
       "      <th>6</th>\n",
       "      <td>Breast Cancer Wisconsin (Diagnostic)</td>\n",
       "      <td>Multivariate</td>\n",
       "      <td>Classification</td>\n",
       "      <td>Real</td>\n",
       "      <td>569 Instances</td>\n",
       "      <td>30 Features</td>\n",
       "    </tr>\n",
       "    <tr>\n",
       "      <th>7</th>\n",
       "      <td>Wine</td>\n",
       "      <td>Tabular</td>\n",
       "      <td>Classification</td>\n",
       "      <td>Integer, Real</td>\n",
       "      <td>178 Instances</td>\n",
       "      <td>13 Features</td>\n",
       "    </tr>\n",
       "    <tr>\n",
       "      <th>8</th>\n",
       "      <td>Wine Quality</td>\n",
       "      <td>Multivariate</td>\n",
       "      <td>Classification, Regression</td>\n",
       "      <td>Real</td>\n",
       "      <td>4.9K Instances</td>\n",
       "      <td>12 Features</td>\n",
       "    </tr>\n",
       "    <tr>\n",
       "      <th>9</th>\n",
       "      <td>Diabetes</td>\n",
       "      <td>Multivariate, Time-Series</td>\n",
       "      <td>Classification</td>\n",
       "      <td>Categorical, Integer</td>\n",
       "      <td>1 Instances</td>\n",
       "      <td>20 Features</td>\n",
       "    </tr>\n",
       "  </tbody>\n",
       "</table>\n",
       "</div>"
      ],
      "text/plain": [
       "                           Dataset_name                  Data_type  \\\n",
       "0                                  Iris                    Tabular   \n",
       "1                              Dry Bean               Multivariate   \n",
       "2                         Heart Disease               Multivariate   \n",
       "3            Rice (Cammeo and Osmancik)               Multivariate   \n",
       "4                                 Adult               Multivariate   \n",
       "5                                Raisin               Multivariate   \n",
       "6  Breast Cancer Wisconsin (Diagnostic)               Multivariate   \n",
       "7                                  Wine                    Tabular   \n",
       "8                          Wine Quality               Multivariate   \n",
       "9                              Diabetes  Multivariate, Time-Series   \n",
       "\n",
       "                         Task              Attribute_type   No_of_instances  \\\n",
       "0              Classification                        Real     150 Instances   \n",
       "1              Classification               Integer, Real  13.61K Instances   \n",
       "2              Classification  Categorical, Integer, Real     303 Instances   \n",
       "3              Classification                        Real   3.81K Instances   \n",
       "4              Classification        Categorical, Integer  48.84K Instances   \n",
       "5              Classification               Real, Integer     900 Instances   \n",
       "6              Classification                        Real     569 Instances   \n",
       "7              Classification               Integer, Real     178 Instances   \n",
       "8  Classification, Regression                        Real    4.9K Instances   \n",
       "9              Classification        Categorical, Integer       1 Instances   \n",
       "\n",
       "  No_of_attributes  \n",
       "0       4 Features  \n",
       "1      16 Features  \n",
       "2      13 Features  \n",
       "3       7 Features  \n",
       "4      14 Features  \n",
       "5       8 Features  \n",
       "6      30 Features  \n",
       "7      13 Features  \n",
       "8      12 Features  \n",
       "9      20 Features  "
      ]
     },
     "execution_count": 205,
     "metadata": {},
     "output_type": "execute_result"
    }
   ],
   "source": [
    "Datasets_from_UCI=pd.DataFrame({'Dataset_name':Dataset_name,'Data_type':Data_type,'Task':Task,'Attribute_type':Attribute_type,'No_of_instances':No_of_instances,'No_of_attributes':No_of_attributes})\n",
    "Datasets_from_UCI"
   ]
  },
  {
   "cell_type": "code",
   "execution_count": null,
   "id": "e499476f",
   "metadata": {},
   "outputs": [],
   "source": [
    "z"
   ]
  }
 ],
 "metadata": {
  "kernelspec": {
   "display_name": "Python 3 (ipykernel)",
   "language": "python",
   "name": "python3"
  },
  "language_info": {
   "codemirror_mode": {
    "name": "ipython",
    "version": 3
   },
   "file_extension": ".py",
   "mimetype": "text/x-python",
   "name": "python",
   "nbconvert_exporter": "python",
   "pygments_lexer": "ipython3",
   "version": "3.11.4"
  }
 },
 "nbformat": 4,
 "nbformat_minor": 5
}
