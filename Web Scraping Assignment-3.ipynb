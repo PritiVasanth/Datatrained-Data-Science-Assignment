{
 "cells": [
  {
   "cell_type": "code",
   "execution_count": 1,
   "id": "6ef6ecd4",
   "metadata": {},
   "outputs": [
    {
     "name": "stdout",
     "output_type": "stream",
     "text": [
      "Requirement already satisfied: selenium in c:\\users\\vkvar\\anaconda3\\lib\\site-packages (4.18.1)\n",
      "Requirement already satisfied: urllib3[socks]<3,>=1.26 in c:\\users\\vkvar\\anaconda3\\lib\\site-packages (from selenium) (1.26.16)\n",
      "Requirement already satisfied: trio~=0.17 in c:\\users\\vkvar\\anaconda3\\lib\\site-packages (from selenium) (0.24.0)\n",
      "Requirement already satisfied: trio-websocket~=0.9 in c:\\users\\vkvar\\anaconda3\\lib\\site-packages (from selenium) (0.11.1)\n",
      "Requirement already satisfied: certifi>=2021.10.8 in c:\\users\\vkvar\\anaconda3\\lib\\site-packages (from selenium) (2023.7.22)\n",
      "Requirement already satisfied: typing_extensions>=4.9.0 in c:\\users\\vkvar\\anaconda3\\lib\\site-packages (from selenium) (4.10.0)\n",
      "Requirement already satisfied: attrs>=20.1.0 in c:\\users\\vkvar\\anaconda3\\lib\\site-packages (from trio~=0.17->selenium) (22.1.0)\n",
      "Requirement already satisfied: sortedcontainers in c:\\users\\vkvar\\anaconda3\\lib\\site-packages (from trio~=0.17->selenium) (2.4.0)\n",
      "Requirement already satisfied: idna in c:\\users\\vkvar\\anaconda3\\lib\\site-packages (from trio~=0.17->selenium) (3.4)\n",
      "Requirement already satisfied: outcome in c:\\users\\vkvar\\anaconda3\\lib\\site-packages (from trio~=0.17->selenium) (1.3.0.post0)\n",
      "Requirement already satisfied: sniffio>=1.3.0 in c:\\users\\vkvar\\anaconda3\\lib\\site-packages (from trio~=0.17->selenium) (1.3.1)\n",
      "Requirement already satisfied: cffi>=1.14 in c:\\users\\vkvar\\anaconda3\\lib\\site-packages (from trio~=0.17->selenium) (1.15.1)\n",
      "Requirement already satisfied: wsproto>=0.14 in c:\\users\\vkvar\\anaconda3\\lib\\site-packages (from trio-websocket~=0.9->selenium) (1.2.0)\n",
      "Requirement already satisfied: PySocks!=1.5.7,<2.0,>=1.5.6 in c:\\users\\vkvar\\anaconda3\\lib\\site-packages (from urllib3[socks]<3,>=1.26->selenium) (1.7.1)\n",
      "Requirement already satisfied: pycparser in c:\\users\\vkvar\\anaconda3\\lib\\site-packages (from cffi>=1.14->trio~=0.17->selenium) (2.21)\n",
      "Requirement already satisfied: h11<1,>=0.9.0 in c:\\users\\vkvar\\anaconda3\\lib\\site-packages (from wsproto>=0.14->trio-websocket~=0.9->selenium) (0.14.0)\n"
     ]
    }
   ],
   "source": [
    "!pip install selenium"
   ]
  },
  {
   "cell_type": "code",
   "execution_count": 2,
   "id": "46d0e575",
   "metadata": {},
   "outputs": [],
   "source": [
    "import selenium\n",
    "import pandas as pd\n",
    "from selenium import webdriver\n",
    "import warnings\n",
    "warnings.filterwarnings('ignore')\n",
    "from selenium .webdriver.common.by import By\n",
    "import time\n",
    "from bs4 import BeautifulSoup\n",
    "import requests\n",
    "from selenium.common.exceptions import StaleElementReferenceException,NoSuchElementException, ElementNotInteractableException"
   ]
  },
  {
   "cell_type": "code",
   "execution_count": 8,
   "id": "1a0c2101",
   "metadata": {},
   "outputs": [],
   "source": [
    "driver=webdriver.Chrome()\n",
    "driver.get(\"https://www.amazon.in/\")"
   ]
  },
  {
   "cell_type": "code",
   "execution_count": 9,
   "id": "9e13a579",
   "metadata": {},
   "outputs": [],
   "source": [
    "products=driver.find_element(By.ID,\"twotabsearchtextbox\" )\n",
    "products.send_keys('Phone') "
   ]
  },
  {
   "cell_type": "code",
   "execution_count": 10,
   "id": "e97f7d64",
   "metadata": {},
   "outputs": [],
   "source": [
    "search=driver.find_element(By.ID,\"nav-search-submit-button\" )\n",
    "search.click()"
   ]
  },
  {
   "cell_type": "code",
   "execution_count": 11,
   "id": "d9fd11c7",
   "metadata": {},
   "outputs": [
    {
     "name": "stdout",
     "output_type": "stream",
     "text": [
      "['Apple iPhone 13 (128GB) - Midnight', 'Apple iPhone 14 (128 GB) - Midnight', 'realme narzo N53 (Feather Black, 8GB+128GB) 33W Segment Fastest Charging | Slimmest Phone in Segment | 90 Hz Smooth Display', 'Nothing Phone (2) 5G (Grey, 12GB RAM, 256GB Storage) | 6.7\" LTPO OLED AMOLED Display | 50 MP(OIS) + 50MP | 32MP Front Cam| Qualcomm Snapdragon 8+Gen 1 | 4700 mAh Battery 45W Charging| 100% in 55 Mins', 'Nothing Phone (2a) 5G (Black, 8GB RAM, 128GB Storage) | 6.7\" Flexible AMOLED Display | 50MP (OIS) + 50MP | 32MP Front Camera | Custom Mediatek Dimensity 7200 Pro Processor | The Iconic Glyph Interface', 'Redmi 13C 5G (Starlight Black, 4GB RAM, 128GB Storage) | MediaTek Dimensity 6100+ 5G | 90Hz Display', 'Nokia 2660 Flip 4G Volte keypad Phone with Dual SIM, Dual Screen, inbuilt MP3 Player & Wireless FM Radio | Black', 'Redmi A2 (Aqua Blue, 2GB RAM, 64GB Storage)', 'OnePlus Nord CE 3 Lite 5G (Pastel Lime, 8GB RAM, 256GB Storage)', 'Redmi 13C (Stardust Black, 6GB RAM, 128GB Storage) | Powered by 4G MediaTek Helio G85 | 90Hz Display | 50MP AI Triple Camera', 'Redmi A2 (Sea Green, 2GB RAM, 64GB Storage)', 'Apple iPhone 14 Plus (128 GB) - Starlight', 'Redmi 13C (Starshine Green, 4GB RAM, 128GB Storage) | Powered by 4G MediaTek Helio G85 | 90Hz Display | 50MP AI Triple Camera', 'realme narzo N53 (Feather Gold, 8GB+128GB) 33W Segment Fastest Charging | Slimmest Phone in Segment | 90 Hz Smooth Display', 'realme narzo 60X 5G (Nebula Purple 6GB,128GB Storage) Up to 2TB External Memory | 50 MP AI Primary Camera | Segments only 33W Supervooc Charge', 'Samsung Galaxy M04 Dark Blue, 4GB RAM, 64GB Storage | Upto 8GB RAM with RAM Plus | MediaTek Helio P35 Octa-core Processor | 5000 mAh Battery | 13MP Dual Camera', 'POCO C55 (Forest Green, 6GB RAM, 128GB Storage)', 'Samsung Galaxy M34 5G (Waterfall Blue,6GB,128GB)|120Hz sAMOLED Display|50MP Triple No Shake Cam|6000 mAh Battery|4 Gen OS Upgrade & 5 Year Security Update|12GB RAM with RAM+|Android 13|Without Charger', 'Redmi 13C (Stardust Black, 4GB RAM, 128GB Storage) | Powered by 4G Mediatek Helio G85 | 90Hz Display | 50MP AI Triple Camera', 'realme narzo 60 5G (Cosmic Black,8GB+128GB) | 90Hz Super AMOLED Display | Ultra Sharp 64 MP Camera | with 33W SUPERVOOC Charger', 'POCO C55 (Forest Green, 4GB RAM, 64GB Storage)', 'Redmi 13C 5G (Startrail Green, 4GB RAM, 128GB Storage) | MediaTek Dimensity 6100+ 5G | 90Hz Display', 'POCO M6 Pro 5G (Forest Green, 6GB RAM, 128GB Storage)', 'Spigen [Improved Version] PE2213 35W GaN PPS Single Port Fast Wall Charger Compatible with All C Type Mobile Phones and Devices - Black']\n"
     ]
    }
   ],
   "source": [
    "Name_of_the_Product= [] \n",
    "title=driver.find_elements(By.XPATH,'//span[@class=\"a-size-medium a-color-base a-text-normal\"]')\n",
    "for i in title:\n",
    "    try:\n",
    "        Title=i.text\n",
    "        Name_of_the_Product.append(Title)\n",
    "    except NoSuchElementException:\n",
    "        Name_of_the_Product.append(\"-\")\n",
    "print(Name_of_the_Product)"
   ]
  },
  {
   "cell_type": "code",
   "execution_count": 12,
   "id": "c44d5387",
   "metadata": {},
   "outputs": [
    {
     "data": {
      "text/plain": [
       "24"
      ]
     },
     "execution_count": 12,
     "metadata": {},
     "output_type": "execute_result"
    }
   ],
   "source": [
    "len(Name_of_the_Product)"
   ]
  },
  {
   "cell_type": "code",
   "execution_count": 13,
   "id": "075d8f4a",
   "metadata": {},
   "outputs": [
    {
     "name": "stdout",
     "output_type": "stream",
     "text": [
      "['49,499', '58,999', '8,999', '37,999', '24,295', '10,999', '4,349', '5,299', '19,999', '8,799', '5,299', '66,999', '7,799', '8,999', '11,999', '7,999', '6,499', '15,999', '7,799', '14,999', '5,999', '10,999', '10,998', '1,199']\n"
     ]
    }
   ],
   "source": [
    "Price=[] \n",
    "price=driver.find_elements(By.CLASS_NAME,\"a-price-whole\")\n",
    "for i in price:\n",
    "    try:\n",
    "        Title=i.text\n",
    "        Price.append(Title)\n",
    "    except NoSuchElementException:\n",
    "        Price.append(\"-\")\n",
    "print(Price)"
   ]
  },
  {
   "cell_type": "code",
   "execution_count": 14,
   "id": "0842eeb0",
   "metadata": {},
   "outputs": [
    {
     "data": {
      "text/plain": [
       "24"
      ]
     },
     "execution_count": 14,
     "metadata": {},
     "output_type": "execute_result"
    }
   ],
   "source": [
    "len(Price)"
   ]
  },
  {
   "cell_type": "code",
   "execution_count": 15,
   "id": "c2756ebc",
   "metadata": {},
   "outputs": [
    {
     "name": "stdout",
     "output_type": "stream",
     "text": [
      "['https://www.amazon.in/sspa/click?ie=UTF8&spc=MTozNjc1NjE5MDI0ODMwODA6MTcxMDk4NjYwNjpzcF9hdGY6MzAwMTQ1NjgxNDk5MzMyOjowOjo&url=%2FApple-iPhone-13-128GB-Midnight%2Fdp%2FB09G9HD6PD%2Fref%3Dsr_1_1_sspa%3Fcrid%3D5O1L3V0KO88H%26dib%3DeyJ2IjoiMSJ9.sq5yWfpZm9xicKrufNzYSVurQkpYqG_eS2tCUwV1boarCoKpTeo4juntBXVjxZkCZuILFN14ToOKmmNrCZsUOC8L83B51XJB_HYkm2P-n9SSCJGe1YHn0KMc1WzJ--vZDmGvFWxlFg0DERn-zHSi9Llc9BW1WIjOL6EEY32-ezBXmJ-f3-QRytxvcJTjVbHAfmnHQeZig3994IUAlsUhKH4FOIXSYwhBLM6115333RA.UHO7L3-7iRWiL2Ub8pEacEQRD1SQ8DY8Xbn5C3YnWbI%26dib_tag%3Dse%26keywords%3DPhone%26qid%3D1710986606%26sprefix%3Dphone%252Caps%252C250%26sr%3D8-1-spons%26sp_csd%3Dd2lkZ2V0TmFtZT1zcF9hdGY%26psc%3D1', 'https://www.amazon.in/sspa/click?ie=UTF8&spc=MTozNjc1NjE5MDI0ODMwODA6MTcxMDk4NjYwNjpzcF9hdGY6MzAwMTQ1NjgxNDk3OTMyOjowOjo&url=%2FApple-iPhone-14-128GB-Midnight%2Fdp%2FB0BDHX8Z63%2Fref%3Dsr_1_2_sspa%3Fcrid%3D5O1L3V0KO88H%26dib%3DeyJ2IjoiMSJ9.sq5yWfpZm9xicKrufNzYSVurQkpYqG_eS2tCUwV1boarCoKpTeo4juntBXVjxZkCZuILFN14ToOKmmNrCZsUOC8L83B51XJB_HYkm2P-n9SSCJGe1YHn0KMc1WzJ--vZDmGvFWxlFg0DERn-zHSi9Llc9BW1WIjOL6EEY32-ezBXmJ-f3-QRytxvcJTjVbHAfmnHQeZig3994IUAlsUhKH4FOIXSYwhBLM6115333RA.UHO7L3-7iRWiL2Ub8pEacEQRD1SQ8DY8Xbn5C3YnWbI%26dib_tag%3Dse%26keywords%3DPhone%26qid%3D1710986606%26sprefix%3Dphone%252Caps%252C250%26sr%3D8-2-spons%26sp_csd%3Dd2lkZ2V0TmFtZT1zcF9hdGY%26psc%3D1', 'https://www.amazon.in/realme-Feather-Segment-Charging-Slimmest/dp/B0CKN56PQ8/ref=sr_1_3?crid=5O1L3V0KO88H&dib=eyJ2IjoiMSJ9.sq5yWfpZm9xicKrufNzYSVurQkpYqG_eS2tCUwV1boarCoKpTeo4juntBXVjxZkCZuILFN14ToOKmmNrCZsUOC8L83B51XJB_HYkm2P-n9SSCJGe1YHn0KMc1WzJ--vZDmGvFWxlFg0DERn-zHSi9Llc9BW1WIjOL6EEY32-ezBXmJ-f3-QRytxvcJTjVbHAfmnHQeZig3994IUAlsUhKH4FOIXSYwhBLM6115333RA.UHO7L3-7iRWiL2Ub8pEacEQRD1SQ8DY8Xbn5C3YnWbI&dib_tag=se&keywords=Phone&qid=1710986606&sprefix=phone%2Caps%2C250&sr=8-3', 'https://www.amazon.in/Nothing-Storage-Display-Qualcomm-Snapdragon/dp/B0CBYV1BKH/ref=sr_1_4?crid=5O1L3V0KO88H&dib=eyJ2IjoiMSJ9.sq5yWfpZm9xicKrufNzYSVurQkpYqG_eS2tCUwV1boarCoKpTeo4juntBXVjxZkCZuILFN14ToOKmmNrCZsUOC8L83B51XJB_HYkm2P-n9SSCJGe1YHn0KMc1WzJ--vZDmGvFWxlFg0DERn-zHSi9Llc9BW1WIjOL6EEY32-ezBXmJ-f3-QRytxvcJTjVbHAfmnHQeZig3994IUAlsUhKH4FOIXSYwhBLM6115333RA.UHO7L3-7iRWiL2Ub8pEacEQRD1SQ8DY8Xbn5C3YnWbI&dib_tag=se&keywords=Phone&qid=1710986606&sprefix=phone%2Caps%2C250&sr=8-4', 'https://www.amazon.in/Nothing-Flexible-Dimensity-Processor-Interface/dp/B0CX7G9PZ4/ref=sr_1_5?crid=5O1L3V0KO88H&dib=eyJ2IjoiMSJ9.sq5yWfpZm9xicKrufNzYSVurQkpYqG_eS2tCUwV1boarCoKpTeo4juntBXVjxZkCZuILFN14ToOKmmNrCZsUOC8L83B51XJB_HYkm2P-n9SSCJGe1YHn0KMc1WzJ--vZDmGvFWxlFg0DERn-zHSi9Llc9BW1WIjOL6EEY32-ezBXmJ-f3-QRytxvcJTjVbHAfmnHQeZig3994IUAlsUhKH4FOIXSYwhBLM6115333RA.UHO7L3-7iRWiL2Ub8pEacEQRD1SQ8DY8Xbn5C3YnWbI&dib_tag=se&keywords=Phone&qid=1710986606&sprefix=phone%2Caps%2C250&sr=8-5', 'https://aax-eu.amazon.in/x/c/RH9dM27hAf-p3KbWSi88NikAAAGOXr-5CQMAAAH2AQBvbm9fdHhuX2JpZDMgICBvbm9fdHhuX2ltcDEgICCO1VVI/https://www.amazon.in/Redmi-Starlight-Storage-MediaTek-Dimensity/dp/B0CNX89QR8/ref=sxin_15_sbv_search_btf?content-id=amzn1.sym.4fe35c1d-da6a-41a4-967c-7a2315a8b22e%3Aamzn1.sym.4fe35c1d-da6a-41a4-967c-7a2315a8b22e&crid=5O1L3V0KO88H&cv_ct_cx=Phone&dib=eyJ2IjoiMSJ9.-RMZUfweQzTw6cGfcmhofw.qJeRThspvcl2J6UTPKlRjThbKoHR9Cbfkw_jgnP6Vt8&dib_tag=se&keywords=Phone&pd_rd_i=B0CNX89QR8&pd_rd_r=67b1f0f9-7f8b-4c3a-9b16-e85d63e56758&pd_rd_w=fVxpO&pd_rd_wg=RTRai&pf_rd_p=4fe35c1d-da6a-41a4-967c-7a2315a8b22e&pf_rd_r=6N1Z6GSF6X7SQFM5EEY2&qid=1710986606&sbo=RZvfv%2F%2FHxDF%2BO5021pAnSA%3D%3D&sprefix=phone%2Caps%2C250&sr=1-1-b614a050-8d70-4320-9c19-cc457ab2a351', 'https://www.amazon.in/Nokia-2660-keypad-inbuilt-Wireless/dp/B0B9YK24TF/ref=sr_1_6?crid=5O1L3V0KO88H&dib=eyJ2IjoiMSJ9.sq5yWfpZm9xicKrufNzYSVurQkpYqG_eS2tCUwV1boarCoKpTeo4juntBXVjxZkCZuILFN14ToOKmmNrCZsUOC8L83B51XJB_HYkm2P-n9SSCJGe1YHn0KMc1WzJ--vZDmGvFWxlFg0DERn-zHSi9Llc9BW1WIjOL6EEY32-ezBXmJ-f3-QRytxvcJTjVbHAfmnHQeZig3994IUAlsUhKH4FOIXSYwhBLM6115333RA.UHO7L3-7iRWiL2Ub8pEacEQRD1SQ8DY8Xbn5C3YnWbI&dib_tag=se&keywords=Phone&qid=1710986606&sprefix=phone%2Caps%2C250&sr=8-6', 'https://www.amazon.in/Redmi-Aqua-Blue-64GB-Storage/dp/B0C74LZSQB/ref=sr_1_7?crid=5O1L3V0KO88H&dib=eyJ2IjoiMSJ9.sq5yWfpZm9xicKrufNzYSVurQkpYqG_eS2tCUwV1boarCoKpTeo4juntBXVjxZkCZuILFN14ToOKmmNrCZsUOC8L83B51XJB_HYkm2P-n9SSCJGe1YHn0KMc1WzJ--vZDmGvFWxlFg0DERn-zHSi9Llc9BW1WIjOL6EEY32-ezBXmJ-f3-QRytxvcJTjVbHAfmnHQeZig3994IUAlsUhKH4FOIXSYwhBLM6115333RA.UHO7L3-7iRWiL2Ub8pEacEQRD1SQ8DY8Xbn5C3YnWbI&dib_tag=se&keywords=Phone&qid=1710986606&sprefix=phone%2Caps%2C250&sr=8-7', 'https://www.amazon.in/OnePlus-Nord-Pastel-256GB-Storage/dp/B0BY8JV4PX/ref=sr_1_8?crid=5O1L3V0KO88H&dib=eyJ2IjoiMSJ9.sq5yWfpZm9xicKrufNzYSVurQkpYqG_eS2tCUwV1boarCoKpTeo4juntBXVjxZkCZuILFN14ToOKmmNrCZsUOC8L83B51XJB_HYkm2P-n9SSCJGe1YHn0KMc1WzJ--vZDmGvFWxlFg0DERn-zHSi9Llc9BW1WIjOL6EEY32-ezBXmJ-f3-QRytxvcJTjVbHAfmnHQeZig3994IUAlsUhKH4FOIXSYwhBLM6115333RA.UHO7L3-7iRWiL2Ub8pEacEQRD1SQ8DY8Xbn5C3YnWbI&dib_tag=se&keywords=Phone&qid=1710986606&sprefix=phone%2Caps%2C250&sr=8-8', 'https://www.amazon.in/Stardust-Storage-Powered-MediaTek-Display/dp/B0CMTW9MVK/ref=sr_1_9?crid=5O1L3V0KO88H&dib=eyJ2IjoiMSJ9.sq5yWfpZm9xicKrufNzYSVurQkpYqG_eS2tCUwV1boarCoKpTeo4juntBXVjxZkCZuILFN14ToOKmmNrCZsUOC8L83B51XJB_HYkm2P-n9SSCJGe1YHn0KMc1WzJ--vZDmGvFWxlFg0DERn-zHSi9Llc9BW1WIjOL6EEY32-ezBXmJ-f3-QRytxvcJTjVbHAfmnHQeZig3994IUAlsUhKH4FOIXSYwhBLM6115333RA.UHO7L3-7iRWiL2Ub8pEacEQRD1SQ8DY8Xbn5C3YnWbI&dib_tag=se&keywords=Phone&qid=1710986606&sprefix=phone%2Caps%2C250&sr=8-9', 'https://www.amazon.in/Redmi-Sea-Green-64GB-Storage/dp/B0C74PD9VG/ref=sr_1_10?crid=5O1L3V0KO88H&dib=eyJ2IjoiMSJ9.sq5yWfpZm9xicKrufNzYSVurQkpYqG_eS2tCUwV1boarCoKpTeo4juntBXVjxZkCZuILFN14ToOKmmNrCZsUOC8L83B51XJB_HYkm2P-n9SSCJGe1YHn0KMc1WzJ--vZDmGvFWxlFg0DERn-zHSi9Llc9BW1WIjOL6EEY32-ezBXmJ-f3-QRytxvcJTjVbHAfmnHQeZig3994IUAlsUhKH4FOIXSYwhBLM6115333RA.UHO7L3-7iRWiL2Ub8pEacEQRD1SQ8DY8Xbn5C3YnWbI&dib_tag=se&keywords=Phone&qid=1710986606&sprefix=phone%2Caps%2C250&sr=8-10', 'https://www.amazon.in/sspa/click?ie=UTF8&spc=MTozNjc1NjE5MDI0ODMwODA6MTcxMDk4NjYwNjpzcF9tdGY6MzAwMTQ1NjgxNTAzMzMyOjowOjo&url=%2FApple-iPhone-Plus-128GB-Starlight%2Fdp%2FB0BDJFTGK6%2Fref%3Dsr_1_11_sspa%3Fcrid%3D5O1L3V0KO88H%26dib%3DeyJ2IjoiMSJ9.sq5yWfpZm9xicKrufNzYSVurQkpYqG_eS2tCUwV1boarCoKpTeo4juntBXVjxZkCZuILFN14ToOKmmNrCZsUOC8L83B51XJB_HYkm2P-n9SSCJGe1YHn0KMc1WzJ--vZDmGvFWxlFg0DERn-zHSi9Llc9BW1WIjOL6EEY32-ezBXmJ-f3-QRytxvcJTjVbHAfmnHQeZig3994IUAlsUhKH4FOIXSYwhBLM6115333RA.UHO7L3-7iRWiL2Ub8pEacEQRD1SQ8DY8Xbn5C3YnWbI%26dib_tag%3Dse%26keywords%3DPhone%26qid%3D1710986606%26sprefix%3Dphone%252Caps%252C250%26sr%3D8-11-spons%26sp_csd%3Dd2lkZ2V0TmFtZT1zcF9tdGY%26psc%3D1', 'https://www.amazon.in/sspa/click?ie=UTF8&spc=MTozNjc1NjE5MDI0ODMwODA6MTcxMDk4NjYwNjpzcF9tdGY6MzAwMTA1NjExNzYwMTMyOjowOjo&url=%2FStarshine-Storage-Powered-MediaTek-Display%2Fdp%2FB0CMTZNPXR%2Fref%3Dsr_1_12_sspa%3Fcrid%3D5O1L3V0KO88H%26dib%3DeyJ2IjoiMSJ9.sq5yWfpZm9xicKrufNzYSVurQkpYqG_eS2tCUwV1boarCoKpTeo4juntBXVjxZkCZuILFN14ToOKmmNrCZsUOC8L83B51XJB_HYkm2P-n9SSCJGe1YHn0KMc1WzJ--vZDmGvFWxlFg0DERn-zHSi9Llc9BW1WIjOL6EEY32-ezBXmJ-f3-QRytxvcJTjVbHAfmnHQeZig3994IUAlsUhKH4FOIXSYwhBLM6115333RA.UHO7L3-7iRWiL2Ub8pEacEQRD1SQ8DY8Xbn5C3YnWbI%26dib_tag%3Dse%26keywords%3DPhone%26qid%3D1710986606%26sprefix%3Dphone%252Caps%252C250%26sr%3D8-12-spons%26sp_csd%3Dd2lkZ2V0TmFtZT1zcF9tdGY%26psc%3D1', 'https://www.amazon.in/realme-Feather-Segment-Charging-Slimmest/dp/B0CKN5LGDW/ref=sr_1_13?crid=5O1L3V0KO88H&dib=eyJ2IjoiMSJ9.sq5yWfpZm9xicKrufNzYSVurQkpYqG_eS2tCUwV1boarCoKpTeo4juntBXVjxZkCZuILFN14ToOKmmNrCZsUOC8L83B51XJB_HYkm2P-n9SSCJGe1YHn0KMc1WzJ--vZDmGvFWxlFg0DERn-zHSi9Llc9BW1WIjOL6EEY32-ezBXmJ-f3-QRytxvcJTjVbHAfmnHQeZig3994IUAlsUhKH4FOIXSYwhBLM6115333RA.UHO7L3-7iRWiL2Ub8pEacEQRD1SQ8DY8Xbn5C3YnWbI&dib_tag=se&keywords=Phone&qid=1710986606&sprefix=phone%2Caps%2C250&sr=8-13', 'https://www.amazon.in/realme-5G%EF%BC%88Nebula-External-Segments-Supervooc/dp/B0CGDNJX9X/ref=sr_1_14?crid=5O1L3V0KO88H&dib=eyJ2IjoiMSJ9.sq5yWfpZm9xicKrufNzYSVurQkpYqG_eS2tCUwV1boarCoKpTeo4juntBXVjxZkCZuILFN14ToOKmmNrCZsUOC8L83B51XJB_HYkm2P-n9SSCJGe1YHn0KMc1WzJ--vZDmGvFWxlFg0DERn-zHSi9Llc9BW1WIjOL6EEY32-ezBXmJ-f3-QRytxvcJTjVbHAfmnHQeZig3994IUAlsUhKH4FOIXSYwhBLM6115333RA.UHO7L3-7iRWiL2Ub8pEacEQRD1SQ8DY8Xbn5C3YnWbI&dib_tag=se&keywords=Phone&qid=1710986606&sprefix=phone%2Caps%2C250&sr=8-14', 'https://www.amazon.in/Samsung-Storage-MediaTek-Octa-core-Processor/dp/B0BMGB3CH9/ref=sr_1_15?crid=5O1L3V0KO88H&dib=eyJ2IjoiMSJ9.sq5yWfpZm9xicKrufNzYSVurQkpYqG_eS2tCUwV1boarCoKpTeo4juntBXVjxZkCZuILFN14ToOKmmNrCZsUOC8L83B51XJB_HYkm2P-n9SSCJGe1YHn0KMc1WzJ--vZDmGvFWxlFg0DERn-zHSi9Llc9BW1WIjOL6EEY32-ezBXmJ-f3-QRytxvcJTjVbHAfmnHQeZig3994IUAlsUhKH4FOIXSYwhBLM6115333RA.UHO7L3-7iRWiL2Ub8pEacEQRD1SQ8DY8Xbn5C3YnWbI&dib_tag=se&keywords=Phone&qid=1710986606&sprefix=phone%2Caps%2C250&sr=8-15', 'https://www.amazon.in/POCO-C55-Forest-Green-128/dp/B0BX9JS72P/ref=sr_1_16?crid=5O1L3V0KO88H&dib=eyJ2IjoiMSJ9.sq5yWfpZm9xicKrufNzYSVurQkpYqG_eS2tCUwV1boarCoKpTeo4juntBXVjxZkCZuILFN14ToOKmmNrCZsUOC8L83B51XJB_HYkm2P-n9SSCJGe1YHn0KMc1WzJ--vZDmGvFWxlFg0DERn-zHSi9Llc9BW1WIjOL6EEY32-ezBXmJ-f3-QRytxvcJTjVbHAfmnHQeZig3994IUAlsUhKH4FOIXSYwhBLM6115333RA.UHO7L3-7iRWiL2Ub8pEacEQRD1SQ8DY8Xbn5C3YnWbI&dib_tag=se&keywords=Phone&qid=1710986606&sprefix=phone%2Caps%2C250&sr=8-16', 'https://www.amazon.in/Samsung-Waterfall-sAMOLED-Display-Security/dp/B0C7C28GKF/ref=sr_1_17?crid=5O1L3V0KO88H&dib=eyJ2IjoiMSJ9.sq5yWfpZm9xicKrufNzYSVurQkpYqG_eS2tCUwV1boarCoKpTeo4juntBXVjxZkCZuILFN14ToOKmmNrCZsUOC8L83B51XJB_HYkm2P-n9SSCJGe1YHn0KMc1WzJ--vZDmGvFWxlFg0DERn-zHSi9Llc9BW1WIjOL6EEY32-ezBXmJ-f3-QRytxvcJTjVbHAfmnHQeZig3994IUAlsUhKH4FOIXSYwhBLM6115333RA.UHO7L3-7iRWiL2Ub8pEacEQRD1SQ8DY8Xbn5C3YnWbI&dib_tag=se&keywords=Phone&qid=1710986606&sprefix=phone%2Caps%2C250&sr=8-17', 'https://www.amazon.in/Stardust-Storage-Powered-Mediatek-Display/dp/B0CMTTRN8M/ref=sr_1_18?crid=5O1L3V0KO88H&dib=eyJ2IjoiMSJ9.sq5yWfpZm9xicKrufNzYSVurQkpYqG_eS2tCUwV1boarCoKpTeo4juntBXVjxZkCZuILFN14ToOKmmNrCZsUOC8L83B51XJB_HYkm2P-n9SSCJGe1YHn0KMc1WzJ--vZDmGvFWxlFg0DERn-zHSi9Llc9BW1WIjOL6EEY32-ezBXmJ-f3-QRytxvcJTjVbHAfmnHQeZig3994IUAlsUhKH4FOIXSYwhBLM6115333RA.UHO7L3-7iRWiL2Ub8pEacEQRD1SQ8DY8Xbn5C3YnWbI&dib_tag=se&keywords=Phone&qid=1710986606&sprefix=phone%2Caps%2C250&sr=8-18', 'https://www.amazon.in/realme-Cosmic-Display-SUPERVOOC-Charger/dp/B0C78869XJ/ref=sr_1_19?crid=5O1L3V0KO88H&dib=eyJ2IjoiMSJ9.sq5yWfpZm9xicKrufNzYSVurQkpYqG_eS2tCUwV1boarCoKpTeo4juntBXVjxZkCZuILFN14ToOKmmNrCZsUOC8L83B51XJB_HYkm2P-n9SSCJGe1YHn0KMc1WzJ--vZDmGvFWxlFg0DERn-zHSi9Llc9BW1WIjOL6EEY32-ezBXmJ-f3-QRytxvcJTjVbHAfmnHQeZig3994IUAlsUhKH4FOIXSYwhBLM6115333RA.UHO7L3-7iRWiL2Ub8pEacEQRD1SQ8DY8Xbn5C3YnWbI&dib_tag=se&keywords=Phone&qid=1710986606&sprefix=phone%2Caps%2C250&sr=8-19', 'https://www.amazon.in/POCO-C55-Forest-Green-RAM/dp/B0BX9VFHVQ/ref=sr_1_20?crid=5O1L3V0KO88H&dib=eyJ2IjoiMSJ9.sq5yWfpZm9xicKrufNzYSVurQkpYqG_eS2tCUwV1boarCoKpTeo4juntBXVjxZkCZuILFN14ToOKmmNrCZsUOC8L83B51XJB_HYkm2P-n9SSCJGe1YHn0KMc1WzJ--vZDmGvFWxlFg0DERn-zHSi9Llc9BW1WIjOL6EEY32-ezBXmJ-f3-QRytxvcJTjVbHAfmnHQeZig3994IUAlsUhKH4FOIXSYwhBLM6115333RA.UHO7L3-7iRWiL2Ub8pEacEQRD1SQ8DY8Xbn5C3YnWbI&dib_tag=se&keywords=Phone&qid=1710986606&sprefix=phone%2Caps%2C250&sr=8-20', 'https://www.amazon.in/sspa/click?ie=UTF8&spc=MTozNjc1NjE5MDI0ODMwODA6MTcxMDk4NjYwNjpzcF9idGY6MzAwMTA3OTM3MTAwODMyOjowOjo&url=%2FRedmi-Startrail-Storage-MediaTek-Dimensity%2Fdp%2FB0CNX6WVG5%2Fref%3Dsr_1_21_sspa%3Fcrid%3D5O1L3V0KO88H%26dib%3DeyJ2IjoiMSJ9.sq5yWfpZm9xicKrufNzYSVurQkpYqG_eS2tCUwV1boarCoKpTeo4juntBXVjxZkCZuILFN14ToOKmmNrCZsUOC8L83B51XJB_HYkm2P-n9SSCJGe1YHn0KMc1WzJ--vZDmGvFWxlFg0DERn-zHSi9Llc9BW1WIjOL6EEY32-ezBXmJ-f3-QRytxvcJTjVbHAfmnHQeZig3994IUAlsUhKH4FOIXSYwhBLM6115333RA.UHO7L3-7iRWiL2Ub8pEacEQRD1SQ8DY8Xbn5C3YnWbI%26dib_tag%3Dse%26keywords%3DPhone%26qid%3D1710986606%26sprefix%3Dphone%252Caps%252C250%26sr%3D8-21-spons%26sp_csd%3Dd2lkZ2V0TmFtZT1zcF9idGY%26psc%3D1', 'https://www.amazon.in/sspa/click?ie=UTF8&spc=MTozNjc1NjE5MDI0ODMwODA6MTcxMDk4NjYwNjpzcF9idGY6MzAwMTMzNDA3MzM4NjMyOjowOjo&url=%2FPOCO-Forest-Green-128GB-Storage%2Fdp%2FB0CDS9PTRQ%2Fref%3Dsr_1_22_sspa%3Fcrid%3D5O1L3V0KO88H%26dib%3DeyJ2IjoiMSJ9.sq5yWfpZm9xicKrufNzYSVurQkpYqG_eS2tCUwV1boarCoKpTeo4juntBXVjxZkCZuILFN14ToOKmmNrCZsUOC8L83B51XJB_HYkm2P-n9SSCJGe1YHn0KMc1WzJ--vZDmGvFWxlFg0DERn-zHSi9Llc9BW1WIjOL6EEY32-ezBXmJ-f3-QRytxvcJTjVbHAfmnHQeZig3994IUAlsUhKH4FOIXSYwhBLM6115333RA.UHO7L3-7iRWiL2Ub8pEacEQRD1SQ8DY8Xbn5C3YnWbI%26dib_tag%3Dse%26keywords%3DPhone%26qid%3D1710986606%26sprefix%3Dphone%252Caps%252C250%26sr%3D8-22-spons%26sp_csd%3Dd2lkZ2V0TmFtZT1zcF9idGY%26psc%3D1', 'https://aax-eu.amazon.in/x/c/RFZVQ93rze0sT0xuuqhs4OwAAAGOXr-5FgMAAAH2AQBvbm9fdHhuX2JpZDEgICBvbm9fdHhuX2ltcDEgICCNYaf7/https://www.amazon.in/Spigen-PE2213-Charger-Compatible-Devices/dp/B0CG8QTWP2/ref=sxbs_sbv_search_btf?content-id=amzn1.sym.7d6d801d-0b91-42f0-9ded-a1900c21a285%3Aamzn1.sym.7d6d801d-0b91-42f0-9ded-a1900c21a285&crid=5O1L3V0KO88H&cv_ct_cx=Phone&dib=eyJ2IjoiMSJ9.qE0O6XlAC6D5lP_czB3JHg.NFED9heKy7VrW1Yl39Q13QqT6bUd3j_GrOCAKQSkyCA&dib_tag=se&keywords=Phone&pd_rd_i=B0CG8QTWP2&pd_rd_r=1503effc-5b82-4de0-b48b-8638458e20ae&pd_rd_w=84iKt&pd_rd_wg=uJvVN&pf_rd_p=7d6d801d-0b91-42f0-9ded-a1900c21a285&pf_rd_r=6N1Z6GSF6X7SQFM5EEY2&qid=1710986606&sbo=RZvfv%2F%2FHxDF%2BO5021pAnSA%3D%3D&sprefix=phone%2Caps%2C250&sr=1-1-25dedf61-9bde-4412-952b-c956ef4fc546']\n"
     ]
    }
   ],
   "source": [
    "Product_URL=[]\n",
    "url=driver.find_elements(By.XPATH,'//a[@class=\"a-link-normal s-underline-text s-underline-link-text s-link-style a-text-normal\"]')\n",
    "for i in url:\n",
    "    Product_URL.append(i.get_attribute('href'))\n",
    "print(Product_URL)"
   ]
  },
  {
   "cell_type": "code",
   "execution_count": 16,
   "id": "b158c8c8",
   "metadata": {},
   "outputs": [
    {
     "data": {
      "text/plain": [
       "24"
      ]
     },
     "execution_count": 16,
     "metadata": {},
     "output_type": "execute_result"
    }
   ],
   "source": [
    "len(Product_URL)"
   ]
  },
  {
   "cell_type": "code",
   "execution_count": 17,
   "id": "814889cb",
   "metadata": {},
   "outputs": [
    {
     "name": "stdout",
     "output_type": "stream",
     "text": [
      "['Friday, 12 April', 'Saturday, 23 March', 'Saturday, 23 March', 'Saturday, 23 March', 'Sunday, 24 March', 'Saturday, 23 March', 'Saturday, 23 March', 'Saturday, 23 March', 'Sunday, 24 March', 'Saturday, 23 March', 'Saturday, 23 March', 'Monday, 25 March', 'Saturday, 23 March', 'Saturday, 23 March', '23 - 26 March', '23 - 25 March', 'Saturday, 23 March', '23 - 24 March', 'Saturday, 23 March', 'Saturday, 23 March', 'Saturday, 23 March', 'Saturday, 23 March', 'Saturday, 23 March', 'Monday, 25 March']\n"
     ]
    },
    {
     "data": {
      "text/plain": [
       "24"
      ]
     },
     "execution_count": 17,
     "metadata": {},
     "output_type": "execute_result"
    }
   ],
   "source": [
    "Expected_Delivery=[] \n",
    "for i in Product_URL:\n",
    "    driver.get(i)\n",
    "    try:\n",
    "        expected_delivery=driver.find_elements(By.XPATH,'//*[@id=\"mir-layout-DELIVERY_BLOCK-slot-PRIMARY_DELIVERY_MESSAGE_LARGE\"]/span/span')\n",
    "        for delivery in expected_delivery:\n",
    "            title = delivery.text\n",
    "            Expected_Delivery.append(title)\n",
    "    except NoSuchElementException:\n",
    "        Expected_Delivery.append(\"-\")\n",
    "    \n",
    "    except StaleElementReferenceException as e:\n",
    "        print(\"Exception Raised:\", e)\n",
    "        print(\"Refreshing the page!!\")\n",
    "        driver.get(i)\n",
    "        driver.refresh()\n",
    "        time.sleep(3)\n",
    "        \n",
    "print(Expected_Delivery)\n",
    "len(Expected_Delivery)"
   ]
  },
  {
   "cell_type": "code",
   "execution_count": 18,
   "id": "b46f5609",
   "metadata": {},
   "outputs": [
    {
     "name": "stdout",
     "output_type": "stream",
     "text": [
      "['7 days Service Centre Replacement', '7 days Service Centre Replacement', '7 days Service Centre Replacement', '7 days Replacement', '7 days Returnable', '7 days Service Centre Replacement', '7 days Replacement', '7 days Service Centre Replacement', '7 days Service Centre Replacement', '7 days Service Centre Replacement', '7 days Service Centre Replacement', '7 days Service Centre Replacement', '7 days Service Centre Replacement', '7 days Service Centre Replacement', '7 days Service Centre Replacement', '7 days Service Centre Replacement', '7 days Replacement', '7 days Service Centre Replacement', '7 days Service Centre Replacement', '7 days Service Centre Replacement', '7 days Replacement', '7 days Service Centre Replacement', '7 days Replacement', '7 days Replacement']\n"
     ]
    },
    {
     "data": {
      "text/plain": [
       "24"
      ]
     },
     "execution_count": 18,
     "metadata": {},
     "output_type": "execute_result"
    }
   ],
   "source": [
    "Return_or_Exchange=[]\n",
    "for i in Product_URL:\n",
    "    driver.get(i)\n",
    "    try:\n",
    "        return_exchange=driver.find_elements(By.XPATH,'//*[@id=\"RETURNS_POLICY\"]/span/div[2]/span')\n",
    "        for delivery in return_exchange:\n",
    "            title = delivery.text\n",
    "            Return_or_Exchange.append(title)\n",
    "    except NoSuchElementException:\n",
    "        Return_or_Exchange.append(\"-\")\n",
    "    \n",
    "print(Return_or_Exchange)\n",
    "len(Return_or_Exchange)"
   ]
  },
  {
   "cell_type": "code",
   "execution_count": 19,
   "id": "ed258a50",
   "metadata": {},
   "outputs": [
    {
     "name": "stdout",
     "output_type": "stream",
     "text": [
      "['7 days Service Centre Replacement', '7 days Service Centre Replacement', '7 days Service Centre Replacement', '7 days Replacement', '7 days Returnable', '7 days Service Centre Replacement', '7 days Replacement', '7 days Service Centre Replacement', '7 days Service Centre Replacement', '7 days Service Centre Replacement', '7 days Service Centre Replacement', '7 days Service Centre Replacement', '7 days Service Centre Replacement', '7 days Service Centre Replacement', '7 days Service Centre Replacement', '7 days Service Centre Replacement', '7 days Replacement', '7 days Service Centre Replacement', '7 days Service Centre Replacement', '7 days Service Centre Replacement', '7 days Replacement', '7 days Service Centre Replacement', '7 days Replacement', '7 days Replacement']\n"
     ]
    },
    {
     "data": {
      "text/plain": [
       "24"
      ]
     },
     "execution_count": 19,
     "metadata": {},
     "output_type": "execute_result"
    }
   ],
   "source": [
    "Availability=[]\n",
    "for i in Product_URL:\n",
    "    driver.get(i)\n",
    "    try:\n",
    "        availability=driver.find_elements(By.XPATH,'//*[@id=\"RETURNS_POLICY\"]/span/div[2]/span')\n",
    "        for delivery in availability:\n",
    "            title = delivery.text\n",
    "            Availability.append(title)\n",
    "    except NoSuchElementException:\n",
    "        Availability.append(\"-\")\n",
    "    \n",
    "print(Availability)\n",
    "len(Availability)"
   ]
  },
  {
   "cell_type": "code",
   "execution_count": 21,
   "id": "4ffbcfe3",
   "metadata": {
    "scrolled": true
   },
   "outputs": [
    {
     "data": {
      "text/html": [
       "<div>\n",
       "<style scoped>\n",
       "    .dataframe tbody tr th:only-of-type {\n",
       "        vertical-align: middle;\n",
       "    }\n",
       "\n",
       "    .dataframe tbody tr th {\n",
       "        vertical-align: top;\n",
       "    }\n",
       "\n",
       "    .dataframe thead th {\n",
       "        text-align: right;\n",
       "    }\n",
       "</style>\n",
       "<table border=\"1\" class=\"dataframe\">\n",
       "  <thead>\n",
       "    <tr style=\"text-align: right;\">\n",
       "      <th></th>\n",
       "      <th>Name of the Product</th>\n",
       "      <th>Price</th>\n",
       "      <th>Return/Exchange</th>\n",
       "      <th>Expected Delivery</th>\n",
       "      <th>Availability</th>\n",
       "      <th>Product URL</th>\n",
       "    </tr>\n",
       "  </thead>\n",
       "  <tbody>\n",
       "    <tr>\n",
       "      <th>0</th>\n",
       "      <td>Apple iPhone 13 (128GB) - Midnight</td>\n",
       "      <td>49,499</td>\n",
       "      <td>7 days Service Centre Replacement</td>\n",
       "      <td>Friday, 12 April</td>\n",
       "      <td>7 days Service Centre Replacement</td>\n",
       "      <td>https://www.amazon.in/sspa/click?ie=UTF8&amp;spc=M...</td>\n",
       "    </tr>\n",
       "    <tr>\n",
       "      <th>1</th>\n",
       "      <td>Apple iPhone 14 (128 GB) - Midnight</td>\n",
       "      <td>58,999</td>\n",
       "      <td>7 days Service Centre Replacement</td>\n",
       "      <td>Saturday, 23 March</td>\n",
       "      <td>7 days Service Centre Replacement</td>\n",
       "      <td>https://www.amazon.in/sspa/click?ie=UTF8&amp;spc=M...</td>\n",
       "    </tr>\n",
       "    <tr>\n",
       "      <th>2</th>\n",
       "      <td>realme narzo N53 (Feather Black, 8GB+128GB) 33...</td>\n",
       "      <td>8,999</td>\n",
       "      <td>7 days Service Centre Replacement</td>\n",
       "      <td>Saturday, 23 March</td>\n",
       "      <td>7 days Service Centre Replacement</td>\n",
       "      <td>https://www.amazon.in/realme-Feather-Segment-C...</td>\n",
       "    </tr>\n",
       "    <tr>\n",
       "      <th>3</th>\n",
       "      <td>Nothing Phone (2) 5G (Grey, 12GB RAM, 256GB St...</td>\n",
       "      <td>37,999</td>\n",
       "      <td>7 days Replacement</td>\n",
       "      <td>Saturday, 23 March</td>\n",
       "      <td>7 days Replacement</td>\n",
       "      <td>https://www.amazon.in/Nothing-Storage-Display-...</td>\n",
       "    </tr>\n",
       "    <tr>\n",
       "      <th>4</th>\n",
       "      <td>Nothing Phone (2a) 5G (Black, 8GB RAM, 128GB S...</td>\n",
       "      <td>24,295</td>\n",
       "      <td>7 days Returnable</td>\n",
       "      <td>Sunday, 24 March</td>\n",
       "      <td>7 days Returnable</td>\n",
       "      <td>https://www.amazon.in/Nothing-Flexible-Dimensi...</td>\n",
       "    </tr>\n",
       "    <tr>\n",
       "      <th>5</th>\n",
       "      <td>Redmi 13C 5G (Starlight Black, 4GB RAM, 128GB ...</td>\n",
       "      <td>10,999</td>\n",
       "      <td>7 days Service Centre Replacement</td>\n",
       "      <td>Saturday, 23 March</td>\n",
       "      <td>7 days Service Centre Replacement</td>\n",
       "      <td>https://aax-eu.amazon.in/x/c/RH9dM27hAf-p3KbWS...</td>\n",
       "    </tr>\n",
       "    <tr>\n",
       "      <th>6</th>\n",
       "      <td>Nokia 2660 Flip 4G Volte keypad Phone with Dua...</td>\n",
       "      <td>4,349</td>\n",
       "      <td>7 days Replacement</td>\n",
       "      <td>Saturday, 23 March</td>\n",
       "      <td>7 days Replacement</td>\n",
       "      <td>https://www.amazon.in/Nokia-2660-keypad-inbuil...</td>\n",
       "    </tr>\n",
       "    <tr>\n",
       "      <th>7</th>\n",
       "      <td>Redmi A2 (Aqua Blue, 2GB RAM, 64GB Storage)</td>\n",
       "      <td>5,299</td>\n",
       "      <td>7 days Service Centre Replacement</td>\n",
       "      <td>Saturday, 23 March</td>\n",
       "      <td>7 days Service Centre Replacement</td>\n",
       "      <td>https://www.amazon.in/Redmi-Aqua-Blue-64GB-Sto...</td>\n",
       "    </tr>\n",
       "    <tr>\n",
       "      <th>8</th>\n",
       "      <td>OnePlus Nord CE 3 Lite 5G (Pastel Lime, 8GB RA...</td>\n",
       "      <td>19,999</td>\n",
       "      <td>7 days Service Centre Replacement</td>\n",
       "      <td>Sunday, 24 March</td>\n",
       "      <td>7 days Service Centre Replacement</td>\n",
       "      <td>https://www.amazon.in/OnePlus-Nord-Pastel-256G...</td>\n",
       "    </tr>\n",
       "    <tr>\n",
       "      <th>9</th>\n",
       "      <td>Redmi 13C (Stardust Black, 6GB RAM, 128GB Stor...</td>\n",
       "      <td>8,799</td>\n",
       "      <td>7 days Service Centre Replacement</td>\n",
       "      <td>Saturday, 23 March</td>\n",
       "      <td>7 days Service Centre Replacement</td>\n",
       "      <td>https://www.amazon.in/Stardust-Storage-Powered...</td>\n",
       "    </tr>\n",
       "    <tr>\n",
       "      <th>10</th>\n",
       "      <td>Redmi A2 (Sea Green, 2GB RAM, 64GB Storage)</td>\n",
       "      <td>5,299</td>\n",
       "      <td>7 days Service Centre Replacement</td>\n",
       "      <td>Saturday, 23 March</td>\n",
       "      <td>7 days Service Centre Replacement</td>\n",
       "      <td>https://www.amazon.in/Redmi-Sea-Green-64GB-Sto...</td>\n",
       "    </tr>\n",
       "    <tr>\n",
       "      <th>11</th>\n",
       "      <td>Apple iPhone 14 Plus (128 GB) - Starlight</td>\n",
       "      <td>66,999</td>\n",
       "      <td>7 days Service Centre Replacement</td>\n",
       "      <td>Monday, 25 March</td>\n",
       "      <td>7 days Service Centre Replacement</td>\n",
       "      <td>https://www.amazon.in/sspa/click?ie=UTF8&amp;spc=M...</td>\n",
       "    </tr>\n",
       "    <tr>\n",
       "      <th>12</th>\n",
       "      <td>Redmi 13C (Starshine Green, 4GB RAM, 128GB Sto...</td>\n",
       "      <td>7,799</td>\n",
       "      <td>7 days Service Centre Replacement</td>\n",
       "      <td>Saturday, 23 March</td>\n",
       "      <td>7 days Service Centre Replacement</td>\n",
       "      <td>https://www.amazon.in/sspa/click?ie=UTF8&amp;spc=M...</td>\n",
       "    </tr>\n",
       "    <tr>\n",
       "      <th>13</th>\n",
       "      <td>realme narzo N53 (Feather Gold, 8GB+128GB) 33W...</td>\n",
       "      <td>8,999</td>\n",
       "      <td>7 days Service Centre Replacement</td>\n",
       "      <td>Saturday, 23 March</td>\n",
       "      <td>7 days Service Centre Replacement</td>\n",
       "      <td>https://www.amazon.in/realme-Feather-Segment-C...</td>\n",
       "    </tr>\n",
       "    <tr>\n",
       "      <th>14</th>\n",
       "      <td>realme narzo 60X 5G (Nebula Purple 6GB,128GB S...</td>\n",
       "      <td>11,999</td>\n",
       "      <td>7 days Service Centre Replacement</td>\n",
       "      <td>23 - 26 March</td>\n",
       "      <td>7 days Service Centre Replacement</td>\n",
       "      <td>https://www.amazon.in/realme-5G%EF%BC%88Nebula...</td>\n",
       "    </tr>\n",
       "    <tr>\n",
       "      <th>15</th>\n",
       "      <td>Samsung Galaxy M04 Dark Blue, 4GB RAM, 64GB St...</td>\n",
       "      <td>7,999</td>\n",
       "      <td>7 days Service Centre Replacement</td>\n",
       "      <td>23 - 25 March</td>\n",
       "      <td>7 days Service Centre Replacement</td>\n",
       "      <td>https://www.amazon.in/Samsung-Storage-MediaTek...</td>\n",
       "    </tr>\n",
       "    <tr>\n",
       "      <th>16</th>\n",
       "      <td>POCO C55 (Forest Green, 6GB RAM, 128GB Storage)</td>\n",
       "      <td>6,499</td>\n",
       "      <td>7 days Replacement</td>\n",
       "      <td>Saturday, 23 March</td>\n",
       "      <td>7 days Replacement</td>\n",
       "      <td>https://www.amazon.in/POCO-C55-Forest-Green-12...</td>\n",
       "    </tr>\n",
       "    <tr>\n",
       "      <th>17</th>\n",
       "      <td>Samsung Galaxy M34 5G (Waterfall Blue,6GB,128G...</td>\n",
       "      <td>15,999</td>\n",
       "      <td>7 days Service Centre Replacement</td>\n",
       "      <td>23 - 24 March</td>\n",
       "      <td>7 days Service Centre Replacement</td>\n",
       "      <td>https://www.amazon.in/Samsung-Waterfall-sAMOLE...</td>\n",
       "    </tr>\n",
       "    <tr>\n",
       "      <th>18</th>\n",
       "      <td>Redmi 13C (Stardust Black, 4GB RAM, 128GB Stor...</td>\n",
       "      <td>7,799</td>\n",
       "      <td>7 days Service Centre Replacement</td>\n",
       "      <td>Saturday, 23 March</td>\n",
       "      <td>7 days Service Centre Replacement</td>\n",
       "      <td>https://www.amazon.in/Stardust-Storage-Powered...</td>\n",
       "    </tr>\n",
       "    <tr>\n",
       "      <th>19</th>\n",
       "      <td>realme narzo 60 5G (Cosmic Black,8GB+128GB) | ...</td>\n",
       "      <td>14,999</td>\n",
       "      <td>7 days Service Centre Replacement</td>\n",
       "      <td>Saturday, 23 March</td>\n",
       "      <td>7 days Service Centre Replacement</td>\n",
       "      <td>https://www.amazon.in/realme-Cosmic-Display-SU...</td>\n",
       "    </tr>\n",
       "    <tr>\n",
       "      <th>20</th>\n",
       "      <td>POCO C55 (Forest Green, 4GB RAM, 64GB Storage)</td>\n",
       "      <td>5,999</td>\n",
       "      <td>7 days Replacement</td>\n",
       "      <td>Saturday, 23 March</td>\n",
       "      <td>7 days Replacement</td>\n",
       "      <td>https://www.amazon.in/POCO-C55-Forest-Green-RA...</td>\n",
       "    </tr>\n",
       "    <tr>\n",
       "      <th>21</th>\n",
       "      <td>Redmi 13C 5G (Startrail Green, 4GB RAM, 128GB ...</td>\n",
       "      <td>10,999</td>\n",
       "      <td>7 days Service Centre Replacement</td>\n",
       "      <td>Saturday, 23 March</td>\n",
       "      <td>7 days Service Centre Replacement</td>\n",
       "      <td>https://www.amazon.in/sspa/click?ie=UTF8&amp;spc=M...</td>\n",
       "    </tr>\n",
       "    <tr>\n",
       "      <th>22</th>\n",
       "      <td>POCO M6 Pro 5G (Forest Green, 6GB RAM, 128GB S...</td>\n",
       "      <td>10,998</td>\n",
       "      <td>7 days Replacement</td>\n",
       "      <td>Saturday, 23 March</td>\n",
       "      <td>7 days Replacement</td>\n",
       "      <td>https://www.amazon.in/sspa/click?ie=UTF8&amp;spc=M...</td>\n",
       "    </tr>\n",
       "    <tr>\n",
       "      <th>23</th>\n",
       "      <td>Spigen [Improved Version] PE2213 35W GaN PPS S...</td>\n",
       "      <td>1,199</td>\n",
       "      <td>7 days Replacement</td>\n",
       "      <td>Monday, 25 March</td>\n",
       "      <td>7 days Replacement</td>\n",
       "      <td>https://aax-eu.amazon.in/x/c/RFZVQ93rze0sT0xuu...</td>\n",
       "    </tr>\n",
       "  </tbody>\n",
       "</table>\n",
       "</div>"
      ],
      "text/plain": [
       "                                  Name of the Product   Price  \\\n",
       "0                  Apple iPhone 13 (128GB) - Midnight  49,499   \n",
       "1                 Apple iPhone 14 (128 GB) - Midnight  58,999   \n",
       "2   realme narzo N53 (Feather Black, 8GB+128GB) 33...   8,999   \n",
       "3   Nothing Phone (2) 5G (Grey, 12GB RAM, 256GB St...  37,999   \n",
       "4   Nothing Phone (2a) 5G (Black, 8GB RAM, 128GB S...  24,295   \n",
       "5   Redmi 13C 5G (Starlight Black, 4GB RAM, 128GB ...  10,999   \n",
       "6   Nokia 2660 Flip 4G Volte keypad Phone with Dua...   4,349   \n",
       "7         Redmi A2 (Aqua Blue, 2GB RAM, 64GB Storage)   5,299   \n",
       "8   OnePlus Nord CE 3 Lite 5G (Pastel Lime, 8GB RA...  19,999   \n",
       "9   Redmi 13C (Stardust Black, 6GB RAM, 128GB Stor...   8,799   \n",
       "10        Redmi A2 (Sea Green, 2GB RAM, 64GB Storage)   5,299   \n",
       "11          Apple iPhone 14 Plus (128 GB) - Starlight  66,999   \n",
       "12  Redmi 13C (Starshine Green, 4GB RAM, 128GB Sto...   7,799   \n",
       "13  realme narzo N53 (Feather Gold, 8GB+128GB) 33W...   8,999   \n",
       "14  realme narzo 60X 5G (Nebula Purple 6GB,128GB S...  11,999   \n",
       "15  Samsung Galaxy M04 Dark Blue, 4GB RAM, 64GB St...   7,999   \n",
       "16    POCO C55 (Forest Green, 6GB RAM, 128GB Storage)   6,499   \n",
       "17  Samsung Galaxy M34 5G (Waterfall Blue,6GB,128G...  15,999   \n",
       "18  Redmi 13C (Stardust Black, 4GB RAM, 128GB Stor...   7,799   \n",
       "19  realme narzo 60 5G (Cosmic Black,8GB+128GB) | ...  14,999   \n",
       "20     POCO C55 (Forest Green, 4GB RAM, 64GB Storage)   5,999   \n",
       "21  Redmi 13C 5G (Startrail Green, 4GB RAM, 128GB ...  10,999   \n",
       "22  POCO M6 Pro 5G (Forest Green, 6GB RAM, 128GB S...  10,998   \n",
       "23  Spigen [Improved Version] PE2213 35W GaN PPS S...   1,199   \n",
       "\n",
       "                      Return/Exchange   Expected Delivery  \\\n",
       "0   7 days Service Centre Replacement    Friday, 12 April   \n",
       "1   7 days Service Centre Replacement  Saturday, 23 March   \n",
       "2   7 days Service Centre Replacement  Saturday, 23 March   \n",
       "3                  7 days Replacement  Saturday, 23 March   \n",
       "4                   7 days Returnable    Sunday, 24 March   \n",
       "5   7 days Service Centre Replacement  Saturday, 23 March   \n",
       "6                  7 days Replacement  Saturday, 23 March   \n",
       "7   7 days Service Centre Replacement  Saturday, 23 March   \n",
       "8   7 days Service Centre Replacement    Sunday, 24 March   \n",
       "9   7 days Service Centre Replacement  Saturday, 23 March   \n",
       "10  7 days Service Centre Replacement  Saturday, 23 March   \n",
       "11  7 days Service Centre Replacement    Monday, 25 March   \n",
       "12  7 days Service Centre Replacement  Saturday, 23 March   \n",
       "13  7 days Service Centre Replacement  Saturday, 23 March   \n",
       "14  7 days Service Centre Replacement       23 - 26 March   \n",
       "15  7 days Service Centre Replacement       23 - 25 March   \n",
       "16                 7 days Replacement  Saturday, 23 March   \n",
       "17  7 days Service Centre Replacement       23 - 24 March   \n",
       "18  7 days Service Centre Replacement  Saturday, 23 March   \n",
       "19  7 days Service Centre Replacement  Saturday, 23 March   \n",
       "20                 7 days Replacement  Saturday, 23 March   \n",
       "21  7 days Service Centre Replacement  Saturday, 23 March   \n",
       "22                 7 days Replacement  Saturday, 23 March   \n",
       "23                 7 days Replacement    Monday, 25 March   \n",
       "\n",
       "                         Availability  \\\n",
       "0   7 days Service Centre Replacement   \n",
       "1   7 days Service Centre Replacement   \n",
       "2   7 days Service Centre Replacement   \n",
       "3                  7 days Replacement   \n",
       "4                   7 days Returnable   \n",
       "5   7 days Service Centre Replacement   \n",
       "6                  7 days Replacement   \n",
       "7   7 days Service Centre Replacement   \n",
       "8   7 days Service Centre Replacement   \n",
       "9   7 days Service Centre Replacement   \n",
       "10  7 days Service Centre Replacement   \n",
       "11  7 days Service Centre Replacement   \n",
       "12  7 days Service Centre Replacement   \n",
       "13  7 days Service Centre Replacement   \n",
       "14  7 days Service Centre Replacement   \n",
       "15  7 days Service Centre Replacement   \n",
       "16                 7 days Replacement   \n",
       "17  7 days Service Centre Replacement   \n",
       "18  7 days Service Centre Replacement   \n",
       "19  7 days Service Centre Replacement   \n",
       "20                 7 days Replacement   \n",
       "21  7 days Service Centre Replacement   \n",
       "22                 7 days Replacement   \n",
       "23                 7 days Replacement   \n",
       "\n",
       "                                          Product URL  \n",
       "0   https://www.amazon.in/sspa/click?ie=UTF8&spc=M...  \n",
       "1   https://www.amazon.in/sspa/click?ie=UTF8&spc=M...  \n",
       "2   https://www.amazon.in/realme-Feather-Segment-C...  \n",
       "3   https://www.amazon.in/Nothing-Storage-Display-...  \n",
       "4   https://www.amazon.in/Nothing-Flexible-Dimensi...  \n",
       "5   https://aax-eu.amazon.in/x/c/RH9dM27hAf-p3KbWS...  \n",
       "6   https://www.amazon.in/Nokia-2660-keypad-inbuil...  \n",
       "7   https://www.amazon.in/Redmi-Aqua-Blue-64GB-Sto...  \n",
       "8   https://www.amazon.in/OnePlus-Nord-Pastel-256G...  \n",
       "9   https://www.amazon.in/Stardust-Storage-Powered...  \n",
       "10  https://www.amazon.in/Redmi-Sea-Green-64GB-Sto...  \n",
       "11  https://www.amazon.in/sspa/click?ie=UTF8&spc=M...  \n",
       "12  https://www.amazon.in/sspa/click?ie=UTF8&spc=M...  \n",
       "13  https://www.amazon.in/realme-Feather-Segment-C...  \n",
       "14  https://www.amazon.in/realme-5G%EF%BC%88Nebula...  \n",
       "15  https://www.amazon.in/Samsung-Storage-MediaTek...  \n",
       "16  https://www.amazon.in/POCO-C55-Forest-Green-12...  \n",
       "17  https://www.amazon.in/Samsung-Waterfall-sAMOLE...  \n",
       "18  https://www.amazon.in/Stardust-Storage-Powered...  \n",
       "19  https://www.amazon.in/realme-Cosmic-Display-SU...  \n",
       "20  https://www.amazon.in/POCO-C55-Forest-Green-RA...  \n",
       "21  https://www.amazon.in/sspa/click?ie=UTF8&spc=M...  \n",
       "22  https://www.amazon.in/sspa/click?ie=UTF8&spc=M...  \n",
       "23  https://aax-eu.amazon.in/x/c/RFZVQ93rze0sT0xuu...  "
      ]
     },
     "execution_count": 21,
     "metadata": {},
     "output_type": "execute_result"
    }
   ],
   "source": [
    "df=pd.DataFrame({\"Name of the Product\": Name_of_the_Product, \"Price\":Price, \"Return/Exchange\":Return_or_Exchange,\"Expected Delivery\":Expected_Delivery, \"Availability\":Availability, \"Product URL\":Product_URL})\n",
    "df"
   ]
  },
  {
   "cell_type": "code",
   "execution_count": null,
   "id": "12998b40",
   "metadata": {},
   "outputs": [],
   "source": [
    "Amazon.to_csv(\"Amazon_Phones.csv\")   # saving dataset to csv"
   ]
  },
  {
   "cell_type": "code",
   "execution_count": 85,
   "id": "c31dcf8f",
   "metadata": {},
   "outputs": [],
   "source": [
    "driver=webdriver.Chrome()\n",
    "driver.get(\"https://www.flipkart.com\")"
   ]
  },
  {
   "cell_type": "code",
   "execution_count": 86,
   "id": "c4bc61b3",
   "metadata": {},
   "outputs": [],
   "source": [
    "Product=driver.find_element(By.CLASS_NAME,\"Pke_EE\" )\n",
    "Product.send_keys('smartphone')"
   ]
  },
  {
   "cell_type": "code",
   "execution_count": 87,
   "id": "3b8ef0f6",
   "metadata": {},
   "outputs": [],
   "source": [
    "search=driver.find_element(By.XPATH,\"/html/body/div[1]/div/div[1]/div/div/div/div/div[1]/div/div[1]/div/div[1]/div[1]/header/div[1]/div[2]/form/div/button\" )\n",
    "search.click()"
   ]
  },
  {
   "cell_type": "code",
   "execution_count": 54,
   "id": "73ac2072",
   "metadata": {},
   "outputs": [],
   "source": [
    "Brand_and_Colour=[] \n",
    "RAM_and_ROM=[] \n",
    "PrimaryCamera_SecondaryCamera=[]\n",
    "Display_Size=[] \n",
    "Battery_Capacity=[] \n",
    "Price=[]  \n",
    "URL=[]"
   ]
  },
  {
   "cell_type": "code",
   "execution_count": 55,
   "id": "dc1b018a",
   "metadata": {},
   "outputs": [
    {
     "name": "stdout",
     "output_type": "stream",
     "text": [
      "['Motorola G34 5G (Ocean Green, 128 GB)', 'POCO C55 (Power Black, 64 GB)', 'POCO C51 (Power Black, 128 GB)', 'POCO M6 5G - Locked with Airtel Prepaid (Polaris Green, 128 GB)', 'Motorola G34 5G (Ice Blue, 128 GB)', 'POCO C51 (Power Black, 64 GB)', 'POCO M6 5G - Locked with Airtel Prepaid (Orion Blue, 128 GB)', 'Motorola G34 5G (Charcoal Black, 128 GB)', 'POCO C51 (Royal Blue, 128 GB)', 'Infinix SMART 8 (Shiny Gold, 128 GB)', 'Infinix SMART 8 (Galaxy White, 128 GB)', 'Infinix SMART 8 (Rainbow Blue, 64 GB)', 'Infinix SMART 8 (Shiny Gold, 64 GB)', 'Infinix SMART 8 (Galaxy White, 64 GB)', 'Infinix SMART 8 (Timber Black, 64 GB)', 'Motorola g54 5G (Midnight Blue, 128 GB)', 'MOTOROLA g24 Power (Ink blue, 128 GB)', 'vivo T2x 5G (Marine Blue, 128 GB)', 'vivo T2x 5G (Glimmer Black, 128 GB)', 'vivo T2x 5G (Aurora Gold, 128 GB)', 'vivo T2x 5G (Glimmer Black, 128 GB)', 'vivo T2x 5G (Sunstone Orange, 128 GB)', 'Infinix SMART 8 (Timber Black, 128 GB)', 'vivo T2x 5G (Aurora Gold, 128 GB)']\n"
     ]
    },
    {
     "data": {
      "text/plain": [
       "24"
      ]
     },
     "execution_count": 55,
     "metadata": {},
     "output_type": "execute_result"
    }
   ],
   "source": [
    "Brand_and_Colour= [] \n",
    "Name=driver.find_elements(By.XPATH,'//div[@class=\"_4rR01T\"]')\n",
    "for i in Name:\n",
    "    try:\n",
    "        Title=i.text\n",
    "        Brand_and_Colour.append(Title)\n",
    "    except NoSuchElementException:\n",
    "        Brand_and_Colour.append(\"-\")\n",
    "print(Brand_and_Colour)\n",
    "len(Brand_and_Colour)"
   ]
  },
  {
   "cell_type": "code",
   "execution_count": 56,
   "id": "dcf2e58a",
   "metadata": {},
   "outputs": [
    {
     "name": "stdout",
     "output_type": "stream",
     "text": [
      "['8 GB RAM | 128 GB ROM', '4 GB RAM | 64 GB ROM | Expandable Upto 1 TB', '6 GB RAM | 128 GB ROM | Expandable Upto 1 TB', '4 GB RAM | 128 GB ROM | Expandable Upto 1 TB', '8 GB RAM | 128 GB ROM', '4 GB RAM | 64 GB ROM | Expandable Upto 1 TB', '4 GB RAM | 128 GB ROM | Expandable Upto 1 TB', '8 GB RAM | 128 GB ROM', '6 GB RAM | 128 GB ROM | Expandable Upto 1 TB', '8 GB RAM | 128 GB ROM | Expandable Upto 2 TB', '8 GB RAM | 128 GB ROM | Expandable Upto 2 TB', '4 GB RAM | 64 GB ROM | Expandable Upto 2 TB', '4 GB RAM | 64 GB ROM | Expandable Upto 2 TB', '4 GB RAM | 64 GB ROM | Expandable Upto 2 TB', '4 GB RAM | 64 GB ROM | Expandable Upto 2 TB', '8 GB RAM | 128 GB ROM | Expandable Upto 1 TB', '4 GB RAM | 128 GB ROM | Expandable Upto 1 TB', '6 GB RAM | 128 GB ROM', '4 GB RAM | 128 GB ROM', '6 GB RAM | 128 GB ROM', '6 GB RAM | 128 GB ROM', '6 GB RAM | 128 GB ROM', '8 GB RAM | 128 GB ROM | Expandable Upto 2 TB', '8 GB RAM | 128 GB ROM']\n"
     ]
    },
    {
     "data": {
      "text/plain": [
       "24"
      ]
     },
     "execution_count": 56,
     "metadata": {},
     "output_type": "execute_result"
    }
   ],
   "source": [
    "RAM_and_ROM= [] \n",
    "Name=driver.find_elements(By.XPATH,'//ul[@class=\"_1xgFaf\"]/li[1]')\n",
    "for i in Name:\n",
    "    try:\n",
    "        Title=i.text\n",
    "        RAM_and_ROM.append(Title)\n",
    "    except NoSuchElementException:\n",
    "        RAM_and_ROM.append(\"-\")\n",
    "print(RAM_and_ROM)\n",
    "len(RAM_and_ROM)"
   ]
  },
  {
   "cell_type": "code",
   "execution_count": 57,
   "id": "6f966da6",
   "metadata": {},
   "outputs": [
    {
     "name": "stdout",
     "output_type": "stream",
     "text": [
      "['50MP + 2MP | 16MP Front Camera', '50MP Dual Rear Camera | 5MP Front Camera', '8MP Rear Camera | 5MP Front Camera', '50MP Rear Camera', '50MP + 2MP | 16MP Front Camera', '8MP Dual Rear Camera | 5MP Front Camera', '50MP Rear Camera', '50MP + 2MP | 16MP Front Camera', '8MP Rear Camera | 5MP Front Camera', '50MP + AI Lens | 8MP Front Camera', '50MP + AI Lens | 8MP Front Camera', '50MP + AI Lens | 8MP Front Camera', '50MP + AI Lens | 8MP Front Camera', '50MP + AI Lens | 8MP Front Camera', '50MP + AI Lens | 8MP Front Camera', '50MP (OIS) + 8MP | 16MP Front Camera', '50MP + 2MP | 16MP Front Camera', '50MP + 2MP | 8MP Front Camera', '50MP + 2MP | 8MP Front Camera', '50MP + 2MP | 8MP Front Camera', '50MP + 2MP | 8MP Front Camera', '50MP + 2MP | 8MP Front Camera', '50MP + AI Lens | 8MP Front Camera', '50MP + 2MP | 8MP Front Camera']\n"
     ]
    },
    {
     "data": {
      "text/plain": [
       "24"
      ]
     },
     "execution_count": 57,
     "metadata": {},
     "output_type": "execute_result"
    }
   ],
   "source": [
    "PrimaryCamera_SecondaryCamera= [] \n",
    "Name=driver.find_elements(By.XPATH,'//ul[@class=\"_1xgFaf\"]/li[3]')\n",
    "for i in Name:\n",
    "    try:\n",
    "        Title=i.text\n",
    "        PrimaryCamera_SecondaryCamera.append(Title)\n",
    "    except NoSuchElementException:\n",
    "        PrimaryCamera_SecondaryCamera.append(\"-\")\n",
    "print(PrimaryCamera_SecondaryCamera)\n",
    "len(PrimaryCamera_SecondaryCamera)"
   ]
  },
  {
   "cell_type": "code",
   "execution_count": 58,
   "id": "1e016443",
   "metadata": {},
   "outputs": [
    {
     "name": "stdout",
     "output_type": "stream",
     "text": [
      "['16.51 cm (6.5 inch) HD+ Display', '17.04 cm (6.71 inch) HD+ Display', '16.56 cm (6.52 inch) HD+ Display', '17.12 cm (6.74 inch) HD+ Display', '16.51 cm (6.5 inch) HD+ Display', '16.56 cm (6.52 inch) HD+ Display', '17.12 cm (6.74 inch) HD+ Display', '16.51 cm (6.5 inch) HD+ Display', '16.56 cm (6.52 inch) HD+ Display', '16.76 cm (6.6 inch) HD+ Display', '16.76 cm (6.6 inch) HD+ Display', '16.76 cm (6.6 inch) HD+ Display', '16.76 cm (6.6 inch) HD+ Display', '16.76 cm (6.6 inch) HD+ Display', '16.76 cm (6.6 inch) HD+ Display', '16.51 cm (6.5 inch) Full HD+ Display', '16.76 cm (6.6 inch) HD+ Display', '16.71 cm (6.58 inch) Full HD+ Display', '16.71 cm (6.58 inch) Full HD+ Display', '16.71 cm (6.58 inch) Full HD+ Display', '16.71 cm (6.58 inch) Full HD+ Display', '16.71 cm (6.58 inch) Full HD+ Display', '16.76 cm (6.6 inch) HD+ Display', '16.71 cm (6.58 inch) Full HD+ Display']\n"
     ]
    },
    {
     "data": {
      "text/plain": [
       "24"
      ]
     },
     "execution_count": 58,
     "metadata": {},
     "output_type": "execute_result"
    }
   ],
   "source": [
    "Display_Size= [] \n",
    "Name=driver.find_elements(By.XPATH,'//ul[@class=\"_1xgFaf\"]/li[2]')\n",
    "for i in Name:\n",
    "    try:\n",
    "        Title=i.text\n",
    "        Display_Size.append(Title)\n",
    "    except NoSuchElementException:\n",
    "        Display_Size.append(\"-\")\n",
    "print(Display_Size)\n",
    "len(Display_Size)"
   ]
  },
  {
   "cell_type": "code",
   "execution_count": 59,
   "id": "558a3f55",
   "metadata": {},
   "outputs": [
    {
     "name": "stdout",
     "output_type": "stream",
     "text": [
      "['5000 mAh Battery', '5000 mAh Battery', '5000 mAh Lithium Polymer Battery', '5000 mAh Battery', '5000 mAh Battery', '5000 mAh Battery', '5000 mAh Battery', '5000 mAh Battery', '5000 mAh Lithium Polymer Battery', '5000 mAh Battery', '5000 mAh Battery', '5000 mAh Battery', '5000 mAh Battery', '5000 mAh Battery', '5000 mAh Battery', '6000 mAh Battery', '6000 mAh Battery', '5000 mAh Battery', '5000 mAh Battery', '5000 mAh Battery', '5000 mAh Battery', '5000 mAh Battery', '5000 mAh Battery', '5000 mAh Battery']\n"
     ]
    },
    {
     "data": {
      "text/plain": [
       "24"
      ]
     },
     "execution_count": 59,
     "metadata": {},
     "output_type": "execute_result"
    }
   ],
   "source": [
    "Battery_Capacity= [] \n",
    "Name=driver.find_elements(By.XPATH,'//ul[@class=\"_1xgFaf\"]/li[4]')\n",
    "for i in Name:\n",
    "    try:\n",
    "        Title=i.text\n",
    "        Battery_Capacity.append(Title)\n",
    "    except NoSuchElementException:\n",
    "        Battery_Capacity.append(\"-\")\n",
    "print(Battery_Capacity)\n",
    "len(Battery_Capacity)"
   ]
  },
  {
   "cell_type": "code",
   "execution_count": 60,
   "id": "3c8f1f8c",
   "metadata": {},
   "outputs": [
    {
     "name": "stdout",
     "output_type": "stream",
     "text": [
      "['₹11,999', '₹5,999', '₹5,999', '₹8,799', '₹11,999', '₹5,499', '₹8,799', '₹11,999', '₹5,999', '₹8,299', '₹8,299', '₹6,999', '₹6,999', '₹6,999', '₹6,999', '₹13,999', '₹7,999', '₹12,999', '₹11,999', '₹12,999', '₹12,999', '₹12,999', '₹8,299', '₹14,999']\n"
     ]
    },
    {
     "data": {
      "text/plain": [
       "24"
      ]
     },
     "execution_count": 60,
     "metadata": {},
     "output_type": "execute_result"
    }
   ],
   "source": [
    "Price= [] \n",
    "Name=driver.find_elements(By.XPATH,'//div[@class=\"_30jeq3 _1_WHN1\"]')\n",
    "for i in Name:\n",
    "    try:\n",
    "        Title=i.text\n",
    "        Price.append(Title)\n",
    "    except NoSuchElementException:\n",
    "        Price.append(\"-\")\n",
    "print(Price)\n",
    "len(Price)"
   ]
  },
  {
   "cell_type": "code",
   "execution_count": 61,
   "id": "c5e3434a",
   "metadata": {},
   "outputs": [
    {
     "name": "stdout",
     "output_type": "stream",
     "text": [
      "['https://www.flipkart.com/motorola-g34-5g-ocean-green-128-gb/p/itm6b1a33b9d9191?pid=MOBGUFK4TZ2CJYHJ&lid=LSTMOBGUFK4TZ2CJYHJPBUF6M&marketplace=FLIPKART&q=smartphone&store=tyy%2F4io&srno=s_1_1&otracker=search&otracker1=search&fm=organic&iid=2defdfd9-276c-4961-9ab6-617ff879c59a.MOBGUFK4TZ2CJYHJ.SEARCH&ppt=hp&ppn=homepage&ssid=0a786jexhs0000001710987207586&qH=1036ba3c4ed2c021', 'https://www.flipkart.com/poco-c55-power-black-64-gb/p/itme567bcd596fe9?pid=MOBGMXSW9PHJVQCA&lid=LSTMOBGMXSW9PHJVQCALTZQ3D&marketplace=FLIPKART&q=smartphone&store=tyy%2F4io&srno=s_1_2&otracker=search&otracker1=search&fm=organic&iid=2defdfd9-276c-4961-9ab6-617ff879c59a.MOBGMXSW9PHJVQCA.SEARCH&ppt=hp&ppn=homepage&ssid=0a786jexhs0000001710987207586&qH=1036ba3c4ed2c021', 'https://www.flipkart.com/poco-c51-power-black-128-gb/p/itma7b694266a136?pid=MOBGSPJPH3UZHMEQ&lid=LSTMOBGSPJPH3UZHMEQAWJ6LR&marketplace=FLIPKART&q=smartphone&store=tyy%2F4io&srno=s_1_3&otracker=search&otracker1=search&fm=organic&iid=2defdfd9-276c-4961-9ab6-617ff879c59a.MOBGSPJPH3UZHMEQ.SEARCH&ppt=hp&ppn=homepage&ssid=0a786jexhs0000001710987207586&qH=1036ba3c4ed2c021', 'https://www.flipkart.com/poco-m6-5g-locked-airtel-prepaid-polaris-green-128-gb/p/itm7315a18fd2062?pid=MOBGYHSDVYXGWQHB&lid=LSTMOBGYHSDVYXGWQHBHSAFZ1&marketplace=FLIPKART&q=smartphone&store=tyy%2F4io&srno=s_1_4&otracker=search&otracker1=search&fm=organic&iid=2defdfd9-276c-4961-9ab6-617ff879c59a.MOBGYHSDVYXGWQHB.SEARCH&ppt=hp&ppn=homepage&ssid=0a786jexhs0000001710987207586&qH=1036ba3c4ed2c021', 'https://www.flipkart.com/motorola-g34-5g-ice-blue-128-gb/p/itmc36bacc1f7bb0?pid=MOBGUFK4P2H9CY7Y&lid=LSTMOBGUFK4P2H9CY7Y4FYWMH&marketplace=FLIPKART&q=smartphone&store=tyy%2F4io&srno=s_1_5&otracker=search&otracker1=search&fm=organic&iid=2defdfd9-276c-4961-9ab6-617ff879c59a.MOBGUFK4P2H9CY7Y.SEARCH&ppt=hp&ppn=homepage&ssid=0a786jexhs0000001710987207586&qH=1036ba3c4ed2c021', 'https://www.flipkart.com/poco-c51-power-black-64-gb/p/itm62bcd2634619e?pid=MOBGZCQFWM5HZHXX&lid=LSTMOBGZCQFWM5HZHXXVV2MKC&marketplace=FLIPKART&q=smartphone&store=tyy%2F4io&srno=s_1_6&otracker=search&otracker1=search&fm=organic&iid=2defdfd9-276c-4961-9ab6-617ff879c59a.MOBGZCQFWM5HZHXX.SEARCH&ppt=hp&ppn=homepage&ssid=0a786jexhs0000001710987207586&qH=1036ba3c4ed2c021', 'https://www.flipkart.com/poco-m6-5g-locked-airtel-prepaid-orion-blue-128-gb/p/itmb21d22a9a4a16?pid=MOBGYHSDBXEZDV3Z&lid=LSTMOBGYHSDBXEZDV3Z13QIWJ&marketplace=FLIPKART&q=smartphone&store=tyy%2F4io&srno=s_1_7&otracker=search&otracker1=search&fm=organic&iid=2defdfd9-276c-4961-9ab6-617ff879c59a.MOBGYHSDBXEZDV3Z.SEARCH&ppt=hp&ppn=homepage&ssid=0a786jexhs0000001710987207586&qH=1036ba3c4ed2c021', 'https://www.flipkart.com/motorola-g34-5g-charcoal-black-128-gb/p/itmcf3922f5c94b2?pid=MOBGUFK4QPQMAA2S&lid=LSTMOBGUFK4QPQMAA2SCAYBBS&marketplace=FLIPKART&q=smartphone&store=tyy%2F4io&srno=s_1_8&otracker=search&otracker1=search&fm=organic&iid=2defdfd9-276c-4961-9ab6-617ff879c59a.MOBGUFK4QPQMAA2S.SEARCH&ppt=hp&ppn=homepage&ssid=0a786jexhs0000001710987207586&qH=1036ba3c4ed2c021', 'https://www.flipkart.com/poco-c51-royal-blue-128-gb/p/itm9ade6427024be?pid=MOBGSPJPFSS9JJDW&lid=LSTMOBGSPJPFSS9JJDWVAIRSD&marketplace=FLIPKART&q=smartphone&store=tyy%2F4io&srno=s_1_9&otracker=search&otracker1=search&fm=organic&iid=2defdfd9-276c-4961-9ab6-617ff879c59a.MOBGSPJPFSS9JJDW.SEARCH&ppt=hp&ppn=homepage&ssid=0a786jexhs0000001710987207586&qH=1036ba3c4ed2c021', 'https://www.flipkart.com/infinix-smart-8-shiny-gold-128-gb/p/itmb5696a34ad441?pid=MOBGWV5H9XEBFU4H&lid=LSTMOBGWV5H9XEBFU4H3X8LJ2&marketplace=FLIPKART&q=smartphone&store=tyy%2F4io&srno=s_1_10&otracker=search&otracker1=search&fm=organic&iid=2defdfd9-276c-4961-9ab6-617ff879c59a.MOBGWV5H9XEBFU4H.SEARCH&ppt=hp&ppn=homepage&ssid=0a786jexhs0000001710987207586&qH=1036ba3c4ed2c021', 'https://www.flipkart.com/infinix-smart-8-galaxy-white-128-gb/p/itmb5696a34ad441?pid=MOBGWV5HKPFCMQNR&lid=LSTMOBGWV5HKPFCMQNRHXLSXC&marketplace=FLIPKART&q=smartphone&store=tyy%2F4io&srno=s_1_11&otracker=search&otracker1=search&fm=organic&iid=2defdfd9-276c-4961-9ab6-617ff879c59a.MOBGWV5HKPFCMQNR.SEARCH&ppt=hp&ppn=homepage&ssid=0a786jexhs0000001710987207586&qH=1036ba3c4ed2c021', 'https://www.flipkart.com/infinix-smart-8-rainbow-blue-64-gb/p/itmb5696a34ad441?pid=MOBGWV5HGPYMDWUN&lid=LSTMOBGWV5HGPYMDWUNX0Q8RJ&marketplace=FLIPKART&q=smartphone&store=tyy%2F4io&srno=s_1_12&otracker=search&otracker1=search&fm=organic&iid=2defdfd9-276c-4961-9ab6-617ff879c59a.MOBGWV5HGPYMDWUN.SEARCH&ppt=hp&ppn=homepage&ssid=0a786jexhs0000001710987207586&qH=1036ba3c4ed2c021', 'https://www.flipkart.com/infinix-smart-8-shiny-gold-64-gb/p/itmb5696a34ad441?pid=MOBGWV5HMRJKJUH4&lid=LSTMOBGWV5HMRJKJUH4ZNXPNM&marketplace=FLIPKART&q=smartphone&store=tyy%2F4io&srno=s_1_13&otracker=search&otracker1=search&fm=organic&iid=2defdfd9-276c-4961-9ab6-617ff879c59a.MOBGWV5HMRJKJUH4.SEARCH&ppt=hp&ppn=homepage&ssid=0a786jexhs0000001710987207586&qH=1036ba3c4ed2c021', 'https://www.flipkart.com/infinix-smart-8-galaxy-white-64-gb/p/itmb5696a34ad441?pid=MOBGWV5HNYCNQJG2&lid=LSTMOBGWV5HNYCNQJG2C89BS0&marketplace=FLIPKART&q=smartphone&store=tyy%2F4io&srno=s_1_14&otracker=search&otracker1=search&fm=organic&iid=2defdfd9-276c-4961-9ab6-617ff879c59a.MOBGWV5HNYCNQJG2.SEARCH&ppt=hp&ppn=homepage&ssid=0a786jexhs0000001710987207586&qH=1036ba3c4ed2c021', 'https://www.flipkart.com/infinix-smart-8-timber-black-64-gb/p/itmb5696a34ad441?pid=MOBGWV5H2JGQTN22&lid=LSTMOBGWV5H2JGQTN22UOUMXB&marketplace=FLIPKART&q=smartphone&store=tyy%2F4io&srno=s_1_15&otracker=search&otracker1=search&fm=organic&iid=2defdfd9-276c-4961-9ab6-617ff879c59a.MOBGWV5H2JGQTN22.SEARCH&ppt=hp&ppn=homepage&ssid=0a786jexhs0000001710987207586&qH=1036ba3c4ed2c021', 'https://www.flipkart.com/motorola-g54-5g-midnight-blue-128-gb/p/itm1867d5933e9e8?pid=MOBGQFX8P4HFEUCD&lid=LSTMOBGQFX8P4HFEUCDNGAP9K&marketplace=FLIPKART&q=smartphone&store=tyy%2F4io&srno=s_1_16&otracker=search&otracker1=search&fm=organic&iid=2defdfd9-276c-4961-9ab6-617ff879c59a.MOBGQFX8P4HFEUCD.SEARCH&ppt=hp&ppn=homepage&ssid=0a786jexhs0000001710987207586&qH=1036ba3c4ed2c021', 'https://www.flipkart.com/motorola-g24-power-ink-blue-128-gb/p/itmecab4a01b8aaf?pid=MOBGUFK4UBP7ZTXJ&lid=LSTMOBGUFK4UBP7ZTXJ6TV61J&marketplace=FLIPKART&q=smartphone&store=tyy%2F4io&srno=s_1_17&otracker=search&otracker1=search&fm=organic&iid=2defdfd9-276c-4961-9ab6-617ff879c59a.MOBGUFK4UBP7ZTXJ.SEARCH&ppt=hp&ppn=homepage&ssid=0a786jexhs0000001710987207586&qH=1036ba3c4ed2c021', 'https://www.flipkart.com/vivo-t2x-5g-marine-blue-128-gb/p/itmcb8f0f6a85d5d?pid=MOBGZBFU4HBKKFSN&lid=LSTMOBGZBFU4HBKKFSNXXMXTS&marketplace=FLIPKART&q=smartphone&store=tyy%2F4io&spotlightTagId=BestsellerId_tyy%2F4io&srno=s_1_18&otracker=search&otracker1=search&fm=organic&iid=2defdfd9-276c-4961-9ab6-617ff879c59a.MOBGZBFU4HBKKFSN.SEARCH&ppt=hp&ppn=homepage&ssid=0a786jexhs0000001710987207586&qH=1036ba3c4ed2c021', 'https://www.flipkart.com/vivo-t2x-5g-glimmer-black-128-gb/p/itmcb8f0f6a85d5d?pid=MOBGZBFUZDW5JHYW&lid=LSTMOBGZBFUZDW5JHYWRCDY5W&marketplace=FLIPKART&q=smartphone&store=tyy%2F4io&srno=s_1_19&otracker=search&otracker1=search&fm=organic&iid=2defdfd9-276c-4961-9ab6-617ff879c59a.MOBGZBFUZDW5JHYW.SEARCH&ppt=hp&ppn=homepage&ssid=0a786jexhs0000001710987207586&qH=1036ba3c4ed2c021', 'https://www.flipkart.com/vivo-t2x-5g-aurora-gold-128-gb/p/itmcb8f0f6a85d5d?pid=MOBGZBFUFNDXSGHS&lid=LSTMOBGZBFUFNDXSGHSMEZSSN&marketplace=FLIPKART&q=smartphone&store=tyy%2F4io&spotlightTagId=BestsellerId_tyy%2F4io&srno=s_1_20&otracker=search&otracker1=search&fm=organic&iid=2defdfd9-276c-4961-9ab6-617ff879c59a.MOBGZBFUFNDXSGHS.SEARCH&ppt=hp&ppn=homepage&ssid=0a786jexhs0000001710987207586&qH=1036ba3c4ed2c021', 'https://www.flipkart.com/vivo-t2x-5g-glimmer-black-128-gb/p/itmcb8f0f6a85d5d?pid=MOBGZBFUF389GDMP&lid=LSTMOBGZBFUF389GDMPYKMTEO&marketplace=FLIPKART&q=smartphone&store=tyy%2F4io&srno=s_1_21&otracker=search&otracker1=search&fm=organic&iid=2defdfd9-276c-4961-9ab6-617ff879c59a.MOBGZBFUF389GDMP.SEARCH&ppt=hp&ppn=homepage&ssid=0a786jexhs0000001710987207586&qH=1036ba3c4ed2c021', 'https://www.flipkart.com/vivo-t2x-5g-sunstone-orange-128-gb/p/itmcb8f0f6a85d5d?pid=MOBGXZG9HX9EUTZR&lid=LSTMOBGXZG9HX9EUTZR0OTO3Z&marketplace=FLIPKART&q=smartphone&store=tyy%2F4io&srno=s_1_22&otracker=search&otracker1=search&fm=organic&iid=2defdfd9-276c-4961-9ab6-617ff879c59a.MOBGXZG9HX9EUTZR.SEARCH&ppt=hp&ppn=homepage&ssid=0a786jexhs0000001710987207586&qH=1036ba3c4ed2c021', 'https://www.flipkart.com/infinix-smart-8-timber-black-128-gb/p/itmb5696a34ad441?pid=MOBGWV5HAFHQJ4CB&lid=LSTMOBGWV5HAFHQJ4CBVTMJ6P&marketplace=FLIPKART&q=smartphone&store=tyy%2F4io&srno=s_1_23&otracker=search&otracker1=search&fm=organic&iid=2defdfd9-276c-4961-9ab6-617ff879c59a.MOBGWV5HAFHQJ4CB.SEARCH&ppt=hp&ppn=homepage&ssid=0a786jexhs0000001710987207586&qH=1036ba3c4ed2c021', 'https://www.flipkart.com/vivo-t2x-5g-aurora-gold-128-gb/p/itmcb8f0f6a85d5d?pid=MOBGZBFUSEFSWASX&lid=LSTMOBGZBFUSEFSWASXBYGWK9&marketplace=FLIPKART&q=smartphone&store=tyy%2F4io&srno=s_1_24&otracker=search&otracker1=search&fm=organic&iid=2defdfd9-276c-4961-9ab6-617ff879c59a.MOBGZBFUSEFSWASX.SEARCH&ppt=hp&ppn=homepage&ssid=0a786jexhs0000001710987207586&qH=1036ba3c4ed2c021']\n"
     ]
    },
    {
     "data": {
      "text/plain": [
       "24"
      ]
     },
     "execution_count": 61,
     "metadata": {},
     "output_type": "execute_result"
    }
   ],
   "source": [
    "URL=[]\n",
    "url=driver.find_elements(By.XPATH,'//a[@class=\"_1fQZEK\"]')\n",
    "for i in url:\n",
    "    URL.append(i.get_attribute('href'))\n",
    "print(URL)\n",
    "len(URL)"
   ]
  },
  {
   "cell_type": "code",
   "execution_count": 62,
   "id": "edce58f8",
   "metadata": {
    "scrolled": true
   },
   "outputs": [
    {
     "data": {
      "text/html": [
       "<div>\n",
       "<style scoped>\n",
       "    .dataframe tbody tr th:only-of-type {\n",
       "        vertical-align: middle;\n",
       "    }\n",
       "\n",
       "    .dataframe tbody tr th {\n",
       "        vertical-align: top;\n",
       "    }\n",
       "\n",
       "    .dataframe thead th {\n",
       "        text-align: right;\n",
       "    }\n",
       "</style>\n",
       "<table border=\"1\" class=\"dataframe\">\n",
       "  <thead>\n",
       "    <tr style=\"text-align: right;\">\n",
       "      <th></th>\n",
       "      <th>Brand_and_Colour</th>\n",
       "      <th>RAM_and_ROM</th>\n",
       "      <th>PrimaryCamera_SecondaryCamera</th>\n",
       "      <th>Display_Size</th>\n",
       "      <th>Battery_Capacity</th>\n",
       "      <th>Price</th>\n",
       "      <th>URL</th>\n",
       "    </tr>\n",
       "  </thead>\n",
       "  <tbody>\n",
       "    <tr>\n",
       "      <th>0</th>\n",
       "      <td>Motorola G34 5G (Ocean Green, 128 GB)</td>\n",
       "      <td>8 GB RAM | 128 GB ROM</td>\n",
       "      <td>50MP + 2MP | 16MP Front Camera</td>\n",
       "      <td>16.51 cm (6.5 inch) HD+ Display</td>\n",
       "      <td>5000 mAh Battery</td>\n",
       "      <td>₹11,999</td>\n",
       "      <td>https://www.flipkart.com/motorola-g34-5g-ocean...</td>\n",
       "    </tr>\n",
       "    <tr>\n",
       "      <th>1</th>\n",
       "      <td>POCO C55 (Power Black, 64 GB)</td>\n",
       "      <td>4 GB RAM | 64 GB ROM | Expandable Upto 1 TB</td>\n",
       "      <td>50MP Dual Rear Camera | 5MP Front Camera</td>\n",
       "      <td>17.04 cm (6.71 inch) HD+ Display</td>\n",
       "      <td>5000 mAh Battery</td>\n",
       "      <td>₹5,999</td>\n",
       "      <td>https://www.flipkart.com/poco-c55-power-black-...</td>\n",
       "    </tr>\n",
       "    <tr>\n",
       "      <th>2</th>\n",
       "      <td>POCO C51 (Power Black, 128 GB)</td>\n",
       "      <td>6 GB RAM | 128 GB ROM | Expandable Upto 1 TB</td>\n",
       "      <td>8MP Rear Camera | 5MP Front Camera</td>\n",
       "      <td>16.56 cm (6.52 inch) HD+ Display</td>\n",
       "      <td>5000 mAh Lithium Polymer Battery</td>\n",
       "      <td>₹5,999</td>\n",
       "      <td>https://www.flipkart.com/poco-c51-power-black-...</td>\n",
       "    </tr>\n",
       "    <tr>\n",
       "      <th>3</th>\n",
       "      <td>POCO M6 5G - Locked with Airtel Prepaid (Polar...</td>\n",
       "      <td>4 GB RAM | 128 GB ROM | Expandable Upto 1 TB</td>\n",
       "      <td>50MP Rear Camera</td>\n",
       "      <td>17.12 cm (6.74 inch) HD+ Display</td>\n",
       "      <td>5000 mAh Battery</td>\n",
       "      <td>₹8,799</td>\n",
       "      <td>https://www.flipkart.com/poco-m6-5g-locked-air...</td>\n",
       "    </tr>\n",
       "    <tr>\n",
       "      <th>4</th>\n",
       "      <td>Motorola G34 5G (Ice Blue, 128 GB)</td>\n",
       "      <td>8 GB RAM | 128 GB ROM</td>\n",
       "      <td>50MP + 2MP | 16MP Front Camera</td>\n",
       "      <td>16.51 cm (6.5 inch) HD+ Display</td>\n",
       "      <td>5000 mAh Battery</td>\n",
       "      <td>₹11,999</td>\n",
       "      <td>https://www.flipkart.com/motorola-g34-5g-ice-b...</td>\n",
       "    </tr>\n",
       "    <tr>\n",
       "      <th>5</th>\n",
       "      <td>POCO C51 (Power Black, 64 GB)</td>\n",
       "      <td>4 GB RAM | 64 GB ROM | Expandable Upto 1 TB</td>\n",
       "      <td>8MP Dual Rear Camera | 5MP Front Camera</td>\n",
       "      <td>16.56 cm (6.52 inch) HD+ Display</td>\n",
       "      <td>5000 mAh Battery</td>\n",
       "      <td>₹5,499</td>\n",
       "      <td>https://www.flipkart.com/poco-c51-power-black-...</td>\n",
       "    </tr>\n",
       "    <tr>\n",
       "      <th>6</th>\n",
       "      <td>POCO M6 5G - Locked with Airtel Prepaid (Orion...</td>\n",
       "      <td>4 GB RAM | 128 GB ROM | Expandable Upto 1 TB</td>\n",
       "      <td>50MP Rear Camera</td>\n",
       "      <td>17.12 cm (6.74 inch) HD+ Display</td>\n",
       "      <td>5000 mAh Battery</td>\n",
       "      <td>₹8,799</td>\n",
       "      <td>https://www.flipkart.com/poco-m6-5g-locked-air...</td>\n",
       "    </tr>\n",
       "    <tr>\n",
       "      <th>7</th>\n",
       "      <td>Motorola G34 5G (Charcoal Black, 128 GB)</td>\n",
       "      <td>8 GB RAM | 128 GB ROM</td>\n",
       "      <td>50MP + 2MP | 16MP Front Camera</td>\n",
       "      <td>16.51 cm (6.5 inch) HD+ Display</td>\n",
       "      <td>5000 mAh Battery</td>\n",
       "      <td>₹11,999</td>\n",
       "      <td>https://www.flipkart.com/motorola-g34-5g-charc...</td>\n",
       "    </tr>\n",
       "    <tr>\n",
       "      <th>8</th>\n",
       "      <td>POCO C51 (Royal Blue, 128 GB)</td>\n",
       "      <td>6 GB RAM | 128 GB ROM | Expandable Upto 1 TB</td>\n",
       "      <td>8MP Rear Camera | 5MP Front Camera</td>\n",
       "      <td>16.56 cm (6.52 inch) HD+ Display</td>\n",
       "      <td>5000 mAh Lithium Polymer Battery</td>\n",
       "      <td>₹5,999</td>\n",
       "      <td>https://www.flipkart.com/poco-c51-royal-blue-1...</td>\n",
       "    </tr>\n",
       "    <tr>\n",
       "      <th>9</th>\n",
       "      <td>Infinix SMART 8 (Shiny Gold, 128 GB)</td>\n",
       "      <td>8 GB RAM | 128 GB ROM | Expandable Upto 2 TB</td>\n",
       "      <td>50MP + AI Lens | 8MP Front Camera</td>\n",
       "      <td>16.76 cm (6.6 inch) HD+ Display</td>\n",
       "      <td>5000 mAh Battery</td>\n",
       "      <td>₹8,299</td>\n",
       "      <td>https://www.flipkart.com/infinix-smart-8-shiny...</td>\n",
       "    </tr>\n",
       "    <tr>\n",
       "      <th>10</th>\n",
       "      <td>Infinix SMART 8 (Galaxy White, 128 GB)</td>\n",
       "      <td>8 GB RAM | 128 GB ROM | Expandable Upto 2 TB</td>\n",
       "      <td>50MP + AI Lens | 8MP Front Camera</td>\n",
       "      <td>16.76 cm (6.6 inch) HD+ Display</td>\n",
       "      <td>5000 mAh Battery</td>\n",
       "      <td>₹8,299</td>\n",
       "      <td>https://www.flipkart.com/infinix-smart-8-galax...</td>\n",
       "    </tr>\n",
       "    <tr>\n",
       "      <th>11</th>\n",
       "      <td>Infinix SMART 8 (Rainbow Blue, 64 GB)</td>\n",
       "      <td>4 GB RAM | 64 GB ROM | Expandable Upto 2 TB</td>\n",
       "      <td>50MP + AI Lens | 8MP Front Camera</td>\n",
       "      <td>16.76 cm (6.6 inch) HD+ Display</td>\n",
       "      <td>5000 mAh Battery</td>\n",
       "      <td>₹6,999</td>\n",
       "      <td>https://www.flipkart.com/infinix-smart-8-rainb...</td>\n",
       "    </tr>\n",
       "    <tr>\n",
       "      <th>12</th>\n",
       "      <td>Infinix SMART 8 (Shiny Gold, 64 GB)</td>\n",
       "      <td>4 GB RAM | 64 GB ROM | Expandable Upto 2 TB</td>\n",
       "      <td>50MP + AI Lens | 8MP Front Camera</td>\n",
       "      <td>16.76 cm (6.6 inch) HD+ Display</td>\n",
       "      <td>5000 mAh Battery</td>\n",
       "      <td>₹6,999</td>\n",
       "      <td>https://www.flipkart.com/infinix-smart-8-shiny...</td>\n",
       "    </tr>\n",
       "    <tr>\n",
       "      <th>13</th>\n",
       "      <td>Infinix SMART 8 (Galaxy White, 64 GB)</td>\n",
       "      <td>4 GB RAM | 64 GB ROM | Expandable Upto 2 TB</td>\n",
       "      <td>50MP + AI Lens | 8MP Front Camera</td>\n",
       "      <td>16.76 cm (6.6 inch) HD+ Display</td>\n",
       "      <td>5000 mAh Battery</td>\n",
       "      <td>₹6,999</td>\n",
       "      <td>https://www.flipkart.com/infinix-smart-8-galax...</td>\n",
       "    </tr>\n",
       "    <tr>\n",
       "      <th>14</th>\n",
       "      <td>Infinix SMART 8 (Timber Black, 64 GB)</td>\n",
       "      <td>4 GB RAM | 64 GB ROM | Expandable Upto 2 TB</td>\n",
       "      <td>50MP + AI Lens | 8MP Front Camera</td>\n",
       "      <td>16.76 cm (6.6 inch) HD+ Display</td>\n",
       "      <td>5000 mAh Battery</td>\n",
       "      <td>₹6,999</td>\n",
       "      <td>https://www.flipkart.com/infinix-smart-8-timbe...</td>\n",
       "    </tr>\n",
       "    <tr>\n",
       "      <th>15</th>\n",
       "      <td>Motorola g54 5G (Midnight Blue, 128 GB)</td>\n",
       "      <td>8 GB RAM | 128 GB ROM | Expandable Upto 1 TB</td>\n",
       "      <td>50MP (OIS) + 8MP | 16MP Front Camera</td>\n",
       "      <td>16.51 cm (6.5 inch) Full HD+ Display</td>\n",
       "      <td>6000 mAh Battery</td>\n",
       "      <td>₹13,999</td>\n",
       "      <td>https://www.flipkart.com/motorola-g54-5g-midni...</td>\n",
       "    </tr>\n",
       "    <tr>\n",
       "      <th>16</th>\n",
       "      <td>MOTOROLA g24 Power (Ink blue, 128 GB)</td>\n",
       "      <td>4 GB RAM | 128 GB ROM | Expandable Upto 1 TB</td>\n",
       "      <td>50MP + 2MP | 16MP Front Camera</td>\n",
       "      <td>16.76 cm (6.6 inch) HD+ Display</td>\n",
       "      <td>6000 mAh Battery</td>\n",
       "      <td>₹7,999</td>\n",
       "      <td>https://www.flipkart.com/motorola-g24-power-in...</td>\n",
       "    </tr>\n",
       "    <tr>\n",
       "      <th>17</th>\n",
       "      <td>vivo T2x 5G (Marine Blue, 128 GB)</td>\n",
       "      <td>6 GB RAM | 128 GB ROM</td>\n",
       "      <td>50MP + 2MP | 8MP Front Camera</td>\n",
       "      <td>16.71 cm (6.58 inch) Full HD+ Display</td>\n",
       "      <td>5000 mAh Battery</td>\n",
       "      <td>₹12,999</td>\n",
       "      <td>https://www.flipkart.com/vivo-t2x-5g-marine-bl...</td>\n",
       "    </tr>\n",
       "    <tr>\n",
       "      <th>18</th>\n",
       "      <td>vivo T2x 5G (Glimmer Black, 128 GB)</td>\n",
       "      <td>4 GB RAM | 128 GB ROM</td>\n",
       "      <td>50MP + 2MP | 8MP Front Camera</td>\n",
       "      <td>16.71 cm (6.58 inch) Full HD+ Display</td>\n",
       "      <td>5000 mAh Battery</td>\n",
       "      <td>₹11,999</td>\n",
       "      <td>https://www.flipkart.com/vivo-t2x-5g-glimmer-b...</td>\n",
       "    </tr>\n",
       "    <tr>\n",
       "      <th>19</th>\n",
       "      <td>vivo T2x 5G (Aurora Gold, 128 GB)</td>\n",
       "      <td>6 GB RAM | 128 GB ROM</td>\n",
       "      <td>50MP + 2MP | 8MP Front Camera</td>\n",
       "      <td>16.71 cm (6.58 inch) Full HD+ Display</td>\n",
       "      <td>5000 mAh Battery</td>\n",
       "      <td>₹12,999</td>\n",
       "      <td>https://www.flipkart.com/vivo-t2x-5g-aurora-go...</td>\n",
       "    </tr>\n",
       "    <tr>\n",
       "      <th>20</th>\n",
       "      <td>vivo T2x 5G (Glimmer Black, 128 GB)</td>\n",
       "      <td>6 GB RAM | 128 GB ROM</td>\n",
       "      <td>50MP + 2MP | 8MP Front Camera</td>\n",
       "      <td>16.71 cm (6.58 inch) Full HD+ Display</td>\n",
       "      <td>5000 mAh Battery</td>\n",
       "      <td>₹12,999</td>\n",
       "      <td>https://www.flipkart.com/vivo-t2x-5g-glimmer-b...</td>\n",
       "    </tr>\n",
       "    <tr>\n",
       "      <th>21</th>\n",
       "      <td>vivo T2x 5G (Sunstone Orange, 128 GB)</td>\n",
       "      <td>6 GB RAM | 128 GB ROM</td>\n",
       "      <td>50MP + 2MP | 8MP Front Camera</td>\n",
       "      <td>16.71 cm (6.58 inch) Full HD+ Display</td>\n",
       "      <td>5000 mAh Battery</td>\n",
       "      <td>₹12,999</td>\n",
       "      <td>https://www.flipkart.com/vivo-t2x-5g-sunstone-...</td>\n",
       "    </tr>\n",
       "    <tr>\n",
       "      <th>22</th>\n",
       "      <td>Infinix SMART 8 (Timber Black, 128 GB)</td>\n",
       "      <td>8 GB RAM | 128 GB ROM | Expandable Upto 2 TB</td>\n",
       "      <td>50MP + AI Lens | 8MP Front Camera</td>\n",
       "      <td>16.76 cm (6.6 inch) HD+ Display</td>\n",
       "      <td>5000 mAh Battery</td>\n",
       "      <td>₹8,299</td>\n",
       "      <td>https://www.flipkart.com/infinix-smart-8-timbe...</td>\n",
       "    </tr>\n",
       "    <tr>\n",
       "      <th>23</th>\n",
       "      <td>vivo T2x 5G (Aurora Gold, 128 GB)</td>\n",
       "      <td>8 GB RAM | 128 GB ROM</td>\n",
       "      <td>50MP + 2MP | 8MP Front Camera</td>\n",
       "      <td>16.71 cm (6.58 inch) Full HD+ Display</td>\n",
       "      <td>5000 mAh Battery</td>\n",
       "      <td>₹14,999</td>\n",
       "      <td>https://www.flipkart.com/vivo-t2x-5g-aurora-go...</td>\n",
       "    </tr>\n",
       "  </tbody>\n",
       "</table>\n",
       "</div>"
      ],
      "text/plain": [
       "                                     Brand_and_Colour  \\\n",
       "0               Motorola G34 5G (Ocean Green, 128 GB)   \n",
       "1                       POCO C55 (Power Black, 64 GB)   \n",
       "2                      POCO C51 (Power Black, 128 GB)   \n",
       "3   POCO M6 5G - Locked with Airtel Prepaid (Polar...   \n",
       "4                  Motorola G34 5G (Ice Blue, 128 GB)   \n",
       "5                       POCO C51 (Power Black, 64 GB)   \n",
       "6   POCO M6 5G - Locked with Airtel Prepaid (Orion...   \n",
       "7            Motorola G34 5G (Charcoal Black, 128 GB)   \n",
       "8                       POCO C51 (Royal Blue, 128 GB)   \n",
       "9                Infinix SMART 8 (Shiny Gold, 128 GB)   \n",
       "10             Infinix SMART 8 (Galaxy White, 128 GB)   \n",
       "11              Infinix SMART 8 (Rainbow Blue, 64 GB)   \n",
       "12                Infinix SMART 8 (Shiny Gold, 64 GB)   \n",
       "13              Infinix SMART 8 (Galaxy White, 64 GB)   \n",
       "14              Infinix SMART 8 (Timber Black, 64 GB)   \n",
       "15            Motorola g54 5G (Midnight Blue, 128 GB)   \n",
       "16              MOTOROLA g24 Power (Ink blue, 128 GB)   \n",
       "17                  vivo T2x 5G (Marine Blue, 128 GB)   \n",
       "18                vivo T2x 5G (Glimmer Black, 128 GB)   \n",
       "19                  vivo T2x 5G (Aurora Gold, 128 GB)   \n",
       "20                vivo T2x 5G (Glimmer Black, 128 GB)   \n",
       "21              vivo T2x 5G (Sunstone Orange, 128 GB)   \n",
       "22             Infinix SMART 8 (Timber Black, 128 GB)   \n",
       "23                  vivo T2x 5G (Aurora Gold, 128 GB)   \n",
       "\n",
       "                                     RAM_and_ROM  \\\n",
       "0                          8 GB RAM | 128 GB ROM   \n",
       "1    4 GB RAM | 64 GB ROM | Expandable Upto 1 TB   \n",
       "2   6 GB RAM | 128 GB ROM | Expandable Upto 1 TB   \n",
       "3   4 GB RAM | 128 GB ROM | Expandable Upto 1 TB   \n",
       "4                          8 GB RAM | 128 GB ROM   \n",
       "5    4 GB RAM | 64 GB ROM | Expandable Upto 1 TB   \n",
       "6   4 GB RAM | 128 GB ROM | Expandable Upto 1 TB   \n",
       "7                          8 GB RAM | 128 GB ROM   \n",
       "8   6 GB RAM | 128 GB ROM | Expandable Upto 1 TB   \n",
       "9   8 GB RAM | 128 GB ROM | Expandable Upto 2 TB   \n",
       "10  8 GB RAM | 128 GB ROM | Expandable Upto 2 TB   \n",
       "11   4 GB RAM | 64 GB ROM | Expandable Upto 2 TB   \n",
       "12   4 GB RAM | 64 GB ROM | Expandable Upto 2 TB   \n",
       "13   4 GB RAM | 64 GB ROM | Expandable Upto 2 TB   \n",
       "14   4 GB RAM | 64 GB ROM | Expandable Upto 2 TB   \n",
       "15  8 GB RAM | 128 GB ROM | Expandable Upto 1 TB   \n",
       "16  4 GB RAM | 128 GB ROM | Expandable Upto 1 TB   \n",
       "17                         6 GB RAM | 128 GB ROM   \n",
       "18                         4 GB RAM | 128 GB ROM   \n",
       "19                         6 GB RAM | 128 GB ROM   \n",
       "20                         6 GB RAM | 128 GB ROM   \n",
       "21                         6 GB RAM | 128 GB ROM   \n",
       "22  8 GB RAM | 128 GB ROM | Expandable Upto 2 TB   \n",
       "23                         8 GB RAM | 128 GB ROM   \n",
       "\n",
       "               PrimaryCamera_SecondaryCamera  \\\n",
       "0             50MP + 2MP | 16MP Front Camera   \n",
       "1   50MP Dual Rear Camera | 5MP Front Camera   \n",
       "2         8MP Rear Camera | 5MP Front Camera   \n",
       "3                           50MP Rear Camera   \n",
       "4             50MP + 2MP | 16MP Front Camera   \n",
       "5    8MP Dual Rear Camera | 5MP Front Camera   \n",
       "6                           50MP Rear Camera   \n",
       "7             50MP + 2MP | 16MP Front Camera   \n",
       "8         8MP Rear Camera | 5MP Front Camera   \n",
       "9          50MP + AI Lens | 8MP Front Camera   \n",
       "10         50MP + AI Lens | 8MP Front Camera   \n",
       "11         50MP + AI Lens | 8MP Front Camera   \n",
       "12         50MP + AI Lens | 8MP Front Camera   \n",
       "13         50MP + AI Lens | 8MP Front Camera   \n",
       "14         50MP + AI Lens | 8MP Front Camera   \n",
       "15      50MP (OIS) + 8MP | 16MP Front Camera   \n",
       "16            50MP + 2MP | 16MP Front Camera   \n",
       "17             50MP + 2MP | 8MP Front Camera   \n",
       "18             50MP + 2MP | 8MP Front Camera   \n",
       "19             50MP + 2MP | 8MP Front Camera   \n",
       "20             50MP + 2MP | 8MP Front Camera   \n",
       "21             50MP + 2MP | 8MP Front Camera   \n",
       "22         50MP + AI Lens | 8MP Front Camera   \n",
       "23             50MP + 2MP | 8MP Front Camera   \n",
       "\n",
       "                             Display_Size                  Battery_Capacity  \\\n",
       "0         16.51 cm (6.5 inch) HD+ Display                  5000 mAh Battery   \n",
       "1        17.04 cm (6.71 inch) HD+ Display                  5000 mAh Battery   \n",
       "2        16.56 cm (6.52 inch) HD+ Display  5000 mAh Lithium Polymer Battery   \n",
       "3        17.12 cm (6.74 inch) HD+ Display                  5000 mAh Battery   \n",
       "4         16.51 cm (6.5 inch) HD+ Display                  5000 mAh Battery   \n",
       "5        16.56 cm (6.52 inch) HD+ Display                  5000 mAh Battery   \n",
       "6        17.12 cm (6.74 inch) HD+ Display                  5000 mAh Battery   \n",
       "7         16.51 cm (6.5 inch) HD+ Display                  5000 mAh Battery   \n",
       "8        16.56 cm (6.52 inch) HD+ Display  5000 mAh Lithium Polymer Battery   \n",
       "9         16.76 cm (6.6 inch) HD+ Display                  5000 mAh Battery   \n",
       "10        16.76 cm (6.6 inch) HD+ Display                  5000 mAh Battery   \n",
       "11        16.76 cm (6.6 inch) HD+ Display                  5000 mAh Battery   \n",
       "12        16.76 cm (6.6 inch) HD+ Display                  5000 mAh Battery   \n",
       "13        16.76 cm (6.6 inch) HD+ Display                  5000 mAh Battery   \n",
       "14        16.76 cm (6.6 inch) HD+ Display                  5000 mAh Battery   \n",
       "15   16.51 cm (6.5 inch) Full HD+ Display                  6000 mAh Battery   \n",
       "16        16.76 cm (6.6 inch) HD+ Display                  6000 mAh Battery   \n",
       "17  16.71 cm (6.58 inch) Full HD+ Display                  5000 mAh Battery   \n",
       "18  16.71 cm (6.58 inch) Full HD+ Display                  5000 mAh Battery   \n",
       "19  16.71 cm (6.58 inch) Full HD+ Display                  5000 mAh Battery   \n",
       "20  16.71 cm (6.58 inch) Full HD+ Display                  5000 mAh Battery   \n",
       "21  16.71 cm (6.58 inch) Full HD+ Display                  5000 mAh Battery   \n",
       "22        16.76 cm (6.6 inch) HD+ Display                  5000 mAh Battery   \n",
       "23  16.71 cm (6.58 inch) Full HD+ Display                  5000 mAh Battery   \n",
       "\n",
       "      Price                                                URL  \n",
       "0   ₹11,999  https://www.flipkart.com/motorola-g34-5g-ocean...  \n",
       "1    ₹5,999  https://www.flipkart.com/poco-c55-power-black-...  \n",
       "2    ₹5,999  https://www.flipkart.com/poco-c51-power-black-...  \n",
       "3    ₹8,799  https://www.flipkart.com/poco-m6-5g-locked-air...  \n",
       "4   ₹11,999  https://www.flipkart.com/motorola-g34-5g-ice-b...  \n",
       "5    ₹5,499  https://www.flipkart.com/poco-c51-power-black-...  \n",
       "6    ₹8,799  https://www.flipkart.com/poco-m6-5g-locked-air...  \n",
       "7   ₹11,999  https://www.flipkart.com/motorola-g34-5g-charc...  \n",
       "8    ₹5,999  https://www.flipkart.com/poco-c51-royal-blue-1...  \n",
       "9    ₹8,299  https://www.flipkart.com/infinix-smart-8-shiny...  \n",
       "10   ₹8,299  https://www.flipkart.com/infinix-smart-8-galax...  \n",
       "11   ₹6,999  https://www.flipkart.com/infinix-smart-8-rainb...  \n",
       "12   ₹6,999  https://www.flipkart.com/infinix-smart-8-shiny...  \n",
       "13   ₹6,999  https://www.flipkart.com/infinix-smart-8-galax...  \n",
       "14   ₹6,999  https://www.flipkart.com/infinix-smart-8-timbe...  \n",
       "15  ₹13,999  https://www.flipkart.com/motorola-g54-5g-midni...  \n",
       "16   ₹7,999  https://www.flipkart.com/motorola-g24-power-in...  \n",
       "17  ₹12,999  https://www.flipkart.com/vivo-t2x-5g-marine-bl...  \n",
       "18  ₹11,999  https://www.flipkart.com/vivo-t2x-5g-glimmer-b...  \n",
       "19  ₹12,999  https://www.flipkart.com/vivo-t2x-5g-aurora-go...  \n",
       "20  ₹12,999  https://www.flipkart.com/vivo-t2x-5g-glimmer-b...  \n",
       "21  ₹12,999  https://www.flipkart.com/vivo-t2x-5g-sunstone-...  \n",
       "22   ₹8,299  https://www.flipkart.com/infinix-smart-8-timbe...  \n",
       "23  ₹14,999  https://www.flipkart.com/vivo-t2x-5g-aurora-go...  "
      ]
     },
     "execution_count": 62,
     "metadata": {},
     "output_type": "execute_result"
    }
   ],
   "source": [
    "df=pd.DataFrame({\"Brand_and_Colour\":Brand_and_Colour,\"RAM_and_ROM\":RAM_and_ROM,\"PrimaryCamera_SecondaryCamera\":PrimaryCamera_SecondaryCamera,\"Display_Size\":Display_Size,\"Battery_Capacity\":Battery_Capacity,\"Price\":Price,\"URL\":URL})\n",
    "df"
   ]
  },
  {
   "cell_type": "code",
   "execution_count": null,
   "id": "b57f29ac",
   "metadata": {},
   "outputs": [],
   "source": [
    "Flipkart.to_csv(\"Flipkart_Smartphone.csv\") # saving dataset to csv"
   ]
  },
  {
   "cell_type": "code",
   "execution_count": 89,
   "id": "a861c9d3",
   "metadata": {},
   "outputs": [],
   "source": [
    "driver=webdriver.Chrome()\n",
    "driver.get(\"https://www.google.com/maps/\")"
   ]
  },
  {
   "cell_type": "code",
   "execution_count": 90,
   "id": "bf0f7510",
   "metadata": {},
   "outputs": [],
   "source": [
    "search_bar=driver.find_element(By.ID,'searchboxinput')\n",
    "search_bar.send_keys(\"Hyderabad\")"
   ]
  },
  {
   "cell_type": "code",
   "execution_count": 91,
   "id": "fcf95e0e",
   "metadata": {},
   "outputs": [],
   "source": [
    "search=driver.find_element(By.XPATH,\"/html/body/div[1]/div[3]/div[8]/div[3]/div[1]/div[1]/div/div[2]/div[1]/button/span\" )\n",
    "search.click()"
   ]
  },
  {
   "cell_type": "code",
   "execution_count": 93,
   "id": "6a244039",
   "metadata": {},
   "outputs": [],
   "source": [
    "import re  #importing regular expression library"
   ]
  },
  {
   "cell_type": "code",
   "execution_count": 98,
   "id": "4f76dd66",
   "metadata": {},
   "outputs": [
    {
     "name": "stdout",
     "output_type": "stream",
     "text": [
      "URL Extracted:  https://www.google.com/maps/place/Hyderabad,+Telangana/@17.4127332,78.0783482,10z/data=!3m1!4b1!4m6!3m5!1s0x3bcb99daeaebd2c7:0xae93b78392bafbc2!8m2!3d17.406498!4d78.4772439!16zL20vMDljNnc?entry=ttu\n",
      "Latitude= 17.4127332 Longitude= 78.0783482\n"
     ]
    }
   ],
   "source": [
    "try:\n",
    "    url= driver.current_url\n",
    "    print(\"URL Extracted: \", url)\n",
    "    latitude_longitude = re.findall(r'@(.*)data',url)\n",
    "    if len(latitude_longitude):\n",
    "        latitude_longitude_coordinates = latitude_longitude[0].split(\",\")\n",
    "        if len(latitude_longitude_coordinates)>=2:\n",
    "            latitude = latitude_longitude_coordinates[0]\n",
    "            longitude = latitude_longitude_coordinates[1]\n",
    "        print( \"Latitude=\",latitude, \"Longitude=\", longitude)\n",
    "except Exception as e:\n",
    "        print(\"Error if found: \", str(e))"
   ]
  },
  {
   "cell_type": "code",
   "execution_count": 104,
   "id": "7837b1fe",
   "metadata": {},
   "outputs": [],
   "source": [
    "driver=webdriver.Chrome()\n",
    "driver.get(\"https://www.digit.in/\")"
   ]
  },
  {
   "cell_type": "code",
   "execution_count": 110,
   "id": "c2b06696",
   "metadata": {},
   "outputs": [
    {
     "name": "stdout",
     "output_type": "stream",
     "text": [
      "['https://www.digit.in/top-products/best-amd-gaming-laptops-for-students-4071.html']\n"
     ]
    },
    {
     "data": {
      "text/plain": [
       "1"
      ]
     },
     "execution_count": 110,
     "metadata": {},
     "output_type": "execute_result"
    }
   ],
   "source": [
    "Best_gaming_Laptop_url=[]\n",
    "url=driver.find_elements(By.XPATH,'/html/body/div[1]/header/div/div[2]/div/nav/ul/li[2]/ul/li[3]/ul/li[3]/a')\n",
    "for i in url:\n",
    "    Best_gaming_Laptop_url.append(i.get_attribute('href'))\n",
    "print(Best_gaming_Laptop_url)\n",
    "len(Best_gaming_Laptop_url)"
   ]
  },
  {
   "cell_type": "code",
   "execution_count": 111,
   "id": "461bbb87",
   "metadata": {},
   "outputs": [],
   "source": [
    "Laptop_Name=[]\n",
    "Operating_system=[]\n",
    "Dispaly_Size=[]\n",
    "Resolution=[]\n",
    "Processor=[]\n"
   ]
  },
  {
   "cell_type": "code",
   "execution_count": 112,
   "id": "b603563c",
   "metadata": {},
   "outputs": [
    {
     "name": "stdout",
     "output_type": "stream",
     "text": [
      "['HP Victus 16-e0362ax', 'Acer Nitro 5 AN515-45-R3TC Ryzen 5-5600H (2021)', 'Dell New G15-5515 D560804WIN9W Ryzen 5-5600H (2022)', 'HP Pavilion Gaming 15-EC2048AX Ryzen 5-5600X', 'Lenovo Ideapad Gaming 3 82K201RRIN AMD Ryzen 5-5600H (2022)']\n"
     ]
    },
    {
     "data": {
      "text/plain": [
       "5"
      ]
     },
     "execution_count": 112,
     "metadata": {},
     "output_type": "execute_result"
    }
   ],
   "source": [
    "Laptop_Name=[] \n",
    "for i in Best_gaming_Laptop_url:\n",
    "    driver.get(i)\n",
    "    try:\n",
    "        Name=driver.find_elements(By.XPATH,'//h3[@class=\"font130 mt0 mb10 mobilesblockdisplay \"]/a')\n",
    "        for delivery in Name:\n",
    "            title = delivery.text\n",
    "            Laptop_Name.append(title)\n",
    "    except NoSuchElementException:\n",
    "        Laptop_Name.append(\"-\")\n",
    "        time.sleep(3)\n",
    "        \n",
    "print(Laptop_Name)\n",
    "len(Laptop_Name)"
   ]
  },
  {
   "cell_type": "code",
   "execution_count": 118,
   "id": "7ee84da6",
   "metadata": {},
   "outputs": [
    {
     "name": "stdout",
     "output_type": "stream",
     "text": [
      "['Windows 11 Home', 'Windows 10 Home', 'Windows 11 Home', 'Windows 10 Home', 'Windows 11 Home']\n"
     ]
    },
    {
     "data": {
      "text/plain": [
       "5"
      ]
     },
     "execution_count": 118,
     "metadata": {},
     "output_type": "execute_result"
    }
   ],
   "source": [
    "Operating_system=[] \n",
    "for i in Best_gaming_Laptop_url:\n",
    "    driver.get(i)\n",
    "    try:\n",
    "        Name=driver.find_elements(By.XPATH,'//div[@class=\"woo_code_zone_loop clearbox\"]/div[1]/div/span[2]')\n",
    "        for delivery in Name:\n",
    "            title = delivery.text\n",
    "            Operating_system.append(title)\n",
    "    except NoSuchElementException:\n",
    "        Operating_system.append(\"-\")\n",
    "        time.sleep(3)\n",
    "        \n",
    "print(Operating_system)\n",
    "len(Operating_system)"
   ]
  },
  {
   "cell_type": "code",
   "execution_count": 119,
   "id": "b436f0c5",
   "metadata": {},
   "outputs": [
    {
     "name": "stdout",
     "output_type": "stream",
     "text": [
      "['16.1', '15.6', '15.6', '15.6', '15.6']\n"
     ]
    },
    {
     "data": {
      "text/plain": [
       "5"
      ]
     },
     "execution_count": 119,
     "metadata": {},
     "output_type": "execute_result"
    }
   ],
   "source": [
    "Dispaly_Size=[] \n",
    "for i in Best_gaming_Laptop_url:\n",
    "    driver.get(i)\n",
    "    try:\n",
    "        Name=driver.find_elements(By.XPATH,'//div[@class=\"woo_code_zone_loop clearbox\"]/div[2]/div/span[2]')\n",
    "        for delivery in Name:\n",
    "            title = delivery.text\n",
    "            Dispaly_Size.append(title)\n",
    "    except NoSuchElementException:\n",
    "        Dispaly_Size.append(\"-\")\n",
    "        time.sleep(3)\n",
    "        \n",
    "print(Dispaly_Size)\n",
    "len(Dispaly_Size)"
   ]
  },
  {
   "cell_type": "code",
   "execution_count": 120,
   "id": "03b4c974",
   "metadata": {},
   "outputs": [
    {
     "name": "stdout",
     "output_type": "stream",
     "text": [
      "['2560 x 1440', '1920 x 1080', '1920 x 1080', '1920 x 1080', '1920 x 1080']\n"
     ]
    },
    {
     "data": {
      "text/plain": [
       "5"
      ]
     },
     "execution_count": 120,
     "metadata": {},
     "output_type": "execute_result"
    }
   ],
   "source": [
    "Resolution=[] \n",
    "for i in Best_gaming_Laptop_url:\n",
    "    driver.get(i)\n",
    "    try:\n",
    "        Name=driver.find_elements(By.XPATH,'//div[@class=\"woo_code_zone_loop clearbox\"]/div[3]/div/span[2]')\n",
    "        for delivery in Name:\n",
    "            title = delivery.text\n",
    "            Resolution.append(title)\n",
    "    except NoSuchElementException:\n",
    "        Resolution.append(\"-\")\n",
    "        time.sleep(3)\n",
    "        \n",
    "print(Resolution)\n",
    "len(Resolution)"
   ]
  },
  {
   "cell_type": "code",
   "execution_count": 121,
   "id": "94f3f87e",
   "metadata": {},
   "outputs": [
    {
     "name": "stdout",
     "output_type": "stream",
     "text": [
      "['5th Gen AMD Ryzen 7-5800H', 'AMD Ryzen 5 Hexa Core 5600H', 'AMD Ryzen 5-5600H', 'AMD Ryzen 5-5600X', 'AMD Ryzen 5-5600H']\n"
     ]
    },
    {
     "data": {
      "text/plain": [
       "5"
      ]
     },
     "execution_count": 121,
     "metadata": {},
     "output_type": "execute_result"
    }
   ],
   "source": [
    "Processor=[] \n",
    "for i in Best_gaming_Laptop_url:\n",
    "    driver.get(i)\n",
    "    try:\n",
    "        Name=driver.find_elements(By.XPATH,'//div[@class=\"woo_code_zone_loop clearbox\"]/div[4]/div/span[2]')\n",
    "        for delivery in Name:\n",
    "            title = delivery.text\n",
    "            Processor.append(title)\n",
    "    except NoSuchElementException:\n",
    "        Processor.append(\"-\")\n",
    "        time.sleep(3)\n",
    "        \n",
    "print(Processor)\n",
    "len(Processor)"
   ]
  },
  {
   "cell_type": "code",
   "execution_count": 122,
   "id": "4a974921",
   "metadata": {},
   "outputs": [
    {
     "data": {
      "text/html": [
       "<div>\n",
       "<style scoped>\n",
       "    .dataframe tbody tr th:only-of-type {\n",
       "        vertical-align: middle;\n",
       "    }\n",
       "\n",
       "    .dataframe tbody tr th {\n",
       "        vertical-align: top;\n",
       "    }\n",
       "\n",
       "    .dataframe thead th {\n",
       "        text-align: right;\n",
       "    }\n",
       "</style>\n",
       "<table border=\"1\" class=\"dataframe\">\n",
       "  <thead>\n",
       "    <tr style=\"text-align: right;\">\n",
       "      <th></th>\n",
       "      <th>Laptop_Name</th>\n",
       "      <th>Operating_system</th>\n",
       "      <th>Dispaly_Size</th>\n",
       "      <th>Resolution</th>\n",
       "      <th>Processor</th>\n",
       "    </tr>\n",
       "  </thead>\n",
       "  <tbody>\n",
       "    <tr>\n",
       "      <th>0</th>\n",
       "      <td>HP Victus 16-e0362ax</td>\n",
       "      <td>Windows 11 Home</td>\n",
       "      <td>16.1</td>\n",
       "      <td>2560 x 1440</td>\n",
       "      <td>5th Gen AMD Ryzen 7-5800H</td>\n",
       "    </tr>\n",
       "    <tr>\n",
       "      <th>1</th>\n",
       "      <td>Acer Nitro 5 AN515-45-R3TC Ryzen 5-5600H (2021)</td>\n",
       "      <td>Windows 10 Home</td>\n",
       "      <td>15.6</td>\n",
       "      <td>1920 x 1080</td>\n",
       "      <td>AMD Ryzen 5 Hexa Core 5600H</td>\n",
       "    </tr>\n",
       "    <tr>\n",
       "      <th>2</th>\n",
       "      <td>Dell New G15-5515 D560804WIN9W Ryzen 5-5600H (...</td>\n",
       "      <td>Windows 11 Home</td>\n",
       "      <td>15.6</td>\n",
       "      <td>1920 x 1080</td>\n",
       "      <td>AMD Ryzen 5-5600H</td>\n",
       "    </tr>\n",
       "    <tr>\n",
       "      <th>3</th>\n",
       "      <td>HP Pavilion Gaming 15-EC2048AX Ryzen 5-5600X</td>\n",
       "      <td>Windows 10 Home</td>\n",
       "      <td>15.6</td>\n",
       "      <td>1920 x 1080</td>\n",
       "      <td>AMD Ryzen 5-5600X</td>\n",
       "    </tr>\n",
       "    <tr>\n",
       "      <th>4</th>\n",
       "      <td>Lenovo Ideapad Gaming 3 82K201RRIN AMD Ryzen 5...</td>\n",
       "      <td>Windows 11 Home</td>\n",
       "      <td>15.6</td>\n",
       "      <td>1920 x 1080</td>\n",
       "      <td>AMD Ryzen 5-5600H</td>\n",
       "    </tr>\n",
       "  </tbody>\n",
       "</table>\n",
       "</div>"
      ],
      "text/plain": [
       "                                         Laptop_Name Operating_system  \\\n",
       "0                               HP Victus 16-e0362ax  Windows 11 Home   \n",
       "1    Acer Nitro 5 AN515-45-R3TC Ryzen 5-5600H (2021)  Windows 10 Home   \n",
       "2  Dell New G15-5515 D560804WIN9W Ryzen 5-5600H (...  Windows 11 Home   \n",
       "3       HP Pavilion Gaming 15-EC2048AX Ryzen 5-5600X  Windows 10 Home   \n",
       "4  Lenovo Ideapad Gaming 3 82K201RRIN AMD Ryzen 5...  Windows 11 Home   \n",
       "\n",
       "  Dispaly_Size   Resolution                    Processor  \n",
       "0         16.1  2560 x 1440    5th Gen AMD Ryzen 7-5800H  \n",
       "1         15.6  1920 x 1080  AMD Ryzen 5 Hexa Core 5600H  \n",
       "2         15.6  1920 x 1080            AMD Ryzen 5-5600H  \n",
       "3         15.6  1920 x 1080            AMD Ryzen 5-5600X  \n",
       "4         15.6  1920 x 1080            AMD Ryzen 5-5600H  "
      ]
     },
     "execution_count": 122,
     "metadata": {},
     "output_type": "execute_result"
    }
   ],
   "source": [
    "df=pd.DataFrame({\"Laptop_Name\":Laptop_Name,\"Operating_system\":Operating_system,\"Dispaly_Size\":Dispaly_Size,\"Resolution\":Resolution, \"Processor\":Processor})\n",
    "df"
   ]
  },
  {
   "cell_type": "code",
   "execution_count": 249,
   "id": "2e6b8d31",
   "metadata": {},
   "outputs": [],
   "source": [
    "driver=webdriver.Chrome()\n",
    "url = \"https://www.forbes.com/\"\n",
    "driver.get(url)"
   ]
  },
  {
   "cell_type": "code",
   "execution_count": 253,
   "id": "cbf93082",
   "metadata": {},
   "outputs": [],
   "source": [
    "options = driver.find_element(By.XPATH,'//div[@class=\"_69hVhdY4\"]')\n",
    "options.click()"
   ]
  },
  {
   "cell_type": "code",
   "execution_count": 257,
   "id": "13a0b0d6",
   "metadata": {},
   "outputs": [],
   "source": [
    "Billionaires = driver.find_element(By.XPATH,\"/html/body/div[1]/div/div[1]/header/div[1]/div[1]/div[2]/ul/li[2]/div[1]\")\n",
    "Billionaires.click()"
   ]
  },
  {
   "cell_type": "code",
   "execution_count": 258,
   "id": "fc32ca69",
   "metadata": {},
   "outputs": [],
   "source": [
    "world_billionaires = driver.find_element(By.XPATH,'/html/body/div[1]/div/div[1]/header/div[1]/div[1]/div[2]/ul/li[2]/div[2]/div[3]/ul/li[1]/a')\n",
    "world_billionaires.click()"
   ]
  },
  {
   "cell_type": "code",
   "execution_count": 161,
   "id": "25ed3248",
   "metadata": {},
   "outputs": [
    {
     "name": "stdout",
     "output_type": "stream",
     "text": [
      "['https://www.forbes.com/billionaires/']\n"
     ]
    }
   ],
   "source": [
    "URL=[]\n",
    "url=driver.find_elements(By.XPATH,'/html/body/div[1]/div/div[1]/header/div[1]/div[1]/div[2]/ul/li[2]/div[2]/div[3]/ul/li[1]/a')\n",
    "for i in url:\n",
    "    URL.append(i.get_attribute('href'))\n",
    "print(URL)"
   ]
  },
  {
   "cell_type": "code",
   "execution_count": 275,
   "id": "d3927741",
   "metadata": {},
   "outputs": [],
   "source": [
    "Rank=[]\n",
    "Name=[]\n",
    "Net_worth=[]\n",
    "Age=[] \n",
    "Citizenship=[]\n",
    "Source=[] \n",
    "Industry=[]"
   ]
  },
  {
   "cell_type": "code",
   "execution_count": 276,
   "id": "b1a4103b",
   "metadata": {},
   "outputs": [
    {
     "name": "stdout",
     "output_type": "stream",
     "text": [
      "['1', '2', '3', '4', '5', '6', '7', '8', '9', '10', '11', '12', '13', '14', '15', '16', '17', '17', '19', '20', '21', '22', '23', '24', '25', '26', '27', '28', '29', '30', '31', '31', '33', '34', '35', '35', '37', '38', '39', '40', '41', '41', '43', '43', '45', '46', '47', '48', '49', '50', '51', '52', '53', '54', '55', '56', '57', '58', '59', '60', '61', '62', '63', '64', '65', '65', '67', '68', '69', '70', '71', '72', '72', '74', '74', '76', '77', '77', '79', '80', '81', '82', '83', '84', '84', '86', '86', '88', '89', '89', '89', '92', '93', '94', '94', '94', '97', '97', '99', '100', '101', '101', '103', '104', '104', '106', '107', '108', '108', '108', '108', '112', '113', '114', '115', '116', '116', '118', '119', '120', '121', '122', '123', '124', '124', '126', '127', '128', '128', '130', '130', '130', '133', '133', '133', '136', '137', '138', '138', '140', '141', '142', '142', '144', '145', '146', '147', '148', '148', '148', '151', '151', '153', '153', '153', '153', '157', '157', '159', '159', '161', '161', '161', '164', '165', '165', '167', '167', '167', '170', '171', '171', '171', '171', '171', '171', '171', '171', '179', '179', '179', '182', '183', '184', '184', '184', '184', '184', '184', '190', '190', '190', '190', '190', '195', '195', '195', '195', '195', '195']\n"
     ]
    },
    {
     "data": {
      "text/plain": [
       "200"
      ]
     },
     "execution_count": 276,
     "metadata": {},
     "output_type": "execute_result"
    }
   ],
   "source": [
    "Rank=[] \n",
    "div=driver.find_elements(By.XPATH,'//div[@class=\"Table_rank___YBhk Table_dataCell__2QCve\"]')\n",
    "for i in div:\n",
    "    try:\n",
    "        Title=i.text\n",
    "        Rank.append(Title)\n",
    "    except NoSuchElementException:\n",
    "        Rank.append(\"-\")\n",
    "print(Rank)\n",
    "len(Rank)"
   ]
  },
  {
   "cell_type": "code",
   "execution_count": 277,
   "id": "cc84d07d",
   "metadata": {},
   "outputs": [
    {
     "name": "stdout",
     "output_type": "stream",
     "text": [
      "['Bernard Arnault & family', 'Elon Musk', 'Jeff Bezos', 'Larry Ellison', 'Warren Buffett', 'Bill Gates', 'Michael Bloomberg', 'Carlos Slim Helu & family', 'Mukesh Ambani', 'Steve Ballmer', 'Francoise Bettencourt Meyers & family', 'Larry Page', 'Amancio Ortega', 'Sergey Brin', 'Zhong Shanshan', 'Mark Zuckerberg', 'Charles Koch & family', 'Julia Koch & family', 'Jim Walton', 'Rob Walton & family', 'Alice Walton', 'David Thomson & family', 'Michael Dell', 'Gautam Adani', 'Phil Knight & family', 'Zhang Yiming', 'Dieter Schwarz', 'François Pinault & family', 'Klaus-Michael Kuehne', 'Giovanni Ferrero', 'Jacqueline Mars', 'John Mars', 'Li Ka-shing', 'Ma Huateng', 'Miriam Adelson & family', 'Ken Griffin', 'Mark Mateschitz', 'Robin Zeng', 'Tadashi Yanai & family', 'Len Blavatnik', 'Alain Wertheimer', 'Gerard Wertheimer', 'Gianluigi Aponte', 'Rafaela Aponte-Diamant', 'Colin Huang', 'Reinhold Wuerth & family', 'Lee Shau Kee', 'Jeff Yass', 'Jim Simons', 'Stephen Schwarzman', 'Susanne Klatten', 'Gina Rinehart', 'William Ding', 'Germán Larrea Mota Velasco & family', 'Shiv Nadar', 'Low Tuck Kwong', 'Thomas Peterffy', 'Andrey Melnichenko & family', 'Stefan Quandt', 'MacKenzie Scott', 'R. Budi Hartono', 'Vladimir Potanin', 'Jack Ma', 'He Xiangjian & family', 'Iris Fontbona & family', 'Michael Hartono', 'James Ratcliffe', 'Cyrus Poonawalla', 'Masayoshi Son', 'Vladimir Lisin', 'Emmanuel Besnier', 'Abigail Johnson', 'Leonid Mikhelson & family', 'Lukas Walton', 'Wang Wei', 'Jensen Huang', 'Leonard Lauder', 'Takemitsu Takizaki', 'Alexey Mordashov & family', 'Vagit Alekperov', 'Thomas Frist, Jr. & family', 'Andrew Forrest & family', 'Ray Dalio', 'Eric Li', 'Wang Wenyin', 'Eyal Ofer', 'Qin Yinglin', 'Wang Chuanfu', 'Harold Hamm & family', 'David Tepper', 'Gennady Timchenko', 'Daniel Gilbert', 'Lakshmi Mittal', 'Steve Cohen', 'Carl Icahn', 'Savitri Jindal & family', 'Donald Bren', 'John Menard, Jr.', 'Rupert Murdoch & family', 'Vicky Safra & family', 'Theo Albrecht, Jr. & family', 'Renata Kellnerova & family', 'Li Xiting', 'Stefan Persson', 'Eric Schmidt', 'Michael Platt', 'Pang Kang', 'Karl Albrecht Jr. & family', 'Beate Heister', 'Jorge Paulo Lemann & family', 'Peter Woo', 'Dilip Shanghvi', 'Robert Pera', 'Radhakishan Damani', 'Huang Shilin', 'Dhanin Chearavanont', 'David Green & family', 'Charoen Sirivadhanabhakdi', 'Charlene de Carvalho-Heineken & family', 'Xu Hang', 'Wei Jianjun & family', 'Alisher Usmanov', 'Goh Cheng Liang', 'Kumar Birla', 'Aliko Dangote', 'Kwong Siu-hing', 'Idan Ofer', 'Chen Bang', 'Lui Che Woo', 'John Fredriksen', 'Diane Hendricks', 'Jan Koum', 'Jerry Jones', 'George Kaiser', 'Joseph Lau', 'Lu Xiangyang', 'Harry Triguboff', 'Uday Kotak', 'Stanley Kroenke', 'Mikhail Fridman', 'Sarath Ratanavadi', 'Dang Yanbao', 'Jiang Rensheng & family', 'Shahid Khan', 'Laurene Powell Jobs & family', 'Robert Kuok', 'Stephen Ross', 'Pavel Durov', 'Andreas Struengmann & family', 'Thomas Struengmann & family', 'Liu Hanyuan', 'Michael Rubin', 'Israel Englander', 'Viatcheslav Kantor', 'Anthony Pratt', 'Mikhail Prokhorov', 'Giorgio Armani', 'Johann Rupert & family', 'Gong Hongjia & family', 'Zhang Zhidong', 'Philip Anschutz', 'Judy Love & family', 'Ricardo Salinas Pliego & family', 'Donald Newhouse', 'Robert Kraft', 'Marcel Herrmann Telles & family', 'Suleiman Kerimov & family', 'Sky Xu', 'Changpeng Zhao', 'Andrew Beal', 'Mike Cannon-Brookes', 'Carl Cook', 'David Duffield', 'Jeffery Hildebrand', 'Viktor Rashnikov', 'Eduardo Saverin', 'Georg Schaeffler', 'Christy Walton', 'Scott Farquhar', 'Quek Leng Chan', 'Wu Yajun', 'Autry Stephens', 'Liu Yongxing', 'Vinod Adani', 'Nicolas Puech', 'Jacques Saadé, Jr.', 'Rodolphe Saadé', 'Tanya Saadé Zeenny', 'Melker Schorling & family', 'Andrei Guryev & family', 'Michael Kim', 'Lei Jun', 'Friedhelm Loh', 'Sun Piaoyang', 'Rick Cohen & family', 'Jin Baofang', 'Luo Liguo & family', 'Marijke Mars', 'Pamela Mars', 'Valerie Mars']\n"
     ]
    },
    {
     "data": {
      "text/plain": [
       "200"
      ]
     },
     "execution_count": 277,
     "metadata": {},
     "output_type": "execute_result"
    }
   ],
   "source": [
    "Name=[] \n",
    "div=driver.find_elements(By.XPATH,'//div[@role=\"rowgroup\"]/div[1]/div/div[1]/div[2]/div/div/div[2]/div')\n",
    "for i in div:\n",
    "    try:\n",
    "        Title=i.text\n",
    "        Name.append(Title)\n",
    "    except NoSuchElementException:\n",
    "        Name.append(\"-\")\n",
    "print(Name)\n",
    "len(Name)"
   ]
  },
  {
   "cell_type": "code",
   "execution_count": 278,
   "id": "80019cba",
   "metadata": {},
   "outputs": [
    {
     "name": "stdout",
     "output_type": "stream",
     "text": [
      "['$211 B', '$180 B', '$114 B', '$107 B', '$106 B', '$104 B', '$94.5 B', '$93 B', '$83.4 B', '$80.7 B', '$80.5 B', '$79.2 B', '$77.3 B', '$76 B', '$68 B', '$64.4 B', '$59 B', '$59 B', '$58.8 B', '$57.6 B', '$56.7 B', '$54.4 B', '$50.1 B', '$47.2 B', '$45.1 B', '$45 B', '$42.9 B', '$40.1 B', '$39.1 B', '$38.9 B', '$38.3 B', '$38.3 B', '$38 B', '$35.3 B', '$35 B', '$35 B', '$34.7 B', '$33.4 B', '$32.6 B', '$32.1 B', '$31.6 B', '$31.6 B', '$31.2 B', '$31.2 B', '$30.2 B', '$29.7 B', '$29.5 B', '$28.5 B', '$28.1 B', '$27.8 B', '$27.4 B', '$27 B', '$26.7 B', '$26.6 B', '$25.6 B', '$25.5 B', '$25.3 B', '$25.2 B', '$24.6 B', '$24.4 B', '$24.2 B', '$23.7 B', '$23.5 B', '$23.4 B', '$23.1 B', '$23.1 B', '$22.9 B', '$22.6 B', '$22.4 B', '$22.1 B', '$22 B', '$21.6 B', '$21.6 B', '$21.2 B', '$21.2 B', '$21.1 B', '$21 B', '$21 B', '$20.9 B', '$20.5 B', '$20.2 B', '$19.6 B', '$19.1 B', '$19 B', '$19 B', '$18.9 B', '$18.9 B', '$18.7 B', '$18.5 B', '$18.5 B', '$18.5 B', '$18 B', '$17.7 B', '$17.5 B', '$17.5 B', '$17.5 B', '$17.4 B', '$17.4 B', '$17.1 B', '$16.7 B', '$16.5 B', '$16.5 B', '$16.3 B', '$16.2 B', '$16.2 B', '$16 B', '$15.9 B', '$15.8 B', '$15.8 B', '$15.8 B', '$15.8 B', '$15.6 B', '$15.5 B', '$15.3 B', '$15.2 B', '$14.9 B', '$14.9 B', '$14.8 B', '$14.7 B', '$14.6 B', '$14.5 B', '$14.4 B', '$14.3 B', '$14.2 B', '$14.2 B', '$14.1 B', '$14 B', '$13.9 B', '$13.9 B', '$13.7 B', '$13.7 B', '$13.7 B', '$13.3 B', '$13.3 B', '$13.3 B', '$13.2 B', '$13.1 B', '$12.9 B', '$12.9 B', '$12.6 B', '$12.3 B', '$12.2 B', '$12.2 B', '$12.1 B', '$12 B', '$11.8 B', '$11.6 B', '$11.5 B', '$11.5 B', '$11.5 B', '$11.4 B', '$11.4 B', '$11.3 B', '$11.3 B', '$11.3 B', '$11.3 B', '$11.1 B', '$11.1 B', '$11 B', '$11 B', '$10.9 B', '$10.9 B', '$10.9 B', '$10.7 B', '$10.6 B', '$10.6 B', '$10.5 B', '$10.5 B', '$10.5 B', '$10.3 B', '$10.2 B', '$10.2 B', '$10.2 B', '$10.2 B', '$10.2 B', '$10.2 B', '$10.2 B', '$10.2 B', '$10.1 B', '$10.1 B', '$10.1 B', '$10 B', '$9.9 B', '$9.8 B', '$9.8 B', '$9.8 B', '$9.8 B', '$9.8 B', '$9.8 B', '$9.7 B', '$9.7 B', '$9.7 B', '$9.7 B', '$9.7 B', '$9.6 B', '$9.6 B', '$9.6 B', '$9.6 B', '$9.6 B', '$9.6 B']\n"
     ]
    },
    {
     "data": {
      "text/plain": [
       "200"
      ]
     },
     "execution_count": 278,
     "metadata": {},
     "output_type": "execute_result"
    }
   ],
   "source": [
    "Net_worth=[] \n",
    "div=driver.find_elements(By.XPATH,'//div[@role=\"rowgroup\"]/div[1]/div/div[1]/div[2]/div/div/div[3]/div')\n",
    "for i in div:\n",
    "    try:\n",
    "        Title=i.text\n",
    "        Net_worth.append(Title)\n",
    "    except NoSuchElementException:\n",
    "        Name.append(\"-\")\n",
    "print(Net_worth)\n",
    "len(Net_worth)"
   ]
  },
  {
   "cell_type": "code",
   "execution_count": 279,
   "id": "622f832c",
   "metadata": {},
   "outputs": [
    {
     "name": "stdout",
     "output_type": "stream",
     "text": [
      "['74', '51', '59', '78', '92', '67', '81', '83', '65', '67', '69', '50', '87', '49', '68', '38', '87', '60', '74', '78', '73', '65', '58', '60', '85', '39', '83', '86', '85', '58', '83', '87', '94', '51', '77', '54', '30', '54', '74', '65', '74', '72', '82', '78', '43', '87', '95', '64', '84', '76', '60', '69', '51', '69', '77', '74', '78', '51', '56', '52', '82', '62', '58', '80', '80', '83', '70', '81', '65', '66', '52', '61', '67', '36', '52', '60', '90', '77', '57', '72', '84', '61', '73', '59', '55', '72', '57', '57', '77', '65', '70', '61', '72', '66', '87', '73', '90', '83', '92', '70', '72', '55', '72', '75', '67', '55', '67', 'N/A', 'N/A', '83', '76', '67', '45', '68', '56', '83', '81', '78', '68', '60', '59', '69', '95', '55', '65', '93', '67', '57', '94', '78', '76', '47', '80', '80', '71', '60', '90', '64', '75', '58', '57', '50', '69', '72', '59', '99', '82', '38', '73', '73', '59', '50', '74', '69', '62', '57', '88', '72', '58', '51', '83', '85', '67', '93', '81', '73', '57', '39', '45', '70', '43', '60', '82', '64', '74', '41', '58', '74', '43', '81', '59', '85', '74', '74', '80', '51', '53', '55', '75', '63', '59', '53', '76', '64', '70', '70', '67', '58', '62', '64']\n"
     ]
    },
    {
     "data": {
      "text/plain": [
       "200"
      ]
     },
     "execution_count": 279,
     "metadata": {},
     "output_type": "execute_result"
    }
   ],
   "source": [
    "Age=[] \n",
    "for i in URL:\n",
    "    driver.get(i)\n",
    "    try:\n",
    "        Name=driver.find_elements(By.XPATH,'//div[@role=\"rowgroup\"]/div[1]/div/div[1]/div[2]/div/div/div[4]/div')\n",
    "        for delivery in Name:\n",
    "            title = delivery.text\n",
    "            Age.append(title)\n",
    "    except NoSuchElementException:\n",
    "        Age.append(\"-\")\n",
    "        time.sleep(3)\n",
    "        \n",
    "print(Age)\n",
    "len(Age)"
   ]
  },
  {
   "cell_type": "code",
   "execution_count": 280,
   "id": "46e30b2a",
   "metadata": {},
   "outputs": [
    {
     "name": "stdout",
     "output_type": "stream",
     "text": [
      "['France', 'United States', 'United States', 'United States', 'United States', 'United States', 'United States', 'Mexico', 'India', 'United States', 'France', 'United States', 'Spain', 'United States', 'China', 'United States', 'United States', 'United States', 'United States', 'United States', 'United States', 'Canada', 'United States', 'India', 'United States', 'China', 'Germany', 'France', 'Germany', 'Italy', 'United States', 'United States', 'Hong Kong', 'China', 'United States', 'United States', 'Austria', 'Hong Kong', 'Japan', 'United States', 'France', 'France', 'Switzerland', 'Switzerland', 'China', 'Germany', 'Hong Kong', 'United States', 'United States', 'United States', 'Germany', 'Australia', 'China', 'Mexico', 'India', 'Indonesia', 'United States', 'Russia', 'Germany', 'United States', 'Indonesia', 'Russia', 'China', 'China', 'Chile', 'Indonesia', 'United Kingdom', 'India', 'Japan', 'Russia', 'France', 'United States', 'Russia', 'United States', 'China', 'United States', 'United States', 'Japan', 'Russia', 'Russia', 'United States', 'Australia', 'United States', 'China', 'China', 'Israel', 'China', 'China', 'United States', 'United States', 'Russia', 'United States', 'India', 'United States', 'United States', 'India', 'United States', 'United States', 'United States', 'Brazil', 'Germany', 'Czech Republic', 'Singapore', 'Sweden', 'United States', 'United Kingdom', 'China', 'Germany', 'Germany', 'Brazil', 'Hong Kong', 'India', 'United States', 'India', 'China', 'Thailand', 'United States', 'Thailand', 'Netherlands', 'Hong Kong', 'China', 'Russia', 'Singapore', 'India', 'Nigeria', 'Hong Kong', 'Israel', 'China', 'Hong Kong', 'Cyprus', 'United States', 'United States', 'United States', 'United States', 'Hong Kong', 'China', 'Australia', 'India', 'United States', 'Russia', 'Thailand', 'China', 'China', 'United States', 'United States', 'Malaysia', 'United States', 'United Arab Emirates', 'Germany', 'Germany', 'China', 'United States', 'United States', 'Russia', 'Australia', 'Russia', 'Italy', 'South Africa', 'Hong Kong', 'China', 'United States', 'United States', 'Mexico', 'United States', 'United States', 'Brazil', 'Russia', 'China', 'Canada', 'United States', 'Australia', 'United States', 'United States', 'United States', 'Russia', 'Brazil', 'Germany', 'United States', 'Australia', 'Malaysia', 'China', 'United States', 'China', 'Cyprus', 'France', 'France', 'France', 'France', 'Sweden', 'Russia', 'United States', 'China', 'Germany', 'China', 'United States', 'China', 'China', 'United States', 'United States', 'United States']\n"
     ]
    },
    {
     "data": {
      "text/plain": [
       "200"
      ]
     },
     "execution_count": 280,
     "metadata": {},
     "output_type": "execute_result"
    }
   ],
   "source": [
    "Citizenship=[] \n",
    "for i in URL:\n",
    "    driver.get(i)\n",
    "    try:\n",
    "        Name=driver.find_elements(By.XPATH,'//div[@role=\"rowgroup\"]/div[1]/div/div[1]/div[2]/div/div/div[5]')\n",
    "        for delivery in Name:\n",
    "            title = delivery.text\n",
    "            Citizenship.append(title)\n",
    "    except NoSuchElementException:\n",
    "        Citizenship.append(\"-\")\n",
    "        time.sleep(3)\n",
    "        \n",
    "print(Citizenship)\n",
    "len(Citizenship)"
   ]
  },
  {
   "cell_type": "code",
   "execution_count": 281,
   "id": "5f4c8fda",
   "metadata": {},
   "outputs": [
    {
     "name": "stdout",
     "output_type": "stream",
     "text": [
      "['LVMH', 'Tesla, SpaceX', 'Amazon', 'Oracle', 'Berkshire Hathaway', 'Microsoft', 'Bloomberg LP', 'Telecom', 'Diversified', 'Microsoft', \"L'Oréal\", 'Google', 'Zara', 'Google', 'Beverages, pharmaceuticals', 'Facebook', 'Koch Industries', 'Koch Industries', 'Walmart', 'Walmart', 'Walmart', 'Media', 'Dell Technologies', 'Infrastructure, commodities', 'Nike', 'TikTok', 'Retail', 'Luxury goods', 'Shipping', 'Nutella, chocolates', 'Candy, pet food', 'Candy, pet food', 'Diversified', 'Internet media', 'Casinos', 'Hedge funds', 'Red Bull', 'Batteries', 'Fashion retail', 'Music, chemicals', 'Chanel', 'Chanel', 'Shipping', 'Shipping', 'E-commerce', 'Fasteners', 'Real estate', 'Trading, investments', 'Hedge funds', 'Investments', 'BMW, pharmaceuticals', 'Mining', 'Online games', 'Mining', 'software services', 'Coal', 'Discount brokerage', 'Fertilizers, coal', 'BMW', 'Amazon', 'Banking, tobacco', 'Metals', 'E-commerce', 'Home appliances', 'Mining', 'Banking, tobacco', 'Chemicals', 'Vaccines', 'Internet, telecom', 'Steel, transport', 'Cheese', 'Fidelity', 'Gas, chemicals', 'Walmart', 'Package delivery', 'Semiconductors', 'Estee Lauder', 'Sensors', 'Steel, investments', 'Oil', 'Hospitals', 'Mining', 'Hedge funds', 'Automobiles', 'Mining, copper products', 'Real estate, shipping', 'Pig breeding', 'Batteries, automobiles', 'Oil & gas', 'Hedge funds', 'Oil, gas', 'Quicken Loans', 'Steel', 'Hedge funds', 'Investments', 'Steel', 'Real estate', 'Home improvement stores', 'Newspapers, TV network', 'Banking', \"Aldi, Trader Joe's\", 'Finance, telecommunications', 'medical devices', 'H&M', 'Google', 'Hedge funds', 'Soy sauce', 'Supermarkets', 'Supermarkets', 'Beer', 'Real estate', 'Pharmaceuticals', 'Wireless networking', 'Retail, investments', 'Batteries', 'Diversified', 'Retail', 'Alcohol, real estate', 'Heineken', 'Medical devices', 'Automobiles', 'Steel, telecom, investments', 'Paints', 'Commodities', 'Cement, sugar', 'Real estate', 'Shipping', 'Hospitals', 'Casinos/hotels', 'Shipping', 'Building supplies', 'WhatsApp', 'Dallas Cowboys', 'Oil & gas, banking', 'Real estate', 'Automobiles, batteries', 'Real estate', 'Banking', 'Sports, real estate', 'Oil, banking, telecom', 'Energy', 'Coal', 'Vaccines', 'Auto parts', 'Apple, Disney', 'Palm oil, shipping, property', 'Real estate', 'Messaging app', 'Pharmaceuticals', 'Pharmaceuticals', 'Agribusiness', 'Online retail', 'Hedge funds', 'Fertilizer, real estate', 'Manufacturing', 'Investments', 'Luxury goods', 'Luxury goods', 'Video surveillance', 'Internet media', 'Energy, sports, entertainment', 'Gas stations', 'Retail, media', 'Media', 'Manufacturing, New England Patriots', 'Beer', 'Gold', 'E-commerce', 'Cryptocurrency exchange', 'Banks, real estate', 'Software', 'Medical devices', 'Business software', 'Oil', 'Steel', 'Facebook', 'Auto parts', 'Walmart', 'Software', 'Banking, property', 'Real estate', 'Oil', 'Diversified', 'Infrastructure, commodities', 'Hermes', 'Shipping', 'Shipping', 'Shipping', 'Investments', 'Fertilizers', 'Private equity', 'Smartphones', 'Manufacturing', 'Pharmaceuticals', 'Warehouse automation', 'Solar panels', 'Chemicals', 'Candy, pet food', 'Candy, pet food', 'Candy, pet food']\n"
     ]
    },
    {
     "data": {
      "text/plain": [
       "200"
      ]
     },
     "execution_count": 281,
     "metadata": {},
     "output_type": "execute_result"
    }
   ],
   "source": [
    "Source=[] \n",
    "for i in URL:\n",
    "    driver.get(i)\n",
    "    try:\n",
    "        Name=driver.find_elements(By.XPATH,'//div[@role=\"rowgroup\"]/div[1]/div/div[1]/div[2]/div/div/div[6]/div')\n",
    "        for delivery in Name:\n",
    "            title = delivery.text\n",
    "            Source.append(title)\n",
    "    except NoSuchElementException:\n",
    "        Source.append(\"-\")\n",
    "        time.sleep(3)\n",
    "        \n",
    "print(Source)\n",
    "len(Source)"
   ]
  },
  {
   "cell_type": "code",
   "execution_count": 282,
   "id": "3b849c11",
   "metadata": {
    "scrolled": true
   },
   "outputs": [
    {
     "name": "stdout",
     "output_type": "stream",
     "text": [
      "['Fashion & Retail', 'Automotive', 'Technology', 'Technology', 'Finance & Investments', 'Technology', 'Media & Entertainment', 'Telecom', 'Diversified', 'Technology', 'Fashion & Retail', 'Technology', 'Fashion & Retail', 'Technology', 'Food & Beverage', 'Technology', 'Diversified', 'Diversified', 'Fashion & Retail', 'Fashion & Retail', 'Fashion & Retail', 'Media & Entertainment', 'Technology', 'Diversified', 'Fashion & Retail', 'Technology', 'Fashion & Retail', 'Fashion & Retail', 'Logistics', 'Food & Beverage', 'Food & Beverage', 'Food & Beverage', 'Diversified', 'Technology', 'Gambling & Casinos', 'Finance & Investments', 'Food & Beverage', 'Automotive', 'Fashion & Retail', 'Diversified', 'Fashion & Retail', 'Fashion & Retail', 'Logistics', 'Logistics', 'Technology', 'Manufacturing', 'Real Estate', 'Finance & Investments', 'Finance & Investments', 'Finance & Investments', 'Automotive', 'Metals & Mining', 'Technology', 'Metals & Mining', 'Technology', 'Energy', 'Finance & Investments', 'Metals & Mining', 'Automotive', 'Technology', 'Finance & Investments', 'Metals & Mining', 'Technology', 'Manufacturing', 'Metals & Mining', 'Manufacturing', 'Manufacturing', 'Healthcare', 'Telecom', 'Metals & Mining', 'Food & Beverage', 'Finance & Investments', 'Energy', 'Fashion & Retail', 'Service', 'Technology', 'Fashion & Retail', 'Manufacturing', 'Metals & Mining', 'Energy', 'Healthcare', 'Metals & Mining', 'Finance & Investments', 'Automotive', 'Metals & Mining', 'Diversified', 'Food & Beverage', 'Automotive', 'Energy', 'Finance & Investments', 'Energy', 'Finance & Investments', 'Metals & Mining', 'Finance & Investments', 'Finance & Investments', 'Metals & Mining', 'Real Estate', 'Fashion & Retail', 'Media & Entertainment', 'Finance & Investments', 'Fashion & Retail', 'Finance & Investments', 'Healthcare', 'Fashion & Retail', 'Technology', 'Finance & Investments', 'Food & Beverage', 'Fashion & Retail', 'Fashion & Retail', 'Food & Beverage', 'Real Estate', 'Healthcare', 'Technology', 'Fashion & Retail', 'Automotive', 'Diversified', 'Fashion & Retail', 'Food & Beverage', 'Food & Beverage', 'Healthcare', 'Automotive', 'Metals & Mining', 'Manufacturing', 'Diversified', 'Manufacturing', 'Real Estate', 'Diversified', 'Healthcare', 'Gambling & Casinos', 'Logistics', 'Construction & Engineering', 'Technology', 'Sports', 'Energy', 'Real Estate', 'Automotive', 'Real Estate', 'Finance & Investments', 'Sports', 'Energy', 'Energy', 'Metals & Mining', 'Healthcare', 'Automotive', 'Technology', 'Diversified', 'Real Estate', 'Technology', 'Healthcare', 'Healthcare', 'Food & Beverage', 'Fashion & Retail', 'Finance & Investments', 'Manufacturing', 'Manufacturing', 'Finance & Investments', 'Fashion & Retail', 'Fashion & Retail', 'Finance & Investments', 'Technology', 'Finance & Investments', 'Fashion & Retail', 'Fashion & Retail', 'Media & Entertainment', 'Sports', 'Food & Beverage', 'Finance & Investments', 'Fashion & Retail', 'Finance & Investments', 'Finance & Investments', 'Technology', 'Healthcare', 'Technology', 'Energy', 'Manufacturing', 'Technology', 'Automotive', 'Fashion & Retail', 'Technology', 'Diversified', 'Real Estate', 'Energy', 'Service', 'Diversified', 'Fashion & Retail', 'Logistics', 'Logistics', 'Logistics', 'Finance & Investments', 'Manufacturing', 'Finance & Investments', 'Technology', 'Manufacturing', 'Healthcare', 'Technology', 'Energy', 'Manufacturing', 'Food & Beverage', 'Food & Beverage', 'Food & Beverage']\n"
     ]
    },
    {
     "data": {
      "text/plain": [
       "200"
      ]
     },
     "execution_count": 282,
     "metadata": {},
     "output_type": "execute_result"
    }
   ],
   "source": [
    "Industry=[] \n",
    "for i in URL:\n",
    "    driver.get(i)\n",
    "    try:\n",
    "        Name=driver.find_elements(By.XPATH,'//div[@role=\"rowgroup\"]/div[1]/div/div[1]/div[2]/div/div/div[7]/div')\n",
    "        for delivery in Name:\n",
    "            title = delivery.text\n",
    "            Industry.append(title)\n",
    "    except NoSuchElementException:\n",
    "        Industry.append(\"-\")\n",
    "        time.sleep(3)\n",
    "        \n",
    "print(Industry)\n",
    "len(Industry)"
   ]
  },
  {
   "cell_type": "code",
   "execution_count": 283,
   "id": "8d5ae692",
   "metadata": {},
   "outputs": [
    {
     "data": {
      "text/html": [
       "<div>\n",
       "<style scoped>\n",
       "    .dataframe tbody tr th:only-of-type {\n",
       "        vertical-align: middle;\n",
       "    }\n",
       "\n",
       "    .dataframe tbody tr th {\n",
       "        vertical-align: top;\n",
       "    }\n",
       "\n",
       "    .dataframe thead th {\n",
       "        text-align: right;\n",
       "    }\n",
       "</style>\n",
       "<table border=\"1\" class=\"dataframe\">\n",
       "  <thead>\n",
       "    <tr style=\"text-align: right;\">\n",
       "      <th></th>\n",
       "      <th>Rank</th>\n",
       "      <th>Name</th>\n",
       "      <th>Net_worth</th>\n",
       "      <th>Age</th>\n",
       "      <th>Citizenship</th>\n",
       "      <th>Source</th>\n",
       "      <th>Industry</th>\n",
       "    </tr>\n",
       "  </thead>\n",
       "  <tbody>\n",
       "    <tr>\n",
       "      <th>0</th>\n",
       "      <td>1</td>\n",
       "      <td>&lt;selenium.webdriver.remote.webelement.WebEleme...</td>\n",
       "      <td>$211 B</td>\n",
       "      <td>74</td>\n",
       "      <td>France</td>\n",
       "      <td>LVMH</td>\n",
       "      <td>Fashion &amp; Retail</td>\n",
       "    </tr>\n",
       "    <tr>\n",
       "      <th>1</th>\n",
       "      <td>2</td>\n",
       "      <td>&lt;selenium.webdriver.remote.webelement.WebEleme...</td>\n",
       "      <td>$180 B</td>\n",
       "      <td>51</td>\n",
       "      <td>United States</td>\n",
       "      <td>Tesla, SpaceX</td>\n",
       "      <td>Automotive</td>\n",
       "    </tr>\n",
       "    <tr>\n",
       "      <th>2</th>\n",
       "      <td>3</td>\n",
       "      <td>&lt;selenium.webdriver.remote.webelement.WebEleme...</td>\n",
       "      <td>$114 B</td>\n",
       "      <td>59</td>\n",
       "      <td>United States</td>\n",
       "      <td>Amazon</td>\n",
       "      <td>Technology</td>\n",
       "    </tr>\n",
       "    <tr>\n",
       "      <th>3</th>\n",
       "      <td>4</td>\n",
       "      <td>&lt;selenium.webdriver.remote.webelement.WebEleme...</td>\n",
       "      <td>$107 B</td>\n",
       "      <td>78</td>\n",
       "      <td>United States</td>\n",
       "      <td>Oracle</td>\n",
       "      <td>Technology</td>\n",
       "    </tr>\n",
       "    <tr>\n",
       "      <th>4</th>\n",
       "      <td>5</td>\n",
       "      <td>&lt;selenium.webdriver.remote.webelement.WebEleme...</td>\n",
       "      <td>$106 B</td>\n",
       "      <td>92</td>\n",
       "      <td>United States</td>\n",
       "      <td>Berkshire Hathaway</td>\n",
       "      <td>Finance &amp; Investments</td>\n",
       "    </tr>\n",
       "    <tr>\n",
       "      <th>...</th>\n",
       "      <td>...</td>\n",
       "      <td>...</td>\n",
       "      <td>...</td>\n",
       "      <td>...</td>\n",
       "      <td>...</td>\n",
       "      <td>...</td>\n",
       "      <td>...</td>\n",
       "    </tr>\n",
       "    <tr>\n",
       "      <th>195</th>\n",
       "      <td>195</td>\n",
       "      <td>&lt;selenium.webdriver.remote.webelement.WebEleme...</td>\n",
       "      <td>$9.6 B</td>\n",
       "      <td>70</td>\n",
       "      <td>China</td>\n",
       "      <td>Solar panels</td>\n",
       "      <td>Energy</td>\n",
       "    </tr>\n",
       "    <tr>\n",
       "      <th>196</th>\n",
       "      <td>195</td>\n",
       "      <td>&lt;selenium.webdriver.remote.webelement.WebEleme...</td>\n",
       "      <td>$9.6 B</td>\n",
       "      <td>67</td>\n",
       "      <td>China</td>\n",
       "      <td>Chemicals</td>\n",
       "      <td>Manufacturing</td>\n",
       "    </tr>\n",
       "    <tr>\n",
       "      <th>197</th>\n",
       "      <td>195</td>\n",
       "      <td>&lt;selenium.webdriver.remote.webelement.WebEleme...</td>\n",
       "      <td>$9.6 B</td>\n",
       "      <td>58</td>\n",
       "      <td>United States</td>\n",
       "      <td>Candy, pet food</td>\n",
       "      <td>Food &amp; Beverage</td>\n",
       "    </tr>\n",
       "    <tr>\n",
       "      <th>198</th>\n",
       "      <td>195</td>\n",
       "      <td>&lt;selenium.webdriver.remote.webelement.WebEleme...</td>\n",
       "      <td>$9.6 B</td>\n",
       "      <td>62</td>\n",
       "      <td>United States</td>\n",
       "      <td>Candy, pet food</td>\n",
       "      <td>Food &amp; Beverage</td>\n",
       "    </tr>\n",
       "    <tr>\n",
       "      <th>199</th>\n",
       "      <td>195</td>\n",
       "      <td>&lt;selenium.webdriver.remote.webelement.WebEleme...</td>\n",
       "      <td>$9.6 B</td>\n",
       "      <td>64</td>\n",
       "      <td>United States</td>\n",
       "      <td>Candy, pet food</td>\n",
       "      <td>Food &amp; Beverage</td>\n",
       "    </tr>\n",
       "  </tbody>\n",
       "</table>\n",
       "<p>200 rows × 7 columns</p>\n",
       "</div>"
      ],
      "text/plain": [
       "    Rank                                               Name Net_worth Age  \\\n",
       "0      1  <selenium.webdriver.remote.webelement.WebEleme...    $211 B  74   \n",
       "1      2  <selenium.webdriver.remote.webelement.WebEleme...    $180 B  51   \n",
       "2      3  <selenium.webdriver.remote.webelement.WebEleme...    $114 B  59   \n",
       "3      4  <selenium.webdriver.remote.webelement.WebEleme...    $107 B  78   \n",
       "4      5  <selenium.webdriver.remote.webelement.WebEleme...    $106 B  92   \n",
       "..   ...                                                ...       ...  ..   \n",
       "195  195  <selenium.webdriver.remote.webelement.WebEleme...    $9.6 B  70   \n",
       "196  195  <selenium.webdriver.remote.webelement.WebEleme...    $9.6 B  67   \n",
       "197  195  <selenium.webdriver.remote.webelement.WebEleme...    $9.6 B  58   \n",
       "198  195  <selenium.webdriver.remote.webelement.WebEleme...    $9.6 B  62   \n",
       "199  195  <selenium.webdriver.remote.webelement.WebEleme...    $9.6 B  64   \n",
       "\n",
       "       Citizenship              Source               Industry  \n",
       "0           France                LVMH       Fashion & Retail  \n",
       "1    United States       Tesla, SpaceX             Automotive  \n",
       "2    United States              Amazon             Technology  \n",
       "3    United States              Oracle             Technology  \n",
       "4    United States  Berkshire Hathaway  Finance & Investments  \n",
       "..             ...                 ...                    ...  \n",
       "195          China        Solar panels                 Energy  \n",
       "196          China           Chemicals          Manufacturing  \n",
       "197  United States     Candy, pet food        Food & Beverage  \n",
       "198  United States     Candy, pet food        Food & Beverage  \n",
       "199  United States     Candy, pet food        Food & Beverage  \n",
       "\n",
       "[200 rows x 7 columns]"
      ]
     },
     "execution_count": 283,
     "metadata": {},
     "output_type": "execute_result"
    }
   ],
   "source": [
    "df=pd.DataFrame({\"Rank\":Rank,\"Name\":Name,\"Net_worth\":Net_worth,\"Age\":Age,\"Citizenship\":Citizenship,\"Source\":Source,\"Industry\":Industry})\n",
    "df"
   ]
  },
  {
   "cell_type": "code",
   "execution_count": 3,
   "id": "e0833fe8",
   "metadata": {},
   "outputs": [],
   "source": [
    "driver=webdriver.Chrome()\n",
    "driver.get(\"https://www.youtube.com/watch?v=6cV3OwFrOkk&t=9s\")"
   ]
  },
  {
   "cell_type": "code",
   "execution_count": 4,
   "id": "03fa5d3f",
   "metadata": {},
   "outputs": [],
   "source": [
    "Comments=[]\n",
    "Comment_upvote=[]\n",
    "Time=[]"
   ]
  },
  {
   "cell_type": "code",
   "execution_count": 9,
   "id": "9503cafc",
   "metadata": {},
   "outputs": [
    {
     "name": "stdout",
     "output_type": "stream",
     "text": [
      "['It is more than paid course on Power BI. Very Very clearly explained with in depth coverage. Thank you so much Rishabh Mishra.', '\"Project\" based teaching is the \"solid\" item !    Project based teaching is always organized and meaningful.  Time is worth when we learn from Project based teaching.  ..............  Thank you so much for creating \"Project\" based video.   You have a very good mentality to give something more to the learners.   Very high quality teaching.  God bless you !', 'I have created my newsletter report for economic times by seeing this video nd dashboard is used by many internally in organization thanks to you keep it up.', 'Thank you so much sir .Your tutorial helped me gain new skill.I am Data Science Student and working as an intern.I need to learn powerBI in my internship .Thank you so much sir.', 'BETTER EXPLANATION THAN ANY PAID COURSES I ATTENDED. THANKS', 'Hi Rishabh, I really want to thank you a lot for taking so much effort and making such an amazing session. For a person like me who is completely new to this topic and tool, you made it so easy to understand in a step-wise manner.  Do post more videos like this. Wish you all the very best.', \"i've already watched excel project and sql project ,you're literally live saviour sir,this is best video for those have  already done hands on\", 'Bht bht bht achii video h. Is video sy phly mujh power Bi ka aik lafz b ni tha pta, but after video mujy clear ho gya bs practice krni ab..... Bhai apka bht bht shukriyahh. Thanks for this amazing video ', 'For the Entire 44 minutes I learned something new about Power BI as a beginner.This video was indeed straight forward and on point.Thank you.....make more such videos on power BI :)', 'i was waiting for this Power BI video ...Thanks', \"Good job...I am also gonna be learning Power Bi and it's a great help. Best thing is you provide the data sets as well.\\nThanks\", 'Jai Rishabh Bhagwan!!! Helper of fresher engineers..I can say this is most simplest explanation I saw for power Bi.', 'It was a great learning experience...Thank you!! \\n-simple\\n-comprehensive\\n-completely intelligible', '\"Thank you so much for creating this amazing content! Your videos have been such a valuable resource for me and have helped me learn so much. Your hard work and dedication are truly appreciated, and I look forward to continuing to learn from you. Keep up the great work!\"', 'Mishra ji, pakistani living in canada sends you Salam. Great job and great help. May Allah bless you and your family immensely.', \"Bhaiya, mazza aa gaya project bana ke. I'm still learning but its so much fun!!! Thank You.\", \"Thank you sir for your unconditional help for Tech-lovers . Your explanation is very easy to understand . Very much useful for those who don't afford high paying courses .\", \"Searched the entire internet but not a single person has explained as beautifully as you did!! Thank you SO SO much for making this video, it's a literal blessing for beginners. The detailed video is so easy to understand. I was so scared of Power BI initially but I'm feeling super confident now! may god bless you! :)\", 'Hi Rishabh, thanks for this session, as I am also beginner in learning POWER BI and this session help me to understand how can i apply BI in my current role.', \"Hey Rishabh, I was wondering if you could help with more data set for practice/project. I tried to get data online however I couldn't. It was really helpful, and would like to work on another data, hence if you can share only the data set, that would be great. Looking forward to hear from you soon\", 'Your step-by-step instructions were clear, concise, and incredibly helpful. Your expertise and willingness to share your knowledge have helped me tremendously in my learning journey . thanks bro ', \"Hello Rishabh, Jai Hind, Namaskar! Writing you again a feedback, for people who are learning from your courses. In the very beginning, like the title of the book, then come chapter and then topics; If you would please add on to like a flowchart (as in Visio) that what process flow would you refer (as in step-wise) to your learners, so that they know what's relationship between the previous and next phases. Just a suggestion, but you are doing fantastic!\", \"You're a life saver Sir. Felt lazy watching tons of videos out there and could never start but these 45 minutes made me feel confident enough.\", 'Hi Rishabh, I have been struggling with some concepts of Power Bi and your videos are commendable, very informative, real example of free education service. Much thanks and appreciated your efforts, can you please tell me if things covered in this video are of which complexity(easy, medium, difficult) on practical ground, like far now everything seems fine then what are the challenges we generally face in dashboard creation?', 'I watched many tutorials before i got to this one. None were this clear and concise to understand! Thank you! Please create a project for SQL also..', '\"An absolute gem for beginners diving into Power BI! This tutorial is a game-changer, breaking down complex concepts into easy-to-follow steps. It\\'s the perfect starting point for anyone looking to harness the power of data visualization. Highly recommended!\"', \"Thank you, Rishabh ji, for uploading the projected base learning video on Power BI. It's the best blend of basic understanding and practical work, better than paid courses. It helped me a lot in understanding the basics of Power BI. I have completed the Excel project, and it was very helpful. The best thing about your learning approach is that from the start of the video, it was to the point, with no upselling or hidden promotion involved. Thanks once again for uploading this type of well-known and implementable base learning video. May God bless you and your prosper in your career.\", 'Thanks for everything keeping simple Good knowledge ', 'Wonderfull video ! Please keep bringing more and keep increasing the complexity each time while adding more new methods, tips and tricks.', 'Thanks a lot for the tutorial. You did a great job creating it and introduced several features to play around with. You really helped me understand Power BI better than others. Thanks again!', 'Feeling more confident... Simply you describe PowerBi. Just need another video about supply chain management', 'amazing video i naver see batter then this session. i want lean full power bi tools make other video please', 'Please make another video on PBI report. With some complex table structure(4-5) tables, with separate date dimension table, using SQL server as a data source.', \"Hi Rishabh \\nYour teaching is very good , now I can make dashboard and able to apply logics on my data's , I added some projects in my resume I learnt power bi from your video.\", 'Recently got interested in Power BI. This was my first video. Seems like I have learnt various features. Wonderful videos. Thank you', 'Good job, Rishabh. After watching the full video I am feeling that I am very much friendly with Power BI tool and I can start working without any fears. Thank you so much for such content. Will watch your more videos.', 'Kamaal ho Mishra ji aap', 'Really great and appreciate the way you teach. Rishabh, I have learned a lot from your videos in simple ways how to change, replace, delete, and especially create a dashboard thoroughly. Last but not least thanks again for your time. Waiting for your new video for more updates or training. God bless you, Rishabh.', \"Dear Rishabh, thank you for uploading the projected base learning video on Power BI. It's best blend of basic understanding and practical work. It has helped me a lot in understanding the basics of Power BI.\", 'What a wonderful explanation  Easy and Clear ,Not anyone has such quality Keep Doing Great Work', 'Hello Rishab, Video was very helpful, want to take the opportunity to say thank you for this wonderful explanation. Could you add more videos on different domains like healthcare, banking sector, and telecom sector if possible?', 'bhai or aise project upload karo taki  hume sikhane ko or  resume mai add karne mai easy hoga.thank  you bhai mai aabhi abhi power BI start kiya sikhane ko or mai tumhare teaching skill se muzhe sab understand bhi ho raha hai so thank you for uploaded it', 'GREAT ,,,very thankfull to u its my ist learing for power bi , and im glad i hvae viewd ur video for it much thanks ', 'Hi Rishabh,\\nThank you for your videos on Data Analyst profile. Can you please tell me about the level of DAX language that companies expect from us for an entry level data analyst job. I have always found that a bit difficult than rest of the steps in Power BI.', 'Great teaching skill dear Rishabh ! I have learnt a lot from your videos in Sql, Power Bi, Excel. I urge you to upload a Python video also especially for data analysis including Pandas, numpy, matplotlib and scipy. Thanks !', 'Thankyou rishabh. very simply explained. followed each step without any trouble. finally the dashboard is ready.yes definitely more such dashboard on different data sets will be great help not only in making dashboards but also understanding how to analyse data.', \"Bhai Rishab tried to learn this powerbi and you've been a great help.\\n\\nPls answer my few questions:\", 'Your step-by-step instructions were clear, concise, and incredibly helpful. Your expertise and willingness to share your knowledge have helped me tremendously in my learning journey .', 'Hi Rishabh, great video. Helped me.\\nJust one error i picked regarding AOV. Where you verbally explained it right, while applying you made the error. You have divided the total value / qty while it has to be AOV = (Total Amt)/(distinct count of total no of order which 500). Now that brings a problem. I think have to create a new table where will total amt val (438K) and then total distinct no of orders (500) and another column of AOV (438k/500). Is the the whole process to followed kya?', 'Hi Rishabh, first of all Thanks! This video is amazing and I completed the project today. Felt really good. The project based learning is the best method I see. \\n Now my question is, you told in video that I can put this project in my resume. But this is not a entire course and just a part of PowerBI. So how can I put this in my resume which I learned from youtube. Please tell me in which part of my resume I can put this ecommerce dashboard project.? TIA', 'Really your video is very useful timeless and right information', 'Thank You Brother  Tatataaaa  All The Best ', 'Finally,,, \\nwas waiting for this ', 'during the video I learnt & enjoyed the most, thank you so much', 'Apke videos ki vajah se muje Technical field me aana itna easy lag raha hai. Bohot mehnat ki hai apne detail me sab smjh aaya hai God bless you Rishabh bro️', 'The way you explaining totally remarkable keep it up and uploading videos  ', 'Instead of showing profit, we should show month on month profit change percentage % , that is more useful for the stakeholders', 'sir thanks i realy understand the tool very fast way and i make the same project that is my first project in powerbi thank you so much i realy loves your video', 'I used to see your videos step by step as I learned power bi..dax a little bit harder', 'Hi rishabh bhaiya LinkedIn pr based ek video banaiye sir ki logo ko kaise approch kr na h ?  Job k liye kaise  explore kre ?', 'You saved my money,thanks god i did not buy any paid courses..', 'Simply wow! i landed on this page only to find that there is someone who teaches things this simply! keep up the good work. Subscribed with love. <3', 'Just finished doing the project.. what a great learning experience it was... Truly grateful for mentors like you. Kudos and Thank you so much.', 'Really it was easiest video for complete Power BI beginners course, I checked multiple videos more than an hour I got confused but I understood the basics of Power BI, Thanks Rishabh ', 'Best video on YouTube i have ever seen thank you so much.....keep uploading such videos ', \"I'm adding this in my resume\", 'Master class. Keep going bro.', 'Hi Rishabh  I attended power  BI  workshop first time .  Your explanations are easy to understand  and also detailed. I am glad for the decision I took. Thank You.', 'Before watching your video I was used to think that Power BI is complex thing as like Python, But now you cleared to me that Power BI is better than excel. ', 'I personally loved in video and this is my first project that has been completed under your guidance. Thank you so much for these beautiful visualizations and dashboards. I would be happy if you do another project for the intermediate level in the Data Analytics domain.', \"I bow to u my friend u don't know how much motivation and synergy you have gave to me from your video...\", 'Sir, the teaching methodology you have used in this video is exceptional. It has effectively resolved many of my uncertainties. Please continue making such instructional videos, and I will definitely like and share them.', 'Thank you Sir', 'Please arrange a live chat vid so that we can ask questions instantly.', 'Thank you so much Anna I was searching for a Beginners Project for Power Bi and found this .\\n The video was really easy to understand Keep ur good work on.', 'next video on Python project using Pandas  seaborn  Matplotlib . please', \"Hi bro, I'm 33 years old with arts background I'm good in just excel for now and recently tried sql after doing basic level I'm now practicing intermediate level in sql. Dou you think I have a chance in data analytics or I'm just wasting my time please reply and guide...\", 'Thank You So much From the bottom of my heart... No Words to say... You taught even better than the paid study platforms....Thank You So much ... May God bless You with lots of Success & Wealth', 'This is the best video ever seen... Short and crisp and to the point video. Thanku rishabh bhaiya.', 'Please make a video on python tutorial+project', 'Sir ,thanks to you for help this video and best easy view learn for power bi, please one or more video.', 'Yes we need more attractive  ,short and crispy  projects  of real time data. Not actually short but sufficient which not too lengthy also not too small ', 'Google का Looker studio भी ऐसा ही है शायद विशेषता थोड़ी कम हो सकती है परन्तु online है | ', 'Mashallah bhai...itne videos dekhliye BI  par kabhi kuch samajh nahi aya...great work..more power to you!!', 'hello brother sabse pehle thnkew apko itn axhe s sikhane k liye or hn or videos chahiyee ye thoda short thaa or projects or function ', 'thank u brother u made it very easy to understand , really appreciate your effort .', 'Thank you so much sir, your teaching is really osm, very understanding. I am glad that youtube recommended me this video of yours.', 'Request to bring more such videos on power BI with projects. Please', 'Thank you so much for this video. For a beginner like me, it was effortless to understand the concepts. Really like your way of explaining the steps. God Bless You!', 'Boss great Job, appreciate your effort. The tutorial was well described even to the tiniest details. these is nothing that can be misunderstood.', 'Awesome Bro !! Heads up to you !! simple but very effective explanation.', 'chacha, arre bhai. Jabardust. You made my day. I was struggling with some data to work in Power BI and the language you have used in it was the way i want it to be . Loved IT. ', 'Bhut kuch sikhne ko mila thank u bhaiya ', 'Thank you sir .. This is very helpful and knowledgeable video for me.', 'sir aapne bahut acche se samzaya hai.. bahut mahnaet seye video banya... thankyou somuch,, kuch bhi nahi aata tha power bi..thanks a lot.', 'Very elaborately described, I learnt Power BI in no time from no knowledge.', 'thank you sir..for great teaching ..learnt many thing easy by watching ur videos ..', 'SO, today i learned about basics of POWER BI \\n\\nThanks brother', 'Thank you so much for  this valuable learning at free of cost.. ', 'Thanku risabh so much \\nIt helped me alot', 'There are ample of other videos for beginners, however this one is pretty straightforward video and easy to follow step by step. Thanks and Good Job Rishabh!', 'Mai aisa hi traing khoj ri thi, jismine project bhi ho, luckily Mishra ji apka video turant mil gaya first page of serach mein, Bahut acha bolte ho, useful video for me', 'Great teaching skill dear Rishabh ! \\nI have learnt a lot from your videos in Power Bi.\\nKeep going.', 'Hi Rishabh,\\nThank you. It was a great session.\\nOne question, here in power BI you have directly created reports and organised them to create a dashboard.', 'Perfect  what a patience you have while teaching , really really outstanding..', \"Very nice & Useful information explained by 'Project'...... Thanks a lot Mishra ji...\", 'One Video, I learned completely PowerBI. Now time to act on.', 'Rishabh Bhai ..Excellent presentation.. very valuable teaching', 'Thank You For Your amazing representation of Power BI Data Visualization which  make it easy to understand. In a few time Sir you cover all concepts. Truly appreciated Your great work.', 'आपकी वीडियो बहुती मस्त है, आप् बहोती अच्छा काम करते हो.', 'My very first channel...to which i have liked, commented, subscribed and even turned on the bell notification.', 'One of the best method to teach power bi by creating project, thanks keep it up.', 'This is so far the best video for beginners to learn power bi with example', 'Excellent tutorial based on real-time project. We request you to create a full course on Power BI based on projects. Thank you so much for your effort and well explaining in detail for free.', 'Thank you Rishabh..!!', 'Hello Rishabh, You explaining each and everything so well in this video, but it is a request to you to make more videos on projects of Excel SQL powerbi for data analysis in brief, make the video with deep explanation and coverup all the theory and topics.', 'Seen your video today, and Practiced the same watching your video and building the dashboard side-by-side, and ill say it was too helpful for practicing seeing your Dashboard building video. A BIG THANKS ', 'I like the project heading name 🇮🇳and proud to see that.\\n\\nBest wishes for more videos on detailed reports and more power bi', 'Thank you sir! The content and explanation is easy and superb. Looking forward for more videos from you. Requesting you to make videos on basics in Tableau.', 'Very Helpful Video to understand POWER BI Features and Dashboard creation. Thanks for sharing it.', 'Thanks Rishabh  your video is really helpful for me to create project plz make other videos also for advanced level power bi projects.', 'Rishabh  ji agar aur different types ke meaning full practical visualization k liye  data chahiye to kahan s download  kre jisme error bahut kam ho  aur kaise download kre uske ek liye ek short video ya reel  chahiye so that we can practice more on daily basis please', 'As a begginer n stepping into finance feild it was very helpful thank you ️', 'thank u so much for this vid sir. i am beginner in data analyst so this vid helps me a lot. once again thank u from the bottom of my heart', 'Your words made impressed to learn the Power Bi tool thanks lots for your professional explanation.', 'Hi Rishabh, Thanks for the video. This helped me learned many things in one single video about Power BI.', 'Amazing Content. Very brief and clear. Just saying Order data set csv file is not as per session. It needs to be updated. Please check', 'Hi, Rishabh, Thank you so much. This is very helpful for me', 'Hey Rishabh bhaiya \\nAgar power BI m ek dashboard complete bnane ke baad agar kisi ek value ko edit ya change krna ho toh voh kaise kren ???', 'literally good i like the way you taught sir! Thank you.\\n\\\\', \"Thank you so much for this valuable video...... This is first time I'm trying Power BI and created this dashboard ...... such a great experience..... Thanks again ...\", 'Hi Rishabh, Hope you are doing well. I am very much thankful that you have uploaded such a nice video that is very useful for both working professionals as well as for students who want to go in data field. I want to learn full power bi course, could you please let me know where I can get your full power bi course.', 'do make more videos like this\\nthanks fr teaching', 'Hi Rishabh, 1st of all thank you for your all great videos which helps many of us to learn in simple and easy way.', 'Thank you very much for creating wonderful Dashboard and Teaching very precisely.', 'Thanks a lot sir, very precise and clear instructions.\\nAll the best', 'I had seen your video first time. Really great explanation and very good flow. Keep it up.', 'rishabh bhai kam time mein bahut kuch cover kar diya. Amazing bro, keep it up.', 'my first day to intro with power BI, its very interesting I like it & the way you explain it thanks Bro.', 'Thank you so much Rishabh. Great Video. You rock.', 'bhai, it was seriously helpful... thanks a lot... ', 'Hi Rishabh,\\nHats off to you, very nicely you explained in an easy to understand language. Thanks.', 'Bawa thoda nhi, bhut kuch seekhne ko mila is video se. Thanks', 'It was a great help for me, since i am  a medico , creating charts was like lot of effort, u made it so simple.', 'Thank you for the video though I don’t know why my findings were not coming same after even downloading the same csv files but I learnt a lot about the features and to create dashboard thanks a ton ', 'Bhai Rishbah maaza aagya. Kya video banai hey. Excellent. I have watched many on this topic, but this one is really outstanding. You covered relevant features in a very simple presentation. It has prompted me to subscribe to your channel too. Regards Ahmed', 'THANK YOU BROTHER \\nI learned so much from your videos and also created this Power BI dashboard as well as an Excel Dashboard. Thank you so much ', 'Super video thank you so much I like to watch all your videos and learnt many new things', 'Thanks sir basics clear hogaya power BI ka and very helpful video', 'Great value for time. Come with more data analytics project. Thank you.', 'Thank you so much brother great job ', 'Thank you brother, learnt alot\\n\\nPeople are charging money to teach of these things and you have saved that.', 'Mujy aik cheez pouchni ha jb koi apko oder da to wo data kis type ka da ga hamay start kahan sa karna ho ga?. Data Google sa lana ho ga ya phly excel pa bhana pary ga?  Ya phir wo excel ki file da ga just dashboard bhana hota ha?', 'Thankyour for practically showing. I have done my first project by learning from this video', 'thanks for this video its is very helpful for me as a beginner.', 'Bahut hi badiyaa explain kiya apne thanks', 'Excellent,indebt tutorial\\nGood job, keep it up \\nThanks from Pakistan.', 'Very well explained..thank you so much', 'by this i have learned the whole concept of power bi thank you so much sir ', 'Thank you for this video. It was very helpful session.', 'I had a great learning experience. Thank you!', 'Thank you brother i do appreciate your real support and please create more different types of projects like sql and power bi , python with power bi project and how to clean complex data, teach and python sql for data sciences advance level and complex power bi problems for data sciences and many more i will be keep sharing me ideas', 'thanks rishabh sir , highlight more on tool tips for new dashboard in next video', 'Thank you so much for your efforts. great help', 'Nice learning Platform Dear. So Much Helpful.', 'I learnt my first dashboard. Thank you so much. It was very helpful. Please make such more videos ', 'Learnt sql ,excel and power bi from you short time vdos are amazing if you want to get a basic understanding and gist of these skills', 'Thankyou so much dear you have helped to many people who are learning power BI', 'Great guidance for rookies like me.\\n\\nA lot of love and respect from 🇵🇰', 'Sir, Very helpful the video so, I have subscribed to your channel and like this video.', 'hello Rishabh, thank you for the tutorial , it was very helpful and easy to understand. good learning experience', \"Thank you  It's very helpful.\", 'Thank you  Brother for your help ', 'Really appreciate your effort, just awesome, thank you.', 'Hi Rishabh,  Thank you so much for such well explained power bi dashboard for beginners who only know how to prepare dashboard in Excel. Explaining basic concept is really good.', 'Hey bro, I did not understand the conditioning at  (28:10).  Both the rules you set are same.   How it is positive or negative value?? Can you explain in brief.', 'very effective Video thanks boss God blessed you', 'Thank You Bahut Badhiya Bataya Aapne', 'Wonderful explanation i thought powerbi is tough but you made everything easy \\nthank you so much..', 'Thanks you sir,\\nwe have complete our project', 'Excellent Learning, Converting Normal Human Resource Decision Making Leaders, Very Simple And Power Full', 'Thank you so much for making power bi so easy and simple to understand. with your help I made my first project in power bi, best wishes and blessing for you.', '00:02 My most requested video is finally live!\\n00:08 Many people contributed to a powerful video.\\n00:12 Power BI video is live\\n00:18 Learn Power BI step by step', 'Very impressive & usefull video,   totally to the point quick explain with easy powerfull knowledge@GR8 job Mishra Ji', 'Great explanation with hands on exercise !', 'One of the best PowerBI tutorial i ever watched', 'Great keep it up !! It helped a lot make more videos of power your teaching skills are very clear and precise. All the best!!', 'Amazing work Brother, Really Helpful , practical project based learning , I watched few YT  videos to learn PBI but same wahi col chart, pie chart ek ek video nothing bound me to  learn anything.', 'Rishabh Thank you so much for this tutorial... Great learning experience... Your teaching style is awesome .. keep up the good work . Thanks ', 'Recommended Channel to Learn Many Techs ... Thumb up WS Cube Tech', 'Finally make a project on Power BI \\nThanks rishabh sir ', 'Very easy way to understand for the beginners like me. Really appreciate your efforts put to make the tutorial understandable', 'Best quick and easy learning page for power bi really helpful..pls make more videos on critical scenarios and real time example', \"The boss of data analyst\\n you're really a 'GOAT'.\\nBEST WISHES \\nFROM BANGLADESH........\", 'Thank you so much , you saved my 20 marks for SCE project , and I completed it before 3 hrs of submission', 'Hi Rishabh, long way to go man.. you will rock the online education one day.. all the very best', 'Great sir this is very helpful video for beginners \\ngood job keep it up\\ni see this video again and again to clear my concept of Power Bi', 'It was Awesome, really enjoyed this Dashboard for Sales,\\nI was looking for a reliable source for Dashboard Tutorial and I have founded the best one so far.\\nKeep it up the good work', \"I have learn't a lot from this tutorial. Thank You\", \"sir the file you have provided is not loading its showing that some pending changes haven't been applied , please help.\", 'Hi..you explained everything in a smooth and simple way..\\nThanks.\\nWish to have  sql vedios too', 'Hey Rishabh, superb information. Thank you, God bless you.', 'very informative video and easy step by step instructions given. would like to see this type of informative video', 'I have completed this project by watching your video. I like it & I learn a lot of things. Thank you so much for adding value to my career. But how to save it that is not shown in your video. I want to show it to my manager.', 'Rishab bhai u r superb bahut achha se samaj mein aaya big heart ️ thank you keep going on', 'Kuch nahi bohot kuch sikhne mila thankx', 'Thank you Rishabh. please post more videos for intermediate and advance level.', 'thanks brother, really helped me as a beginner', 'thnk you again  for making video so understandable ', 'Thanks for the video. It helped me a lot. Take love from Bangladesh. God bless you!', 'I was searching for something on how to start dashboarding and this came up! Thanks to you man!', 'Thank you so much sir for this great customization tips', 'Your explaination is amazing! ️ Thank you for teaching ', 'Very informative it helps a lot to start from scratch level !! Thanks for making this video !!', 'Thank you for the valuable video Sir', 'thanks bro. iam working as Hr and have a good knowledge of excel can i be move in DATA science career please suggest', 'Amazing video, learned a lot... kindly do more such projects.. <3', 'Just trusted the process..turned out so well', 'best learning video ever seen in you tube for power bi... supurb', 'I have learned a sql course, excel course from your videos, now I am in power bi.   power bi is the best where i can do same things like excel. \\n can you put python course needed for data analyst, as you have experience more than 4 years.', 'Thanks a lot for this project learnings', 'Thank you so much for making this kind of video for us. It is important for us.', 'Thank you so much. Your all videos are very helpful.', 'Rishabh you are greatt bro thanks for teaching this.....', 'Thanks for sharing this.\\n\\nPls advise how the get refreshed automatically? Source sheet is dynamic it gets updated on daily basis.', 'Thanks bro, you are always a Saviour. I learned the SQL from you and now Power bi.', 'That was really helpful.\\nThank you so much ', 'Hi Rishabh \\n\\nI Really want to Thank you. It was a great session.', 'Thanks bro its very helpful for my project', \"Thanks bro I've learnt all basics because of you \", 'Hi Rishabh, thank you really helpful', 'Thank you so much for this video ', 'thank you sir for make this video, please make videos to related powerbi projects.', 'Great explanation\\nBut sir is this enough for interview?', 'Very informative Rishabh. Learnt lot from this video. Thanks. Very lucid way to explain.', 'Really liked the video and learned how to start working on powerbi.', 'Perfect video for a Beginner, Thank you!!', 'Excellent Tutorials, please make more videos related to Supply chain analytics', \"Hloo sir....i have watched your so many videos on roadmap of data analytics...and i started power bi ...this video is very helpful to me so thankyou so much...\\nAnd i want to ask a question how can i engange my skills in any job i am jobless till now and i don't have any idea about the job projects...so can you pls tell me how can i apply for job roles\", 'Thanks for teaching so good :)', 'Great learning experience...Thank you!!', 'In the short time give brief about POWER BI. Really nice  to watch your video. ', 'Hi rishabh thanks give all vedio content as tablue also', '65000 pay krke mne data analyst ka course kiya tha uhone 4 class me power bi khatam kr diya pr apne wo hi sb 45 mint cover kra diya wo bhi itna accha thanku bro', 'great efforts and very nice explanation but sir, while applying conditional formatting at 28.11 minutes of the video, there is mistake while applying the rule as criteria is less than zero and greater than zero...for blue and red colored  bars. But, no option is coming here  in power BI to get which are only less than zero or greater than zero...plz crosscheck and tell...thanks.', 'Thankyou sir\\nyour BI class is very helpful.', 'Hello Rishab , Thank you for this amazingly explained video, also requesting you to provide some projects on tableau', 'Thanks you Rishabh, worth subscribing content', 'kya baat hai sirji. The level of explanation was impeccable. Kudos to you.', 'Please make more videos like this,this is one of the best for Power BI videos for Basic to Advance level!!\\n\\nAwesome !', 'you are really amazing bro & and great job', 'Love you Rishabh Bhai you made power bi easier to learn, mai apka student hun pakistan se', 'Very helpful and informative video, thank you', 'Its very nice and helpful to understand. I want to learn more so waiting for further videos.', 'Hi Rishabh , It always good to see your video and learn something new. I have one question - Is it possible to install PowerBi for Windows 7 Pc. if so can you please share download link for same', 'every thing is good but 1 request please provide in the description that what ever the data you are using while explaining. Then, we can also download and practice along with you.', 'Thank you so much sir for this wonderful explanation ', 'THANK YOU SIR........I LEARN POWER BI MORE THEN 40% TRHOUGH THID VIDEO SIR', 'what a clear explanation, seen multiple youtube trainer but this is awesome keep it up brother', 'Thanks Rishabh, Good work.', 'Thanks for sharing this learn by doing tutorial.', 'Wonderful, thank you Rushabh.. best for beginner like me..', 'Really learnt a lot of things from you, Rishabh Bhaiya.! ️', 'Thank you so much sir..... you saved my project!!!!', 'Great video... Very informative. Thanks bro', 'my doubt is when we manually select some values in slicer filter its color changes to default and even if say for a particular chart i have this filter that there should be top 5 things in that chart, then in slicer when we select multiple values top 5 changes to random values 6,8,10 can you clear my doubt ??', 'Thank you so much Rishabh!! This project based tutorial is really very helpful. I really appreciate your efforts ', 'Hi Rishabh, thank you so much for wonderful session, its superb ', 'simple and informative ', 'very nicely explained in easy words, thank you for making this video. Now i am confident to explore other projects.', 'Hi Rishab,\\nI am facing one issue while applying a filter in the dashboard, when I select a particular quarter or month, data in other charts do not change? Please help me out here.', 'Hello Rishabh Sir, I was trying to load the orders csv file onto powerBI but it was not able to read the column headings and process the dataset. What should I do in such a case', 'Thank you so much sir', 'Sir प्लीज़ प्लीज़ प्लीज़ 1 powerpoint par b full tutorial banayiye \\n\\nFor business analyst job description,  jo 1 hi video मैं सब sikhane mil jaaye', 'Thank so much, knowledgeable video', \"Thanks for this video, helps a lot.\\nI want to know if there is any way in power BI to archive the reports? Let's say data is getting loaded on a weekly basis, report will get populated with new data every week. so how to access the report that has older data?\", 'Hello Rishabh, I want to thankyou for making this video I have been searching for good Power BI project Video and yo made it easier to understand I would like to make a request for the new video on power BI in which transformation and relationship plays major role to enhance my skill and Once again Thankyou so much', 'Great Rishabh. Really appreciate you effort. It is quite easy to understand', 'Wonderful ...You Deserve millions like', 'Very informative video sab samjh agaya easy to understand tha', 'thank you for this thorough project based video:)', 'Elaborated very nicely.', 'I liked the way to understand and can  you make more videos', 'thank you so much sir, for this wonderful videos.', 'Dear Rishabh you are amazing teaching skills thanks a lot...just one day i watched your sql video and learn lots as basic kindly make a video sql project as well as a video for data analyst roadmap. thank you...', 'Excellent Explanation. Need More Project in your teaching way', 'Awesome  wow \\n it just video is not clear while watching keep shining  keep sharing ', 'Thank you soo much I learn in do it', \"I'm doing a power bi course whole knowledge of SQL is required or not?\", 'Thank you bhaiya for this wonderful project', 'Thank boss..i spent more than 3hr but completed properly', 'Thank you so much ', 'Thanks a lot for this video!!!', 'Total Amazing, Amazing explaination,  Please can u make videos on Power BI with data cleaning', 'Thank you sir you really clear my quires ', 'Hi Rishabh, Thank you soooo much for this amazingly informative tutorial. God bless you :)', 'Thanku so much , now i have more confidence that i will be a data analyst in future.', 'Very informative video thanks.....', 'excellent', 'Sir jab maine madhav e commerce sales daala uske baad.... Filter, format, data ka he options aa rhe h..... Visualization ka option nii aa rha.... Can u solve this problem?... Please ', 'Nicely explained, gives overall image of Power BI tool .  Your Willingness towards making such informative & Knowledgeable study video boost up my confidence that ho Jayega not to worry.', 'I did not want to tell this but i have Crush on  you  The way you tech and smile', 'thank you sir explain well And plz video dax related more video .', 'Absolutely Amazing video, covering from the basic with great teaching skill i am your new subscriber. Thank you very Much...!!', 'You did, really really well', 'Its Really a useful video, we require more video like this.', 'it was very valuable and learning video. thanks for giving such value, please share more videos.', '26:08 par refresh karnay se meray Pas wesay values kyon nhy show horhay ??\\nSirf yehi problem Araha he baaki sab sahi bana hee. . kindly guide', 'Great teaching skill keep it up Ty so much Rishabh Bhaiya ', 'Thanks it helps!!', 'Thank you once again...!!', \"Hi Rishabh, I am learning these tools through your video's only, and feeling very happy to have your knowledge with us. I just want to know after learning these tools where will i do practice and from where we fetch data for practice. kindly please tell me.\", 'Quick helpful video no buqwas \\nThank you so much', 'We decide which color the column will be or it is required by the company itself.', 'Bro, you are too good….this one is very helpful.', 'Very helpful thankyou so much bhaiya  and please make more videos like this', 'What a great video sir. Thank you for this', 'Helpfull!!? Really\\nThanks to you for teaching an awesome skilll…', 'video was very helpfull for study thanks    give some more information on powerbi tool details', 'Thanks a lot for making this video and trying to make content related to the data analytics field and please try to make more projects that relate to data analytics.....', 'I really appreciate this video and  Rishabh Bhai ,thanks for making this video and all that stuff regarding power bi is completed in this video.\\nThanks once again. Have any project,if u have please share the playlist.', 'really insightful video!! great work!', 'How do I replace data source with a new File in Power BI automatically? Every week a new flat file is generated and we need to do reporting on latest file. Please advise.', 'Thank you so much, really quite helpfull', 'You are a gem. Please keep up the good work. :)', 'Thank you Sir for such a neat and clean explanation! ', 'its Very Help full for new User of power BI', 'very nice way to explain...now create videos on each of the segment of Power bI in detail', 'profit of June month is negative but in your chart, after applying conditional formatting it is appearing  as blue bar...this is what i wanted to clarify and ask......about the rule.', 'thank you sir', 'One question how to have it in PPT if same dashboard we need to do flash via PPT is it possible?', 'Thank you so much brother for sharing this wonderful knowledgeable video with all of us ️', \"You're awesome boss, thanks for the video 🫡\", 'Awesome tutorial thank you so much.', 'Thank u so much bhaiya for making such insightful videos.. Quality content and no time wastage.. I loved your teaching style.. U become my fav teacher now.. Aap python kabh start kroge.. Please do that soon.. Thank u once again ', 'It was really great knowledge Sharing Rishabh. The way you presented in is really appreciable.', 'Thanks you got a new subscriber', 'Thank you for guiding me in learning new skills. Your support has been invaluable to my growth ', 'Yes sir make more videos on this...', 'it was very helpful brother thankyou', 'Thank you. Well Expained', 'Hi Rishabh...Thanks for sharing the start up Information Its too good to understand Basics', 'rishab mishra bai power bi k jitny p project aap  n upload kia h center m thoori problem bn jati h project m issue aany \\nlagty h', 'Great teaching skill , thank you for the video', 'Very comprehensive video', 'Data view (DAX/Dax queries) and Power Query me kia difference hai? dono me ham same operations perform krty han. Please clear my confusion. Thanks for this informative tutotrial.', 'You are wonderful ', 'Finally I got this... thanks  ', 'Thanks for this amazing video!', 'Thanks  sir for such a informative video, easy to understand and helpful for making a present full dashboard', 'Hi Rishabh\\nIts an very informative and very good to start with POWER BI.\\nIn future can be able to cover DAX in detail', 'It was really very helpful! Please make more such videos for practicing data analyst topics.', 'hello i am having issue while creating 1st chart in that orders and amount is considering . but issue is while changing data type i am unable to see difference  in candels all month wise candels are of same height and thick so please help to solve this issue', 'thank you for your tutorial..it is really helpful ..', 'Great teaching Rishab sir . I have learnt a lot of knowledge form your this video and I develop a new skills by you.. Thanks', 'Hi sir, As chatGPT plug-ins are coming to build beautiful and functional dashboards, is learning Tableau and Power BI worth it?', 'at 28:14 both conditions look same to me , how does it define which is for positive or negative ? \\nand btw Thanks for this detailed informative video', 'Very informative session...thank you', 'Thanks A lot Sir for most useful video', 'Thank you.  Aap aur iss tarah ke vidoes upload kijiye.', 'I am encountering issue as \"We can\\'t automatically convert the column to Date type\"', 'What a session  stay blessed', 'Hi Rishabh ..nice information shared by you ..can we copy & paste this data in ppt', 'thankyou sir ethney asaani sey bata dene ke liye', 'Thank You...very useful video content.', 'Hi Rishabh, I have followed your steps but when I am changing the column data type from Text to Date for the order date then I am getting error as \"We can\\'t convert automatically the datatype to Date\"', 'tnks bhai .. very helpful', 'Amazing explanation.. great work done by you.', 'Thankyou for replying my comments, Rishabh bhai I want to become data analyst and want to do hands on projects. I am starting my career from scratch if any doubt can I ask you the doubts.', \"Hi Rishabh,\\nYour efforts to make this video is excellent easy to understand.\\nThanks alot keep the spirit it's very helpful:)\", 'Thank you Rishabh. Nice content  ', 'Thank you brother!', 'Bhai bahot maja aaya sikh ke happy learning ', 'Just made my first dashboard from your example, it worked Alhumdolilah. Feeling extremely happy. Thanks for teaching in such an easy way. May Allah bless you. Ameen', 'bhaiya you are awesome, your videos are helpful for beginners.thank you so much', 'Hi! can you pls share insight on why the chart of SumOfAmountByCustomerName has first bar in Red?\\neverything else was superbly explained and crystal clear.. thanks brother :)', 'Hi Sir , Please some information, Power ib dashboard mein main daily excel sheet update kaise karu , ya har baar new dashboard create karna padega.', 'Hum ye project resume mai add kar sakte hai na sir', 'I understand the objective, but what specific outcome or conclusion are we aiming to achieve?', 'Superb bro i feel so confident when I was doing this', \"Jo orders wala file h usmai order date ko text se date mai change kr rhe to error arha h ki we can't automatically convert the column to date type . Kya kre ?\", 'Thank you ! very well explained.', '1 number sir , your teaching method is unique and easy to learn Thank you, sir...', 'Nice information in very lucid language. Thanks', 'Bahut badhiya Bhai ji mast explanation mja agya', 'This vedio is Very Helpfull and Very Good Teaching. Video Quality Also Very Good. Thank You Sir.', 'Thanks buddy, best and easy way to explain', 'Hi Rishabh, tutorial is better than some paid tutorials. kudos. expecting SQL tutorial.', 'Very much informative and understandable.  Thank you so much for sharing the information.  If Possible try to provide some database files so that the viewers can access and do the homework.  I will be so thankful if you could do this.', 'H, Thanks for the video my query regarding which tool i need to learn to  become data analyst or business analyst and iam already working professional in BYJUS as faculty , Kindly guide me..', 'Hi, How to download filtered Data as Data view show,\\nex- \\nIf i have data and make a Data view with Slicer and show in a table, if select some specific data view after selecting in slicer,  i want only download that data which show in Data view.', 'Thankyou ', 'Thank you :)', 'Superb explaination bro.... Thank you very much', 'nice video, simply explained in less than 45 mins.', 'Your way of teaching is very good ,your methods I can understand', 'Your teaching method is very nice and clean no extra bak bak only teaching in right manner, thanks brother', 'Thank You Brother for this Information.\\nMy name is Roshan Mishra ( Your eyebrows and my eyebrows looks identical )\\nOne more subscriber .', 'Wow bhai apne to badhiy shikate ho aise or video banav', 'Great video sir thank you', \"I don't know how to say thank you... To the point only, no bakwas... Thank you Bhaiyaa . Aapko LinkedIn pe keise connect karein??\", 'Super helpful video! Thanks for creating :)', 'Your learning style is very essay.\\nThankyou so Much', \"Believe me, you are the GOD of Trainer, Class-V students can learn from your videos. It's too much easy, A big Love from me \", 'Your video is easy to understand', 'Very help full vdeo Thanks, can you share same video lecture with three oracle tables and power BI please', 'Thanks, Rishabh bhai.', 'Thank you..', 'can we cover all the methods of power bi  which we use in data analysis', 'very very helpful thank you ', 'Thank u sir', 'Power BI ka use Sir machine learning or Data science ke leye hota ya ki nhii???', 'Please make an example of stock market journal formation..', 'thank you,they way explained really awsome,plese make more videos on powwer bi', 'Hi Can we save models as template, to apply same for the other data? please respond', \"Assalamo Alikum I'm Aamir Abbas from Pakistan \\nDear friend this is very very constructive,  I appreciate you.... \\nOne thing I want ask you if want to display the data on daily bases then how would I configured.... I mean my data is daily vary\", 'Thank you Sir for making such a helpful content', 'Can anyone help as I am not getting the OK and CANCEL button in conditional formatting. \\nSo I had to manually change the colors of negative values.', 'Yes sir,  please make more videos like this', 'Hi Sir, i facing the issue of the data loading in power BI, Data is not load ordered manner in power bi as compare to our source data. please give me a suggestion as soon as earlier.', 'Informative work, Thanks.', 'The way of teaching is really fantastic. Keep it up. . . . .', 'well done brother, easy, effective and most accurate way to illustrate the topic. Thanks a lot brother.', 'Great!Thanks.', \"Hey Rishav, One question When I am trying to transform the Order date in date Date type, It's showing Happening. It's saying We can't automatically convert the column into Date. How to fix this?\", 'Thank you Rishabh', 'Great video, and I promise I will spread this knowledge by saying your name! ', 'Easy explanation of power Bi. Thanks for this video. ', 'Directly i  subscribed your channel when i saw this type video', 'brother yeh jo profit by month show ho rha wo kis year ka ha??', 'Hi Reshab,\\n\\nAs we are analysing sales data, can we add daily data in data view or we have to upload new file again inorder to show live  tracking', 'Very Nicely Explained... Great work Rishabh!', 'Bhai bahut duwa paa rhe ho aap ', 'hello thank you for such helpful video.... can you please share me problem statment of this project.', 'Explanation way is superb ', 'Thank you for guiding us', 'VIdeo accha hai lekin bohot jyada speed me kar rahe ho. if some one is learning like me and following steps i cant keep up with you as u are switching from one to another so quick and i loose the track. I ended up closing this one and moving on to another one.', 'Thanks Mishra from Pakistan.. you are great keep it up..', \"Hi Rishabh,\\n\\nThank you for your videos on Power Bi Project. Can you make a video about Data analytics resume for fresher .we don't know what actual format resume for freshers  with ATS free . if you make a video about this it will really helpful for me.\", 'Better explanation thanks', 'Hi rishabh!!\\nCan you tell me what is the use of quarter slicer?', 'what Insights should we add after the completion of project?', 'Thank Q so much sir for this video. And please clear job roll in sector.  Where search a job.  I am graduate student for BCA in Computer Application', 'Rishabh ji,\\n\\n(Show all) option is not visible in Bars heading . Which you used to colour bars differently.', 'Sir sirf power BI karne se job milegi kya vacancy rahte he kya sirf Power BI pe', 'thanks for the video ....... next time ...... less details ........ more graphs ......... many of us are beginners', 'sir can we link this with any website so that opening the website it will give this dashboard as a result.....and if yes then how please explain', 'I learnt , really good', 'It was a great session sir thanks alot for kind support \\nPlease make one for project for more clearity please please please sir ,️', 'Boss, could you please give your video link where i can learn Power Bi from a to z.. this video is like whole new leavel.. thanks ..', 'Worth to see thanks !', 'Nicely Explained Rishabh!', 'Awesome Sir. I learnt a lot.', 'Very useful. They way you explain was also very good. Thank you. From Pakistan.', 'Thanks bro for making this video', 'Mashallah Great explanation May Allah bless you', 'Thanks rishabh for this content.very helpful ', 'Dear Sir I’ve attempted a dashboard using Power BI after watching your video. How can I share the powerbi file link with you to analyze it and to see if it is ok ?', 'Dear Ribash , amazing video & well explained in thourough manner . why you introduced two tables in Power bi , wasnt tht possible to club all info in 1 table & still get same results.', 'So nice Rishabh Bhai, Thanks for the nice awesome video.', 'Hi Rishabh, the video is very insightful yet simple. I have one question- After creating dashboard, how we can save and re-use it with fresh data with similar structure, say a few months apart. In this case, if have new data for Madhav ecommerce sales 6 months later and we want to rerun new data to regenerate dashboard.', 'Rishab Sir ap training Provide kravtey ho?', 'Bro this me and many of thems request ..\\nPlease make one video on resume making on data analyst for freshers  wt all projects we have to add and description please help here to  .', 'Amazing detail learning video appreciate your time and efforts. Would appreciate if you could share the practice Data to remake the same as you made the dashboard. Thanks alot', 'how can you click on any visual and it’ll give detailed analysis in another tab\\nIn power bi can u pls help', 'I had a question here, do we need to visualize ourselves that what hierarchy client would need, or do we get some business requirements according to which we design these dashboards?', 'Can Power Bi report can access without  Power BI software ,  as presentations  ?', 'Rishab sir , mere top states me all the 4 bars are equal and also profit by subcategory me all bars are equal because of percentage in X axis if i click on the bars then only their count is shown. How to fix this?', 'Superb, amazing', \"Job k liye certificate yaa degree chahiye hogi?? Yaa skills enough hai??? Bcz I'm from non technical background and I want to go in Data analyst job\", 'The date colum get multiple errors when changes to date. ? in excel formated the date as date. but getting error on Power bi. kindly help', 'Thanks you sir', 'Thank you', 'Thank you so much.', 'Thank you soooo much brother please put some data files so that we make projects for practice.', 'thankyou bro good explanation', 'Thank  you sir....', 'Thank you very much sir  !', 'IT WAS GOOOOOOOD DONT KEEP IT UP', 'Keep up this amazing work Brother Rishab . May god bless you in all realms', 'THANKYOU SO MUCH!!!!! BEST VIDEO', 'well explained', 'Very insightful Thanks', 'Perfect ', 'Nice video for understanding and. New learner', 'THANK YOU SIR', 'Hello Rishabh\\nCan you please tell me how you have change the text colour of the heading from black to white???', 'At 19:30 jo datatype change ki ha wo nhi horhi uspr error arha ha \"We cannot automatically convert the column to data type\". please help', 'Hello sir \\nSir actually me 12th grader hu! And mujhe Mysql aata h! And i am interested to become business analyst! So whats your thought, mujhe kya kya krna chaihye? My Sql and power bi ke alawa', 'hi rishab,\\ni saw your video and have downloaded the excel file\\nwhen i am trying to load the excel file in the BI tool, in the orders table , all the column names are changing to column1,column2 and so on.', 'can you please make a video on power bi interview question .... that will be very helpfull , thank you rishav for your pure efforts. god bless you.', 'THanks Rishabh BhaiYa\\n️️️️', 'Excellent sir ', 'Hello, very nice and innovative teaching skills.. all the best...can you make dashboard related to stock market', 'thank you for the video i have just started doing it kindly plz share the data set you used in the video madhav ones', 'Rishabh Bhai, thankyou so much', \"the order table which I have downloaded from your link it's different from the video according to column-wise.\", 'Really nice Thank you so much ', 'Thanks for  your efforts', 'A big thanks ']\n"
     ]
    },
    {
     "data": {
      "text/plain": [
       "500"
      ]
     },
     "execution_count": 9,
     "metadata": {},
     "output_type": "execute_result"
    }
   ],
   "source": [
    "Comments=[] \n",
    "title=driver.find_elements(By.ID,\"content-text\")\n",
    "for i in title[0:500]:\n",
    "    try:\n",
    "        Title=i.text\n",
    "        Comments.append(Title)\n",
    "    except NoSuchElementException:\n",
    "        Comments.append(\"-\")\n",
    "print(Comments)\n",
    "len(Comments)"
   ]
  },
  {
   "cell_type": "code",
   "execution_count": 10,
   "id": "8e1080bb",
   "metadata": {},
   "outputs": [
    {
     "name": "stdout",
     "output_type": "stream",
     "text": [
      "['8', '140', '', '5', '36', '39', '1', '2', '9', '7', '', '2', '6', '5', '', '', '7', '9', '1', '1', '27', '5', '1', '1', '3', '4', '', '', '3', '3', '1', '1', '4', '1', '1', '4', '8', '1', '1', '4', '5', '1', '1', '7', '27', '1', '', '4', '5', '1', '1', '3', '5', '', '1', '4', '2', '2', '', '3', '1', '1', '1', '1', '2', '64', '3', '1', '2', '8', '3', '2', '3', '3', '2', '3', '37', '1', '2', '3', '1', '1', '2', '1', '1', '', '1', '', '1', '', '', '1', '', '', '1', '1', '1', '2', '', '', '1', '1', '2', '2', '1', '1', '1', '2', '2', '2', '1', '1', '1', '1', '1', '1', '1', '2', '1', '1', '1', '', '1', '1', '1', '1', '', '1', '1', '1', '1', '', '', '1', '1', '1', '1', '1', '', '1', '1', '1', '1', '1', '1', '1', '1', '1', '1', '1', '1', '1', '', '1', '1', '1', '1', '1', '1', '1', '1', '', '1', '1', '', '1', '1', '1', '', '1', '1', '1', '1', '1', '1', '', '1', '1', '1', '1', '1', '1', '', '1', '1', '2', '2', '1', '1', '', '2', '2', '1', '1', '1', '1', '1', '1', '1', '1', '', '1', '1', '1', '', '1', '1', '1', '1', '1', '1', '', '1', '1', '1', '', '1', '1', '1', '', '1', '1', '1', '1', '', '1', '', '1', '1', '1', '1', '1', '1', '', '1', '1', '', '1', '', '1', '1', '1', '1', '1', '', '1', '1', '1', '1', '1', '1', '1', '1', '1', '', '1', '1', '1', '', '1', '1', '1', '1', '1', '1', '1', '1', '1', '1', '1', '', '', '1', '', '1', '', '1', '', '', '1', '1', '1', '', '1', '1', '1', '1', '1', '', '1', '1', '1', '1', '1', '1', '1', '2', '1', '1', '', '1', '', '', '', '1', '1', '1', '', '', '1', '1', '1', '1', '', '1', '1', '1', '1', '1', '1', '1', '', '', '1', '1', '1', '1', '2', '', '1', '', '1', '1', '1', '1', '', '1', '1', '1', '1', '1', '1', '', '', '', '', '1', '1', '1', '1', '1', '1', '', '1', '1', '', '', '1', '1', '1', '1', '1', '1', '1', '1', '', '1', '1', '1', '1', '1', '', '', '1', '1', '', '', '', '', '1', '', '1', '1', '1', '1', '1', '1', '2', '1', '1', '', '1', '1', '2', '1', '1', '1', '', '1', '1', '1', '1', '2', '1', '', '1', '1', '1', '', '1', '', '', '1', '1', '', '', '1', '', '1', '', '1', '1', '1', '1', '1', '1', '1', '1', '1', '', '1', '1', '1', '', '1', '1', '', '1', '1', '1', '', '', '', '', '', '2', '', '1', '1', '', '1', '2', '1', '1', '1', '', '1', '', '1', '1', '', '', '', '1', '', '2', '', '', '1', '', '', '1', '1', '1', '1', '1', '', '1', '', '1', '1', '', '1', '1', '1', '1', '', '', '', '1', '1', '1', '', '1', '1', '1', '', '1', '', '1']\n"
     ]
    },
    {
     "data": {
      "text/plain": [
       "500"
      ]
     },
     "execution_count": 10,
     "metadata": {},
     "output_type": "execute_result"
    }
   ],
   "source": [
    "Comment_upvote= [] \n",
    "title=driver.find_elements(By.ID,'vote-count-middle')\n",
    "for i in title:\n",
    "    try:\n",
    "        Title=i.text\n",
    "        Comment_upvote.append(Title)\n",
    "    except NoSuchElementException:\n",
    "        Comment_upvote.append(\"-\")\n",
    "print(Comment_upvote)\n",
    "len(Comment_upvote)"
   ]
  },
  {
   "cell_type": "code",
   "execution_count": 14,
   "id": "ca79079f",
   "metadata": {},
   "outputs": [
    {
     "name": "stdout",
     "output_type": "stream",
     "text": [
      "['Rishabh Mishra', '', '3 weeks ago', '11 months ago', '4 months ago', '2 months ago', '8 months ago', '5 months ago', '2 months ago', '3 months ago', '2 months ago', '1 year ago', '3 weeks ago', '9 months ago', '1 year ago (edited)', '1 year ago', '3 weeks ago', '3 weeks ago', '8 months ago', '6 months ago', '3 months ago', '6 months ago', '10 months ago', '8 months ago', '10 days ago (edited)', '1 month ago', '10 months ago', '3 months ago', '9 days ago', '2 weeks ago', '11 months ago', '9 months ago', '1 month ago', '1 month ago', '1 year ago', '8 months ago', '8 months ago', '11 months ago', '11 months ago', '4 months ago', '5 days ago', '11 months ago', '8 months ago (edited)', '4 months ago', '3 months ago', '9 months ago', '5 months ago', '9 months ago', '3 months ago', '6 months ago', '7 months ago', '4 months ago (edited)', '10 hours ago', '8 months ago', '1 year ago', '2 months ago', '3 months ago', '1 year ago', '10 months ago', '3 months ago', '6 days ago', '1 year ago', '11 days ago', '9 months ago', '2 months ago', '6 months ago', '2 weeks ago', '1 year ago', '1 year ago', '2 months ago', '7 months ago', '1 year ago', '8 months ago', '5 months ago', '1 year ago', '1 year ago', '2 weeks ago', '1 year ago', '1 year ago', '3 months ago', '7 months ago', '1 year ago', '8 days ago', '1 month ago', '9 months ago', '9 months ago', '9 months ago', '3 weeks ago', '6 days ago', '13 days ago', '1 day ago', '5 months ago', '1 month ago', '3 months ago', '4 months ago', '2 months ago', '3 months ago', '3 months ago', '5 months ago', '8 months ago', '4 months ago', '4 months ago', '5 months ago', '7 months ago', '2 months ago', '5 months ago (edited)', '7 days ago', '5 days ago', '4 months ago', '4 months ago', '6 months ago', '2 months ago', '8 months ago', '4 months ago', '8 months ago', '1 month ago', '1 day ago (edited)', '5 months ago (edited)', '3 weeks ago', '4 months ago', '3 months ago', '7 months ago', '4 months ago', '4 days ago', '3 weeks ago', '7 months ago', '9 months ago', '7 months ago', '3 months ago', '3 months ago', '3 months ago', '3 weeks ago', '8 months ago', '3 weeks ago', '3 months ago', '1 month ago (edited)', '2 months ago', '3 months ago', '12 days ago', '1 month ago', '8 months ago', '5 months ago', '2 months ago', '3 months ago', '4 months ago (edited)', '4 months ago', '3 days ago', '1 month ago', '8 months ago', '4 months ago', '8 months ago', '8 months ago', '2 days ago', '8 months ago', '6 months ago', '8 months ago', '2 months ago', '2 months ago', '2 months ago', '1 month ago', '4 months ago', '2 months ago (edited)', '3 months ago', '6 months ago', '2 days ago', '2 months ago', '1 month ago', '8 months ago', '7 months ago', '8 months ago', '2 months ago', '10 days ago (edited)', '5 months ago', '4 months ago', '1 month ago', '2 months ago', '3 months ago', '10 days ago', '28:10', '1 month ago', '1 month ago', '8 months ago', '6 months ago', '4 months ago', '7 months ago', '3 months ago', '00:02', '00:08', '00:12', '00:18', '', '', '', '', '9 months ago', '2 days ago', '7 months ago', '4 months ago', '6 months ago', '8 months ago', '1 month ago', '9 months ago', '4 months ago', '8 months ago', '8 months ago', '4 months ago', '6 months ago', '6 months ago', '3 months ago', '1 month ago', '9 days ago', '6 months ago', '4 months ago', '1 month ago', '8 months ago (edited)', '7 months ago', '7 months ago', '4 months ago', '4 months ago', '8 months ago', '2 months ago', '1 month ago', '3 months ago', '1 month ago', '8 months ago', '2 months ago', '6 months ago', '3 months ago', '5 months ago', '6 months ago', '2 months ago', '8 months ago', '3 months ago', '8 months ago', '1 month ago', '7 months ago (edited)', '7 months ago', '1 month ago', '3 months ago', '9 months ago', '4 months ago', '3 months ago', '2 months ago', '8 months ago', '3 weeks ago', '1 month ago', '6 months ago', '8 months ago', '2 months ago', '3 months ago', '3 days ago', '9 months ago', '7 months ago', '3 months ago', '4 months ago', '1 month ago', '5 months ago', '2 months ago', '4 months ago', '8 months ago', '7 months ago', '1 month ago', '7 months ago', '1 month ago', '3 months ago', '2 months ago', '7 months ago', '8 months ago', '7 months ago', '6 months ago', '4 months ago', '6 months ago', '8 months ago', '7 months ago', '6 months ago', '1 month ago', '4 months ago (edited)', '5 months ago', '2 months ago', '6 days ago', '5 months ago', '3 months ago', '2 months ago', '1 month ago', '1 month ago', '1 month ago', '7 months ago', '4 months ago', '3 months ago', '1 month ago', '6 months ago', '8 months ago', '1 month ago', '2 months ago', '8 months ago', '8 months ago', '8 months ago', '3 months ago', '9 months ago', '6 days ago', '2 months ago', '6 months ago', '1 month ago', '3 months ago', '1 month ago (edited)', '7 months ago', '7 months ago', '6 months ago', '5 days ago', '2 days ago', '6 months ago', '5 months ago', '1 month ago', '2 months ago', '2 months ago', '9 days ago', '9 months ago', '7 months ago', '4 months ago (edited)', '26:08', '6 months ago', '1 month ago', '8 months ago', '9 months ago', '6 months ago', '7 months ago', '8 months ago', '9 months ago', '5 months ago', '7 months ago', '7 months ago', '6 months ago', '4 months ago', '4 months ago', '7 months ago', '9 months ago', '3 months ago', '8 months ago', '9 months ago', '8 months ago', '1 month ago', '2 weeks ago', '1 month ago (edited)', '3 months ago', '1 month ago', '3 months ago', '7 months ago', '8 months ago', '1 month ago', '7 months ago', '7 months ago', '1 month ago', '7 months ago', '7 months ago', '7 months ago', '5 months ago', '2 weeks ago', '8 months ago', '2 weeks ago', '8 months ago (edited)', '1 month ago', '1 month ago', '6 months ago', '5 months ago', '5 months ago', '6 months ago', '5 months ago', '7 months ago', '6 months ago (edited)', '28:14', '1 month ago', '4 months ago', '7 months ago', '2 months ago', '2 months ago', '5 months ago', '8 months ago', '7 months ago', '3 weeks ago (edited)', '6 months ago', '8 months ago', '6 months ago', '2 months ago', '6 months ago', '2 months ago', '6 months ago', '8 months ago', '6 months ago', '1 month ago', '9 months ago', '1 month ago', '1 month ago', '7 months ago', '6 months ago', '7 months ago', '5 months ago', '8 months ago', '4 months ago', '8 months ago', '7 months ago', '7 months ago', '9 months ago', '3 months ago', '9 months ago', '1 month ago', '1 month ago', '8 months ago', '7 months ago', '7 months ago', '7 months ago', '5 months ago', '2 months ago', '1 month ago', '8 months ago (edited)', '9 months ago', '5 months ago', '6 months ago', '2 months ago', '3 months ago', '4 months ago', '1 month ago', '3 weeks ago', '4 months ago', '2 months ago', '5 months ago', '1 month ago', '5 months ago', '9 months ago', '2 months ago', '7 months ago', '7 months ago', '3 months ago', '2 months ago', '4 months ago', '7 months ago', '7 months ago', '1 month ago', '5 months ago', '2 months ago', '5 months ago', '7 months ago', '8 months ago', '6 months ago', '2 months ago (edited)', '5 months ago', '2 months ago', '1 month ago', '5 months ago', '8 months ago', '7 months ago', '7 months ago', '8 months ago', '2 weeks ago', '2 months ago', '6 months ago', '1 month ago', '2 months ago', '3 weeks ago', '8 months ago', '8 months ago', '3 months ago', '8 months ago', '7 months ago', '4 months ago', '3 months ago', '9 months ago', '9 months ago', '9 months ago', '2 months ago', '7 months ago', '8 months ago (edited)', '9 months ago', '5 months ago', '2 months ago', '1 month ago', '3 months ago', '7 months ago (edited)', '3 months ago', '8 months ago', '5 months ago', '2 months ago', '2 weeks ago', '1 month ago (edited)', '7 months ago', '3 months ago', '1 month ago', '9 months ago', '9 months ago', '8 months ago', '5 months ago', '5 months ago', '3 weeks ago', '8 months ago', '6 months ago', '1 month ago', '7 months ago', '4 months ago', '6 months ago', '2 months ago', '5 months ago (edited)']\n"
     ]
    },
    {
     "data": {
      "text/plain": [
       "500"
      ]
     },
     "execution_count": 14,
     "metadata": {},
     "output_type": "execute_result"
    }
   ],
   "source": [
    "Time=[]\n",
    "title=driver.find_elements(By.XPATH,'//a[@class=\"yt-simple-endpoint style-scope yt-formatted-string\"]')\n",
    "for i in title[0:500]:\n",
    "    try:\n",
    "        Title=i.text\n",
    "        Time.append(Title)\n",
    "    except NoSuchElementException:\n",
    "        Time.append(\"-\")\n",
    "print(Time)\n",
    "len(Time)"
   ]
  },
  {
   "cell_type": "code",
   "execution_count": 15,
   "id": "3fdd0166",
   "metadata": {},
   "outputs": [
    {
     "data": {
      "text/html": [
       "<div>\n",
       "<style scoped>\n",
       "    .dataframe tbody tr th:only-of-type {\n",
       "        vertical-align: middle;\n",
       "    }\n",
       "\n",
       "    .dataframe tbody tr th {\n",
       "        vertical-align: top;\n",
       "    }\n",
       "\n",
       "    .dataframe thead th {\n",
       "        text-align: right;\n",
       "    }\n",
       "</style>\n",
       "<table border=\"1\" class=\"dataframe\">\n",
       "  <thead>\n",
       "    <tr style=\"text-align: right;\">\n",
       "      <th></th>\n",
       "      <th>Comments</th>\n",
       "      <th>Comment_upvote</th>\n",
       "      <th>Time</th>\n",
       "    </tr>\n",
       "  </thead>\n",
       "  <tbody>\n",
       "    <tr>\n",
       "      <th>0</th>\n",
       "      <td>It is more than paid course on Power BI. Very ...</td>\n",
       "      <td>8</td>\n",
       "      <td>Rishabh Mishra</td>\n",
       "    </tr>\n",
       "    <tr>\n",
       "      <th>1</th>\n",
       "      <td>\"Project\" based teaching is the \"solid\" item !...</td>\n",
       "      <td>140</td>\n",
       "      <td></td>\n",
       "    </tr>\n",
       "    <tr>\n",
       "      <th>2</th>\n",
       "      <td>I have created my newsletter report for econom...</td>\n",
       "      <td></td>\n",
       "      <td>3 weeks ago</td>\n",
       "    </tr>\n",
       "    <tr>\n",
       "      <th>3</th>\n",
       "      <td>Thank you so much sir .Your tutorial helped me...</td>\n",
       "      <td>5</td>\n",
       "      <td>11 months ago</td>\n",
       "    </tr>\n",
       "    <tr>\n",
       "      <th>4</th>\n",
       "      <td>BETTER EXPLANATION THAN ANY PAID COURSES I ATT...</td>\n",
       "      <td>36</td>\n",
       "      <td>4 months ago</td>\n",
       "    </tr>\n",
       "    <tr>\n",
       "      <th>...</th>\n",
       "      <td>...</td>\n",
       "      <td>...</td>\n",
       "      <td>...</td>\n",
       "    </tr>\n",
       "    <tr>\n",
       "      <th>495</th>\n",
       "      <td>Rishabh Bhai, thankyou so much</td>\n",
       "      <td>1</td>\n",
       "      <td>7 months ago</td>\n",
       "    </tr>\n",
       "    <tr>\n",
       "      <th>496</th>\n",
       "      <td>the order table which I have downloaded from y...</td>\n",
       "      <td></td>\n",
       "      <td>4 months ago</td>\n",
       "    </tr>\n",
       "    <tr>\n",
       "      <th>497</th>\n",
       "      <td>Really nice Thank you so much</td>\n",
       "      <td>1</td>\n",
       "      <td>6 months ago</td>\n",
       "    </tr>\n",
       "    <tr>\n",
       "      <th>498</th>\n",
       "      <td>Thanks for  your efforts</td>\n",
       "      <td></td>\n",
       "      <td>2 months ago</td>\n",
       "    </tr>\n",
       "    <tr>\n",
       "      <th>499</th>\n",
       "      <td>A big thanks</td>\n",
       "      <td>1</td>\n",
       "      <td>5 months ago (edited)</td>\n",
       "    </tr>\n",
       "  </tbody>\n",
       "</table>\n",
       "<p>500 rows × 3 columns</p>\n",
       "</div>"
      ],
      "text/plain": [
       "                                              Comments Comment_upvote  \\\n",
       "0    It is more than paid course on Power BI. Very ...              8   \n",
       "1    \"Project\" based teaching is the \"solid\" item !...            140   \n",
       "2    I have created my newsletter report for econom...                  \n",
       "3    Thank you so much sir .Your tutorial helped me...              5   \n",
       "4    BETTER EXPLANATION THAN ANY PAID COURSES I ATT...             36   \n",
       "..                                                 ...            ...   \n",
       "495                     Rishabh Bhai, thankyou so much              1   \n",
       "496  the order table which I have downloaded from y...                  \n",
       "497                     Really nice Thank you so much               1   \n",
       "498                           Thanks for  your efforts                  \n",
       "499                                      A big thanks               1   \n",
       "\n",
       "                      Time  \n",
       "0           Rishabh Mishra  \n",
       "1                           \n",
       "2              3 weeks ago  \n",
       "3            11 months ago  \n",
       "4             4 months ago  \n",
       "..                     ...  \n",
       "495           7 months ago  \n",
       "496           4 months ago  \n",
       "497           6 months ago  \n",
       "498           2 months ago  \n",
       "499  5 months ago (edited)  \n",
       "\n",
       "[500 rows x 3 columns]"
      ]
     },
     "execution_count": 15,
     "metadata": {},
     "output_type": "execute_result"
    }
   ],
   "source": [
    "df=pd.DataFrame({\"Comments\":Comments, \"Comment_upvote\":Comment_upvote,\"Time\":Time})\n",
    "df"
   ]
  },
  {
   "cell_type": "code",
   "execution_count": 211,
   "id": "ec07ee6c",
   "metadata": {},
   "outputs": [],
   "source": [
    "driver=webdriver.Chrome()\n",
    "driver.get(\"https://www.hostelworld.com/\")"
   ]
  },
  {
   "cell_type": "code",
   "execution_count": 217,
   "id": "bd4a7591",
   "metadata": {},
   "outputs": [],
   "source": [
    "search_bar=driver.find_element(By.XPATH,\"/html/body/div[3]/div/div/div[2]/div[2]/div[2]/div/div/div/div[1]/div[1]/div/div[2]/input\")\n",
    "search_bar.send_keys('London')"
   ]
  },
  {
   "cell_type": "code",
   "execution_count": 218,
   "id": "f9e32518",
   "metadata": {},
   "outputs": [],
   "source": [
    "London_England=driver.find_element(By.XPATH, '//div[@class=\"label\"]')\n",
    "London_England.click()"
   ]
  },
  {
   "cell_type": "code",
   "execution_count": 219,
   "id": "5b72224a",
   "metadata": {},
   "outputs": [],
   "source": [
    "search_button = driver.find_element(By.XPATH,'//*[@id=\"__layout\"]/div/div[2]/div[2]/div[2]/div/div/div/div[5]/button[2]')\n",
    "search_button.click()"
   ]
  },
  {
   "cell_type": "code",
   "execution_count": 220,
   "id": "14acadee",
   "metadata": {},
   "outputs": [],
   "source": [
    "Hostel_Name=[]\n",
    "Distance_from_city_centre=[]\n",
    "Ratings=[]\n",
    "Total_Reviews=[]\n",
    "Overall_Review=[]\n",
    "Privates_from_price=[]\n",
    "Dorms_from_price=[]\n",
    "Facilities=[]\n",
    "Property_description=[]"
   ]
  },
  {
   "cell_type": "code",
   "execution_count": 221,
   "id": "5d034c1b",
   "metadata": {},
   "outputs": [
    {
     "name": "stdout",
     "output_type": "stream",
     "text": [
      "[\"https://www.hostelworld.com/pwa/hosteldetails.php/Wombat's%20City%20Hostel%20London/London/88047?from=2024-03-23&to=2024-03-26&guests=2\", 'https://www.hostelworld.com/pwa/hosteldetails.php/Palmers%20Lodge%20-%20Swiss%20Cottage/London/14348?from=2024-03-23&to=2024-03-26&guests=2', 'https://www.hostelworld.com/pwa/hosteldetails.php/Onefam%20Notting%20Hill/London/291433?from=2024-03-23&to=2024-03-26&guests=2', 'https://www.hostelworld.com/pwa/hosteldetails.php/Urbany%20Hostel%20London/London/303427?from=2024-03-23&to=2024-03-26&guests=2', 'https://www.hostelworld.com/pwa/hosteldetails.php/NX%20London%20Hostel/London/15204?from=2024-03-23&to=2024-03-26&guests=2', \"https://www.hostelworld.com/pwa/hosteldetails.php/St%20Christopher's%20Village/London/502?from=2024-03-23&to=2024-03-26&guests=2\", 'https://www.hostelworld.com/pwa/hosteldetails.php/Generator%20London/London/510?from=2024-03-23&to=2024-03-26&guests=2', 'https://www.hostelworld.com/pwa/hosteldetails.php/Onefam%20Waterloo/London/39493?from=2024-03-23&to=2024-03-26&guests=2', 'https://www.hostelworld.com/pwa/hosteldetails.php/No.8%20Seven%20Sisters/London/91108?from=2024-03-23&to=2024-03-26&guests=2', 'https://www.hostelworld.com/pwa/hosteldetails.php/Clink261/London/516?from=2024-03-23&to=2024-03-26&guests=2', 'https://www.hostelworld.com/pwa/hosteldetails.php/Safestay%20London%20Elephant%20&%20Castle/London/55551?from=2024-03-23&to=2024-03-26&guests=2', 'https://www.hostelworld.com/pwa/hosteldetails.php/No.8%20Willesden%20Hostel%20London/London/18420?from=2024-03-23&to=2024-03-26&guests=2', 'https://www.hostelworld.com/pwa/hosteldetails.php/Safestay%20London%20Kensington%20Holland%20Park/London/93920?from=2024-03-23&to=2024-03-26&guests=2', 'https://www.hostelworld.com/pwa/hosteldetails.php/Astor%20Hyde%20Park/London/25678?from=2024-03-23&to=2024-03-26&guests=2', 'https://www.hostelworld.com/pwa/hosteldetails.php/Smart%20Russell%20Square%20Hostel/London/29412?from=2024-03-23&to=2024-03-26&guests=2', 'https://www.hostelworld.com/pwa/hosteldetails.php/Smart%20Hyde%20Park%20Inn%20Hostel/London/517?from=2024-03-23&to=2024-03-26&guests=2', 'https://www.hostelworld.com/pwa/hosteldetails.php/Hostelle%20-%20women%20only%20hostel%20London/London/316723?from=2024-03-23&to=2024-03-26&guests=2', 'https://www.hostelworld.com/pwa/hosteldetails.php/YHA%20London%20Oxford%20Street/London/6996?from=2024-03-23&to=2024-03-26&guests=2', 'https://www.hostelworld.com/pwa/hosteldetails.php/Queen%20Elizabeth%20Chelsea/London/50443?from=2024-03-23&to=2024-03-26&guests=2', 'https://www.hostelworld.com/pwa/hosteldetails.php/Astor%20Museum%20Inn/London/520?from=2024-03-23&to=2024-03-26&guests=2', 'https://www.hostelworld.com/pwa/hosteldetails.php/Destinations%20Hostels%20@%20The%20Gallery/London/314563?from=2024-03-23&to=2024-03-26&guests=2', \"https://www.hostelworld.com/pwa/hosteldetails.php/St%20Christopher's%20Inn%20-%20London%20Bridge/London/503?from=2024-03-23&to=2024-03-26&guests=2\", 'https://www.hostelworld.com/pwa/hosteldetails.php/Phoenix%20Hostel/London/48221?from=2024-03-23&to=2024-03-26&guests=2', 'https://www.hostelworld.com/pwa/hosteldetails.php/Kabannas%20London%20St%20Pancras/London/7010?from=2024-03-23&to=2024-03-26&guests=2', \"https://www.hostelworld.com/pwa/hosteldetails.php/St%20Christopher's%20Hammersmith/London/20976?from=2024-03-23&to=2024-03-26&guests=2\", 'https://www.hostelworld.com/pwa/hosteldetails.php/Smart%20Camden%20Inn%20Hostel/London/596?from=2024-03-23&to=2024-03-26&guests=2', 'https://www.hostelworld.com/pwa/hosteldetails.php/Astor%20Victoria/London/524?from=2024-03-23&to=2024-03-26&guests=2', 'https://www.hostelworld.com/pwa/hosteldetails.php/Astor%20Kensington/London/523?from=2024-03-23&to=2024-03-26&guests=2', 'https://www.hostelworld.com/pwa/hosteldetails.php/London%20Backpackers/London/527?from=2024-03-23&to=2024-03-26&guests=2', \"https://www.hostelworld.com/pwa/hosteldetails.php/St%20Christopher's%20Camden/London/505?from=2024-03-23&to=2024-03-26&guests=2\"]\n"
     ]
    },
    {
     "data": {
      "text/plain": [
       "30"
      ]
     },
     "execution_count": 221,
     "metadata": {},
     "output_type": "execute_result"
    }
   ],
   "source": [
    "URL=[]\n",
    "url=driver.find_elements(By.XPATH,'//a[@class=\"property-card-container horizontal\"]')\n",
    "for i in url:\n",
    "    URL.append(i.get_attribute('href'))\n",
    "print(URL)\n",
    "len(URL)"
   ]
  },
  {
   "cell_type": "code",
   "execution_count": 222,
   "id": "8a489885",
   "metadata": {},
   "outputs": [
    {
     "name": "stdout",
     "output_type": "stream",
     "text": [
      "[\"Wombat's City Hostel London\", 'Palmers Lodge - Swiss Cottage', 'Onefam Notting Hill', 'Urbany Hostel London', 'NX London Hostel', \"St Christopher's Village\", 'Generator London', 'Onefam Waterloo', 'No.8 Seven Sisters', 'Clink261', 'Safestay London Elephant & Castle', 'No.8 Willesden Hostel London', 'Safestay London Kensington Holland Park', 'Astor Hyde Park', 'Smart Russell Square Hostel', 'Smart Hyde Park Inn Hostel', 'Hostelle - women only hostel London', 'YHA London Oxford Street', 'Queen Elizabeth Chelsea', 'Astor Museum Inn', 'Destinations Hostels @ The Gallery', \"St Christopher's Inn - London Bridge\", 'Phoenix Hostel', 'Kabannas London St Pancras', \"St Christopher's Hammersmith\", 'Smart Camden Inn Hostel', 'Astor Victoria', 'Astor Kensington', 'London Backpackers', \"St Christopher's Camden\"]\n"
     ]
    },
    {
     "data": {
      "text/plain": [
       "30"
      ]
     },
     "execution_count": 222,
     "metadata": {},
     "output_type": "execute_result"
    }
   ],
   "source": [
    "Hostel_Name=[]\n",
    "title=driver.find_elements(By.XPATH,'//div[@class=\"property-name\"]/span')\n",
    "for i in title:\n",
    "    try:\n",
    "        Title=i.text\n",
    "        Hostel_Name.append(Title)\n",
    "    except NoSuchElementException:\n",
    "        Hostel_Name.append(\"-\")\n",
    "print(Hostel_Name)\n",
    "len(Hostel_Name)"
   ]
  },
  {
   "cell_type": "code",
   "execution_count": 223,
   "id": "ace693eb",
   "metadata": {},
   "outputs": [
    {
     "name": "stdout",
     "output_type": "stream",
     "text": [
      "['- 3.6km from city centre', '- 6.5km from city centre', '- 5.5km from city centre', '- 5.4km from city centre', '- 6.1km from city centre', '- 1.8km from city centre', '- 3km from city centre', '- 0.7km from city centre', '- 9km from city centre', '- 3.2km from city centre', '- 1.7km from city centre', '- 10km from city centre', '- 5.8km from city centre', '- 4.3km from city centre', '- 2.6km from city centre', '- 5km from city centre', '- 5.1km from city centre', '- 2.1km from city centre', '- 5.7km from city centre', '- 2.2km from city centre', '- 1.7km from city centre', '- 1.8km from city centre', '- 4.2km from city centre', '- 3.3km from city centre', '- 7.5km from city centre', '- 4.4km from city centre', '- 1.8km from city centre', '- 4.9km from city centre', '- 11.9km from city centre', '- 4.3km from city centre']\n"
     ]
    },
    {
     "data": {
      "text/plain": [
       "30"
      ]
     },
     "execution_count": 223,
     "metadata": {},
     "output_type": "execute_result"
    }
   ],
   "source": [
    "Distance_from_city_centre=[]\n",
    "title=driver.find_elements(By.XPATH,'//div[@class=\"property-distance\"]/span[2]')\n",
    "for i in title:\n",
    "    try:\n",
    "        Title=i.text\n",
    "        Distance_from_city_centre.append(Title)\n",
    "    except NoSuchElementException:\n",
    "        Distance_from_city_centre.append(\"-\")\n",
    "print(Distance_from_city_centre)\n",
    "len(Distance_from_city_centre)"
   ]
  },
  {
   "cell_type": "code",
   "execution_count": 224,
   "id": "4854b9e5",
   "metadata": {},
   "outputs": [
    {
     "name": "stdout",
     "output_type": "stream",
     "text": [
      "['9.2', '8.7', '9.6', '9.6', '8.9', '7.7', '7.5', '9.6', '7.9', '8.3', '7.4', '7.1', '6.9', '8.2', '7.4', '7.8', '8.6', '9.1', '7.3', '8.4', '9.0', '8.0', '6.4', '8.3', '7.5', '8.5', '7.4', '8.3', '7.7', '7.3']\n"
     ]
    },
    {
     "data": {
      "text/plain": [
       "30"
      ]
     },
     "execution_count": 224,
     "metadata": {},
     "output_type": "execute_result"
    }
   ],
   "source": [
    "Ratings=[]\n",
    "title=driver.find_elements(By.XPATH,'//*[@id=\"__layout\"]/div/div[2]/div[2]/div[1]/div/div/div[6]/div/a/a/div[2]/div[1]/div[@class=\"property-rating\"]')\n",
    "for i in title:\n",
    "    try:\n",
    "        div3 = i.find_element(By.CLASS_NAME,\"number\")\n",
    "        Title=div3.text\n",
    "        Ratings.append(Title)\n",
    "    except NoSuchElementException:\n",
    "        Ratings.append(\"-\")\n",
    "print(Ratings)\n",
    "len(Ratings)"
   ]
  },
  {
   "cell_type": "code",
   "execution_count": 225,
   "id": "fde5d318",
   "metadata": {},
   "outputs": [
    {
     "name": "stdout",
     "output_type": "stream",
     "text": [
      "['(16108)', '(16039)', '(2684)', '(1181)', '(2228)', '(12952)', '(8126)', '(220)', '(4207)', '(564)', '(5309)', '(5229)', '(1826)', '(12356)', '(10243)', '(6817)', '(140)', '(4715)', '(3730)', '(9476)', '(346)', '(3621)', '(4655)', '(2998)', '(4422)', '(3157)', '(15117)', '(6601)', '(4582)', '(4148)']\n"
     ]
    },
    {
     "data": {
      "text/plain": [
       "30"
      ]
     },
     "execution_count": 225,
     "metadata": {},
     "output_type": "execute_result"
    }
   ],
   "source": [
    "Total_Reviews=[]\n",
    "title=driver.find_elements(By.XPATH,'//span[@class=\"left-margin\"]')\n",
    "for i in title:\n",
    "    try:\n",
    "        Title=i.text\n",
    "        Total_Reviews.append(Title)\n",
    "    except NoSuchElementException:\n",
    "        Total_Reviews.append(\"-\")\n",
    "print(Total_Reviews)\n",
    "len(Total_Reviews)"
   ]
  },
  {
   "cell_type": "code",
   "execution_count": 226,
   "id": "bd1891df",
   "metadata": {},
   "outputs": [
    {
     "name": "stdout",
     "output_type": "stream",
     "text": [
      "['Superb', 'Fabulous', 'Superb', 'Superb', 'Fabulous', 'Very Good', 'Very Good', 'Superb', 'Very Good', 'Fabulous', 'Very Good', 'Very Good', 'Good', 'Fabulous', 'Very Good', 'Very Good', 'Fabulous', 'Superb', 'Very Good', 'Fabulous', 'Superb', 'Fabulous', 'Good', 'Fabulous', 'Very Good', 'Fabulous', 'Very Good', 'Fabulous', 'Very Good', 'Very Good']\n"
     ]
    },
    {
     "data": {
      "text/plain": [
       "30"
      ]
     },
     "execution_count": 226,
     "metadata": {},
     "output_type": "execute_result"
    }
   ],
   "source": [
    "Overall_Review=[]\n",
    "title=driver.find_elements(By.XPATH,'//*[@id=\"__layout\"]/div/div[2]/div[2]/div[1]/div/div/div[6]/div/a/a/div[2]/div[1]/div[@class=\"property-rating\"]')\n",
    "for i in title:\n",
    "    try:\n",
    "        div3 = i.find_element(By.CLASS_NAME,\"keyword\")\n",
    "        Title=div3.text\n",
    "        Overall_Review.append(Title)\n",
    "    except NoSuchElementException:\n",
    "        Overall_Review.append(\"-\")\n",
    "print(Overall_Review)\n",
    "len(Overall_Review)"
   ]
  },
  {
   "cell_type": "code",
   "execution_count": 227,
   "id": "23e02789",
   "metadata": {},
   "outputs": [
    {
     "name": "stdout",
     "output_type": "stream",
     "text": [
      "['₹24,486', '-', '₹11,704', '₹10,169', '₹18,666', '-', '₹14,423', '₹11,367', '-', '-', '₹17,534', '₹3,171', '-', '-', '-', '-', '-', '₹8,999', '-', '-', '-', '-', '-', '-', '-', '-', '₹7,199', '-', '₹8,293', '-']\n"
     ]
    },
    {
     "data": {
      "text/plain": [
       "30"
      ]
     },
     "execution_count": 227,
     "metadata": {},
     "output_type": "execute_result"
    }
   ],
   "source": [
    "Privates_from_price=[]\n",
    "title=driver.find_elements(By.XPATH,'//*[@id=\"__layout\"]/div/div[2]/div[2]/div[1]/div/div/div[6]/div/a/a/div[2]/div[4]/div/div[1]')\n",
    "for i in title:\n",
    "    try:\n",
    "        div3 = i.find_element(By.CLASS_NAME,\"current\")\n",
    "        Title=div3.text\n",
    "        Privates_from_price.append(Title)\n",
    "    except NoSuchElementException:\n",
    "        Privates_from_price.append(\"-\")\n",
    "print(Privates_from_price)\n",
    "len(Privates_from_price)"
   ]
  },
  {
   "cell_type": "code",
   "execution_count": 228,
   "id": "463f8b52",
   "metadata": {},
   "outputs": [
    {
     "name": "stdout",
     "output_type": "stream",
     "text": [
      "['₹3,757', '₹2,468', '₹3,934', '₹3,168', '₹3,880', '₹1,717', '₹3,278', '₹3,129', '₹1,590', '₹2,547', '₹2,441', '₹1,449', '₹1,693', '₹1,849', '₹2,039', '₹1,944', '₹2,795', '-', '₹1,611', '₹2,047', '₹4,147', '₹2,457', '₹1,681', '₹2,739', '₹1,787', '₹2,817', '₹1,835', '₹1,990', '₹1,676', '₹2,070']\n"
     ]
    },
    {
     "data": {
      "text/plain": [
       "30"
      ]
     },
     "execution_count": 228,
     "metadata": {},
     "output_type": "execute_result"
    }
   ],
   "source": [
    "Dorms_from_price=[]\n",
    "title=driver.find_elements(By.XPATH,'//*[@id=\"__layout\"]/div/div[2]/div[2]/div[1]/div/div/div[6]/div/a/a/div[2]/div[4]/div/div[2]')\n",
    "for i in title:\n",
    "    try:\n",
    "        div3 = i.find_element(By.CLASS_NAME,\"current\")\n",
    "        Title=div3.text\n",
    "        Dorms_from_price.append(Title)\n",
    "    except NoSuchElementException:\n",
    "        Dorms_from_price.append(\"-\")\n",
    "print(Dorms_from_price)\n",
    "len(Dorms_from_price)"
   ]
  },
  {
   "cell_type": "code",
   "execution_count": 239,
   "id": "19db2c5b",
   "metadata": {
    "scrolled": true
   },
   "outputs": [
    {
     "name": "stdout",
     "output_type": "stream",
     "text": [
      "[\"A safe haven in the middle of the metropolis: We took a traditional brick building with roots dating back to the 1800s and set a new standard for hostel life in the UK.\\nWhat was once sailors' accommodation is now a hostel that caters for all the needs of the modern traveller. With great attention to detail, we have created a hostel in London that celebrates the heritage of our historic building.\\nThe old oak that once formed part of sturdy ships and churches is now immortalised in our furnishings throughout the house. The beers you drink here will be served on a bar made from 500 year old wood!\\n\\nOur Wombat's City Hostel is located in the London Borough of Tower Hamlets, right next to the famous Tower Bridge and Tower of London, charming markets, authentic pubs and many other places of historical interest.\\nA short walk will take you to trendy Shoreditch with its vibrant street art, the lively nightlife of Hoxton Square and Old Street and finally Brick Lane, which has become one of the most popular spots.\\nAll other London attractions are easily accessible by public transport: Aldgate East and Tower Bridge underground and DLR stations are just a stone's throw away. \\n\\nAfter a long and exciting day in London, our hostel awaits you with a cosy courtyard, a spacious lobby with our own Wombat's Cafe (exclusive Wombat's Roast included) and womBAR. Here you can relax and enjoy our always unexpected offers.\\nAll rooms are equipped with en-suite bathroom and private lockers. \\n\\nIncludes:\\n- Bed linen.\\n- WiFi.\\n- Our own Wombat's city maps.\\n- Wombat's Café.\\n- The womBAR for endless parties.\\n- A guest kitchen open to all who want to satisfy their own culinary needs.\\n- 24/7 reception.\\n- Secure luggage storage.\\n- Rental items (umbrellas, hairdryers, adaptors: everything a traveller could need).\\n- Coin-operated laundry facilities (washing and drying), so you can revitalise your clothes!\\n\\nOur famous Tasty Brekkie buffet guarantees you enough energy for your exciting day in London. You can buy breakfast for an economical price at reception.\\n\\n(Minimum age 18 years).\\n\\nNON-REFUNDABLE RESERVATIONS:\\n* Full payment is required at the time of booking and is non-refundable.\\n* If you leave early, cancel or do not honour this booking, you will not be refunded.\\n* Any extension of this stay requires a new booking for the additional dates, subject to availability and current rates.\\n\\nIn the event of invalid credit card details, you will be contacted by our team. You will have 48 hours to provide valid credit card details, otherwise we reserve the right to cancel the booking.\", \"Whether you're a backpacker, flash-packer or a budget traveller, Palmers Lodge has everything you need for one of the most unique experiences in London! Combining the grand charm of our historic building constucted in 1882, our friendly team and accessible location, Palmers Lodge has it all. \\n\\nSwiss Cottage boasts not only a fantastic London city location and building but our services are unbeatable! We have a 24 hour reception so you can be assured we are always there when you need us, you can meet other like-minded travellers downstairs at Swiss Bar - taking advantage of our selections of drinks and snacks.\\n\\nAn added bonus is that beds are pre-made and come with linen all for free, so the late arriving lodger can jump straight into bed, or the bar! We also offer free Wi-Fi throughout the hostel so you can stay in touch with the rest of the world and explore what's on in London! \\n\\nIt is easy to forget when you stay at Swiss Cottage that there is a vibrant city just outside waiting for you! We are close to the underground (tube to the locals) so you can be in any of London's hotspots within minutes! If it's shopping you're looking for, the tube will take you directly from Swiss Cottage Station to the centre of Oxford Street (15 mins) or you can shop till you drop at Europe's largest shopping centre Westfield. You could also have a drink or two in Leicester Square (15 mins) take a spin on the London Eye (20 mins) or spot Kate and William at Buckingham Palace (10 mins) all this and more with the tube from Swiss Cottage Station or Finchley Road only 200 metres away! \\n\\nAward winning Hostel, winning or being a finalist for “Best Customer Service” and 'Best UK Youth Accommodation' (2012, 2013, 2015) by the British Education Travel Association, among our several other awards. \\n\\nJust some of our facilities and services:\\n▪ 24 hour reception and staff\\n▪ Check in time 2 pm\\n▪ Check out time 10 am\\n▪ Key-card door access\\n▪ Free safes and luggage lockers in every room\\n▪ En-suite rooms available\\n▪ Coach and car parking available (£10.00)\\n▪ Full CCTV coverage for added security\\n▪ Free linen and beds which are pre-made\\n▪ Bar and late night lounge areas\\n▪ Reading, conservatory and quiet rooms\\n▪ Lift\\n▪ Large selection of rooms including double, twin and dormitory rooms\\n▪ Ground floor reception and rooms\\n▪ Luggage storage for hire\\n▪ Photocopy facilities\\n▪ Free Wi-Fi\\n▪ Washing and drying facilities available\\n▪ Souvenirs and toiletries sales at reception\\n\\nNote that this property has a maximum stay of 14 nights. No guests can stay longer than 14 total nights within any 6-month period.\\n\\nAll under 18's must be accompanied by an adult and have a written approval from parents with a copy of their passport or I.D. If staying in a single sex dorm room the adult and child must be the same gender. Please note under 16's are not allowed to stay in dorm rooms. You must book a private room.\\n\\nBookings for 15 or more people qualify as group reservations and are subject to different Terms and Conditions. Please contact the property/hostel directly for more information.\\n\\nPlease note that reservations for the night of the 31st December will be subject to a no-cancellation policy.\\n\\nThis property has a 24 HR cancellation policy. Bookings will need to be cancelled via email by 2 pm of the previous day the guest is supposed to arrive. \\nFailure to cancel within this time will result in a cancellation charge equal to the first night of your stay. \\n\\nReservations for any Guests that fail to arrive for check in between 2pm on their Date of Arrival, up until 5am the next day will be subject to complete cancellation of their reservation and also subject to a one-night cancellation charge unless the property have otherwise been informed of a late/delayed arrival and have also approved an amended check-in time and date. \\n\\nGuests are reminded that once they have paid on the day of check-in, no refunds will be issued.\\n\\nBookings for 15 or more people qualify as group reservations and are subject to different Terms and Conditions. Please contact the property/hostel directly for more information.\\n\\nPalmers Lodge reserve the right to preauthorise Guests cards for prior to arrival. During times of extremely high demand, all reservations are required to have been made with a valid, chargeable card. Any reservations without a valid, chargeable card may be cancelled by Palmers Lodge at any given time.\", \"The perfect place for solo travelers to connect, explore and party! Join the Onefam Family and let us show you the beautiful city of London!\\n\\nWhat really makes our hostel unique and what has helped us win HostelWorld awards year after year, are our amazing team and incredibly social atmosphere.\\nOur staff are travelers just like you, but we are not just here to party. We will cook you dinner, take you on daytime adventures, and share our expert knowledge of the city.\\n\\nIf you still need more convincing, our location is in the absolute heart of Notting Hill (surely you have seen the film!), one of London's most beautiful neighborhoods. We are walking distance from many major tourist attractions such as Portobello Market, Hyde Park & Kensington Palace!\\n\\n- WHY US? \\nSocial but responsible.\\nDay and night, we have free activities for our Onefam guests. At Onefam you arrive as a solo traveler and you leave with a family.\\n\\n- OUR FACILITIES\\nSleep well, feel well & make friends.\\n\\n. Fully equipped kitchen.\\n. Terrace area.\\n. Common areas all designed for different moods. To relax, to work or to party.\\n. Laundry facilities to keep you smelling fresh.\\n. Personal lockers, outlets and light in all rooms.\\n. No curfew, so you can come and go 24 hours per day as you please.\\n\\n- CANCELLATION POLICY \\nThis property has a 2 day cancellation policy. Failure to cancel within this time will result in a cancellation charge equal to the first night of your stay.\\n\\nNon-refundable rates: If your booking is non-refundable. If you choose to cancel your booking, or in the case of a no-show, you will still be charged the full cost of your booking.\\n\\n- POLICIES & CONDITIONS\\nCheck-in from 3:30 PM to 11:30 PM. For late check-in, please email the hostel in advance. \\nCheck-out at 11 AM \\n\\n-SEVEN DAYS LIMIT \\nWe have a limit of 7 days to stay per guest, whether that be in the same reservation or divided in different ones. \\n\\n-Age Limit \\nWe have an age limit of 18 - 36 years old. If you are outside of this age range upon arrival to the hostel, we have the right to cancel your booking without refund of your deposit, as well as charging the applicable cancellation fee.\\n\\nWe look forward to greeting you in London!\", \"Welcome to Urbany Hostel London! Ideal for the solo traveller, we offer you a perfect spot to explore the city, make friends, party and feel at home.\\n\\nWe are a social youth hostel (for travellers 18 - 40 years) located in Notting Hill; a cosmopolitan and multicultural neighbourhood where you can easily walk to Portobello Market, Hyde Park and Kensington palace, a few of the most popular sites in London.\\n\\nSet in a Victorian terraced house built in the 1800s, offering a cosy social lounge, fully equipped kitchen, large outdoor terrace and indoor dining area. We are the perfect balance to relax, party and or work. For anyone travelling with heavy luggage, it is important to note that there are 4 floors with no elevator . \\n\\nFEEL THE URBANY VIBE:\\n\\nOur staff members are just like our guests, friendly, sociable, international and incredibly helpful! They will make sure you know your way around the city.\\n\\nWe offer a range of daily activities around London; from pub crawls, nights out and FREE dinners on selected days. \\n\\nWe have a variety of shared mixed dormitories, whilst also offering private rooms for those who prefer not to share.\\n\\nFree high-speed Wi-Fi is available everywhere, even in your room.\\n\\nLuggage storage is also available for free if you arrive before check-in or are leaving after check-out (only for the day).\\n\\nWe offer: towel rental (2 GBP) and basic laundry service wash/dry (7 GBP).\\n\\n24/7 CCTV throughout the whole building for added security.\\n\\n\\nCHECK - IN POLICIES\\n\\n- ALL our guests must be between 18 - 40 YEARS. If you are outside of this age range upon arrival to the hostel, we have the right to cancel your booking without refund of your deposit, as well as charging the applicable cancellation fee.\\n\\n- A physical VALID government issued ID, Passport, Driving license, and National identity cards (No paper or phone copies) is required to stay with us.\\n\\n-Please ensure your arrival time is between 8 AM - 11 PM. Alternatively please let us know if you will be arriving outside these hours. \\n\\n-Check in to rooms is from 3 PM - 11 PM\\n-Check out before 11 AM\\n\\nWe do require a £10 CASH key deposit (which you will receive back upon return). Ours key's have 24/7 access so there is no curfew - you can get in and out as much as you like.\\n\\nWe can't wait to welcome you to our wonderful home and enjoy this amazing city!\", 'Welcome to NX London Hostel!\\n\\nPLEASE READ INFORMATION BELOW IN FULL\\n\\nNX London offers Budget accommodation close to a station and a 24hrs service bus stop. We\\'re among the cheapest hostels in London that offer you FREE breakfast, FREE High speed Wi-Fi, FREE linen and towels, FREE food cupboard and FREE refreshments. We strive to offer value for money but LET\\'S BE REAL, don\\'t come to us with expectations of a boutique Hostel or an affordable Hotel. \\n\\nWe\\'re located close to New Cross Gate or New Cross Tube/ Train lines with easy access to London Bridge or connection to the Jubilee Line. We are also a short bus ride (15 minutes) away to the O2, if you are coming to London for a concert or event.\\n\\nFACILITIES:\\nReception is open 4:00pm to 1:00am (please DO NOT try to arrive prior to this hours unless early check-in or luggage drop are arranged in advance)\\nLuggage storage £5 per luggage per day and needs to be pre-arranged\\nFree High-speed Wi-Fi \\nFree Breakfast\\nFree Food cupboard\\nFree refreshments\\nFree linen and towels \\nFree ear plugs (For light sleepers)\\nSecure Lockers (Chargeable £2/day)\\nSelf Catering Kitchens.\\nCommon Room with Digital TV.\\nBoard-games (to borrow with a refundable deposit)\\nEarly check-in (subject to availability) starts at 1:00pm and needs to be arranged and paid in advance with surcharge of £10 per person\\nLate check-in (1:00am-3:00am) needs to be arranged and paid in advance with surcharge of £10 per reservation\\nLate check-out (subject to availability) up to 3:00pm and needs to be arranged and paid in advance with surcharge of £15 per person plus a full night stay if not pre-arranged the night before. \\n\\nMINORS POLICY: \\nWe do not accept customers under 18 years old unless they are part of a group staying in a private room with a guardian above 25 years old. Children under 6 years of age are not allowed under any circumstances. If your booking includes minors, you have to email prior processing a reservation in order to confirm ages and provide written parental consent (if applicable), otherwise you will be refused the accommodation with no refunds (a partial voucher could be provided for a future stay). Any issue has to be addressed directly at Reception by the adult guests acting as guardians for the underline reservation. We do not offer child care services and we are not responsible for any minor staying at our property. We cater primarily to adult guests and expect everyone to behave responsibly and respectfully at all times. Third party complains will be automatically dismissed. \\n\\nPREPAYMENT:\\n*All reservations must be PREPAID the day of booking and are NON REFUNDABLE. \\n*Unpaid reservations WILL BE SUBJECT TO AVAILABILITY AND MIGHT INCUR A 20%-40% SURCHARGE if they\\'re not fully paid upon reserving. \\nAll of our reservations are NON-REFUNDABLE regardless of circumstances. This includes, but is not limited to, cancellations made by the guest, changes in travel plans, bonafide errors, medical emergencies, bereavement or any other reasons for not being able to stay at the property. By making a reservation, you agreed to this NON-REFUNDABLE policy and acknowledged that you shall not be entitled to receive a refund for any reason. We kindly ask all of our guests to consider this policy before making a booking and ensure that their travel plans align with the hostel\\'s terms and conditions. However, if you need to cancel before your arrival day, you can request a partial courtesy voucher to use in the future at the Manager\\'s discretion.\\n\\nPUB NEXT DOOR:\\nThe Pub next door to the hostel often features live music / DJs. Please note that, since this is a well known live music venue, things can get noisy on the Hostel\\'s lower levels. If that\\'s a concern please request ear plugs (provided free or charge) or an upper floor room upon reserving (subject to availability). This is a separate business and we don’t have any affiliation with them. \\n\\nWHAT TO EXPECT:\\n*Our Standards are in line with the accommodation type we offer (BUDGET HOSTEL). The NX London is not a Hotel, the shared nature of our dormitory rooms might occasionally result into clutter. Bathrooms are located in the hallways and partaken with other guests, some wait-time might be required on peak times. \\n*In order to maintain our prices low, we kept \"on location amenities\" to a minimum: There are no toiletries, air conditioning and/or a mini-bar in the rooms. We feature a mix of long term and leisure guests, this gives the ambience a uniquely quirky character, as a consequence it would be impossible to meet everybody\\'s taste. Discriminatory comments or behavior won\\'t be tolerated.\\n*Our 10 bed dorm can host up to 10 guests! If you\\'re not comfortable sharing the space with that many people (and their belongings) please consider booking a different dorm or request an upgrade with price difference (subject to availability). \\n* The hostel is primarily designed for adults and we expect our guests to act in a responsible and respectful manner at all times. \\n* Upon reserving, you agree and acknowledge that our staff is trained to enforce our policies and procedures in a firm and assertive manner, holding everybody to a high standard of behavior and with zero-tolerance policy for any breaches. If they instruct you to follow a particular rule or procedure, we kindly request that you comply with their directions. We ask that guests understand that repeated breaches of policy can put a strain on our staff. \\n* Being uncomfortable with a high level of enforcement or the manner in which our staff members communicate shall not constitute grounds for a complain.\\n\\nADDITIONAL INFORMATION:\\n*Reception ONLY opens 4:00pm to 1:00am. \\n*Property is not wheelchair accessible*\\n*We do not accept customers over 65 years old unless they are part of a group staying in a private room. We reserve the right to refuse your accommodation at any stage according to the manager discretion. \\n *Groups of 9 guests or more need to send group request.\\n* Check-in time is from 4:00pm-1:00am. Guests arriving between 1:00am-3:00am need to email at least 24hrs in advance to confirm their reservation, pay their late arrival fee and fill out the required online check in form in order not to be be considered a no show.\\nPlease note that in case of no-show, the underlining reservation would be forfeited in accordance to policy (where an applicable 100% cancelation fee shall apply) Any new booking resulting from a no-show would be subject to availability and a £20 re-booking fee. If you fail to pre-arrange late check in or arrive by 1:00am the reservation will be considered a no show with applicable charges.\\n*No-Shows and Early check-outs will always result into a full (100%) charge and shall never constitute basis for a monetary refund regardless of circumstances. A transferable courtesy credit voucher, to be redeemed at our property might be offered at the Manager\\'s discretion.\\n*We DO require a valid ID for all arrivals including UK/EU residents. Expired ones or without a clear or damaged photo are not valid to check-in. \\n*A refundable £10.00 Key Deposit shall be required upon arrival.\\nShould loss of any key reasonably require a locksmith to be called and/or locksmith services to be carried out, guests shall be liable for any locksmith\\'s fees.\\nUpon departure guests should use the express check-out box located by the entrance to drop their key sets, where the corresponding deposit would be refunded directly to the payment method on file for the booking. Those whom wish to check-out early, or retrieve their key deposit in cash, are invited to report to Reception before 1:00 AM the night prior to leaving.', \"St Christopher's Inn at The Village in London Bridge is the UK's first capsule hostel. Its brand new rooms have been specially designed for our guests to get the best night sleep possible before they wake up in amongst one of London's most vibrant areas. \\n\\nVoted as one of the best party hostels in the world, our multi-award winning hostel offers guests Japanese-style capsule beds with USB ports, cool mood lighting and curtains for privacy. We even have new private rooms with one having an awesome view of the Shard right outside! There is a continental breakfast available every morning for just £5 a day which can be purchased at reception on arrival.\\n\\nStep out the door and you'll be just a short walk away from the London Eye, Tower Bridge and the oldest food market in the city, Borough Market. We're also only a two minute walk from TWO tube stations so getting anywhere in London couldn't be easier. \\n\\nParty into the night in our hostel party bar Belushi's, head down to the Dugout to watch live sports and indulge in our legendary burgers with a discount for all our guests.\\n\\n*Please note that we require an in date government approved - drivers license, passport or national ID card at check-in.\\n\\n**Guests under the age of 18 must stay in a private room with guardians. They cannot share in general dormitory rooms with people who are not part of their own group or family. Legal guardians must be over 21. Under-18s are not allowed in the bars or pubs.\\n\\n***The maximum stay policy is 7 days\\n\\n****Please note: non-refundable reservations will be fully charged at the time of booking.\", \"Generator London is a design hotel-hostel located in Russell Square in the heart of central London, a short stroll to Covent Garden, Regents Park and trendy King's Cross. Guests can choose from shared dorms to private rooms, offering something for everyone. Complete with 24-hour reception, free wifi, cafe and bar Generator is a fun and affordable choice in London.\\n\\nGenerator London was the very first Generator and you'll find it in the area of Russell Square in the heart of the West End. \\n\\nIt's the ideal spot to enjoy London from, everything you need to see is minutes away by tube. You'll never run out of things to do in the UK's capital. You just have to decide where to start and we can help you with that. When you have seen and done it all for the day head back to Generator and unwind. \\n\\nIt's a destination in its own right and a great place to socialise and reflect on your experiences of the day. Head to the bar and chill out areas to get yourself a well deserved drink or two. It's lively, friendly and un-missable. We've also got great beds for sleepy heads and of course you'll be enjoying London life in the most authentic surroundings. \\n\\nChoose from a great selection of rooms, from Dorms, to Quads, to Private rooms with innovative mod cons. Fast and free Wi-Fi is all yours too. To get the most out of your stay visit the travel shop and our city experts will help you devise an itinerary that will take you to all the hidden treasures this dynamic city has to offer. You'll have to stay longer to fit it all in but you'll not need convincing of that. We'll see you there soon.\", 'Come join us at our newest Onefam location in central London! If you’re looking for a place to make friends for life and explore this amazing city look no further! \\n\\nWhat makes our hostel unique is our ability to bring people together and create amazing experiences for our guests because we are an extremely social hostel. \\n\\nOur super friendly staff offers amazing day tours to the many beautiful attractions in London as well as a free dinner cooked by the staff and nights out to remember forever! \\n\\nIf you still need some convincing, our location is super central which provides quick transportation to anywhere you want to visit in the city via the tube! We are right near the beautiful Thames River, the London Eye, the Imperial War Museum (one of the best in London), Westminster Abbey, Sealife Aquarium and Big Ben along with other hidden gems! \\n\\nWHY US? \\nSocial but responsible.\\nDay and night, we have free activities for our Onefam guests. At Onefam you arrive as a solo traveler and you leave with a family.\\n\\n- OUR FACILITIES\\nSleep well, feel well & make friends.\\n. Fully equipped kitchen.\\n. Terrace area\\n. Big common area designed for different moods. To relax, to work or to socialize with other guests.\\n. Personal lockers, outlets and light in all rooms.\\n. No curfew, so you can come and go 24 hours per day as you please. \\n\\n- CANCELLATION POLICY \\nThis property has a 2 day cancellation policy. Failure to cancel within this time will result in a cancellation charge equal to the first night of your stay.\\nNon-refundable rates: If your booking is non-refundable. If you choose to cancel your booking, or in the case of a no-show, you will still be charged the full cost of your booking.\\n\\n- POLICIES & CONDITIONS\\nCheck-in from 3:30 PM. For late check-in, please email the hostel in advance. \\nCheck-out at 11 AM \\n\\n-SEVEN DAYS LIMIT \\nWe have a limit of 7 days to stay per guest, whether that be in the same reservation or divided in different ones. \\n\\n-Age Limit \\nWe have an age limit of 18 - 36 years old. If you are outside of this age range upon arrival to the hostel, we have the right to cancel your booking without refund of your deposit, as well as charging the applicable cancellation fee.\\n\\nWe look forward to greeting you in London!', \"For Great Facilities, Comfort & Affordability you can't go past No.8 Seven Sisters! We provide Excellent Service and ensure that all of our Guests get Everything they want from their time in London. We cater exclusively for the Young & Young at Heart Backpacker 18-48, Photo IDs are required on Check In, as we have Entertainment on Weekends and operate a Very 'Bustling' and Social Hostel.\\n\\n- Free WiFi\\n- Full Facility Kitchen\\n- Secure Storage Facilities & 24Hr Key Card Access\\n- Pool Table & Darts Board\\n- Satellite TV\\n- Traditional English Pub & Beer Garden\\n- Entertainment on Weekends!\\n- Young & Young at Heart Backpackers 18-48 Years Old Only.\\n- Payment by Cash only on Check in. (Credit cards not accepted)\\n- £20 Key Deposit (Fully Refunded On Check-Out)\\n- No refunds are made following Check-In. \\n- Groups of 8 or less only. Facilities cannot cater for larger groups unfortunately.\\n\\nReception is open from 9:30am-11pm. Check in is from 12pm. PLEASE NOTE that Check In will NOT be possible outside these hours. If you are running late or will be arriving slightly outside our reception hours, please contact us to see if there is a possibility of us accommodating your arrival outside of opening hours.\\n\\nAs guests arrive and depart at varying times and numbers, it is impossible for us to guarantee that all group bookings can be allocated in one room together. Nevertheless we always try to keep groups together.\\n\\nWhether it is your first time in London or you are a seasoned traveller, No.8 has everything you need (and a few extras) and will ensure that your stay in London is definitely Enjoyable & Comfortable!\\n\\nWe look forward to Welcoming you at No.8 Seven Sisters!\", \"Welcome to Clink261!\\n\\nClink261 is a comfortable, centrally located hostel just 5 minutes walk from King's Cross Tube and St. Pancras International Station; London's main transport hub. The hostel offers free Wi-Fi throughout the building.\\n \\nClink261 opened its doors 20 years ago. It's come a long way since then, but it's still got that laid-back feel that backpackers love. Staying at Clink261 feels a bit like coming home. With a self-catering kitchen, friendly staff, and comfortable sofas, it's a welcoming place to return to after a day of city exploration. The old Student Union building has been brought to life with unique British-themed interiors.\\n \\nClink261 has shared dormitory style accommodation along with girls' only dorms and private rooms. All bunk beds have individual reading lights, a USB/electric port to charge up your devices and a locker (sizes vary from room to room, bring your own padlock). Towels are included in private rooms and available to others for a small fee. \\n \\nReception is open 24/7 and offers discounted tickets on tours and attractions. The friendly team will be happy to help with any questions.\\nPlease note Clink261 is a cashless hostel. All guests must present a debit/credit card on check-in with the name of the person staying at Clink261.\\n \\nKing's Cross is a bustling and creative area of London. Famous gig venue 'Water Rats' is nearby, an open-air swimming pool is just the other side of King's Cross station (only for the brave!). 'Kerb' Street Food Market is held regularly in Granary Square. The British Museum and Camden Market are a 25-30 minutes walk away and all of London's big sights are easily reached on public transport. At just five minutes walk from King's Cross Underground, Clink261's location is hard to beat. \\n\\nPARKING\\nWe don't have any parking spaces directly at the hostels, unfortunately. However, parking is available at the nearby NCP car park. The address is:\\nJudd Street NCP Car Park, Judd Street, St. Pancras, WC1H 9QR.\\nThe car park is open from: 05:00-23:00. Height restriction is: 1.9m\\nParking charges are as follows:\\n2 hours £10.00\\n4 hours £20.00\\n24 hours £28.00\\nYou can pre-book online at the NCPs website.\\n \\nPlease make sure to read the hostel's Terms & Conditions before booking. \\nSpecial conditions apply for group bookings (10 guests or more), please contact the hostel directly.\\n\\nIf you wish to cancel or amend your reservation and avoid full charges for your booking, please ensure you notify us by email as soon as possible and at least 24 hours prior to your arrival date notice. Passed this time, we are afraid full charges will incur.\", \"Safestay at Elephant & Castle is ideal if you are looking for budget accommodation in London, whether you see the sights in this amazing city or travelling with your family. If Tate Modern, the National Theatre, The Imperial War Museum, the London Aquarium, the London Dungeon, a cricket match at the Kia Oval or clubbing at the world-famous Ministry of Sound are on your must-do list, Safestay London Elephant & Castle is perfectly located.\\n\\nOur beautiful 18th-century Georgian building is centrally located, close to London's mighty River Thames and the restaurants, bars and cafes the Southbank is famed for, along with the London Eye, Borough Market and Shakespeare's Globe Theatre. It's secure, stylish, comfortable and fun, with an illuminated garden for you to relax in.\\n\\nSo if you're after budget accommodation in London, bringing a group of school children to study the sights or want something different from the usual options in London, why not try this fantastic hostel out for size.\\n\\nClose to all the big London tourist attractions, our staff will happily help you plan your visit and give you top tips on what is happening in London during your stay.\\n\\nSee these London landmarks within 6 stops of the hostel using the Underground:\\n. Oxford Street\\n. Piccadilly Circus\\n. Leicester Square\\n. Covent Garden\\n. Westminster Abbey\\n. Big Ben & the Houses of Parliament\\n. Buckingham Palace\\n. St Paul's Cathedral\\n. The Tower of London and Tower Bridge \\n\\nAttractions: We sell discounted and fast track entrance tickets to some of London's most famous sights and best kept secrets. Including the London Eye, Madame Tussauds, The Tower of London, Walking tours, Bike tours, boat trips, and many more.\\n\\nHostel Activities: We organise fun stuff for you to do nearly every day of the week! Such as Free Walking tours, top-rated Pub Crawls, Group trips to famous West End Shows, Jet boating on the Thames\\n\\nThe hostel also offers free Wi-Fi, weekly activities, breakfast service, meals & snacks and it is open 24 hours a day.\\n\\nGuest will be required to show an official ID with photo at upon arrival. \\n\\nPerson under the age of 18 years are only allowed to stay in private rooms or dormitory rooms that are booked for use of one family or group of persons, and can't share a dormitory rooms with other guests. People under 18 years of age must travel with their parents or legal guardian.\\n\\nBREAKFAST\\nEnjoy our packed breakfast served between 7:00 am and 10:00 am at additional cost\\n\\nTravelling with children? Cots are available on request. Please contact the hostel in advance to arrange.\\n\\nPolicies & Conditions:\\n\\nCheck in from 15:00.\\nCheck out before 10:00.\\n\\nPayment upon arrival only by credit/debit cards. \\n\\n\\n WHY STAYING WITH US ?\\n\\n- The electronic lock on the door\\n- High quality white linen\\n- Outdoor terrace \\n- Individual lockers\\n- Big common space\\n- Luggage room (additional cost applied)\\n- Laundry (additional cost applied)\\n- Free Wi-Fi \\n- Organized events \\n- 24/7 Reception. No curfew.\\n- Child friendly. Non smoking.\\n\\nFOR GROUPS:\\nPlease note that for the group bookings for more than 10 people, different prepayment policies may apply. Please note that if the reservations are made for 10 guests, the hostel has a right to charge the prepayment from the card. Large groups (more than 30 people) are a subject to availability. The Hostel Manager reserves the right not to accept large groups, depending on the individual situation (availability, number of nights etc) or to charge the prepayment. Please contact the property directly for the group reservation details.\\nFor any special requests or to get more information, never hesitate to contact us directly! \\nNo bike parking facilities. \\n\\nTHE MOST IMPORTANT THING: We are always happy to see you at our place! :)\", 'At No.8 we take pride in our Customer Service and ensure that all of our Guests get everything they want from their time in London. We cater for the Young & Young at Heart Backpacker 18-48 only, Photo IDs will be required on Check In. We have Live Entertainment on Weekends within our Traditional English Pub, along with the usual range of pub entertainment and banter!\\n\\n- Free High-Speed WiFi\\n- Full Facility Kitchen, Dining Space & Outdoor Deck\\n- Secure Storage Facilities & 24 Hr Key Card Access\\n- Large Lounge - Pool Table, Chess Table, Couches, Satellite TV & Darts Board etc. \\n- Traditional English Pub & Beer Garden\\n- Young & Young at Heart Backpackers 18-48 only. ID on Check-In Required.\\n- Payment by Cash only on Check in (Cards not accepted)\\n- £20 Key Deposit (Fully Refunded On Check-Out)\\n- No refunds are made following Check-In\\n- Reception is open from 9:30am-11:00pm.\\n- Groups of 8 or less only. Facilities cannot cater for larger groups unfortunately.\\n\\n\\nCheck in: 12pm - 11pm\\nPLEASE NOTE that Check In will NOT be possible outside these hours. If you are running late or will be arriving slightly outside our check in hours, please contact us to see if there is a possibility of us accommodating your arrival outside of check in hours.\\n\\nWhether it is your first time in London or you are a seasoned traveller, No.8 has everything you need (and a few extras) to ensure that your stay in London is definitely Enjoyable & Comfortable!', \"Safestay Holland Park\\n\\nSafestay Holland Park is ideally located in the heart of London, nestled within one of the capital's most prestigious parks. This stunning hostel consists of 3 buildings, including the East Wing of the park's original Jacobean building, and surrounds our private courtyard garden.\\n\\nThe property has been fully refurbished to the high standards for which Safestay is renowned. \\n\\nThe Grade 1 listed building is located on the edge of London's famous Holland Park (search for Holland walk and duchess of Bedford Walk on your maps) and will provide Safestay guests with the opportunity to stay in the heart of one of the capital's desirable neighborhoods. The property dates back to 1605 along with a 1950's extension and is situated in a huge garden within the middle of one of London's most beautiful parks.\\n\\nHistoric, Jacobean splendor, in a great city location. Who says you can't have it all? This mansion in the middle of Holland Park was visited by Sir Walter Scott, Lord Byron, and Dickens. Today it offers large, comfortable rooms to you. \\n\\nThree different houses with a range of standard & ensuite rooms as well as family rooms & private rooms for everyone!\\nPool room, breakfast room & restaurant as well as the garden, & the whole Park itself with its famous beautiful woodland trails, manicured lawns, the Kyoto Japanese Garden with its resident Coi, and a fantastic ice cream stand in the middle.\\nOpened in 1952, Holland Park used to be a private estate belonging to the Earl of Holland. During the 19th century, the Holland House attracted high-profile visitors from various walks of life, from the politician, Lord Palmerston, to the poet, Lord Byron.\\n\\nSafestay Holland Park has excellent transport links and is within easy reach of The Natural History Museum, Holland Park Avenue, Notting Hill Gate, Portobello Market, Harrods, The Science Museum, Hyde Park, Westfield Shopping Centre, and Kensington Palace Gardens.\\n\\nDormitory style and range in size from 2 beds upwards. They offer mixed accommodation. Clean fresh sheets are included in the price. Lockers are available in rooms. Padlocks available for sale\\n\\nGuest will be required to show an official ID with photo at upon arrival. City tax is included.\\n\\nPerson under the age of 18 years are only allowed to stay in private rooms or dormitory rooms that are booked for use of one family or group of persons, and can't share a dormitory rooms with other guests. People under 18 years of age must travel with their parents or legal guardian.\\n\\nPolicies & Conditions:\\n\\nCheck in from 15:00 to 24:00.\\nCheck out before 10:00.\\n\\nPayment upon arrival only by credit/debit cards. \\nCancellation policy: 24 hours before arrival. \\nThis property may pre-authorize your card before arrival.\\n\\nBreakfast not included \\nNo outside alcohol is allowed at all.\\n\\n\\nHIGHLIGHTS: \\n\\n- The electronic lock on the door\\n- High quality purple linen\\n- Outdoor space / terrace \\n- Individual lockers\\n- Big common space\\n- Luggage room (additional cost applied)\\n- Laundry (additional cost applied)\\n- Free Wi-Fi \\n- Organized events at least once a week\\n- 24/7 Reception. No curfew.\\n- Non smoking.\\n\\nFOR GROUPS:\\n\\nPlease note that for the group bookings for more than 10 people, different prepayment policies may apply. Please note that if the reservations are made for 10 guests, the hostel has a right to charge the prepayment from the card. Large groups (more than 30 people) are a subject to availability. The Hostel Manager reserves the right not to accept large groups, depending on the individual situation (availability, number of nights etc) or to charge the prepayment. Please contact the property directly for the group reservation details.\\nFor any special requests or to get more information, never hesitate to contact us directly! \\n\\nTHE MOST IMPORTANT THING: We are always happy to see you at our place! :)\", \"Located in the most beautiful and charming neighbourhood in London, Astor Hyde Park is one minute from Hyde Park and surrounded by some of London's greatest museums including the Natural History Museum, Victoria & Albert, and Science Museum. The hostel is a short walk from London's best transport connections, including direct trains to Heathrow Airport and all of London's attractions. If this wasn't enough, the iconic pubs, excellent shopping, amazing restaurants, and occasional celebrity sighting make it the perfect place to live while in London!\\n\\nThe moment you walk through our doors you become part of our family and we want you to have an incredible experience! We want every detail - from our super clean bathrooms and comfortable pillows to our unforgettable social events - to be perfect, giving you a London adventure that is 10 out of 10!\\n\\nVALID government issued ID required to stay with us, and ALL guests must be between 18-40 YEARS\\n \\nAt our amazing hostel you will have full access to:\\n\\n-Free Fast Wi-Fi throughout the building as well as Free PC Access\\n-24-hour reception for anything you may need (including late check-in/early check-out)\\n-CCTV in operation 24 hours a day\\n-Storage Lockers available for your valuables £2 per locker, per day (max 14 days).\\n-Luggage room is free to use on day of arrival! You can leave your items from 2.50 GBP per bag on day of departure (7.50 GBP per bag for everyday thereafter). \\n-Laundry facilities available 24-hours. Hairdryers and ironing facilities free to use\\n-Dining room and common area to enjoy a meal or meet fellow travellers\\n-Beautiful lounge area with comfy sofas and enormous projector screen for movies and sports! \\n\\nReception hours\\n-Check-out is between 8am and 10am. \\n-Check-in is available between 3pm and 10pm (please let us know your arrival time to ensure someone is there to greet you with a smile!)\\n\\n(A staff member is available 24 hours a day for emergencies, a number will be provided if you have any issues, or you can call the hostel number directly)\\n\\nCharity breakfast\\nBreakfast is available every day from 8 am to 10 am for £3.50 PP. £1 will be donated to charity for every breakfast!\\n\\nCommon Areas\\n-Kitchen and common areas are all open! Whoop Whoop! (Kitchen and lounges will be shut at midnight and reopening at 8am).\\n\\nHelpful Extras (Hidden costs are a pain! If we can give it to you for free, we will, if we cannot do it as cheap possible!). \\n\\n-Free City Maps \\n-Tourist Information, walking tours and advice on local attractions and transport (24hrs)\\n-Daily events organized for our guests\\n-Room key is a Â£5 cash deposit\\n-Padlocks and Adaptors available for sale at the reception\\n-Discounts at local restaurants and coffee shops\\n-Towels are available for hire at £3.50\\n-Clean, crisp linen on your bed ready to sleep on!\\n-Late Check-Out available to sleep in a little more until Midday (book in advance at reception)!\\n-ATM (Cash Machine)\\n\\nWinner of No.1 Small Hostel Group Worldwide, and a Lifetime Achievement Award for excellence in the Hostel Industry. We thrive on ensuring every guest comes satisfied and if you have any problems along the way we are always there ready to help! For this and many other reasons staying at Astor Hostels is the top choice for anyone exploring London on a budget! \\n\\nReservations must be made for guests over the age of 18. Any reservations made for those under the minimum age will be cancelled and you will not receive a refund. The hostel organises daily events aimed at backpackers between the ages of 18-30, it is therefore suggested that guests under the age of 40 would enjoy the hostel the most.\\n \\nProof of identification must be shown on arrival and can include a passport, driving license and national identity cards. We cannot accept paper driving licences, student, or employee IDs as proof of identity and failure to show proof or a copy upon arrival will result in the cancellation of a reservation without a refund. Get in touch with us for further clarification.\\n \\nWhen booking for 10 persons or more, different policies and additional supplements will apply.\", '-', '-', \"Hostelle is the first and only all-women hostel in London. Hostelle was started with the idea to provide a safe and fun place for women who are traveling to Amsterdam, Barcelona, or London to stay so that they only need to focus on sightseeing and enjoying themselves while they are here. For women travelers with a small budget Hostelle is ideal, we are very well communicated with the airport and the city center. \\n\\nLondon has a lot of different attractions and interesting places to visit. Because there are so many options, we from Hostelle have made a list of the absolute must-visits in London.\\n\\nHyde Park:\\nHyde Park is presumably the foremost notable park in London, it’s among the biggest. The park has historical significance, having hosted a variety of demonstrations and protests together with protests by suffragettes. The park hosts many performances weekly in addition to activities like paddle-boating, seeing several swans, and taking in a breath of fresh air in the center of the city. A must-visit.\\n\\nWestminster:\\nWestminster is home to the Houses of Parliament and the world-famous Big Ben. Big Ben is the name of the bell housed within the iconic clock tower, and it still chimes every hour.\\nYou can also find Westminster Abbey here, which is open to the public most days. Whilst visiting these landmarks, be sure to rest your feet in Parliament Square which features statues of important political individuals including Nelson Mandela and Winston Churchill.\\n\\nCamden:\\nCamden is a well-known cultural neighborhood in north London. Known for its alternative culture, the crowds here are filled with goths, punks, rockabillies, and tourists alike. Camden has a vibrant body mod community, and you will find several piercing and tattoo shops in this part of town.\\n\\nLondon Eye:\\nA trip to London isn’t complete without a visit to the iconic London Eye. Originally constructed to celebrate the millennium, the Eye is a giant Ferris wheel offering gorgeous views across the city. At night, the wheel is lit up in seasonal colors and is the centerpiece of London’s annual New Year’s fireworks display.\\n\\nHostelle London LTD Policy and Condition:\\n \\nCancellation Policy: 2 days before arrival. In case of a late cancellation or no show, you will be charged the first night of your stay. The non-refundable reservation can't be modified or canceled free of charge. \\n\\nCheck in from 14.00 to 00.00 (24/7 reception)\\n** Arriving later than 00:00 is possible please let us know your expected arrival time so the reception will be there to check you in.\\n\\nCheck out before 11.00 am\\n** Late checkout is not possible. You are welcome to stay in the common areas after check out time. \\n \\nPayments\\nNon-refundable reservations: these are always paid in advance. The provided credit card will be charged after we receive the reservation. \\nStandard reservation: these need to be paid on arrival with cash or card. We accept all types of cards. \\n** All taxes are included in the price. \\n \\nGeneral:\\n- 24 hours reception.\\n- No curfew\\n- We do not offer breakfast service, we have a fully equipped kitchen so the guests can make their dishes. \\n- We have a minimum age of 16 years old. Only when accompanied by a parent or a guardian we do allow children from the age of 12 years to stay in Hostelle.\", 'A quiet hideaway from the bustle of the busiest street in the world, YHA Oxford Street allows you relax and have this fabulous city at your fingertips. \\n\\nWe have a variety of rooms available, from 2 to 4 bed, as well as offering dorm beds. All rooms have shared facilities.\\n\\nNone of our rooms are ensuite - showers and toilets are within easy access of all rooms. \\n\\nPlease note that our breakfast price is £5.95\\nFree Wi-Fi is available to all guests in communal areas\\n\\nPlease note: There is no interior lift access to rooms above 3rd floor. \\nWe apologise, but due to the building architecture we have no disabled facilities at YHA Oxford Street. YHA London Central has full disabled access and is our next nearest hostel. \\n\\nTowels are available to rent from reception, as are padlocks and travel adapters. \\nSmoking is prohibited across the entire UK in public buildings. Please do not smoke in our rooms.\\n\\nEvery penny we make at YHA goes directly back in to our charity ‘Breaks for Kids’ which makes it possible for children from financially disadvantaged backgrounds to take part in school or community group breaks away! Ask us for a full activity list on check in.\\n\\n*All bookings for more than 16 people will not be accepted by YHA and will be cancelled.*\\n\\nPhoto ID must be presented upon arrival and match the name and address on the booking. Where a booking is for more than one person, the named person on the booking will need to provide photographic proof of identify that matches the name and address on the booking. Photo ID will also be requested from all other adult guests. These photo IDs must match the name they sign in with at check in. If photo ID cannot be provided, you will be refused entry to the property.', \"PLEASE NOTE WE ONLY ACCEPT GUESTS FROM THE AGE OF 18-40 with GOVERNMENT ISSUED PHOTO ID, such as driving licence, passport, national ID card. \\nStudent cards and proof of age cards are not accepted. \\n\\nThe Queen Elizabeth Youth Hostel is located above a historic pub in the posh borough of Hammersmith and Fulham. Located conveniently between the Imperial Wharf Overground and the Fulham Broadway Tube Station, we are just a quick train ride away from London's hottest tourist attractions.\\n\\nLocated less than 5 minutes from the River Thames and 10 minutes to Chelsea FC's home stadium, Stamford Bridge. This is a prime location for those looking for a peaceful and enjoyable stay. Not far you will find green spaces, great shopping and easy transport connections to Central London. We are also located just off King's Road, one of the most fashionable streets in the world.\\n\\nFacilities:\\nCheap, vegan-friendly breakfast buffet\\nLinen Included \\nFree WiFi Internet\\nNo Lock Out\\nNo Curfew \\nBar with cheap drinks for guests\\n24/Hour Check-in/Check-out\\nSecure Locker Storage\\nTwo-Week Maximum Stay\\n\\n-------------------------------------------------------------------------\\n\\n\\n\\nCheck-in is from 15:00 to 00:00 -- if you arrive before 15:00 you can store your bag for FREE in our secure luggage room.\\nAny check-in between 00:01 to 11:00 will be charged a £4 fee.\\n\\nCheck-out is at 11:00 -- Luggage storage is available upon departure for a nominal fee.\\n\\nDue to UK alcohol licensing laws, you are not allowed to bring or consume outside alcohol on the premises. \\n\\nWi-Fi is available in nearly all of our rooms, depending on your Wi-Fi device. It is specifically not available in our 17-bed dorm. All of our rooms do have electrical points, enabling you to charge your electronic devices. \\n\\nWe can't wait to see you here at Queen Elizabeth!\", \"With the British Museum literally on its doorstep, it is impossible to beat this hostel location! Located in the very heart of Central London you are a short walk from iconic attractions like Piccadilly Circus, Trafalgar Square and Covent Garden. \\nIt doesn't matter if you are shopping down the legendary Oxford Street, watching a play in Leicester Squares world-famous theatre district, having dinner in China Town, drinks in Soho, or partying in the West End you are always a short walk home to a nice and quiet street in an amazing neighbourhood!\\n\\nThe moment you walk through our doors you become part of our family and we want you to have an incredible experience! We want every detail - from our super clean bathrooms and comfortable pillows to our unforgettable social events - to be perfect, giving you a London adventure that is 10 out of 10!\\n\\nVALID government issued ID required to stay with us, and ALL guests must be between 18-40 YEARS\\n \\nAt our amazing hostel you will have full access to:\\n\\n-Free Fast Wi-Fi throughout the building as well as Free PC Access\\n-24-hour reception for anything you may need (including late check-in/early check-out)\\n-CCTV in operation 24 hours a day\\n-Storage Lockers available for your valuables £2 per locker, per day (max 14 days).\\n-Luggage room is free to use on day of arrival! You can leave your items from £2.50 per bag on day of departure (£7.50 per bag for everyday thereafter). \\n-Laundry facilities available 24-hours. Hairdryers and ironing facilities free to use\\n-Dining room and common area to enjoy a meal or meet fellow travellers\\n-Beautiful lounge area with comfy sofas\\n\\nReception hours\\n-Check-out is between 8am and 10am. \\n-Check-in is available between 3pm and 10pm (please let us know your arrival time to ensure someone is there to greet you with a smile!)\\n\\n(A staff member is available 24 hours a day for emergencies, a number will be provided if you have any issues, or you can call the hostel number directly)\\n\\nCharity breakfast\\nBreakfast is available every day from 8 am to 10 am for £3.50 PP. £1 will be donated to charity for every breakfast!\\n\\nCommon Areas\\n-Kitchen and common areas are all open! Whoop Whoop! (Kitchen and lounges will be shut at midnight and reopening at 8am).\\n\\nHelpful Extras (Hidden costs are a pain! If we can give it to you for free, we will, if we cannot do it as cheap possible!). \\n\\n-Free City Maps \\n-Tourist Information, walking tours and advice on local attractions and transport (24hrs)\\n-Daily events organized for our guests\\n-Room key is a £5 cash deposit\\n-Padlocks and Adaptors available for a fee at the reception\\n-Discounts at local restaurants and coffee shops\\n-Towels are available for hire at £3.50\\n-Clean, crisp linen on your bed ready to sleep on!\\n-Late Check-Out available to sleep in a little more until Midday (book in advance at reception)!\\n\\n\\nPlease note our basic room types allow you access to all our amazing facilities! However, the building is located a short walk (1 minute) away from the main building, but if you need anything there is a direct telephone which will connect you with our reception.\\n\\nWinner of No.1 Small Hostel Group Worldwide, and a Lifetime Achievement Award for excellence in the Hostel Industry. We thrive on ensuring every guest comes satisfied and if you have any problems along the way we are always there ready to help! For this and many other reasons staying at Astor Hostels is the top choice for anyone exploring London on a budget! \\n\\nReservations must be made for guests over the age of 18. Any reservations made for those under the minimum age will be cancelled and you will not receive a refund. The hostel organises daily events aimed at backpackers between the ages of 18-40, it is therefore suggested that guests under the age of 40 would enjoy the hostel the most.\\n \\nProof of identification must be shown on arrival and can include a passport, driving license and national identity cards. We cannot accept paper driving licences, student, or employee IDs as proof of identity and failure to show proof or a copy upon arrival will result in the cancellation of a reservation without a refund. Get in touch with us for further clarification.\\n \\nWhen booking for 10 persons or more, different policies and additional supplements will apply.\", 'We are back, we previously operated near London Bridge, we have now moved to Pimlico, north of the river, bigger, better and closer to transport and the tourist sites. \\n\\nWe now offer 6 and 4 bed dorms as well as family rooms and we have added a great common room to meet other guests, all rooms are air conditioned, memory foam mattresses, electrical points and lights on the beds with no need for UK adaptor and plenty of USB points as well, every bed has its own hotel rated safe at no extra cost, plenty of showers and bathrooms on 2 floors. \\n\\nThe common room has all the necessary facilities including ice machine, microwave, kettle , free internet computer, free internet through the building and in all rooms, the family rooms have a TV, fridge, safe, tea & coffee facilities and free movies in the room, the common room has a very big Tv with movies and TV programmes, juke box to. \\n\\nWe are situated directly across the road from Pimlico tube station and a 15 mins walk to Big Ben.\\n\\nDestinations Hostels @ The Gallery Policy and Condition:\\n\\nCancellation policy: 72h before arrival. In case of a late cancellation or No Show, you will be charged the first night of your stay.\\n\\nCheck in from 14:00 to 23:30 .\\nCheck out from 00:00 to 11:00 .\\n\\nPayment upon arrival by credit cards, debit cards. \\nTaxes included.\\nBreakfast included.\\n\\nGeneral:\\nReception: from 07:00 to 00:00\\nNo curfew.', \"Base yourself in the electric area of London Bridge at our flagship hostel St Christopher's at The Inn. Here, you'll get the best of both worlds with modern bath and bedrooms whilst having a traditional but lively 16th century English pub right downstairs with live music every day. There is a continental breakfast available every morning for just £6 a day, which can also be purchased at reception on arrival for £5.\\n\\nWithin just a short walk of our hostel you can reach the London Eye, Tower Bridge and London's oldest and most famous food market, Borough Market. Getting about by tube couldn't be easier as we're located 2 minutes walk from both London Bridge AND Borough tube stations. \\n\\n*Please note that we require an in date government approved - drivers license, passport or national ID card at check-in.\\n\\n**Guests under the age of 18 must stay in a private room with guardians. They cannot share in general dormitory rooms with people who are not part of their own group or family. Under-18s are not allowed in the bars or pubs.\\n\\n***Please note: non-refundable reservations will be fully charged at the time of booking.\", 'The Phoenix Bar & Hostel, housed in a homely English-style pub located between Hyde park and Regents park, the Phoenix is perfect located and walking distance to all main attractions, train stations, tubes being only 100+ yards away. \\n\\nWe are an award winning backpackers hostel. Operating for 13 years we take all of our guests safety and security seriously but we also know how to party! Enjoying a mixed entertainments program down at the bar, Comedy Night, Karaoke, Quiz nights... Lounge area to relax watch TV or a movie. \\n\\nCome and join us on your next trip to London! \\n\\nAt the Phoenix Hostel we understand the health and safety concerns of travellers and can assure all guests we are doing everything possible to make your experience safe and enjoyable. A must: Government approved ID on check in for all members of your group!\\n\\nThe health and safety of our guests and staff are our number one priority, therefore we have updated our current standards and conditions to reflect this. \\n\\n*Please note we are operating on LIMITED reception working hours*\\n\\nAt the Phoenix Hostel we understand the health and safety concerns of travellers and can assure all guests we are doing everything possible to make your experience safe and enjoyable. A must: Government approved ID on check in for all members of your group!\\n\\nThe health and safety of our guests and staff are our number one priority, therefore we have updated our current standards and conditions to reflect this. \\n\\n£10 key deposit required upon check-in. cash. Refunded on check out.\\n\\nHostel reception open hours:\\n***We have 24 Hours Reception*** \\n\\nGuests can check-in from 2pm on day of arrival (If arriving earlier, guests may leave their luggage in our holding room until check-in)\\n\\nCheck-out of rooms by 10AM\\n\\nForms of ID accepted:\\nUK/ROI Driving Licence\\nEU/EEA Identity Card \\nInternational Passport\\nIf you do not have these forms of ID, and wish to stay here, please contact us. \\n\\nGuests can cancel their reservation up to 2 days before Check in date. After this date the full amount will be charged. \\nPayment is taken in full upon arrival, and is non-refundable should the guest wish to alter their booking after check in.', \"Located opposite Kings Cross/St Pancras International Station, Kabannas London St Pancras is your perfect getaway in London. We offer great value accommodation in the heart of London.\\nConveniently located to transit links so you can easily explore everyone's favourite city. Hop on a bus and you'll find yourself in Oxford Street's shops or South Kensington's Muesums in minutes. Perfect stopover for an early Eurostar train in to Europe.\\nLondon, the city on the top of everyone's travel list, from your traditional tourist sites to the weird and whacky, our team LOVE London and can't wait to tell you all about it. \\nCome on in, the beds are comfy. From private rooms for two and dorms up to 6, we've got you covered (in a cosy duvet)\\n\\nLuggage room/stores\\nDorm rooms\\nBar\\n\\nCheck in from 16:00\\nCheck out before: 10:00\\n\\nVisit our licensed café/bar for our city-style breakfast or relax over a light snack or full meal.\\n\\nLondon Attractions: We sell discounted and fast track entrance tickets to some of London’s most famous sights and best kept secrets. Including the London Eye, Madame Tussauds, The Tower of London, Walking tours, Bike tours, boat trips and many, many more. \\n\\nHostel Activities: We organise fun stuff for you to do nearly every day of the week! Such as Free Walking tours, top rated Pub Crawls, Group trips to famous West End Shows, Jet boating on the Thames, Burger nights, Sunday Roasts, movie nights…..well, you get the drift! It’s a fantastic way to meet other travellers and really make the most of your time in London! \\n\\nPhoto ID must be presented upon arrival and match the name and address on the booking. Where a booking is for more than one person, the named person on the booking will need to provide photographic proof of identify that matches the name and address on the booking. Photo ID will also be requested from all other adult guests. These photo IDs must match the name they sign in with at check in. If photo ID cannot be provided, you will be refused entry to the property.\", '-', 'Located in the middle of Camden Town, we’re the closest hostel to Camden Markets and if you’re angling for access to all the partying and good times you could want, without compromising on security, comfort, and cleanliness, then we’re where you want to be! Smart Camden Inn’s superb location makes for the perfect home base while you explore London.\\n\\nThe hostel is a five-minute walk from Camden Town underground station, making it a convenient location for getting to any attraction. A short walk brings you to Regent’s Park, home of Primrose Hill and offering beautiful views of downtown London from its highest natural point. A ten-minute train ride to Oxford Street will bring you to the heart of the city and modern London’s centre for shopping and nightlife. Another short trip will bring you to the heart of ancient London, with the Tower of London and Tower Bridge, London’s most famous river crossing. Everything you need is at your fingertips when you stay with us!\\n\\nBedding and Linen are included with all bookings', 'With Victoria Station and Buckingham Palace a few minutes walk away, it is hard to beat to this location! Amazing 24-hour transport links to attractions, parties, airports, coaches (to the rest of the UK/Europe), and almost anywhere! Astor Victoria is the dream place for a base in London. \\nThe excellent local markets, restaurants, pubs, vintage stores, coffee shops and galleries, all within a 15 minutes walk of Big Ben, will make you feel like a true Londoner! This, combined with staff who love the city and want to share all their knowledge with you, means there is no better place to stay in Central London!\\n\\nThe moment you walk through our doors you become part of our family and we want you to have an incredible experience! We want every detail - from our super clean bathrooms and comfortable pillows to our unforgettable social events - to be perfect, giving you a London adventure that is 10 out of 10!\\n\\nVALID government issued ID required to stay with us, and ALL guests must be between 18-40 YEARS\\n \\nAt our amazing hostel you will have full access to:\\n\\n- Free Fast Wi-Fi throughout the building as well as Free PC Access\\n- 24-hour reception for anything you may need (including late check-in/early check-out)\\n- CCTV in operation 24 hours a day\\n- Storage Lockers available for your valuables £2 per locker, per day (max 14 days).\\n- Luggage room is free to use on day of arrival! You can leave your items from GBP 2.50 per bag on day of departure (GBP 7.50 per bag for everyday thereafter). \\n- Laundry facilities available 24-hours. Hairdryers and ironing facilities free to use\\n- Dining room and common area to enjoy a meal or meet fellow travellers\\n- Beautiful lounge area with comfy sofas and enormous projector screen for movies and sports! \\n\\nReception hours\\n- Check-out is between 8am and 10am. \\n- Check-in is available between 3pm and 10pm (please let us know your arrival time to ensure someone is there to greet you with a smile!)\\n\\n(A staff member is available 24 hours a day for emergencies, a number will be provided if you have any issues, or you can call the hostel number directly).\\n\\nCharity breakfast\\nBreakfast is available every day from 8 am to 10 am for £3.50 PP. £1 will be donated to charity for every breakfast!\\n\\nCommon Areas\\n- Kitchen and common areas are all open! Whoop Whoop! (Kitchen and lounges will be shut at midnight and reopening at 8am).\\n\\nHelpful Extras (Hidden costs are a pain! If we can give it to you for free, we will, if we cannot do it as cheap possible!). \\n\\n- Free City Maps \\n- Tourist Information, walking tours and advice on local attractions and transport (24hrs)\\n- Daily events organized for our guests\\n- Room key is a £5 cash deposit\\n- Padlocks and Adaptors available for sale at the reception\\n- Discounts at local restaurants and coffee shops\\n- Towels are available for hire at £3.50\\n- Clean, crisp linen on your bed ready to sleep on!\\n- Late Check-Out available to sleep in a little more until Midday (book in advance at reception)!\\n- ATM (Cash Machine)\\n\\nWinner of No.1 Small Hostel Group Worldwide, and a Lifetime Achievement Award for excellence in the Hostel Industry. We thrive on ensuring every guest comes satisfied and if you have any problems along the way we are always there ready to help! For this and many other reasons staying at Astor Hostels is the top choice for anyone exploring London on a budget! \\n\\nReservations must be made for guests over the age of 18. Any reservations made for those under the minimum age will be cancelled and you will not receive a refund. The hostel organises daily events aimed at backpackers between the ages of 18-30, it is therefore suggested that guests under the age of 40 would enjoy the hostel the most.\\n \\nProof of identification must be shown on arrival and can include a passport, driving license and national identity cards. We cannot accept paper driving licences, student, or employee IDs as proof of identity and failure to show proof or a copy upon arrival will result in the cancellation of a reservation without a refund. Get in touch with us for further clarification.\\n \\nWhen booking for 10 persons or more, different policies and additional supplements will apply.', \"Located a short walk from Notting Hill, Hyde Park and Kensington Palace (home of William, Kate, and the Royal Babies!) it is easy to see why so many people fall in love with this neighbourhood. With three Underground Lines and countless 24hr buses, Astor Kensington is the perfect hub from which to explore London. A short walk around the neighbourhood will take you through the world-famous Portobello Market, Kensington Gardens and London's most charming streets! Hop on the tube or bus and within 10 minutes you will be in the heart of Oxford Street, Piccadilly Circus and Leicester Square!\\n\\nThe moment you walk through our doors you become part of our family and we want you to have an incredible experience! We want every detail - from our super clean bathrooms and comfortable pillows to our unforgettable social events - to be perfect, giving you a London adventure that is 10 out of 10!\\n\\nVALID government issued ID required to stay with us, and ALL guests must be between 18-40 YEARS\\n \\nAt our amazing hostel you will have full access to:\\n\\n-Free Fast Wi-Fi throughout the building as well as Free PC Access\\n-24-hour reception for anything you may need (including late check-in/early check-out)\\n-CCTV in operation 24 hours a day\\n-Storage Lockers available for your valuables £2 per locker, per day (max 14 days).\\n-Luggage room is free to use on day of arrival! You can leave your items from £2.50 per bag on day of departure (£7.50 per bag for everyday thereafter). \\n-Laundry facilities available 24-hours. Hairdryers and ironing facilities free to use\\n-Dining room and common area to enjoy a meal or meet fellow travellers\\n-Beautiful lounge area with comfy sofas and enormous projector screen for movies and sports! \\n\\nReception hours\\n-Check-out is between 8am and 10am. \\n-Check-in is available between 3pm and 10pm (please let us know your arrival time to ensure someone is there to greet you with a smile!)\\n\\n(A staff member is available 24 hours a day for emergencies, a number will be provided if you have any issues, or you can call the hostel number directly).\\n\\nCharity breakfast\\nBreakfast is available every day from 8 am to 10 am for £3.50 PP. £1 will be donated to charity for every breakfast!\\n\\nCommon Areas\\n-Kitchen and common areas are all open! Whoop Whoop! (Kitchen and lounges will be shut at midnight and reopening at 8am).\\n\\nHelpful Extras (Hidden costs are a pain! If we can give it to you for free, we will, if we cannot do it as cheap possible!). \\n\\n-Free City Maps \\n-Tourist Information, walking tours and advice on local attractions and transport (24hrs)\\n-Daily events organized for our guests\\n-Room key is a Â£5 cash deposit\\n-Padlocks and Adaptors available for sale at the reception\\n-Discounts at local restaurants and coffee shops\\n-Towels are available for hire at £3.50\\n-Clean, crisp linen on your bed ready to sleep on!\\n-Late Check-Out available to sleep in a little more until Midday (book in advance at reception)!\\n\\nWinner of No.1 Small Hostel Group Worldwide, and a Lifetime Achievement Award for excellence in the Hostel Industry. We thrive on ensuring every guest comes satisfied and if you have any problems along the way we are always there ready to help! For this and many other reasons staying at Astor Hostels is the top choice for anyone exploring London on a budget! \\n\\nReservations must be made for guests over the age of 18. Any reservations made for those under the minimum age will be cancelled and you will not receive a refund. The hostel organises daily events aimed at backpackers between the ages of 18-30, it is therefore suggested that guests under the age of 40 would enjoy the hostel the most.\\n \\nProof of identification must be shown on arrival and can include a passport, driving license and national identity cards. We cannot accept paper driving licences, student, or employee IDs as proof of identity and failure to show proof or a copy upon arrival will result in the cancellation of a reservation without a refund. Get in touch with us for further clarification.\\n \\nWhen booking for 10 persons or more, different policies and additional supplements will apply.\", \"IMPORTANT NOTICE: \\n\\nThis hostel is for 18 - 35-year olds ONLY. \\nCheck In is from 2 pm to 1 am and Checkout is Before 10 am. Passport, Identity Card or Driver License is Required from all Guests. We accept cash in British Pounds and most cards. Please, note the reception is opened between 8am and 1am only. \\n\\n'Your home away from home' \\n\\nLooking for a great central London Hostel? Your search can come to rest to at London Backpackers Youth Hostel in Hendon. \\nWe are moment from Hendon Central Underground station, minutes from the heart of London and easy access to nearby airports (detailed instructions of how to find the Hostel will be emailed to you once your Booking is made).\\n\\nWe take pride of providing excellent hostel facilities for your stay, whether for a single night or several.\\nFor Group Bookings please contact the Hostel Directly.\\nIf you are looking for long term accommodation, email us for rooms and prices available for quarantining and long stay. \\n\\nOur rates are truly inexpensive, but our hostel is jam-packed with amenities tailored for young, and young at heart, people looking for a comfort at a modest price with a friendly atmosphere.\\n\\nBookings made on this or any website are Not Valid for Existing Guests. If you are and Existing Guest and make an Online Booking, your Booking will be honored but you will be charged the Full Nightly Rate.\\nIn the event of a NO SHOW or LATE CANCELLATION, Guests will be charged a Cancellation Fee Equal to the First Night of the Booking.\\n\\nWHAT YOU CAN EXPECT:\\n\\nOur facilities supply free linen, blankets, private rooms with towels, internet access, TV, literature, City Maps and UK Sim Cards, and a fully fitted kitchen for cooking (with Fridge/Freezers, Oven, Stoves, Microwave, Toaster and Kettle). You will not find another cheap London Youth Hostel that provide clean showers and toilets, plus hot water guaranteed 24h a day. For your convenience we also provide a laundry room with washer and dryer. Bunk Beds with Privacy Curtain, USB Charging Ports, Power Sockets, Reading Light and Locker. (Bring a Padlock or purchase from Reception). Sports Equipment for the nearby Hendon Park, just up the road with a large football field, tennis courts, basketball courts and it is a great place to get active during the day or to chill out with friends in the evening.\\n\\nYou can also enjoy a Pool game in our brand-new basement, equipped with seats and TV for more comfort!\\n\\nWe want your stay to be carefree and we ensure that by offering lockers and luggage room for your use in securing your property during your stay. The Hostel is covered by CCTV and there is 24hr Key Card Access with No Curfew.\\n\\nMoreover, you can find plenty of coffee shops and restaurants around the hostel and for every taste! \\n\\nFor your convenience you will find Tesco, Sainsbury's, and other international shops 2 min walk from the hostel. They are all opened until late at night, even on the Sunday. \\n\\nWe are a 10-minute walk away from Middlesex University as well as Brent Cross shopping centre. The Royal Air Force museum is right by the next underground station!\\n\\nNOTE: you must confirm your booking 24 hours prior to arrival by email to let us know you still want it; if you need to moify, please email us at info@londonbackpackers.com.\", \"Find our Camden hostel in London's north, smack bang in the middle of one of the city's coolest neighbourhoods. Camden is covered with some of the world's best street art plus its live music scene is iconic. Just a short walk from St Christopher's is the famous Camden Market serving up some of the best street food in London as well as vintage clothes, antiques and loads more. Once you're done exploring the local attractions, head to Belushi's where you'll meet other travellers while rockin' out to live bands or taking part in a daily pub crawl! \\n\\nSome of London's most famous live music venues are just a couple of minutes walk from our hostel. We also have Regents Park and Primrose Hill just a stone's throw away so you can benefit from seeing two different sides of the city within a few minutes. \\nThere is a continental breakfast available every morning for just £5 a day which can be purchased at reception.on arrival.\\n\\n*Please note that we require an in date government approved - drivers license, passport or national ID card at check-in.\\n\\n**Guests under the age of 18 must stay in a private room with guardians. They cannot share in general dormitory rooms with people who are not part of their own group or family. Under-18s are not allowed in the bars or pubs.\\n\\n***Please note: non-refundable reservations will be fully charged at the time of booking.\"]\n"
     ]
    },
    {
     "data": {
      "text/plain": [
       "30"
      ]
     },
     "execution_count": 239,
     "metadata": {},
     "output_type": "execute_result"
    }
   ],
   "source": [
    "Property_description=[]\n",
    "for i in URL:\n",
    "    driver.get(i)\n",
    "    time.sleep(2)\n",
    "    try:\n",
    "        pdiv=driver.find_element(By.XPATH,'//div[@class=\"description-container\"]//*[@class=\"content collapse-content\"]')\n",
    "        \n",
    "        Property_description.append(pdiv.text)        \n",
    "    except NoSuchElementException:\n",
    "        Property_description.append(\"-\")\n",
    "    \n",
    "print(Property_description)\n",
    "len(Property_description)"
   ]
  },
  {
   "cell_type": "code",
   "execution_count": 230,
   "id": "c45fb3b6",
   "metadata": {},
   "outputs": [
    {
     "name": "stdout",
     "output_type": "stream",
     "text": [
      "[['Linen Included', 'Free City Maps', 'Free WiFi', 'Free Internet Access', 'Wheelchair Friendly', 'Security Lockers', 'Key Card Access', 'Common Room', 'Elevator', 'Bicycle Parking', 'BBQ', 'Breakfast Not Included', 'Meeting Rooms', 'Adaptors', 'Book Exchange', 'Hot Showers', 'Self-Catering Facilities', 'Dishwasher', 'Cooker', 'Fridge/Freezer', 'Utensils', 'Dryer', 'Outdoor Terrace', 'Reading Light', 'Hair Dryers For Hire', 'Iron / Ironing Board', 'Safe Deposit Box', 'Microwave', 'Washing Machine', 'Internet access', 'Laundry Facilities', 'Towels for hire', 'Luggage Storage', 'Fax Service', '24 Hour Reception', 'Housekeeping', 'Internet café', 'Late check-out', 'Bar', 'Meals Available', 'Vending Machines', 'Cafe', 'Tea & Coffee Making Facilities', 'Board Games', 'Pool Table', 'Foosball', 'Wi-Fi'], ['Linen Included', 'Free WiFi', 'Free Internet Access', 'Security Lockers', 'Key Card Access', 'Common Room', 'Elevator', 'Bicycle Parking', 'BBQ', 'Breakfast Not Included', 'Adaptors', 'Book Exchange', 'Hot Showers', 'Self-Catering Facilities', 'Cooker', 'Fridge/Freezer', 'Utensils', 'Dryer', 'Outdoor Terrace', 'Reading Light', 'Hair Dryers For Hire', 'Parking', 'Hair Dryers', 'Iron / Ironing Board', 'Safe Deposit Box', 'Washing Machine', 'Flexible NRR', 'Internet access', 'Laundry Facilities', 'Towels for hire', 'Luggage Storage', '24 Hour Reception', 'Postal Service', '24 Hour Security', 'Housekeeping', 'Restaurant', 'Bar', 'Meals Available', 'Vending Machines', 'Cafe', 'Tea & Coffee Making Facilities', 'PlayStation', \"DVD's\", 'Board Games', 'Games Room', 'Pool Table', 'Wi-Fi'], ['Linen Included', 'Free WiFi', 'Free Internet Access', 'Breakfast Not Included', 'Hot Showers', 'Self-Catering Facilities', 'Flexible NRR', 'Luggage Storage', 'Tea & Coffee Making Facilities'], ['Linen Included', 'Free WiFi', 'Security Lockers', 'Microwave', 'Luggage Storage', '24 Hour Reception', 'Tea & Coffee Making Facilities', 'Wi-Fi'], ['Free Breakfast', 'Linen Included', 'Towels Included', 'Free WiFi', 'Security Lockers', 'Common Room', 'Hot Showers', 'Self-Catering Facilities', 'Fridge/Freezer', 'Utensils', 'Hair Dryers For Hire', 'Hair Dryers', 'Microwave', 'Washing Machine', 'Internet access', 'Laundry Facilities', 'Towels for hire', 'Housekeeping', 'Express check-in / out', 'Reception (limited hours)', 'Meals Available', 'Tea & Coffee Making Facilities', 'Board Games', 'Wi-Fi'], ['Linen Included', 'Free City Maps', 'Free WiFi', 'Free Internet Access', 'Security Lockers', 'Common Room', 'Elevator', 'Breakfast Not Included', 'Air Conditioning', 'Adaptors', 'Book Exchange', 'Hot Showers', 'Dryer', 'Outdoor Terrace', 'Reading Light', 'Hair Dryers For Hire', 'Hair Dryers', 'Iron / Ironing Board', 'Microwave', 'Washing Machine', 'Internet access', 'Laundry Facilities', 'Towels for hire', 'Luggage Storage', '24 Hour Reception', '24 Hour Security', 'Housekeeping', 'Late check-out', 'Restaurant', 'Bar', 'Meals Available', 'Vending Machines', 'Tea & Coffee Making Facilities', 'Nightclub', 'Board Games', 'Games Room', 'Wi-Fi'], ['Linen Included', 'Free City Maps', 'Free WiFi', 'Free Internet Access', 'Wheelchair Friendly', 'Security Lockers', 'Key Card Access', 'Common Room', 'Elevator', 'Bicycle Parking', 'Breakfast Not Included', 'Meeting Rooms', 'Hot Showers', 'Reading Light', 'Safe Deposit Box', 'Card Phones', 'Towels Not Included', 'Internet access', 'Laundry Facilities', 'Airport Transfers', 'Bicycle Hire', 'Towels for hire', 'Luggage Storage', '24 Hour Reception', 'Tours/Travel Desk', 'ATM', 'Shuttle Bus', '24 Hour Security', 'Housekeeping', 'Express check-in / out', 'Late check-out', 'Restaurant', 'Bar', 'Meals Available', 'Vending Machines', 'Cafe', 'Nightclub', 'Board Games', 'Games Room', 'Pool Table', 'Foosball', 'Wi-Fi'], ['Linen Included', 'Free WiFi', 'Free Internet Access', 'Security Lockers', 'Common Room', 'Breakfast Not Included', 'Adaptors', 'Book Exchange', 'Hot Showers', 'Self-Catering Facilities', 'Cooker', 'Fridge/Freezer', 'Utensils', 'Reading Light', 'Microwave', 'Towels Not Included', 'Internet access', 'Towels for hire', 'Luggage Storage', '24 Hour Reception', '24 Hour Security', 'Housekeeping', 'Cafe', 'Tea & Coffee Making Facilities', 'Board Games', 'Games Room', 'Wi-Fi'], ['Linen Included', 'Free WiFi', 'Security Lockers', 'Key Card Access', 'Common Room', 'Bicycle Parking', 'Breakfast Not Included', 'Adaptors', 'Hot Showers', 'Self-Catering Facilities', 'Cooker', 'Fridge/Freezer', 'Utensils', 'Cable TV', 'Outdoor Terrace', 'Iron / Ironing Board', 'Microwave', 'Towels Not Included', 'Luggage Storage', '24 Hour Security', 'Housekeeping', 'Reception (limited hours)', 'Bar', 'Tea & Coffee Making Facilities', 'Games Room', 'Pool Table', 'Wi-Fi'], ['Linen Included', 'Free City Maps', 'Free WiFi', 'Key Card Access', 'Common Room', 'Elevator', 'Adaptors', 'Book Exchange', 'Hot Showers', 'Self-Catering Facilities', 'Fridge/Freezer', 'Utensils', 'Dryer', 'Reading Light', 'Hair Dryers For Hire', 'Hair Dryers', 'Safe Deposit Box', 'Microwave', 'Washing Machine', 'Flexible NRR', 'Internet access', 'Laundry Facilities', 'Towels for hire', 'Luggage Storage', 'Fax Service', '24 Hour Reception', 'Tours/Travel Desk', 'Postal Service', 'Housekeeping', 'Board Games', 'Wi-Fi'], ['Linen Included', 'Free WiFi', 'Security Lockers', 'Key Card Access', 'Common Room', 'Adaptors', 'Hot Showers', 'Cots Available', 'Dryer', 'Outdoor Terrace', 'Reading Light', 'Hair Dryers For Hire', 'Iron / Ironing Board', 'Washing Machine', 'Towels Not Included', 'Internet access', 'Laundry Facilities', 'Towels for hire', 'Luggage Storage', '24 Hour Reception', 'ATM', '24 Hour Security', 'Housekeeping', 'Late check-out', 'Restaurant', 'Bar', 'Vending Machines', 'Cafe', 'Pool Table', 'Wi-Fi'], ['Linen Included', 'Free WiFi', 'Security Lockers', 'Key Card Access', 'Common Room', 'Breakfast Not Included', 'Adaptors', 'Hot Showers', 'Self-Catering Facilities', 'Cooker', 'Fridge/Freezer', 'Utensils', 'Cable TV', 'Outdoor Terrace', 'Iron / Ironing Board', 'Microwave', 'Towels Not Included', 'Luggage Storage', '24 Hour Security', 'Housekeeping', 'Reception (limited hours)', 'Bar', 'Tea & Coffee Making Facilities', 'Games Room', 'Pool Table', 'Wi-Fi'], ['Linen Included', 'Free WiFi', 'Security Lockers', 'Key Card Access', 'Common Room', 'Breakfast Not Included', 'Adaptors', 'Hot Showers', 'Dryer', 'Outdoor Terrace', 'Reading Light', 'Hair Dryers For Hire', 'Hair Dryers', 'Iron / Ironing Board', 'Safe Deposit Box', 'Card Phones', 'Washing Machine', 'Towels Not Included', 'Laundry Facilities', 'Towels for hire', 'Luggage Storage', '24 Hour Reception', 'ATM', '24 Hour Security', 'Housekeeping', 'Bar', 'Meals Available', 'Vending Machines', 'Cafe', 'Games Room', 'Pool Table', 'Wi-Fi'], ['Linen Included', 'Free City Maps', 'Free WiFi', 'Free Internet Access', 'Security Lockers', 'Key Card Access', 'Common Room', 'Adaptors', 'Book Exchange', 'Hot Showers', 'Self-Catering Facilities', 'Cable TV', 'Hair Dryers For Hire', 'Hair Dryers', 'Safe Deposit Box', 'Washing Machine', 'Internet access', 'Laundry Facilities', 'Towels for hire', 'Luggage Storage', '24 Hour Security', 'Housekeeping', 'Vending Machines', 'Wi-Fi'], ['Linen Included', 'Free City Maps', 'Free WiFi', 'Free Internet Access', 'Free City Tour', 'Security Lockers', 'Key Card Access', 'Common Room', 'Breakfast Not Included', 'Adaptors', 'Self-Catering Facilities', 'Fridge/Freezer', 'Utensils', 'Dryer', 'Hair Dryers', 'Iron / Ironing Board', 'Microwave', 'Card Phones', 'Washing Machine', 'Towels Not Included', 'Flexible NRR', 'Internet access', 'Laundry Facilities', 'Towels for hire', '24 Hour Reception', 'Tours/Travel Desk', 'Currency Exchange', '24 Hour Security', 'Housekeeping', 'Express check-in / out', 'Late check-out', 'Reception (limited hours)', 'Vending Machines', 'Board Games', 'Games Room', 'Wi-Fi'], ['Linen Included', 'Free City Maps', 'Free WiFi', 'Free Internet Access', 'Security Lockers', 'Key Card Access', 'Common Room', 'Breakfast Not Included', 'Air Conditioning', 'Adaptors', 'Hot Showers', 'Self-Catering Facilities', 'Dryer', 'Cable TV', 'Outdoor Terrace', 'Hair Dryers', 'Iron / Ironing Board', 'Safe Deposit Box', 'Microwave', 'Washing Machine', 'Towels Not Included', 'Flexible NRR', 'Laundry Facilities', 'Luggage Storage', '24 Hour Reception', '24 Hour Security', 'Housekeeping', 'Late check-out', 'Vending Machines', 'Board Games', 'Games Room', 'Wi-Fi'], ['Linen Included', 'Free City Maps', 'Free WiFi', 'Free Internet Access', 'Common Room', 'Hot Showers', 'Fridge/Freezer', 'Cable TV', 'Outdoor Terrace', 'Hair Dryers', 'Iron / Ironing Board', 'Microwave', 'Laundry Facilities', 'Towels for hire', 'Luggage Storage', '24 Hour Reception', 'Housekeeping', 'Tea & Coffee Making Facilities', \"DVD's\", 'Board Games', 'Wi-Fi'], ['Linen Included', 'Free WiFi', 'Security Lockers', 'Key Card Access', 'Common Room', 'Breakfast Not Included', 'Adaptors', 'Hot Showers', 'Self-Catering Facilities', 'Cooker', 'Fridge/Freezer', 'Dryer', 'Reading Light', 'Hair Dryers For Hire', 'Iron / Ironing Board', 'Microwave', 'Card Phones', 'Washing Machine', 'Towels Not Included', 'Internet access', 'Laundry Facilities', 'Towels for hire', 'Luggage Storage', '24 Hour Reception', 'Tours/Travel Desk', '24 Hour Security', 'Housekeeping', 'Late check-out', 'Reception (limited hours)', 'Bar', 'Meals Available', 'Cafe', 'Wi-Fi'], ['Linen Included', 'Free City Maps', 'Free WiFi', 'Free Internet Access', 'Security Lockers', 'Common Room', 'Breakfast Not Included', 'Adaptors', 'Book Exchange', 'Hot Showers', 'Hair Dryers For Hire', 'Hair Dryers', 'Flexible NRR', 'Internet access', 'Luggage Storage', '24 Hour Reception', 'Tours/Travel Desk', '24 Hour Security', 'Housekeeping', 'Bar', 'Board Games'], ['Linen Included', 'Free City Maps', 'Free WiFi', 'Security Lockers', 'Key Card Access', 'Common Room', 'Adaptors', 'Book Exchange', 'Hot Showers', 'Self-Catering Facilities', 'Cable TV', 'Outdoor Terrace', 'Hair Dryers For Hire', 'Safe Deposit Box', 'Washing Machine', 'Internet access', 'Laundry Facilities', 'Towels for hire', 'Luggage Storage', 'Housekeeping', 'Vending Machines', 'Tea & Coffee Making Facilities', 'PlayStation', 'Board Games'], ['Free Breakfast', 'Linen Included', 'Free City Maps', 'Free WiFi', 'Free Internet Access', 'Security Lockers', 'Common Room', 'Air Conditioning', 'Hot Showers', 'Fridge/Freezer', 'Utensils', 'Dryer', 'Cable TV', 'Reading Light', 'Hair Dryers', 'Iron / Ironing Board', 'Safe Deposit Box', 'Microwave', 'Washing Machine', 't_UKRAINEREFUGEES', 'Internet access', 'Laundry Facilities', 'Towels for hire', 'Luggage Storage', '24 Hour Security', 'Housekeeping', 'Late check-out', 'Reception (limited hours)', 'Restaurant', 'Bar', 'Meals Available', 'Vending Machines', 'Mini-Supermarket', 'Tea & Coffee Making Facilities', 'PlayStation', \"DVD's\", 'Board Games', 'Games Room', 'Wi-Fi'], ['Linen Included', 'Free City Maps', 'Free WiFi', 'Free Internet Access', 'Security Lockers', 'Key Card Access', 'Breakfast Not Included', 'Meeting Rooms', 'Adaptors', 'Book Exchange', 'Hot Showers', 'Reading Light', 'Hair Dryers', 'Ceiling fan', 'Iron / Ironing Board', 'Towels Not Included', 'Internet access', 'Towels for hire', 'Luggage Storage', 'Tours/Travel Desk', 'Housekeeping', 'Reception (limited hours)', 'Restaurant', 'Bar', 'Meals Available', 'Mini-Supermarket', 'Nightclub', \"DVD's\", 'Board Games', 'Wi-Fi'], ['Linen Included', 'Free City Maps', 'Free WiFi', 'Free Internet Access', 'Security Lockers', 'Key Card Access', 'Common Room', 'Breakfast Not Included', 'Adaptors', 'Hot Showers', 'Utensils', 'Hair Dryers', 'Microwave', 'Towels Not Included', 'Internet access', 'Luggage Storage', '24 Hour Reception', 'Housekeeping', 'Reception (limited hours)', 'Bar', \"DVD's\", 'Board Games', 'Wi-Fi'], ['Linen Included', 'Free City Maps', 'Free WiFi', 'Wheelchair Friendly', 'Security Lockers', 'Key Card Access', 'Elevator', 'Breakfast Not Included', 'Adaptors', 'Book Exchange', 'Hot Showers', 'Reading Light', 'Hair Dryers', 'Washing Machine', 'Towels Not Included', 'Internet access', 'Towels for hire', 'Luggage Storage', '24 Hour Reception', 'Tours/Travel Desk', '24 Hour Security', 'Bar', 'Meals Available', 'Cafe'], ['Linen Included', 'Free City Maps', 'Free WiFi', 'Free Internet Access', 'Security Lockers', 'Key Card Access', 'Common Room', 'Hot Showers', 'Dryer', 'Reading Light', 'Hair Dryers For Hire', 'Hair Dryers', 'Microwave', 'Washing Machine', 'Towels Not Included', 'Internet access', 'Laundry Facilities', 'Towels for hire', 'Luggage Storage', '24 Hour Reception', 'Housekeeping', 'Late check-out', 'Restaurant', 'Bar', 'Vending Machines', 'Nightclub', 'Wi-Fi'], ['Linen Included', 'Free City Maps', 'Free WiFi', 'Security Lockers', 'Key Card Access', 'Common Room', 'Breakfast Not Included', 'Hot Showers', 'Self-Catering Facilities', 'Cooker', 'Fridge/Freezer', 'Utensils', 'Reading Light', 'Hair Dryers For Hire', 'Hair Dryers', 'Iron / Ironing Board', 'Microwave', 'Washing Machine', 'Towels Not Included', 'Flexible NRR', 'Laundry Facilities', 'Luggage Storage', '24 Hour Reception', 'Tours/Travel Desk', '24 Hour Security', 'Late check-out', 'Wi-Fi'], ['Linen Included', 'Free City Maps', 'Free WiFi', 'Free Internet Access', 'Security Lockers', 'Key Card Access', 'Common Room', 'Meeting Rooms', 'Adaptors', 'Book Exchange', 'Hot Showers', 'Self-Catering Facilities', 'Cable TV', 'Hair Dryers For Hire', 'Hair Dryers', 'Iron / Ironing Board', 'Safe Deposit Box', 'Washing Machine', 'Internet access', 'Laundry Facilities', 'Towels for hire', 'Luggage Storage', '24 Hour Reception', 'ATM', '24 Hour Security', 'Housekeeping', 'Late check-out', 'Vending Machines', 'Cafe', 'Tea & Coffee Making Facilities', 'PlayStation', \"DVD's\", 'Board Games', 'Wi-Fi'], [], ['Linen Included', 'Free City Maps', 'Free WiFi', 'Free Internet Access', 'Security Lockers', 'Key Card Access', 'Common Room', 'Breakfast Not Included', 'Adaptors', 'Book Exchange', 'Hot Showers', 'Self-Catering Facilities', 'Cooker', 'Fridge/Freezer', 'Utensils', 'Dryer', 'Cable TV', 'Reading Light', 'Hair Dryers For Hire', 'Hair Dryers', 'Iron / Ironing Board', 'Safe Deposit Box', 'Microwave', 'Washing Machine', 'Towels Not Included', 'Flexible NRR', 'Internet access', 'Laundry Facilities', 'Towels for hire', 'Luggage Storage', 'Tours/Travel Desk', 'Postal Service', '24 Hour Security', 'Housekeeping', 'Reception (limited hours)', 'Tea & Coffee Making Facilities', 'Board Games', 'Games Room', 'Pool Table', 'Wi-Fi'], ['Linen Included', 'Free City Maps', 'Free WiFi', 'Free Internet Access', 'Security Lockers', 'Key Card Access', 'Common Room', 'Breakfast Not Included', 'Adaptors', 'Book Exchange', 'Hot Showers', 'Dryer', 'Cable TV', 'Hair Dryers For Hire', 'Iron / Ironing Board', 'Washing Machine', 'Internet access', 'Laundry Facilities', 'Towels for hire', 'Luggage Storage', '24 Hour Reception', '24 Hour Security', 'Housekeeping', 'Restaurant', 'Bar', 'Meals Available', 'Cafe', 'Nightclub', \"DVD's\", 'Board Games', 'Wi-Fi']]\n"
     ]
    },
    {
     "data": {
      "text/plain": [
       "30"
      ]
     },
     "execution_count": 230,
     "metadata": {},
     "output_type": "execute_result"
    }
   ],
   "source": [
    "Facilities=[]\n",
    "for i in URL:\n",
    "    driver.get(i)\n",
    "    try:\n",
    "        facility1=driver.find_elements(By.XPATH,'//ul[@class=\"facilities\"]/li')\n",
    "        fac=[]\n",
    "        for a in facility1:  \n",
    "            fac.append(a.text)\n",
    "        Facilities.append(fac)\n",
    "            \n",
    "    except NoSuchElementException:\n",
    "        facilities.append('-')\n",
    "        \n",
    "print(Facilities)\n",
    "len(Facilities)                   "
   ]
  },
  {
   "cell_type": "code",
   "execution_count": 240,
   "id": "62ffe815",
   "metadata": {},
   "outputs": [
    {
     "name": "stdout",
     "output_type": "stream",
     "text": [
      "30 30 30 30 30 30 30 30 30\n"
     ]
    }
   ],
   "source": [
    "print(len(Hostel_Name),len(Distance_from_city_centre),len(Ratings),len(Total_Reviews),len(Overall_Review),len(Privates_from_price),len(Dorms_from_price),len(Facilities),len(Property_description))"
   ]
  },
  {
   "cell_type": "code",
   "execution_count": 241,
   "id": "d86e038a",
   "metadata": {},
   "outputs": [
    {
     "data": {
      "text/html": [
       "<div>\n",
       "<style scoped>\n",
       "    .dataframe tbody tr th:only-of-type {\n",
       "        vertical-align: middle;\n",
       "    }\n",
       "\n",
       "    .dataframe tbody tr th {\n",
       "        vertical-align: top;\n",
       "    }\n",
       "\n",
       "    .dataframe thead th {\n",
       "        text-align: right;\n",
       "    }\n",
       "</style>\n",
       "<table border=\"1\" class=\"dataframe\">\n",
       "  <thead>\n",
       "    <tr style=\"text-align: right;\">\n",
       "      <th></th>\n",
       "      <th>Hostel_Name</th>\n",
       "      <th>Distance_from_city_centre</th>\n",
       "      <th>Ratings</th>\n",
       "      <th>Total_Reviews</th>\n",
       "      <th>Overall_Review</th>\n",
       "      <th>Privates_from_price</th>\n",
       "      <th>Dorms_from_price</th>\n",
       "      <th>Facilities</th>\n",
       "      <th>Property_description</th>\n",
       "    </tr>\n",
       "  </thead>\n",
       "  <tbody>\n",
       "    <tr>\n",
       "      <th>0</th>\n",
       "      <td>Wombat's City Hostel London</td>\n",
       "      <td>- 3.6km from city centre</td>\n",
       "      <td>9.2</td>\n",
       "      <td>(16108)</td>\n",
       "      <td>Superb</td>\n",
       "      <td>₹24,486</td>\n",
       "      <td>₹3,757</td>\n",
       "      <td>[Linen Included, Free City Maps, Free WiFi, Fr...</td>\n",
       "      <td>A safe haven in the middle of the metropolis: ...</td>\n",
       "    </tr>\n",
       "    <tr>\n",
       "      <th>1</th>\n",
       "      <td>Palmers Lodge - Swiss Cottage</td>\n",
       "      <td>- 6.5km from city centre</td>\n",
       "      <td>8.7</td>\n",
       "      <td>(16039)</td>\n",
       "      <td>Fabulous</td>\n",
       "      <td>-</td>\n",
       "      <td>₹2,468</td>\n",
       "      <td>[Linen Included, Free WiFi, Free Internet Acce...</td>\n",
       "      <td>Whether you're a backpacker, flash-packer or a...</td>\n",
       "    </tr>\n",
       "    <tr>\n",
       "      <th>2</th>\n",
       "      <td>Onefam Notting Hill</td>\n",
       "      <td>- 5.5km from city centre</td>\n",
       "      <td>9.6</td>\n",
       "      <td>(2684)</td>\n",
       "      <td>Superb</td>\n",
       "      <td>₹11,704</td>\n",
       "      <td>₹3,934</td>\n",
       "      <td>[Linen Included, Free WiFi, Free Internet Acce...</td>\n",
       "      <td>The perfect place for solo travelers to connec...</td>\n",
       "    </tr>\n",
       "    <tr>\n",
       "      <th>3</th>\n",
       "      <td>Urbany Hostel London</td>\n",
       "      <td>- 5.4km from city centre</td>\n",
       "      <td>9.6</td>\n",
       "      <td>(1181)</td>\n",
       "      <td>Superb</td>\n",
       "      <td>₹10,169</td>\n",
       "      <td>₹3,168</td>\n",
       "      <td>[Linen Included, Free WiFi, Security Lockers, ...</td>\n",
       "      <td>Welcome to Urbany Hostel London! Ideal for the...</td>\n",
       "    </tr>\n",
       "    <tr>\n",
       "      <th>4</th>\n",
       "      <td>NX London Hostel</td>\n",
       "      <td>- 6.1km from city centre</td>\n",
       "      <td>8.9</td>\n",
       "      <td>(2228)</td>\n",
       "      <td>Fabulous</td>\n",
       "      <td>₹18,666</td>\n",
       "      <td>₹3,880</td>\n",
       "      <td>[Free Breakfast, Linen Included, Towels Includ...</td>\n",
       "      <td>Welcome to NX London Hostel!\\n\\nPLEASE READ IN...</td>\n",
       "    </tr>\n",
       "    <tr>\n",
       "      <th>5</th>\n",
       "      <td>St Christopher's Village</td>\n",
       "      <td>- 1.8km from city centre</td>\n",
       "      <td>7.7</td>\n",
       "      <td>(12952)</td>\n",
       "      <td>Very Good</td>\n",
       "      <td>-</td>\n",
       "      <td>₹1,717</td>\n",
       "      <td>[Linen Included, Free City Maps, Free WiFi, Fr...</td>\n",
       "      <td>St Christopher's Inn at The Village in London ...</td>\n",
       "    </tr>\n",
       "    <tr>\n",
       "      <th>6</th>\n",
       "      <td>Generator London</td>\n",
       "      <td>- 3km from city centre</td>\n",
       "      <td>7.5</td>\n",
       "      <td>(8126)</td>\n",
       "      <td>Very Good</td>\n",
       "      <td>₹14,423</td>\n",
       "      <td>₹3,278</td>\n",
       "      <td>[Linen Included, Free City Maps, Free WiFi, Fr...</td>\n",
       "      <td>Generator London is a design hotel-hostel loca...</td>\n",
       "    </tr>\n",
       "    <tr>\n",
       "      <th>7</th>\n",
       "      <td>Onefam Waterloo</td>\n",
       "      <td>- 0.7km from city centre</td>\n",
       "      <td>9.6</td>\n",
       "      <td>(220)</td>\n",
       "      <td>Superb</td>\n",
       "      <td>₹11,367</td>\n",
       "      <td>₹3,129</td>\n",
       "      <td>[Linen Included, Free WiFi, Free Internet Acce...</td>\n",
       "      <td>Come join us at our newest Onefam location in ...</td>\n",
       "    </tr>\n",
       "    <tr>\n",
       "      <th>8</th>\n",
       "      <td>No.8 Seven Sisters</td>\n",
       "      <td>- 9km from city centre</td>\n",
       "      <td>7.9</td>\n",
       "      <td>(4207)</td>\n",
       "      <td>Very Good</td>\n",
       "      <td>-</td>\n",
       "      <td>₹1,590</td>\n",
       "      <td>[Linen Included, Free WiFi, Security Lockers, ...</td>\n",
       "      <td>For Great Facilities, Comfort &amp; Affordability ...</td>\n",
       "    </tr>\n",
       "    <tr>\n",
       "      <th>9</th>\n",
       "      <td>Clink261</td>\n",
       "      <td>- 3.2km from city centre</td>\n",
       "      <td>8.3</td>\n",
       "      <td>(564)</td>\n",
       "      <td>Fabulous</td>\n",
       "      <td>-</td>\n",
       "      <td>₹2,547</td>\n",
       "      <td>[Linen Included, Free City Maps, Free WiFi, Ke...</td>\n",
       "      <td>Welcome to Clink261!\\n\\nClink261 is a comforta...</td>\n",
       "    </tr>\n",
       "    <tr>\n",
       "      <th>10</th>\n",
       "      <td>Safestay London Elephant &amp; Castle</td>\n",
       "      <td>- 1.7km from city centre</td>\n",
       "      <td>7.4</td>\n",
       "      <td>(5309)</td>\n",
       "      <td>Very Good</td>\n",
       "      <td>₹17,534</td>\n",
       "      <td>₹2,441</td>\n",
       "      <td>[Linen Included, Free WiFi, Security Lockers, ...</td>\n",
       "      <td>Safestay at Elephant &amp; Castle is ideal if you ...</td>\n",
       "    </tr>\n",
       "    <tr>\n",
       "      <th>11</th>\n",
       "      <td>No.8 Willesden Hostel London</td>\n",
       "      <td>- 10km from city centre</td>\n",
       "      <td>7.1</td>\n",
       "      <td>(5229)</td>\n",
       "      <td>Very Good</td>\n",
       "      <td>₹3,171</td>\n",
       "      <td>₹1,449</td>\n",
       "      <td>[Linen Included, Free WiFi, Security Lockers, ...</td>\n",
       "      <td>At No.8 we take pride in our Customer Service ...</td>\n",
       "    </tr>\n",
       "    <tr>\n",
       "      <th>12</th>\n",
       "      <td>Safestay London Kensington Holland Park</td>\n",
       "      <td>- 5.8km from city centre</td>\n",
       "      <td>6.9</td>\n",
       "      <td>(1826)</td>\n",
       "      <td>Good</td>\n",
       "      <td>-</td>\n",
       "      <td>₹1,693</td>\n",
       "      <td>[Linen Included, Free WiFi, Security Lockers, ...</td>\n",
       "      <td>Safestay Holland Park\\n\\nSafestay Holland Park...</td>\n",
       "    </tr>\n",
       "    <tr>\n",
       "      <th>13</th>\n",
       "      <td>Astor Hyde Park</td>\n",
       "      <td>- 4.3km from city centre</td>\n",
       "      <td>8.2</td>\n",
       "      <td>(12356)</td>\n",
       "      <td>Fabulous</td>\n",
       "      <td>-</td>\n",
       "      <td>₹1,849</td>\n",
       "      <td>[Linen Included, Free City Maps, Free WiFi, Fr...</td>\n",
       "      <td>Located in the most beautiful and charming nei...</td>\n",
       "    </tr>\n",
       "    <tr>\n",
       "      <th>14</th>\n",
       "      <td>Smart Russell Square Hostel</td>\n",
       "      <td>- 2.6km from city centre</td>\n",
       "      <td>7.4</td>\n",
       "      <td>(10243)</td>\n",
       "      <td>Very Good</td>\n",
       "      <td>-</td>\n",
       "      <td>₹2,039</td>\n",
       "      <td>[Linen Included, Free City Maps, Free WiFi, Fr...</td>\n",
       "      <td>-</td>\n",
       "    </tr>\n",
       "    <tr>\n",
       "      <th>15</th>\n",
       "      <td>Smart Hyde Park Inn Hostel</td>\n",
       "      <td>- 5km from city centre</td>\n",
       "      <td>7.8</td>\n",
       "      <td>(6817)</td>\n",
       "      <td>Very Good</td>\n",
       "      <td>-</td>\n",
       "      <td>₹1,944</td>\n",
       "      <td>[Linen Included, Free City Maps, Free WiFi, Fr...</td>\n",
       "      <td>-</td>\n",
       "    </tr>\n",
       "    <tr>\n",
       "      <th>16</th>\n",
       "      <td>Hostelle - women only hostel London</td>\n",
       "      <td>- 5.1km from city centre</td>\n",
       "      <td>8.6</td>\n",
       "      <td>(140)</td>\n",
       "      <td>Fabulous</td>\n",
       "      <td>-</td>\n",
       "      <td>₹2,795</td>\n",
       "      <td>[Linen Included, Free City Maps, Free WiFi, Fr...</td>\n",
       "      <td>Hostelle is the first and only all-women hoste...</td>\n",
       "    </tr>\n",
       "    <tr>\n",
       "      <th>17</th>\n",
       "      <td>YHA London Oxford Street</td>\n",
       "      <td>- 2.1km from city centre</td>\n",
       "      <td>9.1</td>\n",
       "      <td>(4715)</td>\n",
       "      <td>Superb</td>\n",
       "      <td>₹8,999</td>\n",
       "      <td>-</td>\n",
       "      <td>[Linen Included, Free WiFi, Security Lockers, ...</td>\n",
       "      <td>A quiet hideaway from the bustle of the busies...</td>\n",
       "    </tr>\n",
       "    <tr>\n",
       "      <th>18</th>\n",
       "      <td>Queen Elizabeth Chelsea</td>\n",
       "      <td>- 5.7km from city centre</td>\n",
       "      <td>7.3</td>\n",
       "      <td>(3730)</td>\n",
       "      <td>Very Good</td>\n",
       "      <td>-</td>\n",
       "      <td>₹1,611</td>\n",
       "      <td>[Linen Included, Free City Maps, Free WiFi, Fr...</td>\n",
       "      <td>PLEASE NOTE WE ONLY ACCEPT GUESTS FROM THE AGE...</td>\n",
       "    </tr>\n",
       "    <tr>\n",
       "      <th>19</th>\n",
       "      <td>Astor Museum Inn</td>\n",
       "      <td>- 2.2km from city centre</td>\n",
       "      <td>8.4</td>\n",
       "      <td>(9476)</td>\n",
       "      <td>Fabulous</td>\n",
       "      <td>-</td>\n",
       "      <td>₹2,047</td>\n",
       "      <td>[Linen Included, Free City Maps, Free WiFi, Se...</td>\n",
       "      <td>With the British Museum literally on its doors...</td>\n",
       "    </tr>\n",
       "    <tr>\n",
       "      <th>20</th>\n",
       "      <td>Destinations Hostels @ The Gallery</td>\n",
       "      <td>- 1.7km from city centre</td>\n",
       "      <td>9.0</td>\n",
       "      <td>(346)</td>\n",
       "      <td>Superb</td>\n",
       "      <td>-</td>\n",
       "      <td>₹4,147</td>\n",
       "      <td>[Free Breakfast, Linen Included, Free City Map...</td>\n",
       "      <td>We are back, we previously operated near Londo...</td>\n",
       "    </tr>\n",
       "    <tr>\n",
       "      <th>21</th>\n",
       "      <td>St Christopher's Inn - London Bridge</td>\n",
       "      <td>- 1.8km from city centre</td>\n",
       "      <td>8.0</td>\n",
       "      <td>(3621)</td>\n",
       "      <td>Fabulous</td>\n",
       "      <td>-</td>\n",
       "      <td>₹2,457</td>\n",
       "      <td>[Linen Included, Free City Maps, Free WiFi, Fr...</td>\n",
       "      <td>Base yourself in the electric area of London B...</td>\n",
       "    </tr>\n",
       "    <tr>\n",
       "      <th>22</th>\n",
       "      <td>Phoenix Hostel</td>\n",
       "      <td>- 4.2km from city centre</td>\n",
       "      <td>6.4</td>\n",
       "      <td>(4655)</td>\n",
       "      <td>Good</td>\n",
       "      <td>-</td>\n",
       "      <td>₹1,681</td>\n",
       "      <td>[Linen Included, Free City Maps, Free WiFi, Fr...</td>\n",
       "      <td>The Phoenix Bar &amp; Hostel, housed in a homely E...</td>\n",
       "    </tr>\n",
       "    <tr>\n",
       "      <th>23</th>\n",
       "      <td>Kabannas London St Pancras</td>\n",
       "      <td>- 3.3km from city centre</td>\n",
       "      <td>8.3</td>\n",
       "      <td>(2998)</td>\n",
       "      <td>Fabulous</td>\n",
       "      <td>-</td>\n",
       "      <td>₹2,739</td>\n",
       "      <td>[Linen Included, Free City Maps, Free WiFi, Wh...</td>\n",
       "      <td>Located opposite Kings Cross/St Pancras Intern...</td>\n",
       "    </tr>\n",
       "    <tr>\n",
       "      <th>24</th>\n",
       "      <td>St Christopher's Hammersmith</td>\n",
       "      <td>- 7.5km from city centre</td>\n",
       "      <td>7.5</td>\n",
       "      <td>(4422)</td>\n",
       "      <td>Very Good</td>\n",
       "      <td>-</td>\n",
       "      <td>₹1,787</td>\n",
       "      <td>[Linen Included, Free City Maps, Free WiFi, Fr...</td>\n",
       "      <td>-</td>\n",
       "    </tr>\n",
       "    <tr>\n",
       "      <th>25</th>\n",
       "      <td>Smart Camden Inn Hostel</td>\n",
       "      <td>- 4.4km from city centre</td>\n",
       "      <td>8.5</td>\n",
       "      <td>(3157)</td>\n",
       "      <td>Fabulous</td>\n",
       "      <td>-</td>\n",
       "      <td>₹2,817</td>\n",
       "      <td>[Linen Included, Free City Maps, Free WiFi, Se...</td>\n",
       "      <td>Located in the middle of Camden Town, we’re th...</td>\n",
       "    </tr>\n",
       "    <tr>\n",
       "      <th>26</th>\n",
       "      <td>Astor Victoria</td>\n",
       "      <td>- 1.8km from city centre</td>\n",
       "      <td>7.4</td>\n",
       "      <td>(15117)</td>\n",
       "      <td>Very Good</td>\n",
       "      <td>₹7,199</td>\n",
       "      <td>₹1,835</td>\n",
       "      <td>[Linen Included, Free City Maps, Free WiFi, Fr...</td>\n",
       "      <td>With Victoria Station and Buckingham Palace a ...</td>\n",
       "    </tr>\n",
       "    <tr>\n",
       "      <th>27</th>\n",
       "      <td>Astor Kensington</td>\n",
       "      <td>- 4.9km from city centre</td>\n",
       "      <td>8.3</td>\n",
       "      <td>(6601)</td>\n",
       "      <td>Fabulous</td>\n",
       "      <td>-</td>\n",
       "      <td>₹1,990</td>\n",
       "      <td>[]</td>\n",
       "      <td>Located a short walk from Notting Hill, Hyde P...</td>\n",
       "    </tr>\n",
       "    <tr>\n",
       "      <th>28</th>\n",
       "      <td>London Backpackers</td>\n",
       "      <td>- 11.9km from city centre</td>\n",
       "      <td>7.7</td>\n",
       "      <td>(4582)</td>\n",
       "      <td>Very Good</td>\n",
       "      <td>₹8,293</td>\n",
       "      <td>₹1,676</td>\n",
       "      <td>[Linen Included, Free City Maps, Free WiFi, Fr...</td>\n",
       "      <td>IMPORTANT NOTICE: \\n\\nThis hostel is for 18 - ...</td>\n",
       "    </tr>\n",
       "    <tr>\n",
       "      <th>29</th>\n",
       "      <td>St Christopher's Camden</td>\n",
       "      <td>- 4.3km from city centre</td>\n",
       "      <td>7.3</td>\n",
       "      <td>(4148)</td>\n",
       "      <td>Very Good</td>\n",
       "      <td>-</td>\n",
       "      <td>₹2,070</td>\n",
       "      <td>[Linen Included, Free City Maps, Free WiFi, Fr...</td>\n",
       "      <td>Find our Camden hostel in London's north, smac...</td>\n",
       "    </tr>\n",
       "  </tbody>\n",
       "</table>\n",
       "</div>"
      ],
      "text/plain": [
       "                                Hostel_Name  Distance_from_city_centre  \\\n",
       "0               Wombat's City Hostel London   - 3.6km from city centre   \n",
       "1             Palmers Lodge - Swiss Cottage   - 6.5km from city centre   \n",
       "2                       Onefam Notting Hill   - 5.5km from city centre   \n",
       "3                      Urbany Hostel London   - 5.4km from city centre   \n",
       "4                          NX London Hostel   - 6.1km from city centre   \n",
       "5                  St Christopher's Village   - 1.8km from city centre   \n",
       "6                          Generator London     - 3km from city centre   \n",
       "7                           Onefam Waterloo   - 0.7km from city centre   \n",
       "8                        No.8 Seven Sisters     - 9km from city centre   \n",
       "9                                  Clink261   - 3.2km from city centre   \n",
       "10        Safestay London Elephant & Castle   - 1.7km from city centre   \n",
       "11             No.8 Willesden Hostel London    - 10km from city centre   \n",
       "12  Safestay London Kensington Holland Park   - 5.8km from city centre   \n",
       "13                          Astor Hyde Park   - 4.3km from city centre   \n",
       "14              Smart Russell Square Hostel   - 2.6km from city centre   \n",
       "15               Smart Hyde Park Inn Hostel     - 5km from city centre   \n",
       "16      Hostelle - women only hostel London   - 5.1km from city centre   \n",
       "17                 YHA London Oxford Street   - 2.1km from city centre   \n",
       "18                  Queen Elizabeth Chelsea   - 5.7km from city centre   \n",
       "19                         Astor Museum Inn   - 2.2km from city centre   \n",
       "20       Destinations Hostels @ The Gallery   - 1.7km from city centre   \n",
       "21     St Christopher's Inn - London Bridge   - 1.8km from city centre   \n",
       "22                           Phoenix Hostel   - 4.2km from city centre   \n",
       "23               Kabannas London St Pancras   - 3.3km from city centre   \n",
       "24             St Christopher's Hammersmith   - 7.5km from city centre   \n",
       "25                  Smart Camden Inn Hostel   - 4.4km from city centre   \n",
       "26                           Astor Victoria   - 1.8km from city centre   \n",
       "27                         Astor Kensington   - 4.9km from city centre   \n",
       "28                       London Backpackers  - 11.9km from city centre   \n",
       "29                  St Christopher's Camden   - 4.3km from city centre   \n",
       "\n",
       "   Ratings Total_Reviews Overall_Review Privates_from_price Dorms_from_price  \\\n",
       "0      9.2       (16108)         Superb             ₹24,486           ₹3,757   \n",
       "1      8.7       (16039)       Fabulous                   -           ₹2,468   \n",
       "2      9.6        (2684)         Superb             ₹11,704           ₹3,934   \n",
       "3      9.6        (1181)         Superb             ₹10,169           ₹3,168   \n",
       "4      8.9        (2228)       Fabulous             ₹18,666           ₹3,880   \n",
       "5      7.7       (12952)      Very Good                   -           ₹1,717   \n",
       "6      7.5        (8126)      Very Good             ₹14,423           ₹3,278   \n",
       "7      9.6         (220)         Superb             ₹11,367           ₹3,129   \n",
       "8      7.9        (4207)      Very Good                   -           ₹1,590   \n",
       "9      8.3         (564)       Fabulous                   -           ₹2,547   \n",
       "10     7.4        (5309)      Very Good             ₹17,534           ₹2,441   \n",
       "11     7.1        (5229)      Very Good              ₹3,171           ₹1,449   \n",
       "12     6.9        (1826)           Good                   -           ₹1,693   \n",
       "13     8.2       (12356)       Fabulous                   -           ₹1,849   \n",
       "14     7.4       (10243)      Very Good                   -           ₹2,039   \n",
       "15     7.8        (6817)      Very Good                   -           ₹1,944   \n",
       "16     8.6         (140)       Fabulous                   -           ₹2,795   \n",
       "17     9.1        (4715)         Superb              ₹8,999                -   \n",
       "18     7.3        (3730)      Very Good                   -           ₹1,611   \n",
       "19     8.4        (9476)       Fabulous                   -           ₹2,047   \n",
       "20     9.0         (346)         Superb                   -           ₹4,147   \n",
       "21     8.0        (3621)       Fabulous                   -           ₹2,457   \n",
       "22     6.4        (4655)           Good                   -           ₹1,681   \n",
       "23     8.3        (2998)       Fabulous                   -           ₹2,739   \n",
       "24     7.5        (4422)      Very Good                   -           ₹1,787   \n",
       "25     8.5        (3157)       Fabulous                   -           ₹2,817   \n",
       "26     7.4       (15117)      Very Good              ₹7,199           ₹1,835   \n",
       "27     8.3        (6601)       Fabulous                   -           ₹1,990   \n",
       "28     7.7        (4582)      Very Good              ₹8,293           ₹1,676   \n",
       "29     7.3        (4148)      Very Good                   -           ₹2,070   \n",
       "\n",
       "                                           Facilities  \\\n",
       "0   [Linen Included, Free City Maps, Free WiFi, Fr...   \n",
       "1   [Linen Included, Free WiFi, Free Internet Acce...   \n",
       "2   [Linen Included, Free WiFi, Free Internet Acce...   \n",
       "3   [Linen Included, Free WiFi, Security Lockers, ...   \n",
       "4   [Free Breakfast, Linen Included, Towels Includ...   \n",
       "5   [Linen Included, Free City Maps, Free WiFi, Fr...   \n",
       "6   [Linen Included, Free City Maps, Free WiFi, Fr...   \n",
       "7   [Linen Included, Free WiFi, Free Internet Acce...   \n",
       "8   [Linen Included, Free WiFi, Security Lockers, ...   \n",
       "9   [Linen Included, Free City Maps, Free WiFi, Ke...   \n",
       "10  [Linen Included, Free WiFi, Security Lockers, ...   \n",
       "11  [Linen Included, Free WiFi, Security Lockers, ...   \n",
       "12  [Linen Included, Free WiFi, Security Lockers, ...   \n",
       "13  [Linen Included, Free City Maps, Free WiFi, Fr...   \n",
       "14  [Linen Included, Free City Maps, Free WiFi, Fr...   \n",
       "15  [Linen Included, Free City Maps, Free WiFi, Fr...   \n",
       "16  [Linen Included, Free City Maps, Free WiFi, Fr...   \n",
       "17  [Linen Included, Free WiFi, Security Lockers, ...   \n",
       "18  [Linen Included, Free City Maps, Free WiFi, Fr...   \n",
       "19  [Linen Included, Free City Maps, Free WiFi, Se...   \n",
       "20  [Free Breakfast, Linen Included, Free City Map...   \n",
       "21  [Linen Included, Free City Maps, Free WiFi, Fr...   \n",
       "22  [Linen Included, Free City Maps, Free WiFi, Fr...   \n",
       "23  [Linen Included, Free City Maps, Free WiFi, Wh...   \n",
       "24  [Linen Included, Free City Maps, Free WiFi, Fr...   \n",
       "25  [Linen Included, Free City Maps, Free WiFi, Se...   \n",
       "26  [Linen Included, Free City Maps, Free WiFi, Fr...   \n",
       "27                                                 []   \n",
       "28  [Linen Included, Free City Maps, Free WiFi, Fr...   \n",
       "29  [Linen Included, Free City Maps, Free WiFi, Fr...   \n",
       "\n",
       "                                 Property_description  \n",
       "0   A safe haven in the middle of the metropolis: ...  \n",
       "1   Whether you're a backpacker, flash-packer or a...  \n",
       "2   The perfect place for solo travelers to connec...  \n",
       "3   Welcome to Urbany Hostel London! Ideal for the...  \n",
       "4   Welcome to NX London Hostel!\\n\\nPLEASE READ IN...  \n",
       "5   St Christopher's Inn at The Village in London ...  \n",
       "6   Generator London is a design hotel-hostel loca...  \n",
       "7   Come join us at our newest Onefam location in ...  \n",
       "8   For Great Facilities, Comfort & Affordability ...  \n",
       "9   Welcome to Clink261!\\n\\nClink261 is a comforta...  \n",
       "10  Safestay at Elephant & Castle is ideal if you ...  \n",
       "11  At No.8 we take pride in our Customer Service ...  \n",
       "12  Safestay Holland Park\\n\\nSafestay Holland Park...  \n",
       "13  Located in the most beautiful and charming nei...  \n",
       "14                                                  -  \n",
       "15                                                  -  \n",
       "16  Hostelle is the first and only all-women hoste...  \n",
       "17  A quiet hideaway from the bustle of the busies...  \n",
       "18  PLEASE NOTE WE ONLY ACCEPT GUESTS FROM THE AGE...  \n",
       "19  With the British Museum literally on its doors...  \n",
       "20  We are back, we previously operated near Londo...  \n",
       "21  Base yourself in the electric area of London B...  \n",
       "22  The Phoenix Bar & Hostel, housed in a homely E...  \n",
       "23  Located opposite Kings Cross/St Pancras Intern...  \n",
       "24                                                  -  \n",
       "25  Located in the middle of Camden Town, we’re th...  \n",
       "26  With Victoria Station and Buckingham Palace a ...  \n",
       "27  Located a short walk from Notting Hill, Hyde P...  \n",
       "28  IMPORTANT NOTICE: \\n\\nThis hostel is for 18 - ...  \n",
       "29  Find our Camden hostel in London's north, smac...  "
      ]
     },
     "execution_count": 241,
     "metadata": {},
     "output_type": "execute_result"
    }
   ],
   "source": [
    "df=pd.DataFrame({\"Hostel_Name\":Hostel_Name,\"Distance_from_city_centre\":Distance_from_city_centre,\"Ratings\":Ratings,\"Total_Reviews\":Total_Reviews,\"Overall_Review\":Overall_Review,\"Privates_from_price\":Privates_from_price,\"Dorms_from_price\":Dorms_from_price,\"Facilities\":Facilities,\"Property_description\":Property_description})\n",
    "df"
   ]
  },
  {
   "cell_type": "code",
   "execution_count": null,
   "id": "939cb835",
   "metadata": {},
   "outputs": [],
   "source": []
  }
 ],
 "metadata": {
  "kernelspec": {
   "display_name": "Python 3 (ipykernel)",
   "language": "python",
   "name": "python3"
  },
  "language_info": {
   "codemirror_mode": {
    "name": "ipython",
    "version": 3
   },
   "file_extension": ".py",
   "mimetype": "text/x-python",
   "name": "python",
   "nbconvert_exporter": "python",
   "pygments_lexer": "ipython3",
   "version": "3.11.4"
  }
 },
 "nbformat": 4,
 "nbformat_minor": 5
}
